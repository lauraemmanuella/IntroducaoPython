{
  "nbformat": 4,
  "nbformat_minor": 0,
  "metadata": {
    "kernelspec": {
      "display_name": "Python 3",
      "language": "python",
      "name": "python3"
    },
    "language_info": {
      "codemirror_mode": {
        "name": "ipython",
        "version": 3
      },
      "file_extension": ".py",
      "mimetype": "text/x-python",
      "name": "python",
      "nbconvert_exporter": "python",
      "pygments_lexer": "ipython3",
      "version": "3.7.0"
    },
    "colab": {
      "name": "9-Pandas.ipynb",
      "provenance": [],
      "collapsed_sections": [],
      "include_colab_link": true
    }
  },
  "cells": [
    {
      "cell_type": "markdown",
      "metadata": {
        "id": "view-in-github",
        "colab_type": "text"
      },
      "source": [
        "<a href=\"https://colab.research.google.com/github/lauraemmanuella/IntroducaoPython/blob/main/9_Pandas.ipynb\" target=\"_parent\"><img src=\"https://colab.research.google.com/assets/colab-badge.svg\" alt=\"Open In Colab\"/></a>"
      ]
    },
    {
      "cell_type": "markdown",
      "metadata": {
        "id": "s2MGjQSskNpE"
      },
      "source": [
        "# Pandas\n",
        "\n",
        "https://pandas.pydata.org/docs/user_guide/index.html\n",
        "\n",
        "* É uma biblioteca escrita sobre numpy\n",
        "* Permite rápida visualização e limpeza de dados\n",
        "* Pode trabalhar com dados de tipos diferentes\n",
        "* Possui métodos próprios de visualização de dados\n",
        "\n",
        "## Conteúdo\n",
        "\n",
        "* Séries\n",
        "* Dataframe\n",
        "* Leitura e gravação em arquivos"
      ]
    },
    {
      "cell_type": "markdown",
      "metadata": {
        "id": "6iJzu3D0kNpM"
      },
      "source": [
        "## Serie\n",
        "Uma Serie é um vetor rotulado, o que significa que **pode ser indexado por um rótulo, em vez de apenas uma localização numérica**. A Serie **pode conter qualquer objeto Python arbitrário** (estrutura heterogênea).\n",
        "\n",
        "https://pandas.pydata.org/pandas-docs/stable/reference/api/pandas.Series.html"
      ]
    },
    {
      "cell_type": "code",
      "metadata": {
        "id": "Mg_mpu50kNpN"
      },
      "source": [
        "import pandas as pd"
      ],
      "execution_count": null,
      "outputs": []
    },
    {
      "cell_type": "code",
      "metadata": {
        "id": "PD4AVkMAkNpO"
      },
      "source": [
        "notas = pd.Series([2,7,5,10,6]) #serie com rotulos default, cujos valores vem de uma lista"
      ],
      "execution_count": null,
      "outputs": []
    },
    {
      "cell_type": "code",
      "metadata": {
        "colab": {
          "base_uri": "https://localhost:8080/"
        },
        "id": "uWLpnCjOkNpO",
        "outputId": "90f7ed6f-36ef-4bd3-98e1-d17217d0734f"
      },
      "source": [
        "print(notas)"
      ],
      "execution_count": null,
      "outputs": [
        {
          "output_type": "stream",
          "name": "stdout",
          "text": [
            "0     2\n",
            "1     7\n",
            "2     5\n",
            "3    10\n",
            "4     6\n",
            "dtype: int64\n"
          ]
        }
      ]
    },
    {
      "cell_type": "code",
      "metadata": {
        "colab": {
          "base_uri": "https://localhost:8080/"
        },
        "id": "wSbfwfdya92X",
        "outputId": "23486471-810a-4ab7-96d5-665b4ca45c3e"
      },
      "source": [
        "print(notas[0]) #elemento da Série na posição 0"
      ],
      "execution_count": null,
      "outputs": [
        {
          "output_type": "stream",
          "name": "stdout",
          "text": [
            "2\n"
          ]
        }
      ]
    },
    {
      "cell_type": "code",
      "metadata": {
        "id": "02mFG3WEkNpQ",
        "colab": {
          "base_uri": "https://localhost:8080/"
        },
        "outputId": "9d5cc6e9-8950-43c0-dcda-4c7c22656c18"
      },
      "source": [
        "print(notas.values) #values -> atributo da Serie"
      ],
      "execution_count": null,
      "outputs": [
        {
          "output_type": "stream",
          "name": "stdout",
          "text": [
            "[ 2  7  5 10  6]\n"
          ]
        }
      ]
    },
    {
      "cell_type": "code",
      "metadata": {
        "id": "hEuGlmR1kNpQ",
        "colab": {
          "base_uri": "https://localhost:8080/"
        },
        "outputId": "eeb032f7-f314-454a-a57a-0ff170b797a6"
      },
      "source": [
        "print(notas.index) #index -> atributo da Serie"
      ],
      "execution_count": null,
      "outputs": [
        {
          "output_type": "stream",
          "name": "stdout",
          "text": [
            "RangeIndex(start=0, stop=5, step=1)\n"
          ]
        }
      ]
    },
    {
      "cell_type": "code",
      "metadata": {
        "colab": {
          "base_uri": "https://localhost:8080/"
        },
        "id": "9DXw93Dlkemr",
        "outputId": "bfd0cd91-3f40-43b5-e477-a774ce035842"
      },
      "source": [
        "print(notas.dtypes) #dtypes -> atributo da Serie"
      ],
      "execution_count": null,
      "outputs": [
        {
          "output_type": "stream",
          "name": "stdout",
          "text": [
            "int64\n"
          ]
        }
      ]
    },
    {
      "cell_type": "code",
      "metadata": {
        "id": "LisiwtghkNpR"
      },
      "source": [
        "#serie com rotulos definidos\n",
        "notas = pd.Series([2,7,5,10,5], index=['Wilfred', 'Abbie', 'Harry', 'Julia', 'Carrie'])"
      ],
      "execution_count": null,
      "outputs": []
    },
    {
      "cell_type": "code",
      "metadata": {
        "colab": {
          "base_uri": "https://localhost:8080/"
        },
        "id": "Yzo7wl5ekNpR",
        "outputId": "f7005953-817c-4fe4-a08e-eef1a7a4be80"
      },
      "source": [
        "print(notas)"
      ],
      "execution_count": null,
      "outputs": [
        {
          "output_type": "stream",
          "name": "stdout",
          "text": [
            "Wilfred     2\n",
            "Abbie       7\n",
            "Harry       5\n",
            "Julia      10\n",
            "Carrie      5\n",
            "dtype: int64\n"
          ]
        }
      ]
    },
    {
      "cell_type": "code",
      "metadata": {
        "id": "KzHlehbqkNpS",
        "colab": {
          "base_uri": "https://localhost:8080/"
        },
        "outputId": "312dacbd-e402-49b5-9edb-ae06597b1976"
      },
      "source": [
        "notas['Julia'] #elemento da Série no rótulo 'Júlia'"
      ],
      "execution_count": null,
      "outputs": [
        {
          "output_type": "execute_result",
          "data": {
            "text/plain": [
              "10"
            ]
          },
          "metadata": {},
          "execution_count": 9
        }
      ]
    },
    {
      "cell_type": "markdown",
      "metadata": {
        "id": "AtunqjvTkNpS"
      },
      "source": [
        "Outra facilidade proporcionada pela estrutura são seus métodos que fornecem informações estatísticas sobre os valores, como média e desvio padrão\n",
        "\n",
        "Observar na Referência da API: https://pandas.pydata.org/pandas-docs/stable/reference/series.html"
      ]
    },
    {
      "cell_type": "code",
      "metadata": {
        "id": "C2zn5TxMkNpT",
        "colab": {
          "base_uri": "https://localhost:8080/"
        },
        "outputId": "d53823f1-88ab-4050-f711-080600dab6fe"
      },
      "source": [
        "print('Média:', notas.mean())\n",
        "print('Desvio padrão:', notas.std())"
      ],
      "execution_count": null,
      "outputs": [
        {
          "output_type": "stream",
          "name": "stdout",
          "text": [
            "Média: 5.8\n",
            "Desvio padrão: 2.949576240750525\n"
          ]
        }
      ]
    },
    {
      "cell_type": "code",
      "metadata": {
        "colab": {
          "base_uri": "https://localhost:8080/"
        },
        "id": "FGeVMO_mrGM6",
        "outputId": "55d68b44-7d22-4331-b793-f0d38b663a1c"
      },
      "source": [
        "notas.sort_values() #ordena "
      ],
      "execution_count": null,
      "outputs": [
        {
          "output_type": "execute_result",
          "data": {
            "text/plain": [
              "Wilfred     2\n",
              "Harry       5\n",
              "Carrie      5\n",
              "Abbie       7\n",
              "Julia      10\n",
              "dtype: int64"
            ]
          },
          "metadata": {},
          "execution_count": 4
        }
      ]
    },
    {
      "cell_type": "code",
      "metadata": {
        "scrolled": true,
        "id": "uniSrQ_ekNpT",
        "colab": {
          "base_uri": "https://localhost:8080/"
        },
        "outputId": "c1f43e9d-d479-4817-8a6e-bc770c8cfb34"
      },
      "source": [
        "notas.describe() #informações estatísticas sobre os dados"
      ],
      "execution_count": null,
      "outputs": [
        {
          "output_type": "execute_result",
          "data": {
            "text/plain": [
              "count     5.000000\n",
              "mean      5.800000\n",
              "std       2.949576\n",
              "min       2.000000\n",
              "25%       5.000000\n",
              "50%       5.000000\n",
              "75%       7.000000\n",
              "max      10.000000\n",
              "dtype: float64"
            ]
          },
          "metadata": {},
          "execution_count": 12
        }
      ]
    },
    {
      "cell_type": "code",
      "metadata": {
        "id": "slDD3GDQkNpU",
        "colab": {
          "base_uri": "https://localhost:8080/"
        },
        "outputId": "f4f4215e-5958-497c-e9c2-c3a7a5ac6bc3"
      },
      "source": [
        "notas.max()"
      ],
      "execution_count": null,
      "outputs": [
        {
          "output_type": "execute_result",
          "data": {
            "text/plain": [
              "10"
            ]
          },
          "metadata": {},
          "execution_count": 13
        }
      ]
    },
    {
      "cell_type": "code",
      "metadata": {
        "id": "ieLT0Ov9kNpU",
        "colab": {
          "base_uri": "https://localhost:8080/"
        },
        "outputId": "a33df9b8-8002-4ed5-9c45-585aecc1fcc9"
      },
      "source": [
        "notas.min()"
      ],
      "execution_count": null,
      "outputs": [
        {
          "output_type": "execute_result",
          "data": {
            "text/plain": [
              "2"
            ]
          },
          "metadata": {},
          "execution_count": 14
        }
      ]
    },
    {
      "cell_type": "code",
      "metadata": {
        "id": "oxadPlWWkNpU",
        "colab": {
          "base_uri": "https://localhost:8080/"
        },
        "outputId": "76c3fe2c-f1e0-4b7d-f6e8-622168c3a324"
      },
      "source": [
        "notas.value_counts() #conta quantas ocorrencias de cada valor"
      ],
      "execution_count": null,
      "outputs": [
        {
          "output_type": "execute_result",
          "data": {
            "text/plain": [
              "5     2\n",
              "7     1\n",
              "10    1\n",
              "2     1\n",
              "dtype: int64"
            ]
          },
          "metadata": {},
          "execution_count": 15
        }
      ]
    },
    {
      "cell_type": "code",
      "metadata": {
        "id": "d0JoYoDKb4DW"
      },
      "source": [
        "#criando uma serie a partir de um dicionario (nesse caso, valores e rotulos já estão na estrutura passada)\n",
        "seriecategorica = pd.Series({'nome': 'Laura', 'curso': 'TADS', 'função': 'professor'})"
      ],
      "execution_count": null,
      "outputs": []
    },
    {
      "cell_type": "code",
      "metadata": {
        "colab": {
          "base_uri": "https://localhost:8080/"
        },
        "id": "xnqPgkhIcnr9",
        "outputId": "37face72-7783-44b3-cce7-d257fa7abced"
      },
      "source": [
        "print(seriecategorica)"
      ],
      "execution_count": null,
      "outputs": [
        {
          "output_type": "stream",
          "name": "stdout",
          "text": [
            "nome          Laura\n",
            "curso          TADS\n",
            "função    professor\n",
            "dtype: object\n"
          ]
        }
      ]
    },
    {
      "cell_type": "code",
      "metadata": {
        "colab": {
          "base_uri": "https://localhost:8080/"
        },
        "id": "uLDnMetrlItn",
        "outputId": "7b11092d-f96f-4813-9153-bcf66113464d"
      },
      "source": [
        "print(seriecategorica.dtypes)"
      ],
      "execution_count": null,
      "outputs": [
        {
          "output_type": "stream",
          "name": "stdout",
          "text": [
            "object\n"
          ]
        }
      ]
    },
    {
      "cell_type": "code",
      "metadata": {
        "colab": {
          "base_uri": "https://localhost:8080/"
        },
        "id": "Eo1D3j24gmAQ",
        "outputId": "93015028-441a-498c-805e-be89f0d31412"
      },
      "source": [
        "'''\n",
        "Para dados categóricos (objetos, strings...), o resultado vai incluir count, unique, top, e freq. \n",
        "O top é o valor mais comum. O freq é a frequência do valor mais comum\n",
        "'''\n",
        "print(seriecategorica.describe())"
      ],
      "execution_count": null,
      "outputs": [
        {
          "output_type": "stream",
          "name": "stdout",
          "text": [
            "count             3\n",
            "unique            3\n",
            "top       professor\n",
            "freq              1\n",
            "dtype: object\n"
          ]
        }
      ]
    },
    {
      "cell_type": "markdown",
      "metadata": {
        "id": "TAg-TMjAkNpX"
      },
      "source": [
        "## Dataframe\n",
        "\n",
        "Já um DataFrame é uma estrutura bidimensional de dados, como uma **planilha**. Podemos pensar em um DataFrame como um conjunto de objetos de Série juntos compartilhando o mesmo índice (linha)\n",
        "\n",
        "Como o DataFrame possui 2 eixos: axis = 0 ou axis ='index' indica as linhas, axis = 1 ou axis = 'columns' indica as colunas\n",
        "\n",
        "Por padrão, as operações feitas sobre um DataFrame ocorrem sobre as linhas (axis = 0)"
      ]
    },
    {
      "cell_type": "code",
      "metadata": {
        "id": "XgYiqVgDkNpc"
      },
      "source": [
        "import numpy as np\n",
        "\n",
        "#Criando um dataframe aleatorio indicando os rotulos de indice e colunas\n",
        "dfAleatorio = pd.DataFrame(np.random.rand(5,4),index=['A', 'B', 'C', 'D', 'E'],columns=['W', 'X', 'Y', 'Z'])"
      ],
      "execution_count": null,
      "outputs": []
    },
    {
      "cell_type": "code",
      "metadata": {
        "scrolled": true,
        "colab": {
          "base_uri": "https://localhost:8080/",
          "height": 204
        },
        "id": "J6kjnVDckNpd",
        "outputId": "fcfe0f65-9baa-48c5-8b6f-f3871699c2f4"
      },
      "source": [
        "dfAleatorio"
      ],
      "execution_count": null,
      "outputs": [
        {
          "output_type": "execute_result",
          "data": {
            "text/html": [
              "<div>\n",
              "<style scoped>\n",
              "    .dataframe tbody tr th:only-of-type {\n",
              "        vertical-align: middle;\n",
              "    }\n",
              "\n",
              "    .dataframe tbody tr th {\n",
              "        vertical-align: top;\n",
              "    }\n",
              "\n",
              "    .dataframe thead th {\n",
              "        text-align: right;\n",
              "    }\n",
              "</style>\n",
              "<table border=\"1\" class=\"dataframe\">\n",
              "  <thead>\n",
              "    <tr style=\"text-align: right;\">\n",
              "      <th></th>\n",
              "      <th>W</th>\n",
              "      <th>X</th>\n",
              "      <th>Y</th>\n",
              "      <th>Z</th>\n",
              "    </tr>\n",
              "  </thead>\n",
              "  <tbody>\n",
              "    <tr>\n",
              "      <th>A</th>\n",
              "      <td>0.233318</td>\n",
              "      <td>0.495753</td>\n",
              "      <td>0.440746</td>\n",
              "      <td>0.067530</td>\n",
              "    </tr>\n",
              "    <tr>\n",
              "      <th>B</th>\n",
              "      <td>0.295169</td>\n",
              "      <td>0.074657</td>\n",
              "      <td>0.530189</td>\n",
              "      <td>0.439727</td>\n",
              "    </tr>\n",
              "    <tr>\n",
              "      <th>C</th>\n",
              "      <td>0.078014</td>\n",
              "      <td>0.178280</td>\n",
              "      <td>0.039313</td>\n",
              "      <td>0.202774</td>\n",
              "    </tr>\n",
              "    <tr>\n",
              "      <th>D</th>\n",
              "      <td>0.542445</td>\n",
              "      <td>0.313590</td>\n",
              "      <td>0.481832</td>\n",
              "      <td>0.740618</td>\n",
              "    </tr>\n",
              "    <tr>\n",
              "      <th>E</th>\n",
              "      <td>0.796143</td>\n",
              "      <td>0.715195</td>\n",
              "      <td>0.822837</td>\n",
              "      <td>0.160964</td>\n",
              "    </tr>\n",
              "  </tbody>\n",
              "</table>\n",
              "</div>"
            ],
            "text/plain": [
              "          W         X         Y         Z\n",
              "A  0.233318  0.495753  0.440746  0.067530\n",
              "B  0.295169  0.074657  0.530189  0.439727\n",
              "C  0.078014  0.178280  0.039313  0.202774\n",
              "D  0.542445  0.313590  0.481832  0.740618\n",
              "E  0.796143  0.715195  0.822837  0.160964"
            ]
          },
          "metadata": {},
          "execution_count": 18
        }
      ]
    },
    {
      "cell_type": "code",
      "metadata": {
        "id": "1nqpFjDJxqK0"
      },
      "source": [
        "#Dicionário\n",
        "raw_data = {'nome': ['Pedro', 'Joaquim','Marcos', 'Mateus'],\n",
        "            'age': [20, 19, 22, 21], \n",
        "            'cor_favorita': ['azul', 'amarelo', 'cinza', 'verde'],\n",
        "            'nota_final': [8.8, 9.2, 9.5, 7.0], \n",
        "            'data_nasc': ['01-02-2000', '08-05-1997', '04-28-1996', '12-16-1995']}"
      ],
      "execution_count": null,
      "outputs": []
    },
    {
      "cell_type": "code",
      "metadata": {
        "id": "nDPERq42xvcL"
      },
      "source": [
        "dfDict = pd.DataFrame(raw_data) #criando DataFrame a partir de um dicionário"
      ],
      "execution_count": null,
      "outputs": []
    },
    {
      "cell_type": "code",
      "metadata": {
        "colab": {
          "base_uri": "https://localhost:8080/",
          "height": 173
        },
        "id": "K535I578x6pY",
        "outputId": "27a1f2f1-fe61-44c7-ded2-6183662bc7a1"
      },
      "source": [
        "dfDict"
      ],
      "execution_count": null,
      "outputs": [
        {
          "output_type": "execute_result",
          "data": {
            "text/html": [
              "<div>\n",
              "<style scoped>\n",
              "    .dataframe tbody tr th:only-of-type {\n",
              "        vertical-align: middle;\n",
              "    }\n",
              "\n",
              "    .dataframe tbody tr th {\n",
              "        vertical-align: top;\n",
              "    }\n",
              "\n",
              "    .dataframe thead th {\n",
              "        text-align: right;\n",
              "    }\n",
              "</style>\n",
              "<table border=\"1\" class=\"dataframe\">\n",
              "  <thead>\n",
              "    <tr style=\"text-align: right;\">\n",
              "      <th></th>\n",
              "      <th>nome</th>\n",
              "      <th>age</th>\n",
              "      <th>cor_favorita</th>\n",
              "      <th>nota_final</th>\n",
              "      <th>data_nasc</th>\n",
              "    </tr>\n",
              "  </thead>\n",
              "  <tbody>\n",
              "    <tr>\n",
              "      <th>0</th>\n",
              "      <td>Pedro</td>\n",
              "      <td>20</td>\n",
              "      <td>azul</td>\n",
              "      <td>8.8</td>\n",
              "      <td>01-02-2000</td>\n",
              "    </tr>\n",
              "    <tr>\n",
              "      <th>1</th>\n",
              "      <td>Joaquim</td>\n",
              "      <td>19</td>\n",
              "      <td>amarelo</td>\n",
              "      <td>9.2</td>\n",
              "      <td>08-05-1997</td>\n",
              "    </tr>\n",
              "    <tr>\n",
              "      <th>2</th>\n",
              "      <td>Marcos</td>\n",
              "      <td>22</td>\n",
              "      <td>cinza</td>\n",
              "      <td>9.5</td>\n",
              "      <td>04-28-1996</td>\n",
              "    </tr>\n",
              "    <tr>\n",
              "      <th>3</th>\n",
              "      <td>Mateus</td>\n",
              "      <td>21</td>\n",
              "      <td>verde</td>\n",
              "      <td>7.0</td>\n",
              "      <td>12-16-1995</td>\n",
              "    </tr>\n",
              "  </tbody>\n",
              "</table>\n",
              "</div>"
            ],
            "text/plain": [
              "      nome  age cor_favorita  nota_final   data_nasc\n",
              "0    Pedro   20         azul         8.8  01-02-2000\n",
              "1  Joaquim   19      amarelo         9.2  08-05-1997\n",
              "2   Marcos   22        cinza         9.5  04-28-1996\n",
              "3   Mateus   21        verde         7.0  12-16-1995"
            ]
          },
          "metadata": {},
          "execution_count": 14
        }
      ]
    },
    {
      "cell_type": "code",
      "metadata": {
        "id": "tYaBk0ybVxPR"
      },
      "source": [
        "dfDict.set_index('nome', inplace= True) #define uma coluna para ser os rótulos dos índices (linhas)"
      ],
      "execution_count": null,
      "outputs": []
    },
    {
      "cell_type": "code",
      "metadata": {
        "colab": {
          "base_uri": "https://localhost:8080/",
          "height": 204
        },
        "id": "aOh91kxdWFLi",
        "outputId": "72c623e2-3de2-4eb2-d250-5f0296027772"
      },
      "source": [
        "dfDict"
      ],
      "execution_count": null,
      "outputs": [
        {
          "output_type": "execute_result",
          "data": {
            "text/html": [
              "<div>\n",
              "<style scoped>\n",
              "    .dataframe tbody tr th:only-of-type {\n",
              "        vertical-align: middle;\n",
              "    }\n",
              "\n",
              "    .dataframe tbody tr th {\n",
              "        vertical-align: top;\n",
              "    }\n",
              "\n",
              "    .dataframe thead th {\n",
              "        text-align: right;\n",
              "    }\n",
              "</style>\n",
              "<table border=\"1\" class=\"dataframe\">\n",
              "  <thead>\n",
              "    <tr style=\"text-align: right;\">\n",
              "      <th></th>\n",
              "      <th>age</th>\n",
              "      <th>cor_favorita</th>\n",
              "      <th>nota_final</th>\n",
              "      <th>data_nasc</th>\n",
              "    </tr>\n",
              "    <tr>\n",
              "      <th>nome</th>\n",
              "      <th></th>\n",
              "      <th></th>\n",
              "      <th></th>\n",
              "      <th></th>\n",
              "    </tr>\n",
              "  </thead>\n",
              "  <tbody>\n",
              "    <tr>\n",
              "      <th>Pedro</th>\n",
              "      <td>20</td>\n",
              "      <td>azul</td>\n",
              "      <td>8.8</td>\n",
              "      <td>01-02-2000</td>\n",
              "    </tr>\n",
              "    <tr>\n",
              "      <th>Joaquim</th>\n",
              "      <td>19</td>\n",
              "      <td>amarelo</td>\n",
              "      <td>9.2</td>\n",
              "      <td>08-05-1997</td>\n",
              "    </tr>\n",
              "    <tr>\n",
              "      <th>Marcos</th>\n",
              "      <td>22</td>\n",
              "      <td>cinza</td>\n",
              "      <td>9.5</td>\n",
              "      <td>04-28-1996</td>\n",
              "    </tr>\n",
              "    <tr>\n",
              "      <th>Mateus</th>\n",
              "      <td>21</td>\n",
              "      <td>verde</td>\n",
              "      <td>7.0</td>\n",
              "      <td>12-16-1995</td>\n",
              "    </tr>\n",
              "  </tbody>\n",
              "</table>\n",
              "</div>"
            ],
            "text/plain": [
              "         age cor_favorita  nota_final   data_nasc\n",
              "nome                                             \n",
              "Pedro     20         azul         8.8  01-02-2000\n",
              "Joaquim   19      amarelo         9.2  08-05-1997\n",
              "Marcos    22        cinza         9.5  04-28-1996\n",
              "Mateus    21        verde         7.0  12-16-1995"
            ]
          },
          "metadata": {},
          "execution_count": 16
        }
      ]
    },
    {
      "cell_type": "code",
      "metadata": {
        "colab": {
          "base_uri": "https://localhost:8080/"
        },
        "id": "MTVMcZfsMMZ-",
        "outputId": "79caf949-3bcb-43cd-acda-fb2b8c77d0d2"
      },
      "source": [
        "dfDict.info()"
      ],
      "execution_count": null,
      "outputs": [
        {
          "output_type": "stream",
          "name": "stdout",
          "text": [
            "<class 'pandas.core.frame.DataFrame'>\n",
            "Index: 4 entries, Pedro to Mateus\n",
            "Data columns (total 4 columns):\n",
            " #   Column        Non-Null Count  Dtype  \n",
            "---  ------        --------------  -----  \n",
            " 0   age           4 non-null      int64  \n",
            " 1   cor_favorita  4 non-null      object \n",
            " 2   nota_final    4 non-null      float64\n",
            " 3   data_nasc     4 non-null      object \n",
            "dtypes: float64(1), int64(1), object(2)\n",
            "memory usage: 320.0+ bytes\n"
          ]
        }
      ]
    },
    {
      "cell_type": "code",
      "metadata": {
        "colab": {
          "base_uri": "https://localhost:8080/",
          "height": 297
        },
        "id": "1UTrvLh4NuvX",
        "outputId": "4bdad17c-bd76-49c1-d640-7042c44e8da6"
      },
      "source": [
        "dfDict.describe()"
      ],
      "execution_count": null,
      "outputs": [
        {
          "output_type": "execute_result",
          "data": {
            "text/html": [
              "<div>\n",
              "<style scoped>\n",
              "    .dataframe tbody tr th:only-of-type {\n",
              "        vertical-align: middle;\n",
              "    }\n",
              "\n",
              "    .dataframe tbody tr th {\n",
              "        vertical-align: top;\n",
              "    }\n",
              "\n",
              "    .dataframe thead th {\n",
              "        text-align: right;\n",
              "    }\n",
              "</style>\n",
              "<table border=\"1\" class=\"dataframe\">\n",
              "  <thead>\n",
              "    <tr style=\"text-align: right;\">\n",
              "      <th></th>\n",
              "      <th>age</th>\n",
              "      <th>nota_final</th>\n",
              "    </tr>\n",
              "  </thead>\n",
              "  <tbody>\n",
              "    <tr>\n",
              "      <th>count</th>\n",
              "      <td>4.000000</td>\n",
              "      <td>4.00000</td>\n",
              "    </tr>\n",
              "    <tr>\n",
              "      <th>mean</th>\n",
              "      <td>20.500000</td>\n",
              "      <td>8.62500</td>\n",
              "    </tr>\n",
              "    <tr>\n",
              "      <th>std</th>\n",
              "      <td>1.290994</td>\n",
              "      <td>1.12064</td>\n",
              "    </tr>\n",
              "    <tr>\n",
              "      <th>min</th>\n",
              "      <td>19.000000</td>\n",
              "      <td>7.00000</td>\n",
              "    </tr>\n",
              "    <tr>\n",
              "      <th>25%</th>\n",
              "      <td>19.750000</td>\n",
              "      <td>8.35000</td>\n",
              "    </tr>\n",
              "    <tr>\n",
              "      <th>50%</th>\n",
              "      <td>20.500000</td>\n",
              "      <td>9.00000</td>\n",
              "    </tr>\n",
              "    <tr>\n",
              "      <th>75%</th>\n",
              "      <td>21.250000</td>\n",
              "      <td>9.27500</td>\n",
              "    </tr>\n",
              "    <tr>\n",
              "      <th>max</th>\n",
              "      <td>22.000000</td>\n",
              "      <td>9.50000</td>\n",
              "    </tr>\n",
              "  </tbody>\n",
              "</table>\n",
              "</div>"
            ],
            "text/plain": [
              "             age  nota_final\n",
              "count   4.000000     4.00000\n",
              "mean   20.500000     8.62500\n",
              "std     1.290994     1.12064\n",
              "min    19.000000     7.00000\n",
              "25%    19.750000     8.35000\n",
              "50%    20.500000     9.00000\n",
              "75%    21.250000     9.27500\n",
              "max    22.000000     9.50000"
            ]
          },
          "metadata": {},
          "execution_count": 29
        }
      ]
    },
    {
      "cell_type": "code",
      "metadata": {
        "colab": {
          "base_uri": "https://localhost:8080/",
          "height": 173
        },
        "id": "BYXUZz0-NEjv",
        "outputId": "f3f1f444-b9c2-4461-e022-864c8a27893e"
      },
      "source": [
        "dfDict.describe(include=['O'])"
      ],
      "execution_count": null,
      "outputs": [
        {
          "output_type": "execute_result",
          "data": {
            "text/html": [
              "<div>\n",
              "<style scoped>\n",
              "    .dataframe tbody tr th:only-of-type {\n",
              "        vertical-align: middle;\n",
              "    }\n",
              "\n",
              "    .dataframe tbody tr th {\n",
              "        vertical-align: top;\n",
              "    }\n",
              "\n",
              "    .dataframe thead th {\n",
              "        text-align: right;\n",
              "    }\n",
              "</style>\n",
              "<table border=\"1\" class=\"dataframe\">\n",
              "  <thead>\n",
              "    <tr style=\"text-align: right;\">\n",
              "      <th></th>\n",
              "      <th>cor_favorita</th>\n",
              "      <th>data_nasc</th>\n",
              "    </tr>\n",
              "  </thead>\n",
              "  <tbody>\n",
              "    <tr>\n",
              "      <th>count</th>\n",
              "      <td>4</td>\n",
              "      <td>4</td>\n",
              "    </tr>\n",
              "    <tr>\n",
              "      <th>unique</th>\n",
              "      <td>4</td>\n",
              "      <td>4</td>\n",
              "    </tr>\n",
              "    <tr>\n",
              "      <th>top</th>\n",
              "      <td>verde</td>\n",
              "      <td>08-05-1997</td>\n",
              "    </tr>\n",
              "    <tr>\n",
              "      <th>freq</th>\n",
              "      <td>1</td>\n",
              "      <td>1</td>\n",
              "    </tr>\n",
              "  </tbody>\n",
              "</table>\n",
              "</div>"
            ],
            "text/plain": [
              "       cor_favorita   data_nasc\n",
              "count             4           4\n",
              "unique            4           4\n",
              "top           verde  08-05-1997\n",
              "freq              1           1"
            ]
          },
          "metadata": {},
          "execution_count": 31
        }
      ]
    },
    {
      "cell_type": "markdown",
      "metadata": {
        "id": "dQyLUKfPkNpd"
      },
      "source": [
        "### loc\n",
        "\n",
        "Pode-se (**recomendado**) usar o método loc para localizar linhas ou pedaços do dataframe pelos rótulos\n",
        "\n",
        "Sintaxe:\n",
        "\n",
        "> loc[linhas, colunas]\n",
        "\n",
        "Onde as linhas e colunas podem ser passadas em sequencia (:) ou saltos (,)\n",
        "\n",
        "*Se em saltos, colocar entre [ ]*"
      ]
    },
    {
      "cell_type": "code",
      "metadata": {
        "colab": {
          "base_uri": "https://localhost:8080/"
        },
        "id": "nSbH8ajvkNpd",
        "outputId": "4b407978-0172-4b7f-99a0-83aff2161ce7"
      },
      "source": [
        "dfDict.loc['Pedro']#retorna uma Série\n",
        "\n",
        "#Nesse caso, quando passamos apenas um rótulo, ele se refere ao Index (linha)\n",
        "#É o mesmo resultado de dfDict.loc['Pedro', :] linha Pedro, colunas todas"
      ],
      "execution_count": null,
      "outputs": [
        {
          "output_type": "execute_result",
          "data": {
            "text/plain": [
              "age                     20\n",
              "cor_favorita          azul\n",
              "nota_final             8.8\n",
              "data_nasc       01-02-2000\n",
              "Name: Pedro, dtype: object"
            ]
          },
          "metadata": {},
          "execution_count": 30
        }
      ]
    },
    {
      "cell_type": "code",
      "metadata": {
        "colab": {
          "base_uri": "https://localhost:8080/"
        },
        "id": "OIVBO_q9X9NX",
        "outputId": "ae6c3193-6cab-453d-e78d-6849a6604282"
      },
      "source": [
        "dfDict.loc[:, 'data_nasc'] #para localizar todas as linhas de uma coluna, usamos :"
      ],
      "execution_count": null,
      "outputs": [
        {
          "output_type": "execute_result",
          "data": {
            "text/plain": [
              "nome\n",
              "Pedro      01-02-2000\n",
              "Joaquim    08-05-1997\n",
              "Marcos     04-28-1996\n",
              "Mateus     12-16-1995\n",
              "Name: data_nasc, dtype: object"
            ]
          },
          "metadata": {},
          "execution_count": 24
        }
      ]
    },
    {
      "cell_type": "code",
      "metadata": {
        "id": "K_RNqytxkNpd",
        "colab": {
          "base_uri": "https://localhost:8080/",
          "height": 111
        },
        "outputId": "00713ebe-a81f-4d46-81f4-4b61b3891384"
      },
      "source": [
        "dfDict.loc[['Pedro']] #retorna um Dataframe\n",
        "\n",
        "#mesmo que dfDict.loc[['Pedro'], :]"
      ],
      "execution_count": null,
      "outputs": [
        {
          "output_type": "execute_result",
          "data": {
            "text/html": [
              "<div>\n",
              "<style scoped>\n",
              "    .dataframe tbody tr th:only-of-type {\n",
              "        vertical-align: middle;\n",
              "    }\n",
              "\n",
              "    .dataframe tbody tr th {\n",
              "        vertical-align: top;\n",
              "    }\n",
              "\n",
              "    .dataframe thead th {\n",
              "        text-align: right;\n",
              "    }\n",
              "</style>\n",
              "<table border=\"1\" class=\"dataframe\">\n",
              "  <thead>\n",
              "    <tr style=\"text-align: right;\">\n",
              "      <th></th>\n",
              "      <th>age</th>\n",
              "      <th>cor_favorita</th>\n",
              "      <th>nota_final</th>\n",
              "      <th>data_nasc</th>\n",
              "    </tr>\n",
              "    <tr>\n",
              "      <th>nome</th>\n",
              "      <th></th>\n",
              "      <th></th>\n",
              "      <th></th>\n",
              "      <th></th>\n",
              "    </tr>\n",
              "  </thead>\n",
              "  <tbody>\n",
              "    <tr>\n",
              "      <th>Pedro</th>\n",
              "      <td>20</td>\n",
              "      <td>azul</td>\n",
              "      <td>8.8</td>\n",
              "      <td>01-02-2000</td>\n",
              "    </tr>\n",
              "  </tbody>\n",
              "</table>\n",
              "</div>"
            ],
            "text/plain": [
              "       age cor_favorita  nota_final   data_nasc\n",
              "nome                                           \n",
              "Pedro   20         azul         8.8  01-02-2000"
            ]
          },
          "metadata": {},
          "execution_count": 35
        }
      ]
    },
    {
      "cell_type": "code",
      "metadata": {
        "id": "XcT0TloHkNpe",
        "colab": {
          "base_uri": "https://localhost:8080/",
          "height": 35
        },
        "outputId": "ddd60a49-0167-4579-dd29-92d4c4e6e4dc"
      },
      "source": [
        "dfDict.loc['Pedro', 'data_nasc'] #um elemento qualquer [linha, coluna]"
      ],
      "execution_count": null,
      "outputs": [
        {
          "output_type": "execute_result",
          "data": {
            "application/vnd.google.colaboratory.intrinsic+json": {
              "type": "string"
            },
            "text/plain": [
              "'01-02-2000'"
            ]
          },
          "metadata": {},
          "execution_count": 15
        }
      ]
    },
    {
      "cell_type": "code",
      "metadata": {
        "colab": {
          "base_uri": "https://localhost:8080/",
          "height": 173
        },
        "id": "aB84cVKpZNyg",
        "outputId": "497157c5-1ce2-4191-d4d1-b70267b83eb3"
      },
      "source": [
        "dfDict.loc[ 'Pedro': 'Marcos', 'age':'nota_final'] #um pedaço qualquer pegando sequencias"
      ],
      "execution_count": null,
      "outputs": [
        {
          "output_type": "execute_result",
          "data": {
            "text/html": [
              "<div>\n",
              "<style scoped>\n",
              "    .dataframe tbody tr th:only-of-type {\n",
              "        vertical-align: middle;\n",
              "    }\n",
              "\n",
              "    .dataframe tbody tr th {\n",
              "        vertical-align: top;\n",
              "    }\n",
              "\n",
              "    .dataframe thead th {\n",
              "        text-align: right;\n",
              "    }\n",
              "</style>\n",
              "<table border=\"1\" class=\"dataframe\">\n",
              "  <thead>\n",
              "    <tr style=\"text-align: right;\">\n",
              "      <th></th>\n",
              "      <th>age</th>\n",
              "      <th>cor_favorita</th>\n",
              "      <th>nota_final</th>\n",
              "    </tr>\n",
              "    <tr>\n",
              "      <th>nome</th>\n",
              "      <th></th>\n",
              "      <th></th>\n",
              "      <th></th>\n",
              "    </tr>\n",
              "  </thead>\n",
              "  <tbody>\n",
              "    <tr>\n",
              "      <th>Pedro</th>\n",
              "      <td>20</td>\n",
              "      <td>azul</td>\n",
              "      <td>8.8</td>\n",
              "    </tr>\n",
              "    <tr>\n",
              "      <th>Joaquim</th>\n",
              "      <td>19</td>\n",
              "      <td>amarelo</td>\n",
              "      <td>9.2</td>\n",
              "    </tr>\n",
              "    <tr>\n",
              "      <th>Marcos</th>\n",
              "      <td>22</td>\n",
              "      <td>cinza</td>\n",
              "      <td>9.5</td>\n",
              "    </tr>\n",
              "  </tbody>\n",
              "</table>\n",
              "</div>"
            ],
            "text/plain": [
              "         age cor_favorita  nota_final\n",
              "nome                                 \n",
              "Pedro     20         azul         8.8\n",
              "Joaquim   19      amarelo         9.2\n",
              "Marcos    22        cinza         9.5"
            ]
          },
          "metadata": {},
          "execution_count": 32
        }
      ]
    },
    {
      "cell_type": "code",
      "metadata": {
        "id": "oAz0-atKkNpe",
        "colab": {
          "base_uri": "https://localhost:8080/",
          "height": 142
        },
        "outputId": "541a8dd9-8841-46c7-c239-2d0dee9a18ba"
      },
      "source": [
        "dfDict.loc[ ['Pedro', 'Marcos'], ['age','nota_final']]  #um pedaço qualquer com saltos"
      ],
      "execution_count": null,
      "outputs": [
        {
          "output_type": "execute_result",
          "data": {
            "text/html": [
              "<div>\n",
              "<style scoped>\n",
              "    .dataframe tbody tr th:only-of-type {\n",
              "        vertical-align: middle;\n",
              "    }\n",
              "\n",
              "    .dataframe tbody tr th {\n",
              "        vertical-align: top;\n",
              "    }\n",
              "\n",
              "    .dataframe thead th {\n",
              "        text-align: right;\n",
              "    }\n",
              "</style>\n",
              "<table border=\"1\" class=\"dataframe\">\n",
              "  <thead>\n",
              "    <tr style=\"text-align: right;\">\n",
              "      <th></th>\n",
              "      <th>age</th>\n",
              "      <th>nota_final</th>\n",
              "    </tr>\n",
              "    <tr>\n",
              "      <th>nome</th>\n",
              "      <th></th>\n",
              "      <th></th>\n",
              "    </tr>\n",
              "  </thead>\n",
              "  <tbody>\n",
              "    <tr>\n",
              "      <th>Pedro</th>\n",
              "      <td>20</td>\n",
              "      <td>8.8</td>\n",
              "    </tr>\n",
              "    <tr>\n",
              "      <th>Marcos</th>\n",
              "      <td>22</td>\n",
              "      <td>9.5</td>\n",
              "    </tr>\n",
              "  </tbody>\n",
              "</table>\n",
              "</div>"
            ],
            "text/plain": [
              "        age  nota_final\n",
              "nome                   \n",
              "Pedro    20         8.8\n",
              "Marcos   22         9.5"
            ]
          },
          "metadata": {},
          "execution_count": 33
        }
      ]
    },
    {
      "cell_type": "code",
      "metadata": {
        "id": "4nMbSInokNpe",
        "colab": {
          "base_uri": "https://localhost:8080/",
          "height": 173
        },
        "outputId": "783476ee-0f06-462f-f9db-c85d5884e7e3"
      },
      "source": [
        "dfDict.loc[ 'Pedro': 'Marcos', ['age','nota_final']] #um pedaço qualquer\n",
        "\n",
        "#sequencia de linhas, apenas 2 colunas específicas"
      ],
      "execution_count": null,
      "outputs": [
        {
          "output_type": "execute_result",
          "data": {
            "text/html": [
              "<div>\n",
              "<style scoped>\n",
              "    .dataframe tbody tr th:only-of-type {\n",
              "        vertical-align: middle;\n",
              "    }\n",
              "\n",
              "    .dataframe tbody tr th {\n",
              "        vertical-align: top;\n",
              "    }\n",
              "\n",
              "    .dataframe thead th {\n",
              "        text-align: right;\n",
              "    }\n",
              "</style>\n",
              "<table border=\"1\" class=\"dataframe\">\n",
              "  <thead>\n",
              "    <tr style=\"text-align: right;\">\n",
              "      <th></th>\n",
              "      <th>age</th>\n",
              "      <th>nota_final</th>\n",
              "    </tr>\n",
              "    <tr>\n",
              "      <th>nome</th>\n",
              "      <th></th>\n",
              "      <th></th>\n",
              "    </tr>\n",
              "  </thead>\n",
              "  <tbody>\n",
              "    <tr>\n",
              "      <th>Pedro</th>\n",
              "      <td>20</td>\n",
              "      <td>8.8</td>\n",
              "    </tr>\n",
              "    <tr>\n",
              "      <th>Joaquim</th>\n",
              "      <td>19</td>\n",
              "      <td>9.2</td>\n",
              "    </tr>\n",
              "    <tr>\n",
              "      <th>Marcos</th>\n",
              "      <td>22</td>\n",
              "      <td>9.5</td>\n",
              "    </tr>\n",
              "  </tbody>\n",
              "</table>\n",
              "</div>"
            ],
            "text/plain": [
              "         age  nota_final\n",
              "nome                    \n",
              "Pedro     20         8.8\n",
              "Joaquim   19         9.2\n",
              "Marcos    22         9.5"
            ]
          },
          "metadata": {},
          "execution_count": 34
        }
      ]
    },
    {
      "cell_type": "markdown",
      "metadata": {
        "id": "d2OqE21skNpf"
      },
      "source": [
        "### iloc\n",
        "\n",
        "Pode-se usar o método iloc para localizar linhas ou pedaços do dataframe pelos **índices numéricos (posicionais)**\n",
        "\n",
        "**Sintaxe (igual a do loc)**:\n",
        "\n",
        "iloc[linhas, colunas]\n",
        "\n",
        "Onde as linhas e colunas podem usar sequencias (:) ou saltos (,)\n",
        "\n",
        "**A diferença de iloc para loc é que loc usa os rotulos, enquanto iloc usa os indices numericos default**"
      ]
    },
    {
      "cell_type": "code",
      "metadata": {
        "id": "fIuO6m5-kNpf",
        "colab": {
          "base_uri": "https://localhost:8080/",
          "height": 142
        },
        "outputId": "96931c32-b335-4587-ca44-6a6e98dfe37a"
      },
      "source": [
        "dfDict.iloc[0:2, 0:2] #um pedaço qualquer sequencial"
      ],
      "execution_count": null,
      "outputs": [
        {
          "output_type": "execute_result",
          "data": {
            "text/html": [
              "<div>\n",
              "<style scoped>\n",
              "    .dataframe tbody tr th:only-of-type {\n",
              "        vertical-align: middle;\n",
              "    }\n",
              "\n",
              "    .dataframe tbody tr th {\n",
              "        vertical-align: top;\n",
              "    }\n",
              "\n",
              "    .dataframe thead th {\n",
              "        text-align: right;\n",
              "    }\n",
              "</style>\n",
              "<table border=\"1\" class=\"dataframe\">\n",
              "  <thead>\n",
              "    <tr style=\"text-align: right;\">\n",
              "      <th></th>\n",
              "      <th>age</th>\n",
              "      <th>cor_favorita</th>\n",
              "    </tr>\n",
              "    <tr>\n",
              "      <th>nome</th>\n",
              "      <th></th>\n",
              "      <th></th>\n",
              "    </tr>\n",
              "  </thead>\n",
              "  <tbody>\n",
              "    <tr>\n",
              "      <th>Pedro</th>\n",
              "      <td>20</td>\n",
              "      <td>azul</td>\n",
              "    </tr>\n",
              "    <tr>\n",
              "      <th>Joaquim</th>\n",
              "      <td>19</td>\n",
              "      <td>amarelo</td>\n",
              "    </tr>\n",
              "  </tbody>\n",
              "</table>\n",
              "</div>"
            ],
            "text/plain": [
              "         age cor_favorita\n",
              "nome                     \n",
              "Pedro     20         azul\n",
              "Joaquim   19      amarelo"
            ]
          },
          "metadata": {},
          "execution_count": 29
        }
      ]
    },
    {
      "cell_type": "code",
      "metadata": {
        "id": "vyrnUrPkkNpf",
        "colab": {
          "base_uri": "https://localhost:8080/",
          "height": 142
        },
        "outputId": "f796a2e9-6949-4cba-c2af-c40685f49ba9"
      },
      "source": [
        "dfDict.iloc[[0,2], [0,2]] #um pedaço qualquer com saltos"
      ],
      "execution_count": null,
      "outputs": [
        {
          "output_type": "execute_result",
          "data": {
            "text/html": [
              "<div>\n",
              "<style scoped>\n",
              "    .dataframe tbody tr th:only-of-type {\n",
              "        vertical-align: middle;\n",
              "    }\n",
              "\n",
              "    .dataframe tbody tr th {\n",
              "        vertical-align: top;\n",
              "    }\n",
              "\n",
              "    .dataframe thead th {\n",
              "        text-align: right;\n",
              "    }\n",
              "</style>\n",
              "<table border=\"1\" class=\"dataframe\">\n",
              "  <thead>\n",
              "    <tr style=\"text-align: right;\">\n",
              "      <th></th>\n",
              "      <th>age</th>\n",
              "      <th>nota_final</th>\n",
              "    </tr>\n",
              "    <tr>\n",
              "      <th>nome</th>\n",
              "      <th></th>\n",
              "      <th></th>\n",
              "    </tr>\n",
              "  </thead>\n",
              "  <tbody>\n",
              "    <tr>\n",
              "      <th>Pedro</th>\n",
              "      <td>20</td>\n",
              "      <td>8.8</td>\n",
              "    </tr>\n",
              "    <tr>\n",
              "      <th>Marcos</th>\n",
              "      <td>22</td>\n",
              "      <td>9.5</td>\n",
              "    </tr>\n",
              "  </tbody>\n",
              "</table>\n",
              "</div>"
            ],
            "text/plain": [
              "        age  nota_final\n",
              "nome                   \n",
              "Pedro    20         8.8\n",
              "Marcos   22         9.5"
            ]
          },
          "metadata": {},
          "execution_count": 28
        }
      ]
    },
    {
      "cell_type": "code",
      "metadata": {
        "colab": {
          "base_uri": "https://localhost:8080/",
          "height": 142
        },
        "id": "FQ7YjkRianUn",
        "outputId": "3337282f-a7fa-4eb9-9bfb-2632373f2ce8"
      },
      "source": [
        "dfDict.iloc[[0,2], 0:2] #um pedaço qualquer"
      ],
      "execution_count": null,
      "outputs": [
        {
          "output_type": "execute_result",
          "data": {
            "text/html": [
              "<div>\n",
              "<style scoped>\n",
              "    .dataframe tbody tr th:only-of-type {\n",
              "        vertical-align: middle;\n",
              "    }\n",
              "\n",
              "    .dataframe tbody tr th {\n",
              "        vertical-align: top;\n",
              "    }\n",
              "\n",
              "    .dataframe thead th {\n",
              "        text-align: right;\n",
              "    }\n",
              "</style>\n",
              "<table border=\"1\" class=\"dataframe\">\n",
              "  <thead>\n",
              "    <tr style=\"text-align: right;\">\n",
              "      <th></th>\n",
              "      <th>age</th>\n",
              "      <th>cor_favorita</th>\n",
              "    </tr>\n",
              "    <tr>\n",
              "      <th>nome</th>\n",
              "      <th></th>\n",
              "      <th></th>\n",
              "    </tr>\n",
              "  </thead>\n",
              "  <tbody>\n",
              "    <tr>\n",
              "      <th>Pedro</th>\n",
              "      <td>20</td>\n",
              "      <td>azul</td>\n",
              "    </tr>\n",
              "    <tr>\n",
              "      <th>Marcos</th>\n",
              "      <td>22</td>\n",
              "      <td>cinza</td>\n",
              "    </tr>\n",
              "  </tbody>\n",
              "</table>\n",
              "</div>"
            ],
            "text/plain": [
              "        age cor_favorita\n",
              "nome                    \n",
              "Pedro    20         azul\n",
              "Marcos   22        cinza"
            ]
          },
          "metadata": {},
          "execution_count": 36
        }
      ]
    },
    {
      "cell_type": "markdown",
      "metadata": {
        "id": "pp__Sq5xkNpg"
      },
      "source": [
        "**Fazendo alterações**"
      ]
    },
    {
      "cell_type": "code",
      "metadata": {
        "id": "4SjYOgbgkNpg"
      },
      "source": [
        "dfAleatorio.iloc[[0,2], [0,2]] = 2019"
      ],
      "execution_count": null,
      "outputs": []
    },
    {
      "cell_type": "code",
      "metadata": {
        "id": "XHwigC7ikNpg"
      },
      "source": [
        "dfAleatorio.loc['A', 'X'] = 99"
      ],
      "execution_count": null,
      "outputs": []
    },
    {
      "cell_type": "code",
      "metadata": {
        "id": "7BI219i4kNph",
        "colab": {
          "base_uri": "https://localhost:8080/",
          "height": 204
        },
        "outputId": "2f833cf1-41b2-436e-9ab6-3a11f044cf69"
      },
      "source": [
        "dfAleatorio"
      ],
      "execution_count": null,
      "outputs": [
        {
          "output_type": "execute_result",
          "data": {
            "text/html": [
              "<div>\n",
              "<style scoped>\n",
              "    .dataframe tbody tr th:only-of-type {\n",
              "        vertical-align: middle;\n",
              "    }\n",
              "\n",
              "    .dataframe tbody tr th {\n",
              "        vertical-align: top;\n",
              "    }\n",
              "\n",
              "    .dataframe thead th {\n",
              "        text-align: right;\n",
              "    }\n",
              "</style>\n",
              "<table border=\"1\" class=\"dataframe\">\n",
              "  <thead>\n",
              "    <tr style=\"text-align: right;\">\n",
              "      <th></th>\n",
              "      <th>W</th>\n",
              "      <th>X</th>\n",
              "      <th>Y</th>\n",
              "      <th>Z</th>\n",
              "    </tr>\n",
              "  </thead>\n",
              "  <tbody>\n",
              "    <tr>\n",
              "      <th>A</th>\n",
              "      <td>2019.000000</td>\n",
              "      <td>99.000000</td>\n",
              "      <td>2019.000000</td>\n",
              "      <td>0.067530</td>\n",
              "    </tr>\n",
              "    <tr>\n",
              "      <th>B</th>\n",
              "      <td>0.295169</td>\n",
              "      <td>0.074657</td>\n",
              "      <td>0.530189</td>\n",
              "      <td>0.439727</td>\n",
              "    </tr>\n",
              "    <tr>\n",
              "      <th>C</th>\n",
              "      <td>2019.000000</td>\n",
              "      <td>0.178280</td>\n",
              "      <td>2019.000000</td>\n",
              "      <td>0.202774</td>\n",
              "    </tr>\n",
              "    <tr>\n",
              "      <th>D</th>\n",
              "      <td>0.542445</td>\n",
              "      <td>0.313590</td>\n",
              "      <td>0.481832</td>\n",
              "      <td>0.740618</td>\n",
              "    </tr>\n",
              "    <tr>\n",
              "      <th>E</th>\n",
              "      <td>0.796143</td>\n",
              "      <td>0.715195</td>\n",
              "      <td>0.822837</td>\n",
              "      <td>0.160964</td>\n",
              "    </tr>\n",
              "  </tbody>\n",
              "</table>\n",
              "</div>"
            ],
            "text/plain": [
              "             W          X            Y         Z\n",
              "A  2019.000000  99.000000  2019.000000  0.067530\n",
              "B     0.295169   0.074657     0.530189  0.439727\n",
              "C  2019.000000   0.178280  2019.000000  0.202774\n",
              "D     0.542445   0.313590     0.481832  0.740618\n",
              "E     0.796143   0.715195     0.822837  0.160964"
            ]
          },
          "metadata": {},
          "execution_count": 39
        }
      ]
    },
    {
      "cell_type": "markdown",
      "metadata": {
        "id": "taSFMdJ1kNph"
      },
      "source": [
        "**Adicionando colunas**"
      ]
    },
    {
      "cell_type": "code",
      "metadata": {
        "id": "vwtbAyC5kNph"
      },
      "source": [
        "dfAleatorio['XY'] = dfAleatorio['X'] + dfAleatorio['Y']"
      ],
      "execution_count": null,
      "outputs": []
    },
    {
      "cell_type": "code",
      "metadata": {
        "scrolled": true,
        "id": "oFkoRGFlkNpi",
        "colab": {
          "base_uri": "https://localhost:8080/",
          "height": 204
        },
        "outputId": "5e9cbfa4-2a8e-430c-ccc0-6ebf23c67d42"
      },
      "source": [
        "dfAleatorio"
      ],
      "execution_count": null,
      "outputs": [
        {
          "output_type": "execute_result",
          "data": {
            "text/html": [
              "<div>\n",
              "<style scoped>\n",
              "    .dataframe tbody tr th:only-of-type {\n",
              "        vertical-align: middle;\n",
              "    }\n",
              "\n",
              "    .dataframe tbody tr th {\n",
              "        vertical-align: top;\n",
              "    }\n",
              "\n",
              "    .dataframe thead th {\n",
              "        text-align: right;\n",
              "    }\n",
              "</style>\n",
              "<table border=\"1\" class=\"dataframe\">\n",
              "  <thead>\n",
              "    <tr style=\"text-align: right;\">\n",
              "      <th></th>\n",
              "      <th>W</th>\n",
              "      <th>X</th>\n",
              "      <th>Y</th>\n",
              "      <th>Z</th>\n",
              "      <th>XY</th>\n",
              "    </tr>\n",
              "  </thead>\n",
              "  <tbody>\n",
              "    <tr>\n",
              "      <th>A</th>\n",
              "      <td>2019.000000</td>\n",
              "      <td>99.000000</td>\n",
              "      <td>2019.000000</td>\n",
              "      <td>0.067530</td>\n",
              "      <td>2118.000000</td>\n",
              "    </tr>\n",
              "    <tr>\n",
              "      <th>B</th>\n",
              "      <td>0.295169</td>\n",
              "      <td>0.074657</td>\n",
              "      <td>0.530189</td>\n",
              "      <td>0.439727</td>\n",
              "      <td>0.604846</td>\n",
              "    </tr>\n",
              "    <tr>\n",
              "      <th>C</th>\n",
              "      <td>2019.000000</td>\n",
              "      <td>0.178280</td>\n",
              "      <td>2019.000000</td>\n",
              "      <td>0.202774</td>\n",
              "      <td>2019.178280</td>\n",
              "    </tr>\n",
              "    <tr>\n",
              "      <th>D</th>\n",
              "      <td>0.542445</td>\n",
              "      <td>0.313590</td>\n",
              "      <td>0.481832</td>\n",
              "      <td>0.740618</td>\n",
              "      <td>0.795422</td>\n",
              "    </tr>\n",
              "    <tr>\n",
              "      <th>E</th>\n",
              "      <td>0.796143</td>\n",
              "      <td>0.715195</td>\n",
              "      <td>0.822837</td>\n",
              "      <td>0.160964</td>\n",
              "      <td>1.538032</td>\n",
              "    </tr>\n",
              "  </tbody>\n",
              "</table>\n",
              "</div>"
            ],
            "text/plain": [
              "             W          X            Y         Z           XY\n",
              "A  2019.000000  99.000000  2019.000000  0.067530  2118.000000\n",
              "B     0.295169   0.074657     0.530189  0.439727     0.604846\n",
              "C  2019.000000   0.178280  2019.000000  0.202774  2019.178280\n",
              "D     0.542445   0.313590     0.481832  0.740618     0.795422\n",
              "E     0.796143   0.715195     0.822837  0.160964     1.538032"
            ]
          },
          "metadata": {},
          "execution_count": 41
        }
      ]
    },
    {
      "cell_type": "markdown",
      "metadata": {
        "id": "RZ153jpAkNpi"
      },
      "source": [
        "**Removendo colunas**"
      ]
    },
    {
      "cell_type": "code",
      "metadata": {
        "scrolled": true,
        "id": "fdfp6KORkNpi",
        "colab": {
          "base_uri": "https://localhost:8080/",
          "height": 307
        },
        "outputId": "994c44aa-022b-486c-fe3a-f0449b573010"
      },
      "source": [
        "dfAleatorio.drop('XY') #aqui dá erro, pois o axis default é 0,precisamos dizer que é axis=1"
      ],
      "execution_count": null,
      "outputs": [
        {
          "output_type": "error",
          "ename": "KeyError",
          "evalue": "ignored",
          "traceback": [
            "\u001b[0;31m---------------------------------------------------------------------------\u001b[0m",
            "\u001b[0;31mKeyError\u001b[0m                                  Traceback (most recent call last)",
            "\u001b[0;32m<ipython-input-42-d0d617a993e2>\u001b[0m in \u001b[0;36m<module>\u001b[0;34m()\u001b[0m\n\u001b[0;32m----> 1\u001b[0;31m \u001b[0mdfAleatorio\u001b[0m\u001b[0;34m.\u001b[0m\u001b[0mdrop\u001b[0m\u001b[0;34m(\u001b[0m\u001b[0;34m'XY'\u001b[0m\u001b[0;34m)\u001b[0m\u001b[0;34m\u001b[0m\u001b[0;34m\u001b[0m\u001b[0m\n\u001b[0m",
            "\u001b[0;32m/usr/local/lib/python3.7/dist-packages/pandas/core/frame.py\u001b[0m in \u001b[0;36mdrop\u001b[0;34m(self, labels, axis, index, columns, level, inplace, errors)\u001b[0m\n\u001b[1;32m   4172\u001b[0m             \u001b[0mlevel\u001b[0m\u001b[0;34m=\u001b[0m\u001b[0mlevel\u001b[0m\u001b[0;34m,\u001b[0m\u001b[0;34m\u001b[0m\u001b[0;34m\u001b[0m\u001b[0m\n\u001b[1;32m   4173\u001b[0m             \u001b[0minplace\u001b[0m\u001b[0;34m=\u001b[0m\u001b[0minplace\u001b[0m\u001b[0;34m,\u001b[0m\u001b[0;34m\u001b[0m\u001b[0;34m\u001b[0m\u001b[0m\n\u001b[0;32m-> 4174\u001b[0;31m             \u001b[0merrors\u001b[0m\u001b[0;34m=\u001b[0m\u001b[0merrors\u001b[0m\u001b[0;34m,\u001b[0m\u001b[0;34m\u001b[0m\u001b[0;34m\u001b[0m\u001b[0m\n\u001b[0m\u001b[1;32m   4175\u001b[0m         )\n\u001b[1;32m   4176\u001b[0m \u001b[0;34m\u001b[0m\u001b[0m\n",
            "\u001b[0;32m/usr/local/lib/python3.7/dist-packages/pandas/core/generic.py\u001b[0m in \u001b[0;36mdrop\u001b[0;34m(self, labels, axis, index, columns, level, inplace, errors)\u001b[0m\n\u001b[1;32m   3887\u001b[0m         \u001b[0;32mfor\u001b[0m \u001b[0maxis\u001b[0m\u001b[0;34m,\u001b[0m \u001b[0mlabels\u001b[0m \u001b[0;32min\u001b[0m \u001b[0maxes\u001b[0m\u001b[0;34m.\u001b[0m\u001b[0mitems\u001b[0m\u001b[0;34m(\u001b[0m\u001b[0;34m)\u001b[0m\u001b[0;34m:\u001b[0m\u001b[0;34m\u001b[0m\u001b[0;34m\u001b[0m\u001b[0m\n\u001b[1;32m   3888\u001b[0m             \u001b[0;32mif\u001b[0m \u001b[0mlabels\u001b[0m \u001b[0;32mis\u001b[0m \u001b[0;32mnot\u001b[0m \u001b[0;32mNone\u001b[0m\u001b[0;34m:\u001b[0m\u001b[0;34m\u001b[0m\u001b[0;34m\u001b[0m\u001b[0m\n\u001b[0;32m-> 3889\u001b[0;31m                 \u001b[0mobj\u001b[0m \u001b[0;34m=\u001b[0m \u001b[0mobj\u001b[0m\u001b[0;34m.\u001b[0m\u001b[0m_drop_axis\u001b[0m\u001b[0;34m(\u001b[0m\u001b[0mlabels\u001b[0m\u001b[0;34m,\u001b[0m \u001b[0maxis\u001b[0m\u001b[0;34m,\u001b[0m \u001b[0mlevel\u001b[0m\u001b[0;34m=\u001b[0m\u001b[0mlevel\u001b[0m\u001b[0;34m,\u001b[0m \u001b[0merrors\u001b[0m\u001b[0;34m=\u001b[0m\u001b[0merrors\u001b[0m\u001b[0;34m)\u001b[0m\u001b[0;34m\u001b[0m\u001b[0;34m\u001b[0m\u001b[0m\n\u001b[0m\u001b[1;32m   3890\u001b[0m \u001b[0;34m\u001b[0m\u001b[0m\n\u001b[1;32m   3891\u001b[0m         \u001b[0;32mif\u001b[0m \u001b[0minplace\u001b[0m\u001b[0;34m:\u001b[0m\u001b[0;34m\u001b[0m\u001b[0;34m\u001b[0m\u001b[0m\n",
            "\u001b[0;32m/usr/local/lib/python3.7/dist-packages/pandas/core/generic.py\u001b[0m in \u001b[0;36m_drop_axis\u001b[0;34m(self, labels, axis, level, errors)\u001b[0m\n\u001b[1;32m   3921\u001b[0m                 \u001b[0mnew_axis\u001b[0m \u001b[0;34m=\u001b[0m \u001b[0maxis\u001b[0m\u001b[0;34m.\u001b[0m\u001b[0mdrop\u001b[0m\u001b[0;34m(\u001b[0m\u001b[0mlabels\u001b[0m\u001b[0;34m,\u001b[0m \u001b[0mlevel\u001b[0m\u001b[0;34m=\u001b[0m\u001b[0mlevel\u001b[0m\u001b[0;34m,\u001b[0m \u001b[0merrors\u001b[0m\u001b[0;34m=\u001b[0m\u001b[0merrors\u001b[0m\u001b[0;34m)\u001b[0m\u001b[0;34m\u001b[0m\u001b[0;34m\u001b[0m\u001b[0m\n\u001b[1;32m   3922\u001b[0m             \u001b[0;32melse\u001b[0m\u001b[0;34m:\u001b[0m\u001b[0;34m\u001b[0m\u001b[0;34m\u001b[0m\u001b[0m\n\u001b[0;32m-> 3923\u001b[0;31m                 \u001b[0mnew_axis\u001b[0m \u001b[0;34m=\u001b[0m \u001b[0maxis\u001b[0m\u001b[0;34m.\u001b[0m\u001b[0mdrop\u001b[0m\u001b[0;34m(\u001b[0m\u001b[0mlabels\u001b[0m\u001b[0;34m,\u001b[0m \u001b[0merrors\u001b[0m\u001b[0;34m=\u001b[0m\u001b[0merrors\u001b[0m\u001b[0;34m)\u001b[0m\u001b[0;34m\u001b[0m\u001b[0;34m\u001b[0m\u001b[0m\n\u001b[0m\u001b[1;32m   3924\u001b[0m             \u001b[0mresult\u001b[0m \u001b[0;34m=\u001b[0m \u001b[0mself\u001b[0m\u001b[0;34m.\u001b[0m\u001b[0mreindex\u001b[0m\u001b[0;34m(\u001b[0m\u001b[0;34m**\u001b[0m\u001b[0;34m{\u001b[0m\u001b[0maxis_name\u001b[0m\u001b[0;34m:\u001b[0m \u001b[0mnew_axis\u001b[0m\u001b[0;34m}\u001b[0m\u001b[0;34m)\u001b[0m\u001b[0;34m\u001b[0m\u001b[0;34m\u001b[0m\u001b[0m\n\u001b[1;32m   3925\u001b[0m \u001b[0;34m\u001b[0m\u001b[0m\n",
            "\u001b[0;32m/usr/local/lib/python3.7/dist-packages/pandas/core/indexes/base.py\u001b[0m in \u001b[0;36mdrop\u001b[0;34m(self, labels, errors)\u001b[0m\n\u001b[1;32m   5285\u001b[0m         \u001b[0;32mif\u001b[0m \u001b[0mmask\u001b[0m\u001b[0;34m.\u001b[0m\u001b[0many\u001b[0m\u001b[0;34m(\u001b[0m\u001b[0;34m)\u001b[0m\u001b[0;34m:\u001b[0m\u001b[0;34m\u001b[0m\u001b[0;34m\u001b[0m\u001b[0m\n\u001b[1;32m   5286\u001b[0m             \u001b[0;32mif\u001b[0m \u001b[0merrors\u001b[0m \u001b[0;34m!=\u001b[0m \u001b[0;34m\"ignore\"\u001b[0m\u001b[0;34m:\u001b[0m\u001b[0;34m\u001b[0m\u001b[0;34m\u001b[0m\u001b[0m\n\u001b[0;32m-> 5287\u001b[0;31m                 \u001b[0;32mraise\u001b[0m \u001b[0mKeyError\u001b[0m\u001b[0;34m(\u001b[0m\u001b[0;34mf\"{labels[mask]} not found in axis\"\u001b[0m\u001b[0;34m)\u001b[0m\u001b[0;34m\u001b[0m\u001b[0;34m\u001b[0m\u001b[0m\n\u001b[0m\u001b[1;32m   5288\u001b[0m             \u001b[0mindexer\u001b[0m \u001b[0;34m=\u001b[0m \u001b[0mindexer\u001b[0m\u001b[0;34m[\u001b[0m\u001b[0;34m~\u001b[0m\u001b[0mmask\u001b[0m\u001b[0;34m]\u001b[0m\u001b[0;34m\u001b[0m\u001b[0;34m\u001b[0m\u001b[0m\n\u001b[1;32m   5289\u001b[0m         \u001b[0;32mreturn\u001b[0m \u001b[0mself\u001b[0m\u001b[0;34m.\u001b[0m\u001b[0mdelete\u001b[0m\u001b[0;34m(\u001b[0m\u001b[0mindexer\u001b[0m\u001b[0;34m)\u001b[0m\u001b[0;34m\u001b[0m\u001b[0;34m\u001b[0m\u001b[0m\n",
            "\u001b[0;31mKeyError\u001b[0m: \"['XY'] not found in axis\""
          ]
        }
      ]
    },
    {
      "cell_type": "code",
      "metadata": {
        "colab": {
          "base_uri": "https://localhost:8080/",
          "height": 204
        },
        "id": "ITHwT67zbNT5",
        "outputId": "420806f5-4142-4253-edc5-7697b7040ff6"
      },
      "source": [
        "dfAleatorio.drop('XY', axis=1)"
      ],
      "execution_count": null,
      "outputs": [
        {
          "output_type": "execute_result",
          "data": {
            "text/html": [
              "<div>\n",
              "<style scoped>\n",
              "    .dataframe tbody tr th:only-of-type {\n",
              "        vertical-align: middle;\n",
              "    }\n",
              "\n",
              "    .dataframe tbody tr th {\n",
              "        vertical-align: top;\n",
              "    }\n",
              "\n",
              "    .dataframe thead th {\n",
              "        text-align: right;\n",
              "    }\n",
              "</style>\n",
              "<table border=\"1\" class=\"dataframe\">\n",
              "  <thead>\n",
              "    <tr style=\"text-align: right;\">\n",
              "      <th></th>\n",
              "      <th>W</th>\n",
              "      <th>X</th>\n",
              "      <th>Y</th>\n",
              "      <th>Z</th>\n",
              "    </tr>\n",
              "  </thead>\n",
              "  <tbody>\n",
              "    <tr>\n",
              "      <th>A</th>\n",
              "      <td>2019.000000</td>\n",
              "      <td>99.000000</td>\n",
              "      <td>2019.000000</td>\n",
              "      <td>0.067530</td>\n",
              "    </tr>\n",
              "    <tr>\n",
              "      <th>B</th>\n",
              "      <td>0.295169</td>\n",
              "      <td>0.074657</td>\n",
              "      <td>0.530189</td>\n",
              "      <td>0.439727</td>\n",
              "    </tr>\n",
              "    <tr>\n",
              "      <th>C</th>\n",
              "      <td>2019.000000</td>\n",
              "      <td>0.178280</td>\n",
              "      <td>2019.000000</td>\n",
              "      <td>0.202774</td>\n",
              "    </tr>\n",
              "    <tr>\n",
              "      <th>D</th>\n",
              "      <td>0.542445</td>\n",
              "      <td>0.313590</td>\n",
              "      <td>0.481832</td>\n",
              "      <td>0.740618</td>\n",
              "    </tr>\n",
              "    <tr>\n",
              "      <th>E</th>\n",
              "      <td>0.796143</td>\n",
              "      <td>0.715195</td>\n",
              "      <td>0.822837</td>\n",
              "      <td>0.160964</td>\n",
              "    </tr>\n",
              "  </tbody>\n",
              "</table>\n",
              "</div>"
            ],
            "text/plain": [
              "             W          X            Y         Z\n",
              "A  2019.000000  99.000000  2019.000000  0.067530\n",
              "B     0.295169   0.074657     0.530189  0.439727\n",
              "C  2019.000000   0.178280  2019.000000  0.202774\n",
              "D     0.542445   0.313590     0.481832  0.740618\n",
              "E     0.796143   0.715195     0.822837  0.160964"
            ]
          },
          "metadata": {},
          "execution_count": 43
        }
      ]
    },
    {
      "cell_type": "code",
      "metadata": {
        "id": "-UdG1G6ckNpi",
        "colab": {
          "base_uri": "https://localhost:8080/",
          "height": 204
        },
        "outputId": "398bd3e4-469c-4828-b483-e77dc0b9edf4"
      },
      "source": [
        "dfAleatorio #Não removeu da estrutura, apenas retornou o df sem a coluna"
      ],
      "execution_count": null,
      "outputs": [
        {
          "output_type": "execute_result",
          "data": {
            "text/html": [
              "<div>\n",
              "<style scoped>\n",
              "    .dataframe tbody tr th:only-of-type {\n",
              "        vertical-align: middle;\n",
              "    }\n",
              "\n",
              "    .dataframe tbody tr th {\n",
              "        vertical-align: top;\n",
              "    }\n",
              "\n",
              "    .dataframe thead th {\n",
              "        text-align: right;\n",
              "    }\n",
              "</style>\n",
              "<table border=\"1\" class=\"dataframe\">\n",
              "  <thead>\n",
              "    <tr style=\"text-align: right;\">\n",
              "      <th></th>\n",
              "      <th>W</th>\n",
              "      <th>X</th>\n",
              "      <th>Y</th>\n",
              "      <th>Z</th>\n",
              "      <th>XY</th>\n",
              "    </tr>\n",
              "  </thead>\n",
              "  <tbody>\n",
              "    <tr>\n",
              "      <th>A</th>\n",
              "      <td>2019.000000</td>\n",
              "      <td>99.000000</td>\n",
              "      <td>2019.000000</td>\n",
              "      <td>0.067530</td>\n",
              "      <td>2118.000000</td>\n",
              "    </tr>\n",
              "    <tr>\n",
              "      <th>B</th>\n",
              "      <td>0.295169</td>\n",
              "      <td>0.074657</td>\n",
              "      <td>0.530189</td>\n",
              "      <td>0.439727</td>\n",
              "      <td>0.604846</td>\n",
              "    </tr>\n",
              "    <tr>\n",
              "      <th>C</th>\n",
              "      <td>2019.000000</td>\n",
              "      <td>0.178280</td>\n",
              "      <td>2019.000000</td>\n",
              "      <td>0.202774</td>\n",
              "      <td>2019.178280</td>\n",
              "    </tr>\n",
              "    <tr>\n",
              "      <th>D</th>\n",
              "      <td>0.542445</td>\n",
              "      <td>0.313590</td>\n",
              "      <td>0.481832</td>\n",
              "      <td>0.740618</td>\n",
              "      <td>0.795422</td>\n",
              "    </tr>\n",
              "    <tr>\n",
              "      <th>E</th>\n",
              "      <td>0.796143</td>\n",
              "      <td>0.715195</td>\n",
              "      <td>0.822837</td>\n",
              "      <td>0.160964</td>\n",
              "      <td>1.538032</td>\n",
              "    </tr>\n",
              "  </tbody>\n",
              "</table>\n",
              "</div>"
            ],
            "text/plain": [
              "             W          X            Y         Z           XY\n",
              "A  2019.000000  99.000000  2019.000000  0.067530  2118.000000\n",
              "B     0.295169   0.074657     0.530189  0.439727     0.604846\n",
              "C  2019.000000   0.178280  2019.000000  0.202774  2019.178280\n",
              "D     0.542445   0.313590     0.481832  0.740618     0.795422\n",
              "E     0.796143   0.715195     0.822837  0.160964     1.538032"
            ]
          },
          "metadata": {},
          "execution_count": 45
        }
      ]
    },
    {
      "cell_type": "markdown",
      "metadata": {
        "id": "HLhafG1CkNpj"
      },
      "source": [
        "**Para remover permanentemente, use o argumento inplace**"
      ]
    },
    {
      "cell_type": "code",
      "metadata": {
        "id": "KfDFNKzhkNpj"
      },
      "source": [
        "dfAleatorio.drop('XY', axis=1, inplace=True)"
      ],
      "execution_count": null,
      "outputs": []
    },
    {
      "cell_type": "code",
      "metadata": {
        "id": "bBuCyJs4kNpj",
        "colab": {
          "base_uri": "https://localhost:8080/",
          "height": 204
        },
        "outputId": "d2a29734-c858-4128-f13e-41a72b2c634f"
      },
      "source": [
        "dfAleatorio"
      ],
      "execution_count": null,
      "outputs": [
        {
          "output_type": "execute_result",
          "data": {
            "text/html": [
              "<div>\n",
              "<style scoped>\n",
              "    .dataframe tbody tr th:only-of-type {\n",
              "        vertical-align: middle;\n",
              "    }\n",
              "\n",
              "    .dataframe tbody tr th {\n",
              "        vertical-align: top;\n",
              "    }\n",
              "\n",
              "    .dataframe thead th {\n",
              "        text-align: right;\n",
              "    }\n",
              "</style>\n",
              "<table border=\"1\" class=\"dataframe\">\n",
              "  <thead>\n",
              "    <tr style=\"text-align: right;\">\n",
              "      <th></th>\n",
              "      <th>W</th>\n",
              "      <th>X</th>\n",
              "      <th>Y</th>\n",
              "      <th>Z</th>\n",
              "    </tr>\n",
              "  </thead>\n",
              "  <tbody>\n",
              "    <tr>\n",
              "      <th>A</th>\n",
              "      <td>2019.000000</td>\n",
              "      <td>99.000000</td>\n",
              "      <td>2019.000000</td>\n",
              "      <td>0.067530</td>\n",
              "    </tr>\n",
              "    <tr>\n",
              "      <th>B</th>\n",
              "      <td>0.295169</td>\n",
              "      <td>0.074657</td>\n",
              "      <td>0.530189</td>\n",
              "      <td>0.439727</td>\n",
              "    </tr>\n",
              "    <tr>\n",
              "      <th>C</th>\n",
              "      <td>2019.000000</td>\n",
              "      <td>0.178280</td>\n",
              "      <td>2019.000000</td>\n",
              "      <td>0.202774</td>\n",
              "    </tr>\n",
              "    <tr>\n",
              "      <th>D</th>\n",
              "      <td>0.542445</td>\n",
              "      <td>0.313590</td>\n",
              "      <td>0.481832</td>\n",
              "      <td>0.740618</td>\n",
              "    </tr>\n",
              "    <tr>\n",
              "      <th>E</th>\n",
              "      <td>0.796143</td>\n",
              "      <td>0.715195</td>\n",
              "      <td>0.822837</td>\n",
              "      <td>0.160964</td>\n",
              "    </tr>\n",
              "  </tbody>\n",
              "</table>\n",
              "</div>"
            ],
            "text/plain": [
              "             W          X            Y         Z\n",
              "A  2019.000000  99.000000  2019.000000  0.067530\n",
              "B     0.295169   0.074657     0.530189  0.439727\n",
              "C  2019.000000   0.178280  2019.000000  0.202774\n",
              "D     0.542445   0.313590     0.481832  0.740618\n",
              "E     0.796143   0.715195     0.822837  0.160964"
            ]
          },
          "metadata": {},
          "execution_count": 47
        }
      ]
    },
    {
      "cell_type": "markdown",
      "metadata": {
        "id": "2gkMUyNLkNpj"
      },
      "source": [
        "## Leitura de arquivos CSV"
      ]
    },
    {
      "cell_type": "code",
      "metadata": {
        "colab": {
          "base_uri": "https://localhost:8080/"
        },
        "id": "v9mvZ5UsjjDB",
        "outputId": "ae298860-74a8-47cc-ed22-79e7d95f95ca"
      },
      "source": [
        "#monte o drive caso precise usar/salvar arquivos do seu drive\n",
        "from google.colab import drive\n",
        "drive.mount('/content/drive')"
      ],
      "execution_count": null,
      "outputs": [
        {
          "output_type": "stream",
          "name": "stdout",
          "text": [
            "Mounted at /content/drive\n"
          ]
        }
      ]
    },
    {
      "cell_type": "code",
      "metadata": {
        "colab": {
          "base_uri": "https://localhost:8080/"
        },
        "id": "hUnnVG-vj0bC",
        "outputId": "51f834f8-8146-48b3-8394-578a50425512"
      },
      "source": [
        "#mude o ponto de execução para outro diretório, caso deseje\n",
        "%cd /content/drive/MyDrive/Colab Notebooks/IntroPython"
      ],
      "execution_count": null,
      "outputs": [
        {
          "output_type": "stream",
          "name": "stdout",
          "text": [
            "/content/drive/MyDrive/Colab Notebooks/IntroPython\n"
          ]
        }
      ]
    },
    {
      "cell_type": "code",
      "metadata": {
        "id": "ybb8UzzLkNpj"
      },
      "source": [
        "df = pd.read_csv('./BaseAlunos.csv') #colocar caminho correto para o arquivo"
      ],
      "execution_count": null,
      "outputs": []
    },
    {
      "cell_type": "code",
      "metadata": {
        "scrolled": true,
        "id": "M0M7OWD3kNpk",
        "colab": {
          "base_uri": "https://localhost:8080/",
          "height": 359
        },
        "outputId": "119eb93d-7907-4129-902c-4995e1639ec7"
      },
      "source": [
        "df"
      ],
      "execution_count": null,
      "outputs": [
        {
          "output_type": "execute_result",
          "data": {
            "text/html": [
              "<div>\n",
              "<style scoped>\n",
              "    .dataframe tbody tr th:only-of-type {\n",
              "        vertical-align: middle;\n",
              "    }\n",
              "\n",
              "    .dataframe tbody tr th {\n",
              "        vertical-align: top;\n",
              "    }\n",
              "\n",
              "    .dataframe thead th {\n",
              "        text-align: right;\n",
              "    }\n",
              "</style>\n",
              "<table border=\"1\" class=\"dataframe\">\n",
              "  <thead>\n",
              "    <tr style=\"text-align: right;\">\n",
              "      <th></th>\n",
              "      <th>Matrícula</th>\n",
              "      <th>Nome</th>\n",
              "      <th>Unid. 1</th>\n",
              "      <th>Unid. 2</th>\n",
              "      <th>Unid. 3</th>\n",
              "      <th>Rec.</th>\n",
              "      <th>Resultado</th>\n",
              "      <th>Faltas</th>\n",
              "      <th>Sit.</th>\n",
              "    </tr>\n",
              "  </thead>\n",
              "  <tbody>\n",
              "    <tr>\n",
              "      <th>0</th>\n",
              "      <td>2020001</td>\n",
              "      <td>ANA SILVA</td>\n",
              "      <td>10.0</td>\n",
              "      <td>4.0</td>\n",
              "      <td>2.0</td>\n",
              "      <td>8.00</td>\n",
              "      <td>7.3</td>\n",
              "      <td>7.0</td>\n",
              "      <td>APR</td>\n",
              "    </tr>\n",
              "    <tr>\n",
              "      <th>1</th>\n",
              "      <td>2020002</td>\n",
              "      <td>BRUNO SOUZA</td>\n",
              "      <td>7.0</td>\n",
              "      <td>1.0</td>\n",
              "      <td>4.0</td>\n",
              "      <td>4.00</td>\n",
              "      <td>5.0</td>\n",
              "      <td>1.0</td>\n",
              "      <td>APR</td>\n",
              "    </tr>\n",
              "    <tr>\n",
              "      <th>2</th>\n",
              "      <td>2020003</td>\n",
              "      <td>CARLA OLIVEIRA</td>\n",
              "      <td>7.0</td>\n",
              "      <td>0.0</td>\n",
              "      <td>2.0</td>\n",
              "      <td>3.00</td>\n",
              "      <td>4.0</td>\n",
              "      <td>11.0</td>\n",
              "      <td>REP</td>\n",
              "    </tr>\n",
              "    <tr>\n",
              "      <th>3</th>\n",
              "      <td>2020004</td>\n",
              "      <td>DAVID ANDRADE</td>\n",
              "      <td>3.0</td>\n",
              "      <td>0.0</td>\n",
              "      <td>5.0</td>\n",
              "      <td>4.00</td>\n",
              "      <td>4.0</td>\n",
              "      <td>17.0</td>\n",
              "      <td>REP</td>\n",
              "    </tr>\n",
              "    <tr>\n",
              "      <th>4</th>\n",
              "      <td>2020005</td>\n",
              "      <td>EVELIN MATIAS</td>\n",
              "      <td>8.0</td>\n",
              "      <td>10.0</td>\n",
              "      <td>2.0</td>\n",
              "      <td>4.00</td>\n",
              "      <td>7.3</td>\n",
              "      <td>11.0</td>\n",
              "      <td>APR</td>\n",
              "    </tr>\n",
              "    <tr>\n",
              "      <th>5</th>\n",
              "      <td>2020006</td>\n",
              "      <td>FRANCISCO JOSÉ</td>\n",
              "      <td>3.0</td>\n",
              "      <td>8.0</td>\n",
              "      <td>6.0</td>\n",
              "      <td>-</td>\n",
              "      <td>5.7</td>\n",
              "      <td>17.0</td>\n",
              "      <td>APRN</td>\n",
              "    </tr>\n",
              "    <tr>\n",
              "      <th>6</th>\n",
              "      <td>2020007</td>\n",
              "      <td>GABRIEL SOARES</td>\n",
              "      <td>10.0</td>\n",
              "      <td>6.0</td>\n",
              "      <td>6.0</td>\n",
              "      <td>-</td>\n",
              "      <td>7.3</td>\n",
              "      <td>0.0</td>\n",
              "      <td>APR</td>\n",
              "    </tr>\n",
              "    <tr>\n",
              "      <th>7</th>\n",
              "      <td>2020008</td>\n",
              "      <td>HEITOR NEVES</td>\n",
              "      <td>3.0</td>\n",
              "      <td>10.0</td>\n",
              "      <td>9.0</td>\n",
              "      <td>-</td>\n",
              "      <td>7.3</td>\n",
              "      <td>15.0</td>\n",
              "      <td>APR</td>\n",
              "    </tr>\n",
              "    <tr>\n",
              "      <th>8</th>\n",
              "      <td>2020009</td>\n",
              "      <td>INGRID DA SILVA</td>\n",
              "      <td>0.0</td>\n",
              "      <td>5.0</td>\n",
              "      <td>2.0</td>\n",
              "      <td>0.00</td>\n",
              "      <td>2.3</td>\n",
              "      <td>20.0</td>\n",
              "      <td>REMF</td>\n",
              "    </tr>\n",
              "    <tr>\n",
              "      <th>9</th>\n",
              "      <td>2020010</td>\n",
              "      <td>JOSÉ MARIA SANTOS</td>\n",
              "      <td>9.0</td>\n",
              "      <td>2.0</td>\n",
              "      <td>0.0</td>\n",
              "      <td>2.00</td>\n",
              "      <td>4.3</td>\n",
              "      <td>17.0</td>\n",
              "      <td>REP</td>\n",
              "    </tr>\n",
              "  </tbody>\n",
              "</table>\n",
              "</div>"
            ],
            "text/plain": [
              "   Matrícula               Nome  Unid. 1  ...  Resultado  Faltas  Sit.\n",
              "0    2020001          ANA SILVA     10.0  ...        7.3     7.0   APR\n",
              "1    2020002        BRUNO SOUZA      7.0  ...        5.0     1.0   APR\n",
              "2    2020003     CARLA OLIVEIRA      7.0  ...        4.0    11.0   REP\n",
              "3    2020004      DAVID ANDRADE      3.0  ...        4.0    17.0   REP\n",
              "4    2020005      EVELIN MATIAS      8.0  ...        7.3    11.0   APR\n",
              "5    2020006     FRANCISCO JOSÉ      3.0  ...        5.7    17.0  APRN\n",
              "6    2020007     GABRIEL SOARES     10.0  ...        7.3     0.0   APR\n",
              "7    2020008       HEITOR NEVES      3.0  ...        7.3    15.0   APR\n",
              "8    2020009    INGRID DA SILVA      0.0  ...        2.3    20.0  REMF\n",
              "9    2020010  JOSÉ MARIA SANTOS      9.0  ...        4.3    17.0   REP\n",
              "\n",
              "[10 rows x 9 columns]"
            ]
          },
          "metadata": {},
          "execution_count": 52
        }
      ]
    },
    {
      "cell_type": "code",
      "metadata": {
        "id": "tr4e9QxDkNpk",
        "colab": {
          "base_uri": "https://localhost:8080/",
          "height": 142
        },
        "outputId": "6accee58-aeff-4ec9-9d1d-f28ecc142060"
      },
      "source": [
        "df.head(3)"
      ],
      "execution_count": null,
      "outputs": [
        {
          "output_type": "execute_result",
          "data": {
            "text/html": [
              "<div>\n",
              "<style scoped>\n",
              "    .dataframe tbody tr th:only-of-type {\n",
              "        vertical-align: middle;\n",
              "    }\n",
              "\n",
              "    .dataframe tbody tr th {\n",
              "        vertical-align: top;\n",
              "    }\n",
              "\n",
              "    .dataframe thead th {\n",
              "        text-align: right;\n",
              "    }\n",
              "</style>\n",
              "<table border=\"1\" class=\"dataframe\">\n",
              "  <thead>\n",
              "    <tr style=\"text-align: right;\">\n",
              "      <th></th>\n",
              "      <th>Matrícula</th>\n",
              "      <th>Nome</th>\n",
              "      <th>Unid. 1</th>\n",
              "      <th>Unid. 2</th>\n",
              "      <th>Unid. 3</th>\n",
              "      <th>Rec.</th>\n",
              "      <th>Resultado</th>\n",
              "      <th>Faltas</th>\n",
              "      <th>Sit.</th>\n",
              "    </tr>\n",
              "  </thead>\n",
              "  <tbody>\n",
              "    <tr>\n",
              "      <th>0</th>\n",
              "      <td>2020001</td>\n",
              "      <td>ANA SILVA</td>\n",
              "      <td>10.0</td>\n",
              "      <td>4.0</td>\n",
              "      <td>2.0</td>\n",
              "      <td>8.00</td>\n",
              "      <td>7.3</td>\n",
              "      <td>7.0</td>\n",
              "      <td>APR</td>\n",
              "    </tr>\n",
              "    <tr>\n",
              "      <th>1</th>\n",
              "      <td>2020002</td>\n",
              "      <td>BRUNO SOUZA</td>\n",
              "      <td>7.0</td>\n",
              "      <td>1.0</td>\n",
              "      <td>4.0</td>\n",
              "      <td>4.00</td>\n",
              "      <td>5.0</td>\n",
              "      <td>1.0</td>\n",
              "      <td>APR</td>\n",
              "    </tr>\n",
              "    <tr>\n",
              "      <th>2</th>\n",
              "      <td>2020003</td>\n",
              "      <td>CARLA OLIVEIRA</td>\n",
              "      <td>7.0</td>\n",
              "      <td>0.0</td>\n",
              "      <td>2.0</td>\n",
              "      <td>3.00</td>\n",
              "      <td>4.0</td>\n",
              "      <td>11.0</td>\n",
              "      <td>REP</td>\n",
              "    </tr>\n",
              "  </tbody>\n",
              "</table>\n",
              "</div>"
            ],
            "text/plain": [
              "   Matrícula            Nome  Unid. 1  Unid. 2  ...  Rec. Resultado  Faltas  Sit.\n",
              "0    2020001       ANA SILVA     10.0      4.0  ...  8.00       7.3     7.0   APR\n",
              "1    2020002     BRUNO SOUZA      7.0      1.0  ...  4.00       5.0     1.0   APR\n",
              "2    2020003  CARLA OLIVEIRA      7.0      0.0  ...  3.00       4.0    11.0   REP\n",
              "\n",
              "[3 rows x 9 columns]"
            ]
          },
          "metadata": {},
          "execution_count": 53
        }
      ]
    },
    {
      "cell_type": "code",
      "metadata": {
        "colab": {
          "base_uri": "https://localhost:8080/",
          "height": 142
        },
        "id": "DW44XPu9b1sP",
        "outputId": "61ee6125-995c-410f-c05f-c106acfad36d"
      },
      "source": [
        "df.tail(3)"
      ],
      "execution_count": null,
      "outputs": [
        {
          "output_type": "execute_result",
          "data": {
            "text/html": [
              "<div>\n",
              "<style scoped>\n",
              "    .dataframe tbody tr th:only-of-type {\n",
              "        vertical-align: middle;\n",
              "    }\n",
              "\n",
              "    .dataframe tbody tr th {\n",
              "        vertical-align: top;\n",
              "    }\n",
              "\n",
              "    .dataframe thead th {\n",
              "        text-align: right;\n",
              "    }\n",
              "</style>\n",
              "<table border=\"1\" class=\"dataframe\">\n",
              "  <thead>\n",
              "    <tr style=\"text-align: right;\">\n",
              "      <th></th>\n",
              "      <th>Matrícula</th>\n",
              "      <th>Nome</th>\n",
              "      <th>Unid. 1</th>\n",
              "      <th>Unid. 2</th>\n",
              "      <th>Unid. 3</th>\n",
              "      <th>Rec.</th>\n",
              "      <th>Resultado</th>\n",
              "      <th>Faltas</th>\n",
              "      <th>Sit.</th>\n",
              "    </tr>\n",
              "  </thead>\n",
              "  <tbody>\n",
              "    <tr>\n",
              "      <th>7</th>\n",
              "      <td>2020008</td>\n",
              "      <td>HEITOR NEVES</td>\n",
              "      <td>3.0</td>\n",
              "      <td>10.0</td>\n",
              "      <td>9.0</td>\n",
              "      <td>-</td>\n",
              "      <td>7.3</td>\n",
              "      <td>15.0</td>\n",
              "      <td>APR</td>\n",
              "    </tr>\n",
              "    <tr>\n",
              "      <th>8</th>\n",
              "      <td>2020009</td>\n",
              "      <td>INGRID DA SILVA</td>\n",
              "      <td>0.0</td>\n",
              "      <td>5.0</td>\n",
              "      <td>2.0</td>\n",
              "      <td>0.00</td>\n",
              "      <td>2.3</td>\n",
              "      <td>20.0</td>\n",
              "      <td>REMF</td>\n",
              "    </tr>\n",
              "    <tr>\n",
              "      <th>9</th>\n",
              "      <td>2020010</td>\n",
              "      <td>JOSÉ MARIA SANTOS</td>\n",
              "      <td>9.0</td>\n",
              "      <td>2.0</td>\n",
              "      <td>0.0</td>\n",
              "      <td>2.00</td>\n",
              "      <td>4.3</td>\n",
              "      <td>17.0</td>\n",
              "      <td>REP</td>\n",
              "    </tr>\n",
              "  </tbody>\n",
              "</table>\n",
              "</div>"
            ],
            "text/plain": [
              "   Matrícula               Nome  Unid. 1  ...  Resultado  Faltas  Sit.\n",
              "7    2020008       HEITOR NEVES      3.0  ...        7.3    15.0   APR\n",
              "8    2020009    INGRID DA SILVA      0.0  ...        2.3    20.0  REMF\n",
              "9    2020010  JOSÉ MARIA SANTOS      9.0  ...        4.3    17.0   REP\n",
              "\n",
              "[3 rows x 9 columns]"
            ]
          },
          "metadata": {},
          "execution_count": 54
        }
      ]
    },
    {
      "cell_type": "code",
      "metadata": {
        "scrolled": true,
        "id": "fJPJf4aikNpk",
        "colab": {
          "base_uri": "https://localhost:8080/"
        },
        "outputId": "da2156ac-d226-4f80-e2e9-f011ddc3ac09"
      },
      "source": [
        "df.info()"
      ],
      "execution_count": null,
      "outputs": [
        {
          "output_type": "stream",
          "name": "stdout",
          "text": [
            "<class 'pandas.core.frame.DataFrame'>\n",
            "RangeIndex: 10 entries, 0 to 9\n",
            "Data columns (total 9 columns):\n",
            " #   Column     Non-Null Count  Dtype  \n",
            "---  ------     --------------  -----  \n",
            " 0   Matrícula  10 non-null     int64  \n",
            " 1   Nome       10 non-null     object \n",
            " 2   Unid. 1    10 non-null     float64\n",
            " 3   Unid. 2    10 non-null     float64\n",
            " 4   Unid. 3    10 non-null     float64\n",
            " 5   Rec.       10 non-null     object \n",
            " 6   Resultado  10 non-null     float64\n",
            " 7   Faltas     10 non-null     float64\n",
            " 8   Sit.       10 non-null     object \n",
            "dtypes: float64(5), int64(1), object(3)\n",
            "memory usage: 848.0+ bytes\n"
          ]
        }
      ]
    },
    {
      "cell_type": "code",
      "metadata": {
        "id": "k3TaffnXkNpl",
        "colab": {
          "base_uri": "https://localhost:8080/",
          "height": 297
        },
        "outputId": "30c2ec86-c328-4058-e10c-a1ebc6882ffd"
      },
      "source": [
        "df.describe()"
      ],
      "execution_count": null,
      "outputs": [
        {
          "output_type": "execute_result",
          "data": {
            "text/html": [
              "<div>\n",
              "<style scoped>\n",
              "    .dataframe tbody tr th:only-of-type {\n",
              "        vertical-align: middle;\n",
              "    }\n",
              "\n",
              "    .dataframe tbody tr th {\n",
              "        vertical-align: top;\n",
              "    }\n",
              "\n",
              "    .dataframe thead th {\n",
              "        text-align: right;\n",
              "    }\n",
              "</style>\n",
              "<table border=\"1\" class=\"dataframe\">\n",
              "  <thead>\n",
              "    <tr style=\"text-align: right;\">\n",
              "      <th></th>\n",
              "      <th>Matrícula</th>\n",
              "      <th>Unid. 1</th>\n",
              "      <th>Unid. 2</th>\n",
              "      <th>Unid. 3</th>\n",
              "      <th>Resultado</th>\n",
              "      <th>Faltas</th>\n",
              "    </tr>\n",
              "  </thead>\n",
              "  <tbody>\n",
              "    <tr>\n",
              "      <th>count</th>\n",
              "      <td>1.000000e+01</td>\n",
              "      <td>10.000000</td>\n",
              "      <td>10.000000</td>\n",
              "      <td>10.000000</td>\n",
              "      <td>10.000000</td>\n",
              "      <td>10.000000</td>\n",
              "    </tr>\n",
              "    <tr>\n",
              "      <th>mean</th>\n",
              "      <td>2.020006e+06</td>\n",
              "      <td>6.000000</td>\n",
              "      <td>4.600000</td>\n",
              "      <td>3.800000</td>\n",
              "      <td>5.450000</td>\n",
              "      <td>11.600000</td>\n",
              "    </tr>\n",
              "    <tr>\n",
              "      <th>std</th>\n",
              "      <td>3.027650e+00</td>\n",
              "      <td>3.496029</td>\n",
              "      <td>3.864367</td>\n",
              "      <td>2.699794</td>\n",
              "      <td>1.807546</td>\n",
              "      <td>6.979335</td>\n",
              "    </tr>\n",
              "    <tr>\n",
              "      <th>min</th>\n",
              "      <td>2.020001e+06</td>\n",
              "      <td>0.000000</td>\n",
              "      <td>0.000000</td>\n",
              "      <td>0.000000</td>\n",
              "      <td>2.300000</td>\n",
              "      <td>0.000000</td>\n",
              "    </tr>\n",
              "    <tr>\n",
              "      <th>25%</th>\n",
              "      <td>2.020003e+06</td>\n",
              "      <td>3.000000</td>\n",
              "      <td>1.250000</td>\n",
              "      <td>2.000000</td>\n",
              "      <td>4.075000</td>\n",
              "      <td>8.000000</td>\n",
              "    </tr>\n",
              "    <tr>\n",
              "      <th>50%</th>\n",
              "      <td>2.020006e+06</td>\n",
              "      <td>7.000000</td>\n",
              "      <td>4.500000</td>\n",
              "      <td>3.000000</td>\n",
              "      <td>5.350000</td>\n",
              "      <td>13.000000</td>\n",
              "    </tr>\n",
              "    <tr>\n",
              "      <th>75%</th>\n",
              "      <td>2.020008e+06</td>\n",
              "      <td>8.750000</td>\n",
              "      <td>7.500000</td>\n",
              "      <td>5.750000</td>\n",
              "      <td>7.300000</td>\n",
              "      <td>17.000000</td>\n",
              "    </tr>\n",
              "    <tr>\n",
              "      <th>max</th>\n",
              "      <td>2.020010e+06</td>\n",
              "      <td>10.000000</td>\n",
              "      <td>10.000000</td>\n",
              "      <td>9.000000</td>\n",
              "      <td>7.300000</td>\n",
              "      <td>20.000000</td>\n",
              "    </tr>\n",
              "  </tbody>\n",
              "</table>\n",
              "</div>"
            ],
            "text/plain": [
              "          Matrícula    Unid. 1    Unid. 2    Unid. 3  Resultado     Faltas\n",
              "count  1.000000e+01  10.000000  10.000000  10.000000  10.000000  10.000000\n",
              "mean   2.020006e+06   6.000000   4.600000   3.800000   5.450000  11.600000\n",
              "std    3.027650e+00   3.496029   3.864367   2.699794   1.807546   6.979335\n",
              "min    2.020001e+06   0.000000   0.000000   0.000000   2.300000   0.000000\n",
              "25%    2.020003e+06   3.000000   1.250000   2.000000   4.075000   8.000000\n",
              "50%    2.020006e+06   7.000000   4.500000   3.000000   5.350000  13.000000\n",
              "75%    2.020008e+06   8.750000   7.500000   5.750000   7.300000  17.000000\n",
              "max    2.020010e+06  10.000000  10.000000   9.000000   7.300000  20.000000"
            ]
          },
          "metadata": {},
          "execution_count": 56
        }
      ]
    },
    {
      "cell_type": "code",
      "metadata": {
        "id": "ZxXmSLPckNpl",
        "colab": {
          "base_uri": "https://localhost:8080/",
          "height": 297
        },
        "outputId": "d736863c-2610-4774-fb8f-ac8c6008bfb1"
      },
      "source": [
        "df.describe().drop('Matrícula', axis=1)"
      ],
      "execution_count": null,
      "outputs": [
        {
          "output_type": "execute_result",
          "data": {
            "text/html": [
              "<div>\n",
              "<style scoped>\n",
              "    .dataframe tbody tr th:only-of-type {\n",
              "        vertical-align: middle;\n",
              "    }\n",
              "\n",
              "    .dataframe tbody tr th {\n",
              "        vertical-align: top;\n",
              "    }\n",
              "\n",
              "    .dataframe thead th {\n",
              "        text-align: right;\n",
              "    }\n",
              "</style>\n",
              "<table border=\"1\" class=\"dataframe\">\n",
              "  <thead>\n",
              "    <tr style=\"text-align: right;\">\n",
              "      <th></th>\n",
              "      <th>Unid. 1</th>\n",
              "      <th>Unid. 2</th>\n",
              "      <th>Unid. 3</th>\n",
              "      <th>Resultado</th>\n",
              "      <th>Faltas</th>\n",
              "    </tr>\n",
              "  </thead>\n",
              "  <tbody>\n",
              "    <tr>\n",
              "      <th>count</th>\n",
              "      <td>10.000000</td>\n",
              "      <td>10.000000</td>\n",
              "      <td>10.000000</td>\n",
              "      <td>10.000000</td>\n",
              "      <td>10.000000</td>\n",
              "    </tr>\n",
              "    <tr>\n",
              "      <th>mean</th>\n",
              "      <td>6.000000</td>\n",
              "      <td>4.600000</td>\n",
              "      <td>3.800000</td>\n",
              "      <td>5.450000</td>\n",
              "      <td>11.600000</td>\n",
              "    </tr>\n",
              "    <tr>\n",
              "      <th>std</th>\n",
              "      <td>3.496029</td>\n",
              "      <td>3.864367</td>\n",
              "      <td>2.699794</td>\n",
              "      <td>1.807546</td>\n",
              "      <td>6.979335</td>\n",
              "    </tr>\n",
              "    <tr>\n",
              "      <th>min</th>\n",
              "      <td>0.000000</td>\n",
              "      <td>0.000000</td>\n",
              "      <td>0.000000</td>\n",
              "      <td>2.300000</td>\n",
              "      <td>0.000000</td>\n",
              "    </tr>\n",
              "    <tr>\n",
              "      <th>25%</th>\n",
              "      <td>3.000000</td>\n",
              "      <td>1.250000</td>\n",
              "      <td>2.000000</td>\n",
              "      <td>4.075000</td>\n",
              "      <td>8.000000</td>\n",
              "    </tr>\n",
              "    <tr>\n",
              "      <th>50%</th>\n",
              "      <td>7.000000</td>\n",
              "      <td>4.500000</td>\n",
              "      <td>3.000000</td>\n",
              "      <td>5.350000</td>\n",
              "      <td>13.000000</td>\n",
              "    </tr>\n",
              "    <tr>\n",
              "      <th>75%</th>\n",
              "      <td>8.750000</td>\n",
              "      <td>7.500000</td>\n",
              "      <td>5.750000</td>\n",
              "      <td>7.300000</td>\n",
              "      <td>17.000000</td>\n",
              "    </tr>\n",
              "    <tr>\n",
              "      <th>max</th>\n",
              "      <td>10.000000</td>\n",
              "      <td>10.000000</td>\n",
              "      <td>9.000000</td>\n",
              "      <td>7.300000</td>\n",
              "      <td>20.000000</td>\n",
              "    </tr>\n",
              "  </tbody>\n",
              "</table>\n",
              "</div>"
            ],
            "text/plain": [
              "         Unid. 1    Unid. 2    Unid. 3  Resultado     Faltas\n",
              "count  10.000000  10.000000  10.000000  10.000000  10.000000\n",
              "mean    6.000000   4.600000   3.800000   5.450000  11.600000\n",
              "std     3.496029   3.864367   2.699794   1.807546   6.979335\n",
              "min     0.000000   0.000000   0.000000   2.300000   0.000000\n",
              "25%     3.000000   1.250000   2.000000   4.075000   8.000000\n",
              "50%     7.000000   4.500000   3.000000   5.350000  13.000000\n",
              "75%     8.750000   7.500000   5.750000   7.300000  17.000000\n",
              "max    10.000000  10.000000   9.000000   7.300000  20.000000"
            ]
          },
          "metadata": {},
          "execution_count": 57
        }
      ]
    },
    {
      "cell_type": "code",
      "metadata": {
        "id": "9tTeo5IBkNpl",
        "colab": {
          "base_uri": "https://localhost:8080/"
        },
        "outputId": "86821f44-8da4-4e6f-fa4d-29cd6fb0312f"
      },
      "source": [
        "df['Nome'] #retorna uma Serie"
      ],
      "execution_count": null,
      "outputs": [
        {
          "output_type": "execute_result",
          "data": {
            "text/plain": [
              "0            ANA SILVA\n",
              "1          BRUNO SOUZA\n",
              "2       CARLA OLIVEIRA\n",
              "3        DAVID ANDRADE\n",
              "4        EVELIN MATIAS\n",
              "5       FRANCISCO JOSÉ\n",
              "6       GABRIEL SOARES\n",
              "7         HEITOR NEVES\n",
              "8      INGRID DA SILVA\n",
              "9    JOSÉ MARIA SANTOS\n",
              "Name: Nome, dtype: object"
            ]
          },
          "metadata": {},
          "execution_count": 58
        }
      ]
    },
    {
      "cell_type": "code",
      "metadata": {
        "scrolled": true,
        "id": "PgOZzDskkNpl",
        "colab": {
          "base_uri": "https://localhost:8080/",
          "height": 359
        },
        "outputId": "d5f84fa8-d634-49e7-fe48-1f931babba35"
      },
      "source": [
        "df[['Unid. 1']] #retorna um dataframe"
      ],
      "execution_count": null,
      "outputs": [
        {
          "output_type": "execute_result",
          "data": {
            "text/html": [
              "<div>\n",
              "<style scoped>\n",
              "    .dataframe tbody tr th:only-of-type {\n",
              "        vertical-align: middle;\n",
              "    }\n",
              "\n",
              "    .dataframe tbody tr th {\n",
              "        vertical-align: top;\n",
              "    }\n",
              "\n",
              "    .dataframe thead th {\n",
              "        text-align: right;\n",
              "    }\n",
              "</style>\n",
              "<table border=\"1\" class=\"dataframe\">\n",
              "  <thead>\n",
              "    <tr style=\"text-align: right;\">\n",
              "      <th></th>\n",
              "      <th>Unid. 1</th>\n",
              "    </tr>\n",
              "  </thead>\n",
              "  <tbody>\n",
              "    <tr>\n",
              "      <th>0</th>\n",
              "      <td>10.0</td>\n",
              "    </tr>\n",
              "    <tr>\n",
              "      <th>1</th>\n",
              "      <td>7.0</td>\n",
              "    </tr>\n",
              "    <tr>\n",
              "      <th>2</th>\n",
              "      <td>7.0</td>\n",
              "    </tr>\n",
              "    <tr>\n",
              "      <th>3</th>\n",
              "      <td>3.0</td>\n",
              "    </tr>\n",
              "    <tr>\n",
              "      <th>4</th>\n",
              "      <td>8.0</td>\n",
              "    </tr>\n",
              "    <tr>\n",
              "      <th>5</th>\n",
              "      <td>3.0</td>\n",
              "    </tr>\n",
              "    <tr>\n",
              "      <th>6</th>\n",
              "      <td>10.0</td>\n",
              "    </tr>\n",
              "    <tr>\n",
              "      <th>7</th>\n",
              "      <td>3.0</td>\n",
              "    </tr>\n",
              "    <tr>\n",
              "      <th>8</th>\n",
              "      <td>0.0</td>\n",
              "    </tr>\n",
              "    <tr>\n",
              "      <th>9</th>\n",
              "      <td>9.0</td>\n",
              "    </tr>\n",
              "  </tbody>\n",
              "</table>\n",
              "</div>"
            ],
            "text/plain": [
              "   Unid. 1\n",
              "0     10.0\n",
              "1      7.0\n",
              "2      7.0\n",
              "3      3.0\n",
              "4      8.0\n",
              "5      3.0\n",
              "6     10.0\n",
              "7      3.0\n",
              "8      0.0\n",
              "9      9.0"
            ]
          },
          "metadata": {},
          "execution_count": 59
        }
      ]
    },
    {
      "cell_type": "code",
      "metadata": {
        "id": "UfcXiILUkNpm",
        "colab": {
          "base_uri": "https://localhost:8080/",
          "height": 359
        },
        "outputId": "19d088ac-6355-497a-d78e-e5187f0e3dc8"
      },
      "source": [
        "df[['Nome','Sit.']]"
      ],
      "execution_count": null,
      "outputs": [
        {
          "output_type": "execute_result",
          "data": {
            "text/html": [
              "<div>\n",
              "<style scoped>\n",
              "    .dataframe tbody tr th:only-of-type {\n",
              "        vertical-align: middle;\n",
              "    }\n",
              "\n",
              "    .dataframe tbody tr th {\n",
              "        vertical-align: top;\n",
              "    }\n",
              "\n",
              "    .dataframe thead th {\n",
              "        text-align: right;\n",
              "    }\n",
              "</style>\n",
              "<table border=\"1\" class=\"dataframe\">\n",
              "  <thead>\n",
              "    <tr style=\"text-align: right;\">\n",
              "      <th></th>\n",
              "      <th>Nome</th>\n",
              "      <th>Sit.</th>\n",
              "    </tr>\n",
              "  </thead>\n",
              "  <tbody>\n",
              "    <tr>\n",
              "      <th>0</th>\n",
              "      <td>ANA SILVA</td>\n",
              "      <td>APR</td>\n",
              "    </tr>\n",
              "    <tr>\n",
              "      <th>1</th>\n",
              "      <td>BRUNO SOUZA</td>\n",
              "      <td>APR</td>\n",
              "    </tr>\n",
              "    <tr>\n",
              "      <th>2</th>\n",
              "      <td>CARLA OLIVEIRA</td>\n",
              "      <td>REP</td>\n",
              "    </tr>\n",
              "    <tr>\n",
              "      <th>3</th>\n",
              "      <td>DAVID ANDRADE</td>\n",
              "      <td>REP</td>\n",
              "    </tr>\n",
              "    <tr>\n",
              "      <th>4</th>\n",
              "      <td>EVELIN MATIAS</td>\n",
              "      <td>APR</td>\n",
              "    </tr>\n",
              "    <tr>\n",
              "      <th>5</th>\n",
              "      <td>FRANCISCO JOSÉ</td>\n",
              "      <td>APRN</td>\n",
              "    </tr>\n",
              "    <tr>\n",
              "      <th>6</th>\n",
              "      <td>GABRIEL SOARES</td>\n",
              "      <td>APR</td>\n",
              "    </tr>\n",
              "    <tr>\n",
              "      <th>7</th>\n",
              "      <td>HEITOR NEVES</td>\n",
              "      <td>APR</td>\n",
              "    </tr>\n",
              "    <tr>\n",
              "      <th>8</th>\n",
              "      <td>INGRID DA SILVA</td>\n",
              "      <td>REMF</td>\n",
              "    </tr>\n",
              "    <tr>\n",
              "      <th>9</th>\n",
              "      <td>JOSÉ MARIA SANTOS</td>\n",
              "      <td>REP</td>\n",
              "    </tr>\n",
              "  </tbody>\n",
              "</table>\n",
              "</div>"
            ],
            "text/plain": [
              "                Nome  Sit.\n",
              "0          ANA SILVA   APR\n",
              "1        BRUNO SOUZA   APR\n",
              "2     CARLA OLIVEIRA   REP\n",
              "3      DAVID ANDRADE   REP\n",
              "4      EVELIN MATIAS   APR\n",
              "5     FRANCISCO JOSÉ  APRN\n",
              "6     GABRIEL SOARES   APR\n",
              "7       HEITOR NEVES   APR\n",
              "8    INGRID DA SILVA  REMF\n",
              "9  JOSÉ MARIA SANTOS   REP"
            ]
          },
          "metadata": {},
          "execution_count": 61
        }
      ]
    },
    {
      "cell_type": "code",
      "metadata": {
        "id": "sJnJVRDQkNpm",
        "colab": {
          "base_uri": "https://localhost:8080/"
        },
        "outputId": "9669c03a-d285-4d00-c2af-eb8f5d508316"
      },
      "source": [
        "df['Unid. 1'].mean() #media da coluna"
      ],
      "execution_count": null,
      "outputs": [
        {
          "output_type": "execute_result",
          "data": {
            "text/plain": [
              "6.0"
            ]
          },
          "metadata": {},
          "execution_count": 62
        }
      ]
    },
    {
      "cell_type": "code",
      "metadata": {
        "id": "NUjjQ5PIkNpm",
        "colab": {
          "base_uri": "https://localhost:8080/"
        },
        "outputId": "9fb48849-1272-4432-cfad-e479cba10b2a"
      },
      "source": [
        "df['Unid. 1'].std() #desvio padrao da coluna"
      ],
      "execution_count": null,
      "outputs": [
        {
          "output_type": "execute_result",
          "data": {
            "text/plain": [
              "3.496029493900505"
            ]
          },
          "metadata": {},
          "execution_count": 63
        }
      ]
    },
    {
      "cell_type": "code",
      "metadata": {
        "id": "RQSBTbMjkNpn"
      },
      "source": [
        "x = [df['Unid. 1'].mean(), df['Unid. 2'].mean(), df['Unid. 3'].mean()]"
      ],
      "execution_count": null,
      "outputs": []
    },
    {
      "cell_type": "code",
      "metadata": {
        "id": "8axBZZ2QkNpn",
        "colab": {
          "base_uri": "https://localhost:8080/"
        },
        "outputId": "c5a17abe-5b4c-440d-e125-a00310740f74"
      },
      "source": [
        "type(x)"
      ],
      "execution_count": null,
      "outputs": [
        {
          "output_type": "execute_result",
          "data": {
            "text/plain": [
              "list"
            ]
          },
          "metadata": {},
          "execution_count": 69
        }
      ]
    },
    {
      "cell_type": "code",
      "metadata": {
        "id": "TK2c8SWVkNpn",
        "colab": {
          "base_uri": "https://localhost:8080/"
        },
        "outputId": "99dc46ae-09fd-44f5-d89e-aee098aff90f"
      },
      "source": [
        "print(x)"
      ],
      "execution_count": null,
      "outputs": [
        {
          "output_type": "stream",
          "name": "stdout",
          "text": [
            "[6.0, 4.6, 3.8]\n"
          ]
        }
      ]
    },
    {
      "cell_type": "code",
      "metadata": {
        "id": "x0kHDibekNpn"
      },
      "source": [
        "y = df[['Unid. 1','Unid. 2', 'Unid. 3']].mean()"
      ],
      "execution_count": null,
      "outputs": []
    },
    {
      "cell_type": "code",
      "metadata": {
        "id": "A38vxgQukNpo",
        "colab": {
          "base_uri": "https://localhost:8080/"
        },
        "outputId": "82d5b516-ae2a-4307-bbaa-1f3735a32a47"
      },
      "source": [
        "type(y)"
      ],
      "execution_count": null,
      "outputs": [
        {
          "output_type": "execute_result",
          "data": {
            "text/plain": [
              "pandas.core.series.Series"
            ]
          },
          "metadata": {},
          "execution_count": 72
        }
      ]
    },
    {
      "cell_type": "code",
      "metadata": {
        "id": "4mTH03YKkNpo",
        "colab": {
          "base_uri": "https://localhost:8080/"
        },
        "outputId": "fad7772f-cfbd-43ef-fdc1-6c74113c3320"
      },
      "source": [
        "print(y)"
      ],
      "execution_count": null,
      "outputs": [
        {
          "output_type": "stream",
          "name": "stdout",
          "text": [
            "Unid. 1    6.0\n",
            "Unid. 2    4.6\n",
            "Unid. 3    3.8\n",
            "dtype: float64\n"
          ]
        }
      ]
    },
    {
      "cell_type": "markdown",
      "metadata": {
        "id": "DqGDKGcekNpo"
      },
      "source": [
        "**Criando colunas usando Series**"
      ]
    },
    {
      "cell_type": "code",
      "metadata": {
        "id": "UBo6It3zkNpo"
      },
      "source": [
        "df['New'] = pd.Series(['S', 'N', 'S', 'N','S', 'N','S', 'N','S', 'N', 'Y'])"
      ],
      "execution_count": null,
      "outputs": []
    },
    {
      "cell_type": "code",
      "metadata": {
        "scrolled": true,
        "id": "bLX6OG7GkNpp",
        "colab": {
          "base_uri": "https://localhost:8080/",
          "height": 359
        },
        "outputId": "5187e9f6-6ff0-4e51-8706-161371a46163"
      },
      "source": [
        "df"
      ],
      "execution_count": null,
      "outputs": [
        {
          "output_type": "execute_result",
          "data": {
            "text/html": [
              "<div>\n",
              "<style scoped>\n",
              "    .dataframe tbody tr th:only-of-type {\n",
              "        vertical-align: middle;\n",
              "    }\n",
              "\n",
              "    .dataframe tbody tr th {\n",
              "        vertical-align: top;\n",
              "    }\n",
              "\n",
              "    .dataframe thead th {\n",
              "        text-align: right;\n",
              "    }\n",
              "</style>\n",
              "<table border=\"1\" class=\"dataframe\">\n",
              "  <thead>\n",
              "    <tr style=\"text-align: right;\">\n",
              "      <th></th>\n",
              "      <th>Matrícula</th>\n",
              "      <th>Nome</th>\n",
              "      <th>Unid. 1</th>\n",
              "      <th>Unid. 2</th>\n",
              "      <th>Unid. 3</th>\n",
              "      <th>Rec.</th>\n",
              "      <th>Resultado</th>\n",
              "      <th>Faltas</th>\n",
              "      <th>Sit.</th>\n",
              "      <th>New</th>\n",
              "    </tr>\n",
              "  </thead>\n",
              "  <tbody>\n",
              "    <tr>\n",
              "      <th>0</th>\n",
              "      <td>2020001</td>\n",
              "      <td>ANA SILVA</td>\n",
              "      <td>10.0</td>\n",
              "      <td>4.0</td>\n",
              "      <td>2.0</td>\n",
              "      <td>8.00</td>\n",
              "      <td>7.3</td>\n",
              "      <td>7.0</td>\n",
              "      <td>APR</td>\n",
              "      <td>S</td>\n",
              "    </tr>\n",
              "    <tr>\n",
              "      <th>1</th>\n",
              "      <td>2020002</td>\n",
              "      <td>BRUNO SOUZA</td>\n",
              "      <td>7.0</td>\n",
              "      <td>1.0</td>\n",
              "      <td>4.0</td>\n",
              "      <td>4.00</td>\n",
              "      <td>5.0</td>\n",
              "      <td>1.0</td>\n",
              "      <td>APR</td>\n",
              "      <td>N</td>\n",
              "    </tr>\n",
              "    <tr>\n",
              "      <th>2</th>\n",
              "      <td>2020003</td>\n",
              "      <td>CARLA OLIVEIRA</td>\n",
              "      <td>7.0</td>\n",
              "      <td>0.0</td>\n",
              "      <td>2.0</td>\n",
              "      <td>3.00</td>\n",
              "      <td>4.0</td>\n",
              "      <td>11.0</td>\n",
              "      <td>REP</td>\n",
              "      <td>S</td>\n",
              "    </tr>\n",
              "    <tr>\n",
              "      <th>3</th>\n",
              "      <td>2020004</td>\n",
              "      <td>DAVID ANDRADE</td>\n",
              "      <td>3.0</td>\n",
              "      <td>0.0</td>\n",
              "      <td>5.0</td>\n",
              "      <td>4.00</td>\n",
              "      <td>4.0</td>\n",
              "      <td>17.0</td>\n",
              "      <td>REP</td>\n",
              "      <td>N</td>\n",
              "    </tr>\n",
              "    <tr>\n",
              "      <th>4</th>\n",
              "      <td>2020005</td>\n",
              "      <td>EVELIN MATIAS</td>\n",
              "      <td>8.0</td>\n",
              "      <td>10.0</td>\n",
              "      <td>2.0</td>\n",
              "      <td>4.00</td>\n",
              "      <td>7.3</td>\n",
              "      <td>11.0</td>\n",
              "      <td>APR</td>\n",
              "      <td>S</td>\n",
              "    </tr>\n",
              "    <tr>\n",
              "      <th>5</th>\n",
              "      <td>2020006</td>\n",
              "      <td>FRANCISCO JOSÉ</td>\n",
              "      <td>3.0</td>\n",
              "      <td>8.0</td>\n",
              "      <td>6.0</td>\n",
              "      <td>-</td>\n",
              "      <td>5.7</td>\n",
              "      <td>17.0</td>\n",
              "      <td>APRN</td>\n",
              "      <td>N</td>\n",
              "    </tr>\n",
              "    <tr>\n",
              "      <th>6</th>\n",
              "      <td>2020007</td>\n",
              "      <td>GABRIEL SOARES</td>\n",
              "      <td>10.0</td>\n",
              "      <td>6.0</td>\n",
              "      <td>6.0</td>\n",
              "      <td>-</td>\n",
              "      <td>7.3</td>\n",
              "      <td>0.0</td>\n",
              "      <td>APR</td>\n",
              "      <td>S</td>\n",
              "    </tr>\n",
              "    <tr>\n",
              "      <th>7</th>\n",
              "      <td>2020008</td>\n",
              "      <td>HEITOR NEVES</td>\n",
              "      <td>3.0</td>\n",
              "      <td>10.0</td>\n",
              "      <td>9.0</td>\n",
              "      <td>-</td>\n",
              "      <td>7.3</td>\n",
              "      <td>15.0</td>\n",
              "      <td>APR</td>\n",
              "      <td>N</td>\n",
              "    </tr>\n",
              "    <tr>\n",
              "      <th>8</th>\n",
              "      <td>2020009</td>\n",
              "      <td>INGRID DA SILVA</td>\n",
              "      <td>0.0</td>\n",
              "      <td>5.0</td>\n",
              "      <td>2.0</td>\n",
              "      <td>0.00</td>\n",
              "      <td>2.3</td>\n",
              "      <td>20.0</td>\n",
              "      <td>REMF</td>\n",
              "      <td>S</td>\n",
              "    </tr>\n",
              "    <tr>\n",
              "      <th>9</th>\n",
              "      <td>2020010</td>\n",
              "      <td>JOSÉ MARIA SANTOS</td>\n",
              "      <td>9.0</td>\n",
              "      <td>2.0</td>\n",
              "      <td>0.0</td>\n",
              "      <td>2.00</td>\n",
              "      <td>4.3</td>\n",
              "      <td>17.0</td>\n",
              "      <td>REP</td>\n",
              "      <td>N</td>\n",
              "    </tr>\n",
              "  </tbody>\n",
              "</table>\n",
              "</div>"
            ],
            "text/plain": [
              "   Matrícula               Nome  Unid. 1  Unid. 2  ...  Resultado Faltas  Sit.  New\n",
              "0    2020001          ANA SILVA     10.0      4.0  ...        7.3    7.0   APR    S\n",
              "1    2020002        BRUNO SOUZA      7.0      1.0  ...        5.0    1.0   APR    N\n",
              "2    2020003     CARLA OLIVEIRA      7.0      0.0  ...        4.0   11.0   REP    S\n",
              "3    2020004      DAVID ANDRADE      3.0      0.0  ...        4.0   17.0   REP    N\n",
              "4    2020005      EVELIN MATIAS      8.0     10.0  ...        7.3   11.0   APR    S\n",
              "5    2020006     FRANCISCO JOSÉ      3.0      8.0  ...        5.7   17.0  APRN    N\n",
              "6    2020007     GABRIEL SOARES     10.0      6.0  ...        7.3    0.0   APR    S\n",
              "7    2020008       HEITOR NEVES      3.0     10.0  ...        7.3   15.0   APR    N\n",
              "8    2020009    INGRID DA SILVA      0.0      5.0  ...        2.3   20.0  REMF    S\n",
              "9    2020010  JOSÉ MARIA SANTOS      9.0      2.0  ...        4.3   17.0   REP    N\n",
              "\n",
              "[10 rows x 10 columns]"
            ]
          },
          "metadata": {},
          "execution_count": 67
        }
      ]
    },
    {
      "cell_type": "markdown",
      "metadata": {
        "id": "DHvD5jp9kNpp"
      },
      "source": [
        "**Transformando uma coluna em indice das linhas**"
      ]
    },
    {
      "cell_type": "code",
      "metadata": {
        "id": "IQBLSsefkNpp"
      },
      "source": [
        "df.set_index('Nome', inplace= True)"
      ],
      "execution_count": null,
      "outputs": []
    },
    {
      "cell_type": "code",
      "metadata": {
        "scrolled": true,
        "id": "VeyjiBFlkNpp",
        "colab": {
          "base_uri": "https://localhost:8080/",
          "height": 390
        },
        "outputId": "549401ce-0253-4a41-beeb-871022ba2797"
      },
      "source": [
        "df"
      ],
      "execution_count": null,
      "outputs": [
        {
          "output_type": "execute_result",
          "data": {
            "text/html": [
              "<div>\n",
              "<style scoped>\n",
              "    .dataframe tbody tr th:only-of-type {\n",
              "        vertical-align: middle;\n",
              "    }\n",
              "\n",
              "    .dataframe tbody tr th {\n",
              "        vertical-align: top;\n",
              "    }\n",
              "\n",
              "    .dataframe thead th {\n",
              "        text-align: right;\n",
              "    }\n",
              "</style>\n",
              "<table border=\"1\" class=\"dataframe\">\n",
              "  <thead>\n",
              "    <tr style=\"text-align: right;\">\n",
              "      <th></th>\n",
              "      <th>Matrícula</th>\n",
              "      <th>Unid. 1</th>\n",
              "      <th>Unid. 2</th>\n",
              "      <th>Unid. 3</th>\n",
              "      <th>Rec.</th>\n",
              "      <th>Resultado</th>\n",
              "      <th>Faltas</th>\n",
              "      <th>Sit.</th>\n",
              "      <th>New</th>\n",
              "    </tr>\n",
              "    <tr>\n",
              "      <th>Nome</th>\n",
              "      <th></th>\n",
              "      <th></th>\n",
              "      <th></th>\n",
              "      <th></th>\n",
              "      <th></th>\n",
              "      <th></th>\n",
              "      <th></th>\n",
              "      <th></th>\n",
              "      <th></th>\n",
              "    </tr>\n",
              "  </thead>\n",
              "  <tbody>\n",
              "    <tr>\n",
              "      <th>ANA SILVA</th>\n",
              "      <td>2020001</td>\n",
              "      <td>10.0</td>\n",
              "      <td>4.0</td>\n",
              "      <td>2.0</td>\n",
              "      <td>8.00</td>\n",
              "      <td>7.3</td>\n",
              "      <td>7.0</td>\n",
              "      <td>APR</td>\n",
              "      <td>S</td>\n",
              "    </tr>\n",
              "    <tr>\n",
              "      <th>BRUNO SOUZA</th>\n",
              "      <td>2020002</td>\n",
              "      <td>7.0</td>\n",
              "      <td>1.0</td>\n",
              "      <td>4.0</td>\n",
              "      <td>4.00</td>\n",
              "      <td>5.0</td>\n",
              "      <td>1.0</td>\n",
              "      <td>APR</td>\n",
              "      <td>N</td>\n",
              "    </tr>\n",
              "    <tr>\n",
              "      <th>CARLA OLIVEIRA</th>\n",
              "      <td>2020003</td>\n",
              "      <td>7.0</td>\n",
              "      <td>0.0</td>\n",
              "      <td>2.0</td>\n",
              "      <td>3.00</td>\n",
              "      <td>4.0</td>\n",
              "      <td>11.0</td>\n",
              "      <td>REP</td>\n",
              "      <td>S</td>\n",
              "    </tr>\n",
              "    <tr>\n",
              "      <th>DAVID ANDRADE</th>\n",
              "      <td>2020004</td>\n",
              "      <td>3.0</td>\n",
              "      <td>0.0</td>\n",
              "      <td>5.0</td>\n",
              "      <td>4.00</td>\n",
              "      <td>4.0</td>\n",
              "      <td>17.0</td>\n",
              "      <td>REP</td>\n",
              "      <td>N</td>\n",
              "    </tr>\n",
              "    <tr>\n",
              "      <th>EVELIN MATIAS</th>\n",
              "      <td>2020005</td>\n",
              "      <td>8.0</td>\n",
              "      <td>10.0</td>\n",
              "      <td>2.0</td>\n",
              "      <td>4.00</td>\n",
              "      <td>7.3</td>\n",
              "      <td>11.0</td>\n",
              "      <td>APR</td>\n",
              "      <td>S</td>\n",
              "    </tr>\n",
              "    <tr>\n",
              "      <th>FRANCISCO JOSÉ</th>\n",
              "      <td>2020006</td>\n",
              "      <td>3.0</td>\n",
              "      <td>8.0</td>\n",
              "      <td>6.0</td>\n",
              "      <td>-</td>\n",
              "      <td>5.7</td>\n",
              "      <td>17.0</td>\n",
              "      <td>APRN</td>\n",
              "      <td>N</td>\n",
              "    </tr>\n",
              "    <tr>\n",
              "      <th>GABRIEL SOARES</th>\n",
              "      <td>2020007</td>\n",
              "      <td>10.0</td>\n",
              "      <td>6.0</td>\n",
              "      <td>6.0</td>\n",
              "      <td>-</td>\n",
              "      <td>7.3</td>\n",
              "      <td>0.0</td>\n",
              "      <td>APR</td>\n",
              "      <td>S</td>\n",
              "    </tr>\n",
              "    <tr>\n",
              "      <th>HEITOR NEVES</th>\n",
              "      <td>2020008</td>\n",
              "      <td>3.0</td>\n",
              "      <td>10.0</td>\n",
              "      <td>9.0</td>\n",
              "      <td>-</td>\n",
              "      <td>7.3</td>\n",
              "      <td>15.0</td>\n",
              "      <td>APR</td>\n",
              "      <td>N</td>\n",
              "    </tr>\n",
              "    <tr>\n",
              "      <th>INGRID DA SILVA</th>\n",
              "      <td>2020009</td>\n",
              "      <td>0.0</td>\n",
              "      <td>5.0</td>\n",
              "      <td>2.0</td>\n",
              "      <td>0.00</td>\n",
              "      <td>2.3</td>\n",
              "      <td>20.0</td>\n",
              "      <td>REMF</td>\n",
              "      <td>S</td>\n",
              "    </tr>\n",
              "    <tr>\n",
              "      <th>JOSÉ MARIA SANTOS</th>\n",
              "      <td>2020010</td>\n",
              "      <td>9.0</td>\n",
              "      <td>2.0</td>\n",
              "      <td>0.0</td>\n",
              "      <td>2.00</td>\n",
              "      <td>4.3</td>\n",
              "      <td>17.0</td>\n",
              "      <td>REP</td>\n",
              "      <td>N</td>\n",
              "    </tr>\n",
              "  </tbody>\n",
              "</table>\n",
              "</div>"
            ],
            "text/plain": [
              "                   Matrícula  Unid. 1  Unid. 2  ...  Faltas  Sit.  New\n",
              "Nome                                            ...                   \n",
              "ANA SILVA            2020001     10.0      4.0  ...     7.0   APR    S\n",
              "BRUNO SOUZA          2020002      7.0      1.0  ...     1.0   APR    N\n",
              "CARLA OLIVEIRA       2020003      7.0      0.0  ...    11.0   REP    S\n",
              "DAVID ANDRADE        2020004      3.0      0.0  ...    17.0   REP    N\n",
              "EVELIN MATIAS        2020005      8.0     10.0  ...    11.0   APR    S\n",
              "FRANCISCO JOSÉ       2020006      3.0      8.0  ...    17.0  APRN    N\n",
              "GABRIEL SOARES       2020007     10.0      6.0  ...     0.0   APR    S\n",
              "HEITOR NEVES         2020008      3.0     10.0  ...    15.0   APR    N\n",
              "INGRID DA SILVA      2020009      0.0      5.0  ...    20.0  REMF    S\n",
              "JOSÉ MARIA SANTOS    2020010      9.0      2.0  ...    17.0   REP    N\n",
              "\n",
              "[10 rows x 9 columns]"
            ]
          },
          "metadata": {},
          "execution_count": 77
        }
      ]
    },
    {
      "cell_type": "code",
      "metadata": {
        "id": "VF8ISZ8AkNpp",
        "colab": {
          "base_uri": "https://localhost:8080/"
        },
        "outputId": "c59d5293-cb40-4e7d-e3ef-4dd73eb1ff4a"
      },
      "source": [
        "df.loc['ANA SILVA'] # localiza uma linha a partir do novo indice colocado"
      ],
      "execution_count": null,
      "outputs": [
        {
          "output_type": "execute_result",
          "data": {
            "text/plain": [
              "Matrícula    2020001\n",
              "Unid. 1           10\n",
              "Unid. 2            4\n",
              "Unid. 3            2\n",
              "Rec.            8.00\n",
              "Resultado        7.3\n",
              "Faltas             7\n",
              "Sit.             APR\n",
              "New                S\n",
              "Name: ANA SILVA, dtype: object"
            ]
          },
          "metadata": {},
          "execution_count": 78
        }
      ]
    },
    {
      "cell_type": "markdown",
      "metadata": {
        "id": "EBx8Ao5PkNqF"
      },
      "source": [
        "## Gravação de arquivos CSV"
      ]
    },
    {
      "cell_type": "code",
      "metadata": {
        "id": "iysHI4EvkNqF"
      },
      "source": [
        "df.to_csv('./exemplodf.csv') "
      ],
      "execution_count": null,
      "outputs": []
    }
  ]
}