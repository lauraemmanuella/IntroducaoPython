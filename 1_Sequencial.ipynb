{
  "nbformat": 4,
  "nbformat_minor": 0,
  "metadata": {
    "kernelspec": {
      "display_name": "Python 3",
      "language": "python",
      "name": "python3"
    },
    "language_info": {
      "codemirror_mode": {
        "name": "ipython",
        "version": 3
      },
      "file_extension": ".py",
      "mimetype": "text/x-python",
      "name": "python",
      "nbconvert_exporter": "python",
      "pygments_lexer": "ipython3",
      "version": "3.7.0"
    },
    "colab": {
      "name": "1-Sequencial.ipynb",
      "provenance": [],
      "collapsed_sections": [],
      "toc_visible": true,
      "include_colab_link": true
    }
  },
  "cells": [
    {
      "cell_type": "markdown",
      "metadata": {
        "id": "view-in-github",
        "colab_type": "text"
      },
      "source": [
        "<a href=\"https://colab.research.google.com/github/lauraemmanuella/IntroducaoPython/blob/main/1_Sequencial.ipynb\" target=\"_parent\"><img src=\"https://colab.research.google.com/assets/colab-badge.svg\" alt=\"Open In Colab\"/></a>"
      ]
    },
    {
      "cell_type": "markdown",
      "metadata": {
        "id": "k527eLzPElfz"
      },
      "source": [
        "# Programação sequencial em Python\n",
        "\n",
        "\n",
        "\n",
        "---\n",
        "\n",
        "\n",
        "O que vamos ver aqui?\n",
        "\n",
        "1. Comentários no código\n",
        "2. Variáveis para armazenar dados\n",
        "3. Tipos de dados básicos: numéricos, lógicos e textos\n",
        "4. Operações aritméticas, relacionais e lógicas\n",
        "5. Comandos para entrada e saída de dados\n",
        "6. Exercícios\n"
      ]
    },
    {
      "cell_type": "markdown",
      "source": [
        "## 1. Comentários no código\n",
        "\n",
        "---\n",
        "\n",
        "São textos incluídos dentro do programa para explicar alguma coisa.\n",
        "\n",
        "> **Os comentários não modificam o programa, servem apenas de documentação.**\n",
        "\n",
        "Em Python, pode-se inserir comentários de uma linha usando `#` e comentários de múltiplas linhas usando `'''` para iniciar e `'''` novamente para finalizar\n"
      ],
      "metadata": {
        "id": "xqcCqtd0A9Lo"
      }
    },
    {
      "cell_type": "code",
      "source": [
        "# isto eh um comentario de uma linha apenas\n",
        "\n",
        "\n",
        "'''\n",
        "Isto eh um comentario de multiplas linhas\n",
        "\n",
        "Quando executamos o codigo, os comentarios nao interferem no processamento\n",
        "'''\n",
        "\n",
        "\n",
        "2 * 4  #usando o interpretador como calculadora"
      ],
      "metadata": {
        "colab": {
          "base_uri": "https://localhost:8080/"
        },
        "id": "MPnguRSZBsNl",
        "outputId": "0c629b29-62b8-433e-9ebb-3f17140f3c20"
      },
      "execution_count": null,
      "outputs": [
        {
          "output_type": "execute_result",
          "data": {
            "text/plain": [
              "8"
            ]
          },
          "metadata": {},
          "execution_count": 5
        }
      ]
    },
    {
      "cell_type": "markdown",
      "source": [
        "## 2. Variáveis para armazenar dados\n",
        "\n",
        "---\n",
        "\n",
        "Um programa computacional normalmente manipula dados, esses dados precisam ser armazenados na memória do computador enquanto estão sendo manipulados. Para que possamos referenciar esses dados na memória, usamos **variáveis**.\n",
        "\n",
        "\n",
        "> Uma variável faz referencia a uma posição da memória do computador que está armazenando algum dado do nosso programa\n",
        "\n",
        "\n",
        "**Os nomes das variáveis devem seguir algumas regras:**\n",
        "\n",
        "1. Os nomes não podem começar com um número.\n",
        "2. Não pode haver espaços no nome. Use `_` em vez disso.\n",
        "3. Não é possível usar nenhum desses símbolos: `'\", <> /? | \\ ()! @ # $% ^ & * ~ - +`\n",
        "4. É considerada uma boa prática que os nomes sejam minúsculos.\n",
        "\n",
        "\n",
        "> Algo muito importante em Python é que **letras maiúsculas e minúsculas fazem diferença no nome de variáveis e comandos**, ou seja, uma variável de nome `base` é diferente de uma variável de nome `Base`. O comando de saída de dados em tela é `print` todo minúsculo, o que quer dizer que se usarmos `Print` resultará em um erro."
      ],
      "metadata": {
        "id": "9wkk8ASrBG0T"
      }
    },
    {
      "cell_type": "code",
      "source": [
        "'''\n",
        "No exemplo abaixo, estamos definindo duas variáveis: base e altura. \n",
        "\n",
        "Em Python, para criar uma variável temos apenas que definir um nome e atribuir um valor a ela\n",
        "\n",
        "O operador de igualdade (=) nesse caso é um comando de atribuição\n",
        "\n",
        "Lê-se:\n",
        "  base recebe dois \n",
        "  altura recebe quatro\n",
        "'''\n",
        "\n",
        "base = 2 \n",
        "altura = 4"
      ],
      "metadata": {
        "id": "ohspTjhgYbDQ"
      },
      "execution_count": null,
      "outputs": []
    },
    {
      "cell_type": "code",
      "source": [
        "'''\n",
        "Fazer referência à variavel base com o b maiúsculo resultará em ERRO, \n",
        "pois o nome da variável foi definido todo minúsculo\n",
        "'''\n",
        "\n",
        "area = Base * altura #Lê-se area recebe base vezes altura"
      ],
      "metadata": {
        "colab": {
          "base_uri": "https://localhost:8080/",
          "height": 204
        },
        "id": "7Tsz3_QNe6Qf",
        "outputId": "51e51626-6ca1-4d40-ce61-e597650a9ec5"
      },
      "execution_count": null,
      "outputs": [
        {
          "output_type": "error",
          "ename": "NameError",
          "evalue": "ignored",
          "traceback": [
            "\u001b[0;31m---------------------------------------------------------------------------\u001b[0m",
            "\u001b[0;31mNameError\u001b[0m                                 Traceback (most recent call last)",
            "\u001b[0;32m<ipython-input-68-684f41c59230>\u001b[0m in \u001b[0;36m<module>\u001b[0;34m()\u001b[0m\n\u001b[1;32m      3\u001b[0m '''\n\u001b[1;32m      4\u001b[0m \u001b[0;34m\u001b[0m\u001b[0m\n\u001b[0;32m----> 5\u001b[0;31m \u001b[0marea\u001b[0m \u001b[0;34m=\u001b[0m \u001b[0mBase\u001b[0m \u001b[0;34m*\u001b[0m \u001b[0maltura\u001b[0m\u001b[0;34m\u001b[0m\u001b[0;34m\u001b[0m\u001b[0m\n\u001b[0m",
            "\u001b[0;31mNameError\u001b[0m: name 'Base' is not defined"
          ]
        }
      ]
    },
    {
      "cell_type": "markdown",
      "source": [
        "Quando cometemos um erro de sintaxe, o comando não é executado. Ao invés disso uma mensagem de erro é mostrada\n",
        "\n",
        ">Devemos nos acostumar a identificar o tipo de erro mostrado para corrigi-lo\n",
        "\n",
        "No caso acima, o erro é que o nome da variável não é reconhecido pelo interpretador \n",
        "\n",
        "`NameError: name 'Base' is not defined`"
      ],
      "metadata": {
        "id": "2K7_0BJRHLU0"
      }
    },
    {
      "cell_type": "markdown",
      "source": [
        "## 3. Tipos de dados básicos: numéricos, lógicos e textos\n",
        "\n",
        "---\n",
        "\n",
        "Quando definimos uma variável, ela fica associada a um **tipo de dado** que define a natureza dos dados que a variável armazena, determinando quais operações podem ser realizadas sobre ela. \n",
        "\n",
        "\n",
        "> Esse tipo pode ser um número inteiro (`int`), um número real (`float`), um texto (`str`), um valor lógico (`bool`) ou uma estrutura de dados mais complexa (`list, dict, set`,...)"
      ],
      "metadata": {
        "id": "69hMzrBqBHAj"
      }
    },
    {
      "cell_type": "code",
      "source": [
        "'''\n",
        "O comando type em Python mostra o tipo do dado que a variável está armazenando\n",
        "'''\n",
        "\n",
        "type(base) "
      ],
      "metadata": {
        "colab": {
          "base_uri": "https://localhost:8080/"
        },
        "id": "mUqbU65ZZM3D",
        "outputId": "57fd267f-05c9-4c77-dbd2-51baca4e3985"
      },
      "execution_count": null,
      "outputs": [
        {
          "output_type": "execute_result",
          "data": {
            "text/plain": [
              "int"
            ]
          },
          "metadata": {},
          "execution_count": 6
        }
      ]
    },
    {
      "cell_type": "markdown",
      "source": [
        "> Algumas linguagens de programação (comumente as compiladas) exigem que o tipo de dado que a variável irá armazenar seja informado no momento da criação da variável, isso ajuda o compilador a reservar o espaço de memória necessário para aquele dado e realizar a validação das operações feitas sobre a variável\n",
        "\n",
        "Python é uma linguagem **dinamicamente tipada**, uma característica comum em linguagens interpretadas. Isso quer dizer que não precisamos informar o tipo do dado que uma variável irá guardar, pois o interpretador infere essa informação a partir do valor da variável\n",
        "\n",
        "Os tipos de dados básicos em Python são\n",
        "\n",
        "* **Numéricos**: `int` (inteiro) e `float` (real ou ponto flutuante)\n",
        "* **Lógicos:** `bool` (booleano)\n",
        "* **Textos:** `str` (string ou cadeia de caracteres)"
      ],
      "metadata": {
        "id": "pZm2qiu1YYeb"
      }
    },
    {
      "cell_type": "markdown",
      "metadata": {
        "id": "M4wIjScVElgB"
      },
      "source": [
        "### Números\n",
        "\n",
        "<table>\n",
        "<tr>\n",
        "    <th>Tipo</th> \n",
        "    <th>Exemplos</th>\n",
        "</tr>\n",
        "\n",
        "<tr>\n",
        "    <td>Inteiro (int)</td>\n",
        "    <td>1; -5; 1000</td> \n",
        "</tr>\n",
        "\n",
        "<tr>\n",
        "    <td>Real (float)</td> \n",
        "    <td>1.2; -0.5; 2E3; 2e-3</td> \n",
        "</tr>\n",
        " </table>"
      ]
    },
    {
      "cell_type": "code",
      "source": [
        "idade = 65    # Lê-se idade recebe 65\n",
        "type(idade)"
      ],
      "metadata": {
        "colab": {
          "base_uri": "https://localhost:8080/"
        },
        "id": "X33MxEFLjcBE",
        "outputId": "3d846869-7ce4-4766-a9e9-21b04b7da891"
      },
      "execution_count": null,
      "outputs": [
        {
          "output_type": "execute_result",
          "data": {
            "text/plain": [
              "int"
            ]
          },
          "metadata": {},
          "execution_count": 3
        }
      ]
    },
    {
      "cell_type": "code",
      "source": [
        "raio = 4.2   # Lê-se raio recebe 4.2\n",
        "type(raio)"
      ],
      "metadata": {
        "colab": {
          "base_uri": "https://localhost:8080/"
        },
        "id": "JMqDDEgNjW0H",
        "outputId": "a69acd5b-2890-489b-f955-824f13d4f90c"
      },
      "execution_count": null,
      "outputs": [
        {
          "output_type": "execute_result",
          "data": {
            "text/plain": [
              "float"
            ]
          },
          "metadata": {},
          "execution_count": 4
        }
      ]
    },
    {
      "cell_type": "markdown",
      "source": [
        "> **Observe que usamos ponto ao invés de vírgula nos números do tipo real, exemplo: 4.2 e não 4,2**"
      ],
      "metadata": {
        "id": "1h2PJN1EjouD"
      }
    },
    {
      "cell_type": "code",
      "source": [
        "grande = 2E3  # notação científica (base 10)\n",
        "print(grande) # print é o comando para saída de dados na tela \n",
        "type(grande)"
      ],
      "metadata": {
        "colab": {
          "base_uri": "https://localhost:8080/"
        },
        "id": "Ra6YdBTUkTra",
        "outputId": "d77470fc-c8a5-47dc-cf6c-a717b693c948"
      },
      "execution_count": null,
      "outputs": [
        {
          "output_type": "stream",
          "name": "stdout",
          "text": [
            "2000.0\n"
          ]
        },
        {
          "output_type": "execute_result",
          "data": {
            "text/plain": [
              "float"
            ]
          },
          "metadata": {},
          "execution_count": 8
        }
      ]
    },
    {
      "cell_type": "markdown",
      "source": [
        "**Observação!!!**\n",
        "\n",
        "Para visualizarmos na tela qualquer informação gerada no programa, precisamos usar o comando `print`\n",
        "\n",
        ">Aqui no notebook, conseguimos ver o valor das variáveis e resultados de operações sem usar o `print`, mas isso não será possível se estivermos usando uma IDE comum, com arquivos .py"
      ],
      "metadata": {
        "id": "v3LNk0VTIHKr"
      }
    },
    {
      "cell_type": "code",
      "source": [
        "pequeno = 2e-3  # notação científica (base 10)\n",
        "print(pequeno)\n",
        "type(pequeno)"
      ],
      "metadata": {
        "colab": {
          "base_uri": "https://localhost:8080/"
        },
        "id": "ydwvyvCQk3nL",
        "outputId": "98b38347-8bac-4ffa-f7d2-d45c24e53418"
      },
      "execution_count": null,
      "outputs": [
        {
          "output_type": "stream",
          "name": "stdout",
          "text": [
            "0.002\n"
          ]
        },
        {
          "output_type": "execute_result",
          "data": {
            "text/plain": [
              "float"
            ]
          },
          "metadata": {},
          "execution_count": 9
        }
      ]
    },
    {
      "cell_type": "markdown",
      "source": [
        "### Lógicos\n",
        "\n",
        "<table>\n",
        "<tr>\n",
        "    <th>Tipo</th> \n",
        "    <th>Valores</th>\n",
        "</tr>\n",
        "\n",
        "<tr>\n",
        "    <td>Booleano (bool)</td>\n",
        "    <td>True; False</td> \n",
        "</tr>\n",
        "</table>\n",
        "\n",
        "Muitas vezes queremos armazenar um conteúdo simples em variável, com apenas dois valores possíveis: verdadeiro ou falso.\n",
        "\n",
        "> Em Python, escrevemos `True` para verdadeiro e `False` para falso"
      ],
      "metadata": {
        "id": "ovB2dHv0cdb1"
      }
    },
    {
      "cell_type": "code",
      "source": [
        "valido = False\n",
        "aprovado = True\n",
        "type(valido)"
      ],
      "metadata": {
        "colab": {
          "base_uri": "https://localhost:8080/"
        },
        "id": "P6B4TsvljRxv",
        "outputId": "548740ff-4ddd-4422-ee9e-b7ee2491ecf3"
      },
      "execution_count": null,
      "outputs": [
        {
          "output_type": "execute_result",
          "data": {
            "text/plain": [
              "bool"
            ]
          },
          "metadata": {},
          "execution_count": 16
        }
      ]
    },
    {
      "cell_type": "markdown",
      "source": [
        "### Textos\n",
        "\n",
        "As variáveis que armazenam textos ou cadeia de caracteres quaisquer são chamadas de `strings`\n",
        "\n",
        ">Ao definir um valor para uma variável do tipo string, devemos colocar aspas antes e depois do valor"
      ],
      "metadata": {
        "id": "Xci0CyHciCaT"
      }
    },
    {
      "cell_type": "code",
      "source": [
        "nome = 'Laura Emmanuella' \n",
        "type(nome)"
      ],
      "metadata": {
        "colab": {
          "base_uri": "https://localhost:8080/"
        },
        "id": "r4KYIVe4jCF4",
        "outputId": "6fe768fc-ff85-4579-bedd-dd2d8640bd86"
      },
      "execution_count": 2,
      "outputs": [
        {
          "output_type": "execute_result",
          "data": {
            "text/plain": [
              "str"
            ]
          },
          "metadata": {},
          "execution_count": 2
        }
      ]
    },
    {
      "cell_type": "markdown",
      "source": [
        "Em geral, usamos aspas simples para marcar o conteúdo textual, **mas pode usar aspas duplas também**\n",
        "\n",
        ">Se no conteúdo do texto precisar de aspas, **use aspas simples internamente e aspas duplas para a marcação da string**, como no exemplo abaixo (**ou o inverso**)"
      ],
      "metadata": {
        "id": "RBJTSEOgjHNT"
      }
    },
    {
      "cell_type": "code",
      "source": [
        "print(\"conteúdo 'X' \")"
      ],
      "metadata": {
        "colab": {
          "base_uri": "https://localhost:8080/"
        },
        "id": "0N9U3RYTjzn7",
        "outputId": "190ddc9b-37cd-4bd4-9e06-9c3683cb639a"
      },
      "execution_count": null,
      "outputs": [
        {
          "output_type": "stream",
          "name": "stdout",
          "text": [
            "conteúdo 'X' \n"
          ]
        }
      ]
    },
    {
      "cell_type": "code",
      "source": [
        "print('conteúdo \"X\" ')"
      ],
      "metadata": {
        "colab": {
          "base_uri": "https://localhost:8080/"
        },
        "id": "qIDrgQs_jOdy",
        "outputId": "cba51cc1-b722-45a2-c732-20fc4cbb1912"
      },
      "execution_count": null,
      "outputs": [
        {
          "output_type": "stream",
          "name": "stdout",
          "text": [
            "conteúdo \"X\" \n"
          ]
        }
      ]
    },
    {
      "cell_type": "code",
      "source": [
        "'''\n",
        "O comando len informa o tamanho, ou seja, a quantidade de caracteres que uma string possui\n",
        "'''\n",
        "\n",
        "len(nome) "
      ],
      "metadata": {
        "colab": {
          "base_uri": "https://localhost:8080/"
        },
        "id": "hxj30M_VibEB",
        "outputId": "85c33782-07e9-4e0a-ac2b-98e643e1b495"
      },
      "execution_count": null,
      "outputs": [
        {
          "output_type": "execute_result",
          "data": {
            "text/plain": [
              "16"
            ]
          },
          "metadata": {},
          "execution_count": 15
        }
      ]
    },
    {
      "cell_type": "markdown",
      "metadata": {
        "id": "QQMzgxcEElgK"
      },
      "source": [
        "#### Indexação\n",
        "As strings são uma sequência de caracteres, o que significa que podemos usar índices para chamar partes dela. Usamos colchetes `[]` após o nome da string para chamar seu índice. Devemos também lembrar que a indexação começa em 0."
      ]
    },
    {
      "cell_type": "code",
      "metadata": {
        "colab": {
          "base_uri": "https://localhost:8080/"
        },
        "id": "QAdJrga2ElgL",
        "outputId": "95b2a579-e524-43a5-f68d-037e6a32a75a"
      },
      "source": [
        "print(nome[0])"
      ],
      "execution_count": 4,
      "outputs": [
        {
          "output_type": "stream",
          "name": "stdout",
          "text": [
            "L\n"
          ]
        }
      ]
    },
    {
      "cell_type": "code",
      "metadata": {
        "colab": {
          "base_uri": "https://localhost:8080/"
        },
        "id": "lN1vbOeQElgL",
        "outputId": "bfc53ca0-2c5e-4f39-a5e7-c9761c5718c9"
      },
      "source": [
        "print(nome[-1]) # retorna a ultima letra"
      ],
      "execution_count": 5,
      "outputs": [
        {
          "output_type": "stream",
          "name": "stdout",
          "text": [
            "a\n"
          ]
        }
      ]
    },
    {
      "cell_type": "markdown",
      "metadata": {
        "id": "IbBcMMccElgL"
      },
      "source": [
        "#### Cortes\n",
        "Podemos usar `:` para executar cortes que retorna tudo até um ponto designado"
      ]
    },
    {
      "cell_type": "code",
      "metadata": {
        "id": "xvoUyQyNElgM",
        "colab": {
          "base_uri": "https://localhost:8080/"
        },
        "outputId": "294fe91d-38f6-4244-8126-5da803341a1a"
      },
      "source": [
        "print(nome[6:]) #iniciando no índice 6 até o final"
      ],
      "execution_count": 6,
      "outputs": [
        {
          "output_type": "stream",
          "name": "stdout",
          "text": [
            "Emmanuella\n"
          ]
        }
      ]
    },
    {
      "cell_type": "code",
      "metadata": {
        "id": "gscGtIauElgM",
        "colab": {
          "base_uri": "https://localhost:8080/"
        },
        "outputId": "8535e2aa-e5e6-4544-e81b-705ce37044be"
      },
      "source": [
        "print(nome[8:12]) #iniciando no índice 8 até o índice 11 (não inclui o 12)"
      ],
      "execution_count": 7,
      "outputs": [
        {
          "output_type": "stream",
          "name": "stdout",
          "text": [
            "manu\n"
          ]
        }
      ]
    },
    {
      "cell_type": "code",
      "metadata": {
        "id": "abfursIQElgM",
        "colab": {
          "base_uri": "https://localhost:8080/"
        },
        "outputId": "750aa276-acfd-4087-b669-dd808907669e"
      },
      "source": [
        "print(nome[:5]) #do inicio até o índice 4 (nao inclui o 5)"
      ],
      "execution_count": 8,
      "outputs": [
        {
          "output_type": "stream",
          "name": "stdout",
          "text": [
            "Laura\n"
          ]
        }
      ]
    },
    {
      "cell_type": "code",
      "metadata": {
        "id": "Ixb69O5NElgN",
        "outputId": "cc92f9b0-8bae-4733-d55a-153969665bc5",
        "colab": {
          "base_uri": "https://localhost:8080/"
        }
      },
      "source": [
        "print(nome[:]) #inicio ao fim"
      ],
      "execution_count": 9,
      "outputs": [
        {
          "output_type": "stream",
          "name": "stdout",
          "text": [
            "Laura Emmanuella\n"
          ]
        }
      ]
    },
    {
      "cell_type": "code",
      "metadata": {
        "id": "bx92PyyfElgO",
        "outputId": "91216e0e-c24d-4608-b299-1d0a2e953cfb",
        "colab": {
          "base_uri": "https://localhost:8080/"
        }
      },
      "source": [
        "print(nome[:-1]) #do inicio ao penultimo"
      ],
      "execution_count": 10,
      "outputs": [
        {
          "output_type": "stream",
          "name": "stdout",
          "text": [
            "Laura Emmanuell\n"
          ]
        }
      ]
    },
    {
      "cell_type": "code",
      "metadata": {
        "id": "ThPhtxV-ElgO",
        "colab": {
          "base_uri": "https://localhost:8080/"
        },
        "outputId": "96b278fb-b3bc-47ec-ab26-8e46b647432e"
      },
      "source": [
        "print(nome[0:16:2]) #inicio:fim:passos"
      ],
      "execution_count": 11,
      "outputs": [
        {
          "output_type": "stream",
          "name": "stdout",
          "text": [
            "LuaEmnel\n"
          ]
        }
      ]
    },
    {
      "cell_type": "code",
      "metadata": {
        "colab": {
          "base_uri": "https://localhost:8080/"
        },
        "id": "ubCq0tdHD3T3",
        "outputId": "d479b1d8-de9f-4d8f-b38d-3504aaf03acc"
      },
      "source": [
        "print(nome[::2]) #mesma coisa (inicio:fim:passos)"
      ],
      "execution_count": 12,
      "outputs": [
        {
          "output_type": "stream",
          "name": "stdout",
          "text": [
            "LuaEmnel\n"
          ]
        }
      ]
    },
    {
      "cell_type": "code",
      "metadata": {
        "id": "ebQhAC1zElgP",
        "outputId": "4b415ed7-fc35-434a-829d-b408232b769a",
        "colab": {
          "base_uri": "https://localhost:8080/"
        }
      },
      "source": [
        "print(nome[::-1]) #inverte toda a string"
      ],
      "execution_count": 13,
      "outputs": [
        {
          "output_type": "stream",
          "name": "stdout",
          "text": [
            "alleunammE aruaL\n"
          ]
        }
      ]
    },
    {
      "cell_type": "markdown",
      "metadata": {
        "id": "nFg2RXPQElgP"
      },
      "source": [
        "#### Propriedades das Strings\n",
        "É importante notar que as strings têm uma propriedade importante conhecida como **imutabilidade**. Isso significa que, uma vez que uma string é criada, **os elementos nela não podem ser alterados ou substituídos por indexação.**"
      ]
    },
    {
      "cell_type": "code",
      "metadata": {
        "id": "cpFqpJJQElgQ",
        "colab": {
          "base_uri": "https://localhost:8080/",
          "height": 164
        },
        "outputId": "e0f56534-068e-4f91-f0a0-729912f286ec"
      },
      "source": [
        "nome[0] = 'M'"
      ],
      "execution_count": null,
      "outputs": [
        {
          "output_type": "error",
          "ename": "TypeError",
          "evalue": "ignored",
          "traceback": [
            "\u001b[0;31m---------------------------------------------------------------------------\u001b[0m",
            "\u001b[0;31mTypeError\u001b[0m                                 Traceback (most recent call last)",
            "\u001b[0;32m<ipython-input-43-2c85d6919a03>\u001b[0m in \u001b[0;36m<module>\u001b[0;34m()\u001b[0m\n\u001b[0;32m----> 1\u001b[0;31m \u001b[0mnome\u001b[0m\u001b[0;34m[\u001b[0m\u001b[0;36m0\u001b[0m\u001b[0;34m]\u001b[0m \u001b[0;34m=\u001b[0m \u001b[0;34m'M'\u001b[0m\u001b[0;34m\u001b[0m\u001b[0;34m\u001b[0m\u001b[0m\n\u001b[0m",
            "\u001b[0;31mTypeError\u001b[0m: 'str' object does not support item assignment"
          ]
        }
      ]
    },
    {
      "cell_type": "markdown",
      "metadata": {
        "id": "Rfgj1YaLElgQ"
      },
      "source": [
        "Mas, podemos **CONCATENAR** strings"
      ]
    },
    {
      "cell_type": "code",
      "metadata": {
        "id": "5zKOgH35ElgQ",
        "colab": {
          "base_uri": "https://localhost:8080/"
        },
        "outputId": "fc9b13cd-f760-4bba-f8c0-aff73d960fae"
      },
      "source": [
        "nome = 'M' + nome[1:]\n",
        "print(nome)"
      ],
      "execution_count": null,
      "outputs": [
        {
          "output_type": "stream",
          "name": "stdout",
          "text": [
            "Maura Emmanuella\n"
          ]
        }
      ]
    },
    {
      "cell_type": "markdown",
      "metadata": {
        "id": "2x5RaYQDElgR"
      },
      "source": [
        "#### Métodos de Strings\n",
        "\n",
        "https://docs.python.org/pt-br/3.10/library/stdtypes.html#string-methods"
      ]
    },
    {
      "cell_type": "code",
      "metadata": {
        "id": "W9f2YXIAElgR",
        "outputId": "2cf5578e-33a4-4132-87d4-5264e0f07821"
      },
      "source": [
        "print(nome.upper())"
      ],
      "execution_count": null,
      "outputs": [
        {
          "output_type": "stream",
          "text": [
            "MAURA EMMANUELLA\n"
          ],
          "name": "stdout"
        }
      ]
    },
    {
      "cell_type": "code",
      "metadata": {
        "id": "IuIXw-13ElgR",
        "outputId": "5b331d85-c87d-498c-ddd6-716662f4a683"
      },
      "source": [
        "'''o método upper retornou o nome maiúsculo, \n",
        "mas como eu não salvei na var nome, ela nao foi alterada\n",
        "'''\n",
        "print(nome) "
      ],
      "execution_count": null,
      "outputs": [
        {
          "output_type": "stream",
          "text": [
            "Maura Emmanuella\n"
          ],
          "name": "stdout"
        }
      ]
    },
    {
      "cell_type": "code",
      "metadata": {
        "id": "GqTpLS8sElgS",
        "colab": {
          "base_uri": "https://localhost:8080/"
        },
        "outputId": "c0a24e4f-8c4a-48d8-c522-3c3e0f3a98d4"
      },
      "source": [
        "print(nome.split())"
      ],
      "execution_count": null,
      "outputs": [
        {
          "output_type": "stream",
          "name": "stdout",
          "text": [
            "['Maura', 'Emmanuella']\n"
          ]
        }
      ]
    },
    {
      "cell_type": "code",
      "metadata": {
        "id": "fustnNbzElgS",
        "outputId": "8bb5dd2a-4a21-4960-f7f3-3bcf9483e6e6"
      },
      "source": [
        "print(nome.split('a'))"
      ],
      "execution_count": null,
      "outputs": [
        {
          "output_type": "stream",
          "text": [
            "['M', 'ur', ' Emm', 'nuell', '']\n"
          ],
          "name": "stdout"
        }
      ]
    },
    {
      "cell_type": "code",
      "metadata": {
        "colab": {
          "base_uri": "https://localhost:8080/",
          "height": 35
        },
        "id": "Z3cQt9BiFUTc",
        "outputId": "dce86fab-445d-4440-9be6-79e636c88fb7"
      },
      "source": [
        "'   espaço   '.strip() #remove os espaços em branco no começo e fim da string"
      ],
      "execution_count": null,
      "outputs": [
        {
          "output_type": "execute_result",
          "data": {
            "application/vnd.google.colaboratory.intrinsic+json": {
              "type": "string"
            },
            "text/plain": [
              "'espaço'"
            ]
          },
          "metadata": {},
          "execution_count": 67
        }
      ]
    },
    {
      "cell_type": "code",
      "metadata": {
        "id": "IRH632kYElgS",
        "colab": {
          "base_uri": "https://localhost:8080/"
        },
        "outputId": "8b7a2d55-035c-4c9a-a3ad-81a9d9d81599"
      },
      "source": [
        "curso = 'Engenharia'\n",
        "print('meu nome é ', nome, '\\nmeu curso é ', curso) #\\n quebra linha"
      ],
      "execution_count": 15,
      "outputs": [
        {
          "output_type": "stream",
          "name": "stdout",
          "text": [
            "meu nome é  Laura Emmanuella \n",
            "meu curso é  Engenharia\n"
          ]
        }
      ]
    },
    {
      "cell_type": "markdown",
      "source": [
        "## 4. Operações aritméticas, relacionais e lógicas\n",
        "\n",
        "---\n",
        "\n",
        "Além da operação básica de atribuição (=), podemos executar operações aritméticas, relacionais e lógicas sobre os dados"
      ],
      "metadata": {
        "id": "fvOlGzjMBGc6"
      }
    },
    {
      "cell_type": "markdown",
      "metadata": {
        "id": "z1ZzyTYRElgB"
      },
      "source": [
        "### Operações aritméticas\n",
        "\n",
        "<table>\n",
        "<tr>\n",
        "    <th>Operador</th> \n",
        "    <th>Operação</th>\n",
        "    <th>Exemplo</th>\n",
        "</tr>\n",
        "\n",
        "<tr>\n",
        "    <td>+</td>\n",
        "    <td>Adição</td>\n",
        "    <td>(a + b)</td> \n",
        "</tr>\n",
        "\n",
        "<tr>\n",
        "    <td>-</td> \n",
        "    <td>Substração</td> \n",
        "    <td>(a - b)</td> \n",
        "</tr>\n",
        "\n",
        "<tr>\n",
        "    <td>*</td> \n",
        "    <td>Multiplicação</td> \n",
        "    <td>(a * b)</td> \n",
        "</tr>\n",
        "\n",
        "<tr>\n",
        "    <td>/</td> \n",
        "    <td>Divisão (com resultado fracionário)</td> \n",
        "    <td>(a / b)</td> \n",
        "</tr>\n",
        "\n",
        "<tr>\n",
        "    <td>//</td> \n",
        "    <td>Divisão (com resultado inteiro)</td> \n",
        "    <td>(a // b)</td> \n",
        "</tr>\n",
        "\n",
        "<tr>\n",
        "    <td>%</td> \n",
        "    <td>Resto da divisão</td> \n",
        "    <td>(a % b)</td> \n",
        "</tr>\n",
        "\n",
        "<tr>\n",
        "    <td>**</td> \n",
        "    <td>Exponenciação ou potenciação</td> \n",
        "    <td>(a ** b)</td> \n",
        "</tr>\n",
        " </table>"
      ]
    },
    {
      "cell_type": "code",
      "metadata": {
        "id": "4-fmLYNOElgC"
      },
      "source": [
        "x = 9\n",
        "y = 2"
      ],
      "execution_count": null,
      "outputs": []
    },
    {
      "cell_type": "code",
      "metadata": {
        "id": "4wUAugutElgD",
        "colab": {
          "base_uri": "https://localhost:8080/"
        },
        "outputId": "07abbd13-35fa-4195-ccd6-66cae5505dfa"
      },
      "source": [
        "z1 = x / y \n",
        "print(z1)"
      ],
      "execution_count": null,
      "outputs": [
        {
          "output_type": "stream",
          "name": "stdout",
          "text": [
            "4.5\n"
          ]
        }
      ]
    },
    {
      "cell_type": "code",
      "source": [
        "z2 = x // y \n",
        "print(z2)\n",
        "type(z2)"
      ],
      "metadata": {
        "colab": {
          "base_uri": "https://localhost:8080/"
        },
        "id": "QDN9KYyfoCDx",
        "outputId": "12e2a22f-fe14-4193-fce4-83a63e0b4800"
      },
      "execution_count": null,
      "outputs": [
        {
          "output_type": "stream",
          "name": "stdout",
          "text": [
            "4\n"
          ]
        },
        {
          "output_type": "execute_result",
          "data": {
            "text/plain": [
              "int"
            ]
          },
          "metadata": {},
          "execution_count": 23
        }
      ]
    },
    {
      "cell_type": "code",
      "metadata": {
        "id": "KgE0AUxFElgE",
        "colab": {
          "base_uri": "https://localhost:8080/"
        },
        "outputId": "2cd6873f-a0db-435b-982d-552e335ef5a0"
      },
      "source": [
        "z3 = x % y #resto da divisão inteira\n",
        "print(z3)"
      ],
      "execution_count": null,
      "outputs": [
        {
          "output_type": "stream",
          "name": "stdout",
          "text": [
            "1\n"
          ]
        }
      ]
    },
    {
      "cell_type": "code",
      "metadata": {
        "colab": {
          "base_uri": "https://localhost:8080/"
        },
        "id": "H6GYtKOeElgD",
        "outputId": "53581b8b-572b-4f0b-845a-9cbc99421838"
      },
      "source": [
        "z4 = x ** y #exponenciação\n",
        "print(z4)"
      ],
      "execution_count": null,
      "outputs": [
        {
          "output_type": "stream",
          "name": "stdout",
          "text": [
            "81\n"
          ]
        }
      ]
    },
    {
      "cell_type": "markdown",
      "source": [
        "> Não esqueça que assim como na matemática, as operações possuem prioridade de execução. As operações de mesma prioridade são executadas da esquerda para direita. Utilize parênteses sempre que precisar alterar a ordem de execução das operações e também para aumentar a clareza da fórmula"
      ],
      "metadata": {
        "id": "FV2CTJhIpoq0"
      }
    },
    {
      "cell_type": "code",
      "source": [
        "'''\n",
        "Observe a prioridade da expressão abaixo\n",
        "'''\n",
        "\n",
        "4 + 2 * 3 - 1 / 10"
      ],
      "metadata": {
        "colab": {
          "base_uri": "https://localhost:8080/"
        },
        "id": "yLLMKHqrqWyz",
        "outputId": "133c5986-cfad-424f-e308-c5fb305dc390"
      },
      "execution_count": null,
      "outputs": [
        {
          "output_type": "execute_result",
          "data": {
            "text/plain": [
              "9.9"
            ]
          },
          "metadata": {},
          "execution_count": 30
        }
      ]
    },
    {
      "cell_type": "markdown",
      "source": [
        "Podemos ver que no exemplo acima, a expressão foi executada da seguinte forma:\n",
        "\n",
        "\n",
        "\n",
        "```\n",
        "4 + (2*3) - (1/10)\n",
        "\n",
        "4 + 6 - 0.1\n",
        "\n",
        "10 - 0.1\n",
        "\n",
        "9.9\n",
        "```\n",
        "\n"
      ],
      "metadata": {
        "id": "byhdhCMPq3yr"
      }
    },
    {
      "cell_type": "code",
      "source": [
        "'''\n",
        "Mudando a ordem de prioridade usando parênteses\n",
        "'''\n",
        "\n",
        "(4 + 2) * (3 - 1) / 10"
      ],
      "metadata": {
        "colab": {
          "base_uri": "https://localhost:8080/"
        },
        "id": "wC9UAnuIqdk3",
        "outputId": "16ab5fe7-2729-4ddd-ead3-9f26981a8b35"
      },
      "execution_count": null,
      "outputs": [
        {
          "output_type": "execute_result",
          "data": {
            "text/plain": [
              "1.2"
            ]
          },
          "metadata": {},
          "execution_count": 31
        }
      ]
    },
    {
      "cell_type": "markdown",
      "source": [
        "No exemplo acima, mudamos a ordem de execução ao colocar os parênteses. Dessa vez, a execução foi feita assim:\n",
        "\n",
        "\n",
        "\n",
        "```\n",
        "(4 + 2) * (3 - 1) / 10\n",
        "\n",
        "(6 * 2) / 10\n",
        "\n",
        "12/10\n",
        "\n",
        "1.2\n",
        "```\n",
        "\n"
      ],
      "metadata": {
        "id": "V4Uco2R6rVJW"
      }
    },
    {
      "cell_type": "markdown",
      "source": [
        ">Abaixo, veja exemplo de dois comandos úteis em Python (`round e help`):"
      ],
      "metadata": {
        "id": "YShvCITlrvKt"
      }
    },
    {
      "cell_type": "code",
      "metadata": {
        "id": "aLTJsAWfElgF",
        "colab": {
          "base_uri": "https://localhost:8080/"
        },
        "outputId": "326e5d38-53b7-45ca-b238-18f26c74f3ee"
      },
      "source": [
        "'''\n",
        "O comando round, arredonda o valor passado para o próximo valor inteiro\n",
        "'''\n",
        "\n",
        "round(9.55789) "
      ],
      "execution_count": null,
      "outputs": [
        {
          "output_type": "execute_result",
          "data": {
            "text/plain": [
              "10"
            ]
          },
          "metadata": {},
          "execution_count": 24
        }
      ]
    },
    {
      "cell_type": "code",
      "source": [
        "'''\n",
        "podemos obter ajuda sobre os comandos, usando o comando help\n",
        "'''\n",
        "\n",
        "help(round)"
      ],
      "metadata": {
        "colab": {
          "base_uri": "https://localhost:8080/"
        },
        "id": "-oTr2Uwwo-lc",
        "outputId": "58c83f5f-d1d8-412c-d847-561c9b07ce62"
      },
      "execution_count": null,
      "outputs": [
        {
          "output_type": "stream",
          "name": "stdout",
          "text": [
            "Help on built-in function round in module builtins:\n",
            "\n",
            "round(number, ndigits=None)\n",
            "    Round a number to a given precision in decimal digits.\n",
            "    \n",
            "    The return value is an integer if ndigits is omitted or None.  Otherwise\n",
            "    the return value has the same type as the number.  ndigits may be negative.\n",
            "\n"
          ]
        }
      ]
    },
    {
      "cell_type": "code",
      "metadata": {
        "colab": {
          "base_uri": "https://localhost:8080/"
        },
        "id": "RorRIpzKO_Mz",
        "outputId": "175c4e9d-59b6-412a-eb07-06f69ec5212a"
      },
      "source": [
        "'''\n",
        "Podemos informar a quantidade de casas decimais para o arredondamento\n",
        "'''\n",
        "\n",
        "round(9.55789, 2) #informa a quantidade de casas decimais"
      ],
      "execution_count": null,
      "outputs": [
        {
          "output_type": "execute_result",
          "data": {
            "text/plain": [
              "9.56"
            ]
          },
          "metadata": {},
          "execution_count": 140
        }
      ]
    },
    {
      "cell_type": "markdown",
      "source": [
        "### Operações relacionais\n",
        "\n",
        ">As operações relacionais estabelecem comparações entre os dados, **nos permitindo comparar variáveis e produzir um valor lógico (Verdadeiro ou Falso).**\n",
        "\n",
        "<table>\n",
        "<tr>\n",
        "<th>Operador</th><th>Operação</th><th>Exemplo</th>\n",
        "</tr>\n",
        "<tr>\n",
        "<td>==</td>\n",
        "<td>Igualdade</td>\n",
        "<td> (a == b)</td>\n",
        "</tr>\n",
        "<tr>\n",
        "<td>!=</td>\n",
        "<td>Diferença</td>\n",
        "<td>(a != b)</td>\n",
        "</tr>\n",
        "<tr>\n",
        "<td>&gt;</td>\n",
        "<td>Maior que</td>\n",
        "<td> (a &gt; b) </td>\n",
        "</tr>\n",
        "<tr>\n",
        "<td>&lt;</td>\n",
        "<td>Menor que</td>\n",
        "<td> (a &lt; b) </td>\n",
        "</tr>\n",
        "<tr>\n",
        "<td>&gt;=</td>\n",
        "<td>Maior ou igual</td>\n",
        "<td> (a &gt;= b)  </td>\n",
        "</tr>\n",
        "<tr>\n",
        "<td>&lt;=</td>\n",
        "<td>Menor ou igual</td>\n",
        "<td> (a &lt;= b)  </td>\n",
        "</tr>\n",
        "</table>"
      ],
      "metadata": {
        "id": "PGAILiyZpOLk"
      }
    },
    {
      "cell_type": "code",
      "source": [
        "a = 100\n",
        "b = 90\n",
        "c = 100"
      ],
      "metadata": {
        "id": "em2xlCbjzFJ0"
      },
      "execution_count": null,
      "outputs": []
    },
    {
      "cell_type": "code",
      "source": [
        "a != b"
      ],
      "metadata": {
        "colab": {
          "base_uri": "https://localhost:8080/"
        },
        "id": "PxnI2FldzOSf",
        "outputId": "e9ee8000-9530-4d29-ecbd-f5859055b118"
      },
      "execution_count": null,
      "outputs": [
        {
          "output_type": "execute_result",
          "data": {
            "text/plain": [
              "True"
            ]
          },
          "metadata": {},
          "execution_count": 33
        }
      ]
    },
    {
      "cell_type": "code",
      "source": [
        "b == c"
      ],
      "metadata": {
        "colab": {
          "base_uri": "https://localhost:8080/"
        },
        "id": "oQjzkAnOzRNq",
        "outputId": "c56c9002-4776-41d9-e979-6882ee9ef730"
      },
      "execution_count": null,
      "outputs": [
        {
          "output_type": "execute_result",
          "data": {
            "text/plain": [
              "False"
            ]
          },
          "metadata": {},
          "execution_count": 34
        }
      ]
    },
    {
      "cell_type": "code",
      "source": [
        "a >= c"
      ],
      "metadata": {
        "colab": {
          "base_uri": "https://localhost:8080/"
        },
        "id": "PaSovj9KzVNN",
        "outputId": "d2f6d85e-c175-4ca6-b903-ccdfe4794648"
      },
      "execution_count": null,
      "outputs": [
        {
          "output_type": "execute_result",
          "data": {
            "text/plain": [
              "True"
            ]
          },
          "metadata": {},
          "execution_count": 35
        }
      ]
    },
    {
      "cell_type": "markdown",
      "source": [
        "### Operações lógicas\n",
        "\n",
        "Para agrupar operações com lógica booleana, utilizaremos operadores lógicos.\n",
        "\n",
        "> Python suporta três operadores básicos: `not (negação); and (conjunção); or(disjunção)`\n",
        "\n",
        "<table>\n",
        "<tr>\n",
        "<th>Operador</th>\n",
        "<th>Operação</th>\n",
        "<th>Exemplo</th>\n",
        "</tr>\n",
        "\n",
        "<tr>\n",
        "<td>not</td>\n",
        "<td>não (negação)</td>\n",
        "<td>not a; not True; not False</td>\n",
        "</tr>\n",
        "\n",
        "<tr>\n",
        "<td>and</td>\n",
        "<td>e (conjunção)</td>\n",
        "<td>a and b; True and False</td>\n",
        "</tr>\n",
        "\n",
        "<tr>\n",
        "<td>or</td>\n",
        "<td>ou (disjunção)</td>\n",
        "<td>a or b; False or True</td>\n",
        "</tr>\n",
        "</table>"
      ],
      "metadata": {
        "id": "Inmk08eNzpWk"
      }
    },
    {
      "cell_type": "code",
      "source": [
        "aprovado = True\n",
        "valido = False"
      ],
      "metadata": {
        "id": "TcYfbYOI69Wj"
      },
      "execution_count": null,
      "outputs": []
    },
    {
      "cell_type": "markdown",
      "source": [
        "**Tabela verdade do operador not**\n",
        "<table>\n",
        "<tr>\n",
        "<th>a</th>\n",
        "<th>not a</th>\n",
        "</tr>\n",
        "\n",
        "<tr>\n",
        "<td>V</td>\n",
        "<td>F</td>\n",
        "</tr>\n",
        "\n",
        "<tr>\n",
        "<td>F</td>\n",
        "<td>V</td>\n",
        "</tr>\n",
        "</table>"
      ],
      "metadata": {
        "id": "1-RQXsxP7lAl"
      }
    },
    {
      "cell_type": "code",
      "source": [
        "'''\n",
        "A negação de um valor booleano, tem como resultado o inverso do valor\n",
        "'''\n",
        "\n",
        "not aprovado"
      ],
      "metadata": {
        "colab": {
          "base_uri": "https://localhost:8080/"
        },
        "id": "JKcuviyi7H6z",
        "outputId": "fb527165-af4d-4525-8690-4144ea5d27e3"
      },
      "execution_count": null,
      "outputs": [
        {
          "output_type": "execute_result",
          "data": {
            "text/plain": [
              "False"
            ]
          },
          "metadata": {},
          "execution_count": 39
        }
      ]
    },
    {
      "cell_type": "markdown",
      "source": [
        "**Tabela verdade do operador and**\n",
        "<table>\n",
        "<tr>\n",
        "<th>a</th>\n",
        "<th>b</th>\n",
        "<th>a and b</th>\n",
        "</tr>\n",
        "\n",
        "<tr>\n",
        "<td>V</td>\n",
        "<td>V</td>\n",
        "<td>V</td>\n",
        "</tr>\n",
        "\n",
        "<tr>\n",
        "<td>V</td>\n",
        "<td>F</td>\n",
        "<td>F</td>\n",
        "</tr>\n",
        "\n",
        "<tr>\n",
        "<td>F</td>\n",
        "<td>V</td>\n",
        "<td>F</td>\n",
        "</tr>\n",
        "\n",
        "<tr>\n",
        "<td>F</td>\n",
        "<td>F</td>\n",
        "<td>F</td>\n",
        "</tr>\n",
        "</table>"
      ],
      "metadata": {
        "id": "SlDwToD_8HiD"
      }
    },
    {
      "cell_type": "code",
      "source": [
        "'''\n",
        "A conjunção (and) só retorna verdadeiro quando os dois operandos são verdadeiros\n",
        "'''\n",
        "\n",
        "aprovado and valido"
      ],
      "metadata": {
        "colab": {
          "base_uri": "https://localhost:8080/"
        },
        "id": "bXvyyIcF7XCt",
        "outputId": "1dc84246-054b-4036-af89-478befbc7a7a"
      },
      "execution_count": null,
      "outputs": [
        {
          "output_type": "execute_result",
          "data": {
            "text/plain": [
              "False"
            ]
          },
          "metadata": {},
          "execution_count": 40
        }
      ]
    },
    {
      "cell_type": "markdown",
      "source": [
        "**Tabela verdade do operador or**\n",
        "\n",
        "<table>\n",
        "<tr>\n",
        "<th>a</th>\n",
        "<th>b</th>\n",
        "<th>a or b</th>\n",
        "</tr>\n",
        "\n",
        "<tr>\n",
        "<td>V</td>\n",
        "<td>V</td>\n",
        "<td>V</td>\n",
        "</tr>\n",
        "\n",
        "<tr>\n",
        "<td>V</td>\n",
        "<td>F</td>\n",
        "<td>V</td>\n",
        "</tr>\n",
        "\n",
        "<tr>\n",
        "<td>F</td>\n",
        "<td>V</td>\n",
        "<td>V</td>\n",
        "</tr>\n",
        "\n",
        "<tr>\n",
        "<td>F</td>\n",
        "<td>F</td>\n",
        "<td>F</td>\n",
        "</tr>\n",
        "</table>\n"
      ],
      "metadata": {
        "id": "6eJay7jU9Rv6"
      }
    },
    {
      "cell_type": "code",
      "source": [
        "'''\n",
        "A disjunção (or) só retorna falso quando os dois operandos são falsos\n",
        "'''\n",
        "\n",
        "aprovado or valido"
      ],
      "metadata": {
        "colab": {
          "base_uri": "https://localhost:8080/"
        },
        "id": "8vfzre-27Zo4",
        "outputId": "ef518dfa-5e5f-44b2-9320-08b799877b89"
      },
      "execution_count": null,
      "outputs": [
        {
          "output_type": "execute_result",
          "data": {
            "text/plain": [
              "True"
            ]
          },
          "metadata": {},
          "execution_count": 41
        }
      ]
    },
    {
      "cell_type": "markdown",
      "metadata": {
        "id": "zEOsJpnKQIf-"
      },
      "source": [
        "**Combinando operadores relacionais**\n",
        "\n",
        ">Podemos usar os operadores lógicos `and e or` para unir várias operações relacionais, produzindo uma expressão mais complexa\n"
      ]
    },
    {
      "cell_type": "code",
      "metadata": {
        "colab": {
          "base_uri": "https://localhost:8080/"
        },
        "id": "48d7gPDJQIgf",
        "outputId": "b1e663de-0504-4de0-8962-6627077f444f"
      },
      "source": [
        "1 < 2 or 1 > 3"
      ],
      "execution_count": null,
      "outputs": [
        {
          "output_type": "execute_result",
          "data": {
            "text/plain": [
              "True"
            ]
          },
          "metadata": {},
          "execution_count": 2
        }
      ]
    },
    {
      "cell_type": "code",
      "metadata": {
        "id": "nyuQw7VJQIgg",
        "outputId": "f9bfa47f-db15-4b52-ffca-dfa21ae7d569"
      },
      "source": [
        "x = 98\n",
        "y = 980\n",
        "z = 9\n",
        "\n",
        "x == z and z > y"
      ],
      "execution_count": null,
      "outputs": [
        {
          "output_type": "execute_result",
          "data": {
            "text/plain": [
              "False"
            ]
          },
          "metadata": {
            "tags": []
          },
          "execution_count": 5
        }
      ]
    },
    {
      "cell_type": "markdown",
      "source": [
        "> Também é válido em Python fazer operações relacionais encadeadas como no exemplo abaixo, no entanto, **nesse caso a expressão estará usando uma conjunção (AND)**"
      ],
      "metadata": {
        "id": "iHH2vLMYBD5E"
      }
    },
    {
      "cell_type": "code",
      "metadata": {
        "colab": {
          "base_uri": "https://localhost:8080/"
        },
        "id": "FyVfbhloQIgT",
        "outputId": "cbc200a1-6b4e-4549-8ec7-bcd3235f7379"
      },
      "source": [
        "1 < 2 < 3"
      ],
      "execution_count": null,
      "outputs": [
        {
          "output_type": "execute_result",
          "data": {
            "text/plain": [
              "True"
            ]
          },
          "metadata": {},
          "execution_count": 1
        }
      ]
    },
    {
      "cell_type": "code",
      "source": [
        "1 > 2 < 3"
      ],
      "metadata": {
        "colab": {
          "base_uri": "https://localhost:8080/"
        },
        "id": "eC8KcgOxBYZj",
        "outputId": "2355acd6-2903-47e7-d171-370f514122f9"
      },
      "execution_count": null,
      "outputs": [
        {
          "output_type": "execute_result",
          "data": {
            "text/plain": [
              "False"
            ]
          },
          "metadata": {},
          "execution_count": 42
        }
      ]
    },
    {
      "cell_type": "markdown",
      "source": [
        "## 5. Comandos para entrada e saída de dados\n",
        "\n",
        "---\n",
        "\n",
        "Em geral, os programas recebem dados para realizar processamentos e precisam apresentar o resultado do processamento. Chamamos esse processo de entrada e saída de dados.\n",
        "\n",
        "É claro que a entrada e saída de dados pode dar-se de diferentes formas, nesse momento vamos ver a forma mais simples: **entrada por teclado e saída na tela**"
      ],
      "metadata": {
        "id": "83tCT9R5BHKM"
      }
    },
    {
      "cell_type": "markdown",
      "source": [
        "### Saída de dados em tela\n",
        "\n",
        "A saída de dados em tela é feita usando o comando `print`"
      ],
      "metadata": {
        "id": "Wb0IbTpVC1x9"
      }
    },
    {
      "cell_type": "code",
      "source": [
        "print('Exemplo de saída de informação na tela')"
      ],
      "metadata": {
        "colab": {
          "base_uri": "https://localhost:8080/"
        },
        "id": "A7miV8agC86q",
        "outputId": "b333e849-53c2-4c0b-b273-869ad6ffadea"
      },
      "execution_count": null,
      "outputs": [
        {
          "output_type": "stream",
          "name": "stdout",
          "text": [
            "Exemplo de saída de informação na tela\n"
          ]
        }
      ]
    },
    {
      "cell_type": "code",
      "source": [
        "nome = 'Laura'\n",
        "print(nome) #saída na tela do valor de uma variável"
      ],
      "metadata": {
        "colab": {
          "base_uri": "https://localhost:8080/"
        },
        "id": "nSai6aDvDCd3",
        "outputId": "c27f3563-ee24-401a-92e7-7512cf6ec069"
      },
      "execution_count": null,
      "outputs": [
        {
          "output_type": "stream",
          "name": "stdout",
          "text": [
            "Laura\n"
          ]
        }
      ]
    },
    {
      "cell_type": "markdown",
      "source": [
        "Podemos precisar imprimir na tela um texto contendo valores de variáveis do nosso programa. Existem diversas formas de fazer isso em Python."
      ],
      "metadata": {
        "id": "a0NxZUd5DL2Y"
      }
    },
    {
      "cell_type": "code",
      "source": [
        "'''\n",
        "Podemos usar a expressão: f' texto {variável}'\n",
        "'''\n",
        "\n",
        "print(f'Seja bem-vindo(a) {nome} à nossa aula')"
      ],
      "metadata": {
        "colab": {
          "base_uri": "https://localhost:8080/"
        },
        "id": "LLfRbimdDVaE",
        "outputId": "0977f371-6167-4950-ea9f-05895d91e4bc"
      },
      "execution_count": null,
      "outputs": [
        {
          "output_type": "stream",
          "name": "stdout",
          "text": [
            "Seja bem-vindo(a) Laura à nossa aula\n"
          ]
        }
      ]
    },
    {
      "cell_type": "code",
      "source": [
        "'''\n",
        "Podemos também separar texto e variável por vírgula. \n",
        "Nesse caso, as aspas ficam somente no texto\n",
        "'''\n",
        "\n",
        "print('Seja bem-vindo(a)', nome, 'à nossa aula')"
      ],
      "metadata": {
        "colab": {
          "base_uri": "https://localhost:8080/"
        },
        "id": "0gQe-xg6Dvur",
        "outputId": "82f05f41-741a-4b89-c964-5565d0f7795f"
      },
      "execution_count": null,
      "outputs": [
        {
          "output_type": "stream",
          "name": "stdout",
          "text": [
            "Seja bem-vindo(a) Laura à nossa aula\n"
          ]
        }
      ]
    },
    {
      "cell_type": "markdown",
      "metadata": {
        "id": "Ns_3dF8PKPnC"
      },
      "source": [
        "### Entrada de dados\n",
        "\n",
        "A entrada de dados usando teclado é feita pelo comando `input`\n",
        "\n",
        ">O valor digitado será atribuído à variável"
      ]
    },
    {
      "cell_type": "code",
      "metadata": {
        "colab": {
          "base_uri": "https://localhost:8080/"
        },
        "id": "nbfSmdU2JQuz",
        "outputId": "1a71e5da-4790-41df-be25-213fdf28cf0a"
      },
      "source": [
        "peso = input('Informe o peso: ')"
      ],
      "execution_count": null,
      "outputs": [
        {
          "name": "stdout",
          "output_type": "stream",
          "text": [
            "Informe o peso: 51\n"
          ]
        }
      ]
    },
    {
      "cell_type": "code",
      "metadata": {
        "colab": {
          "base_uri": "https://localhost:8080/"
        },
        "id": "O-Oco9HiJYsZ",
        "outputId": "963b72e4-0fb3-44f5-b9fa-f49a266b5381"
      },
      "source": [
        "print(f'O peso informado foi: {peso}') #apresenta a variável dentro do texto de saída"
      ],
      "execution_count": null,
      "outputs": [
        {
          "output_type": "stream",
          "name": "stdout",
          "text": [
            "O peso informado foi: 51\n"
          ]
        }
      ]
    },
    {
      "cell_type": "code",
      "metadata": {
        "colab": {
          "base_uri": "https://localhost:8080/"
        },
        "id": "UN3iop4xJedN",
        "outputId": "8e38cdd9-8b8a-4bca-d13d-653ed492eb22"
      },
      "source": [
        "'''\n",
        "inputs recebem sempre os dados como strings\n",
        "'''\n",
        "\n",
        "type(peso)"
      ],
      "execution_count": null,
      "outputs": [
        {
          "output_type": "execute_result",
          "data": {
            "text/plain": [
              "str"
            ]
          },
          "metadata": {},
          "execution_count": 71
        }
      ]
    },
    {
      "cell_type": "code",
      "source": [
        "'''\n",
        "Se quisermos fazer uma operação aritmética com esse dado, não poderemos\n",
        "'''\n",
        "\n",
        "peso / 2"
      ],
      "metadata": {
        "colab": {
          "base_uri": "https://localhost:8080/",
          "height": 204
        },
        "id": "7bp0NPfEEvUn",
        "outputId": "228d34d6-e3c3-45c7-ca22-012b3fd169c0"
      },
      "execution_count": null,
      "outputs": [
        {
          "output_type": "error",
          "ename": "TypeError",
          "evalue": "ignored",
          "traceback": [
            "\u001b[0;31m---------------------------------------------------------------------------\u001b[0m",
            "\u001b[0;31mTypeError\u001b[0m                                 Traceback (most recent call last)",
            "\u001b[0;32m<ipython-input-73-6a55c180792a>\u001b[0m in \u001b[0;36m<module>\u001b[0;34m()\u001b[0m\n\u001b[1;32m      3\u001b[0m '''\n\u001b[1;32m      4\u001b[0m \u001b[0;34m\u001b[0m\u001b[0m\n\u001b[0;32m----> 5\u001b[0;31m \u001b[0mpeso\u001b[0m \u001b[0;34m/\u001b[0m \u001b[0;36m2\u001b[0m\u001b[0;34m\u001b[0m\u001b[0;34m\u001b[0m\u001b[0m\n\u001b[0m",
            "\u001b[0;31mTypeError\u001b[0m: unsupported operand type(s) for /: 'str' and 'int'"
          ]
        }
      ]
    },
    {
      "cell_type": "code",
      "metadata": {
        "id": "SMRyLisUJ1wV"
      },
      "source": [
        "'''\n",
        "Nesses casos, precisamos mudar o tipo da variável \n",
        "'''\n",
        "\n",
        "peso = float(peso)"
      ],
      "execution_count": null,
      "outputs": []
    },
    {
      "cell_type": "code",
      "metadata": {
        "colab": {
          "base_uri": "https://localhost:8080/"
        },
        "id": "D-BbD5-FKAiW",
        "outputId": "b0ee98d4-a80f-4c12-f923-9442165bde4a"
      },
      "source": [
        "type(peso)"
      ],
      "execution_count": null,
      "outputs": [
        {
          "output_type": "execute_result",
          "data": {
            "text/plain": [
              "float"
            ]
          },
          "metadata": {},
          "execution_count": 61
        }
      ]
    },
    {
      "cell_type": "code",
      "source": [
        "'''\n",
        "Observe que agora foi possível a operação\n",
        "'''\n",
        "\n",
        "peso / 2"
      ],
      "metadata": {
        "colab": {
          "base_uri": "https://localhost:8080/"
        },
        "id": "R9H4TLMNFCtd",
        "outputId": "2b0a053b-1f74-4f1d-8545-39b0303bc30e"
      },
      "execution_count": null,
      "outputs": [
        {
          "output_type": "execute_result",
          "data": {
            "text/plain": [
              "25.5"
            ]
          },
          "metadata": {},
          "execution_count": 75
        }
      ]
    },
    {
      "cell_type": "code",
      "metadata": {
        "colab": {
          "base_uri": "https://localhost:8080/"
        },
        "id": "y77bpiahKEfy",
        "outputId": "c005bc1a-ffc0-4178-9dae-8bbfecfb018c"
      },
      "source": [
        "'''\n",
        "Podemos fazer a conversão no momento da entrada do dado pelo input\n",
        "'''\n",
        "\n",
        "altura = float(input('informe a altura: '))"
      ],
      "execution_count": null,
      "outputs": [
        {
          "name": "stdout",
          "output_type": "stream",
          "text": [
            "informe a altura: 1.60\n"
          ]
        }
      ]
    },
    {
      "cell_type": "code",
      "metadata": {
        "colab": {
          "base_uri": "https://localhost:8080/"
        },
        "id": "47m2nmkYKMUl",
        "outputId": "337a0d33-afb0-47fe-9567-85101bf5e613"
      },
      "source": [
        "type(altura)"
      ],
      "execution_count": null,
      "outputs": [
        {
          "output_type": "execute_result",
          "data": {
            "text/plain": [
              "float"
            ]
          },
          "metadata": {},
          "execution_count": 64
        }
      ]
    },
    {
      "cell_type": "code",
      "metadata": {
        "colab": {
          "base_uri": "https://localhost:8080/"
        },
        "id": "Z4BmBVwzKfZl",
        "outputId": "8f6a1490-8de3-4f59-eb5b-0ee0defb2ef7"
      },
      "source": [
        "print(f'seu imc é: {peso/(altura*altura)}')"
      ],
      "execution_count": null,
      "outputs": [
        {
          "output_type": "stream",
          "name": "stdout",
          "text": [
            "seu imc é: 19.921874999999996\n"
          ]
        }
      ]
    },
    {
      "cell_type": "code",
      "source": [
        "'''\n",
        "Podemos melhorar a formatação do número real usando :.2f antes de encerrar as {}\n",
        "'''\n",
        "\n",
        "print(f'seu imc é: {peso/(altura*altura):.2f}')"
      ],
      "metadata": {
        "colab": {
          "base_uri": "https://localhost:8080/"
        },
        "id": "EfutzMXDFVHR",
        "outputId": "8e9696bc-ef1f-480e-8dd3-88ebb62addce"
      },
      "execution_count": null,
      "outputs": [
        {
          "output_type": "stream",
          "name": "stdout",
          "text": [
            "seu imc é: 19.92\n"
          ]
        }
      ]
    },
    {
      "cell_type": "markdown",
      "source": [
        "##6. Exercícios\n",
        "\n",
        "\n",
        "---\n",
        "\n",
        "\n",
        "\n"
      ],
      "metadata": {
        "id": "n4HYqXGrFsN4"
      }
    },
    {
      "cell_type": "markdown",
      "source": [
        "1. Escreva um código que faça a conversão de um valor recebido em metros para centímetros e milímetros, como no exemplo de execução abaixo:"
      ],
      "metadata": {
        "id": "xt62tYrz4K0f"
      }
    },
    {
      "cell_type": "code",
      "source": [
        "# seu código aqui\n",
        "\n"
      ],
      "metadata": {
        "colab": {
          "base_uri": "https://localhost:8080/"
        },
        "id": "eN8cGtS75dRA",
        "outputId": "76231bac-8c24-4181-ad12-bd8f11f02966"
      },
      "execution_count": null,
      "outputs": [
        {
          "output_type": "stream",
          "name": "stdout",
          "text": [
            "Informe o valor metros:1.60\n",
            "1.6 m = 160.0 cm = 1600.0 mm\n"
          ]
        }
      ]
    },
    {
      "cell_type": "markdown",
      "source": [
        "2. Escreva uma expressão que será utilizada para decidir se um aluno foi ou não aprovado. Para ser aprovado, todas as médias do aluno devem ser maiores ou iguais a 5. Considere que o aluno cursa apenas três disciplinas e que a média de cada uma será armazenada nas variáveis: media1, media2 e media3. **Receba as médias como entrada e mostre se aprovado é True ou False**, como no exemplo de execução abaixo:"
      ],
      "metadata": {
        "id": "_CSiBlS92nEh"
      }
    },
    {
      "cell_type": "code",
      "source": [
        "#seu código aqui\n",
        "\n"
      ],
      "metadata": {
        "colab": {
          "base_uri": "https://localhost:8080/"
        },
        "id": "T0wwawO33D3r",
        "outputId": "e3c4e10f-4e0c-4450-fd8b-396771641c0f"
      },
      "execution_count": null,
      "outputs": [
        {
          "output_type": "stream",
          "name": "stdout",
          "text": [
            "Informe a média da disciplina 1: 5\n",
            "Informe a média da disciplina 2: 6.8\n",
            "Informe a média da disciplina 3: 5.5\n",
            "Aprovado: True\n"
          ]
        }
      ]
    },
    {
      "cell_type": "markdown",
      "source": [
        "3. Escreva uma expressão que será utilizada para decidir se um aluno foi ou não aprovado em uma disciplina. Para ser aprovado, a média do aluno deve ser maior ou igual a 7, ou a média deve ser maior ou igual a 5 e o percentual de faltas menor que 50%. **Receba a média e o percentual de faltas como entrada e mostre se aprovado é True ou False**, como no exemplo de execução abaixo:"
      ],
      "metadata": {
        "id": "mqe7z9Sf8htK"
      }
    },
    {
      "cell_type": "code",
      "source": [
        "#Seu código aqui\n",
        "\n"
      ],
      "metadata": {
        "colab": {
          "base_uri": "https://localhost:8080/"
        },
        "id": "3PV0Zr0t8iHz",
        "outputId": "f98cdb71-fb27-4c20-da83-5f91007d510b"
      },
      "execution_count": null,
      "outputs": [
        {
          "output_type": "stream",
          "name": "stdout",
          "text": [
            "Informe a média na disciplina:5.5\n",
            "Informe o percentual de faltas na disciplina:0.3\n",
            "Aprovado: True\n"
          ]
        }
      ]
    },
    {
      "cell_type": "markdown",
      "source": [
        "4. Escreva um algoritmo que calcule o salário líquido de um professor. Receba como entrada o valor da hora aula, número de horas trabalhadas no mês e percentual de desconto do INSS. O salário líquido será o salário bruto menos o percentual de desconto: "
      ],
      "metadata": {
        "id": "IoRpeWmAACC8"
      }
    },
    {
      "cell_type": "code",
      "source": [
        "#Seu código aqui\n",
        "\n"
      ],
      "metadata": {
        "colab": {
          "base_uri": "https://localhost:8080/"
        },
        "id": "IzFvzXCjACPs",
        "outputId": "94d1c546-026a-4ab4-a262-9337ff531ab7"
      },
      "execution_count": null,
      "outputs": [
        {
          "output_type": "stream",
          "name": "stdout",
          "text": [
            "Informe o valor da hora aula:100\n",
            "Informe o número de horas trabalhadas no mês:32\n",
            "Informe percentual de desconto do INSS:0.08\n",
            "Salário líquido: 2944.0\n"
          ]
        }
      ]
    }
  ]
}