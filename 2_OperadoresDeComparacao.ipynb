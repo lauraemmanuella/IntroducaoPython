{
  "nbformat": 4,
  "nbformat_minor": 0,
  "metadata": {
    "kernelspec": {
      "display_name": "Python 3",
      "language": "python",
      "name": "python3"
    },
    "language_info": {
      "codemirror_mode": {
        "name": "ipython",
        "version": 3
      },
      "file_extension": ".py",
      "mimetype": "text/x-python",
      "name": "python",
      "nbconvert_exporter": "python",
      "pygments_lexer": "ipython3",
      "version": "3.7.0"
    },
    "colab": {
      "name": "2-OperadoresDeComparacao.ipynb",
      "provenance": [],
      "collapsed_sections": [],
      "include_colab_link": true
    }
  },
  "cells": [
    {
      "cell_type": "markdown",
      "metadata": {
        "id": "view-in-github",
        "colab_type": "text"
      },
      "source": [
        "<a href=\"https://colab.research.google.com/github/lauraemmanuella/IntroducaoPython/blob/main/2_OperadoresDeComparacao.ipynb\" target=\"_parent\"><img src=\"https://colab.research.google.com/assets/colab-badge.svg\" alt=\"Open In Colab\"/></a>"
      ]
    },
    {
      "cell_type": "markdown",
      "metadata": {
        "id": "zEOsJpnKQIf-"
      },
      "source": [
        "# Operadores de Comparação\n",
        "\n",
        "Esses operadores nos permitem comparar variáveis e produzir um valor booleano (Verdadeiro ou Falso).\n",
        "\n",
        "## Tabela de operadores de comparação\n",
        "<table class=\"table table-bordered\">\n",
        "<tr>\n",
        "<th style=\"width:10%\">Operador</th><th style=\"width:45%\">Descrição</th><th>Exemplo</th>\n",
        "</tr>\n",
        "<tr>\n",
        "<td>==</td>\n",
        "<td>Se os valores de dois operandos forem iguais, a condição torna-se verdadeira.</td>\n",
        "<td> (a == b)</td>\n",
        "</tr>\n",
        "<tr>\n",
        "<td>!=</td>\n",
        "<td>Se valores de dois operandos não forem iguais, a condição torna-se verdadeira.</td>\n",
        "<td>(a != b)</td>\n",
        "</tr>\n",
        "<tr>\n",
        "<td>&gt;</td>\n",
        "<td>Se o valor do operando esquerdo for maior que o valor do operando direito, a condição torna-se verdadeira.</td>\n",
        "<td> (a &gt; b) </td>\n",
        "</tr>\n",
        "<tr>\n",
        "<td>&lt;</td>\n",
        "<td>Se o valor do operando esquerdo for inferior ao valor do operando direito, a condição torna-se verdadeira.</td>\n",
        "<td> (a &lt; b) </td>\n",
        "</tr>\n",
        "<tr>\n",
        "<td>&gt;=</td>\n",
        "<td>Se o valor do operando esquerdo for maior ou igual ao valor do operando direito, a condição torna-se verdadeira.</td>\n",
        "<td> (a &gt;= b)  </td>\n",
        "</tr>\n",
        "<tr>\n",
        "<td>&lt;=</td>\n",
        "<td>Se o valor do operando esquerdo for menor ou igual ao valor do operando direito, a condição torna-se verdadeira.</td>\n",
        "<td> (a &lt;= b)  </td>\n",
        "</tr>\n",
        "</table>\n",
        "\n",
        "## Operadores de comparação em cadeia\n",
        "\n",
        "Uma característica interessante do Python é a capacidade de **encadear** comparações múltiplas para realizar um teste mais complexo. Você pode usar essas comparações em cadeia como uma abreviatura para expressões booleanas maiores.\n",
        "\n",
        "Além disso podemos usar as declarações: **and** e **or**."
      ]
    },
    {
      "cell_type": "code",
      "metadata": {
        "colab": {
          "base_uri": "https://localhost:8080/"
        },
        "id": "FyVfbhloQIgT",
        "outputId": "93812223-34b7-4ca4-8b3d-246afeabc170"
      },
      "source": [
        "1 < 2 < 3"
      ],
      "execution_count": null,
      "outputs": [
        {
          "output_type": "execute_result",
          "data": {
            "text/plain": [
              "True"
            ]
          },
          "metadata": {
            "tags": []
          },
          "execution_count": 1
        }
      ]
    },
    {
      "cell_type": "code",
      "metadata": {
        "colab": {
          "base_uri": "https://localhost:8080/"
        },
        "id": "48d7gPDJQIgf",
        "outputId": "5b1d707d-4ddf-4436-fe83-f00b13a230ee"
      },
      "source": [
        "1 < 2 or 1 > 3"
      ],
      "execution_count": null,
      "outputs": [
        {
          "output_type": "execute_result",
          "data": {
            "text/plain": [
              "True"
            ]
          },
          "metadata": {
            "tags": []
          },
          "execution_count": 4
        }
      ]
    },
    {
      "cell_type": "code",
      "metadata": {
        "id": "nyuQw7VJQIgg",
        "outputId": "f9bfa47f-db15-4b52-ffca-dfa21ae7d569"
      },
      "source": [
        "x = 98\n",
        "y = 980\n",
        "z = 9\n",
        "\n",
        "x == z and z > y"
      ],
      "execution_count": null,
      "outputs": [
        {
          "output_type": "execute_result",
          "data": {
            "text/plain": [
              "False"
            ]
          },
          "metadata": {
            "tags": []
          },
          "execution_count": 5
        }
      ]
    },
    {
      "cell_type": "code",
      "metadata": {
        "colab": {
          "base_uri": "https://localhost:8080/"
        },
        "id": "dm5KLfWxQKf0",
        "outputId": "b92cfd7d-4988-44a5-bd12-7baab227121c"
      },
      "source": [
        "x = 10\n",
        "y = 9\n",
        "if x != y:\n",
        "  print('diferente')"
      ],
      "execution_count": null,
      "outputs": [
        {
          "output_type": "stream",
          "text": [
            "diferente\n"
          ],
          "name": "stdout"
        }
      ]
    }
  ]
}