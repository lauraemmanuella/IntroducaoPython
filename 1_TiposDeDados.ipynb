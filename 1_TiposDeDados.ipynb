{
  "nbformat": 4,
  "nbformat_minor": 0,
  "metadata": {
    "kernelspec": {
      "display_name": "Python 3",
      "language": "python",
      "name": "python3"
    },
    "language_info": {
      "codemirror_mode": {
        "name": "ipython",
        "version": 3
      },
      "file_extension": ".py",
      "mimetype": "text/x-python",
      "name": "python",
      "nbconvert_exporter": "python",
      "pygments_lexer": "ipython3",
      "version": "3.7.0"
    },
    "colab": {
      "name": "1-TiposDeDados.ipynb",
      "provenance": [],
      "include_colab_link": true
    }
  },
  "cells": [
    {
      "cell_type": "markdown",
      "metadata": {
        "id": "view-in-github",
        "colab_type": "text"
      },
      "source": [
        "<a href=\"https://colab.research.google.com/github/lauraemmanuella/IntroducaoPython/blob/main/1_TiposDeDados.ipynb\" target=\"_parent\"><img src=\"https://colab.research.google.com/assets/colab-badge.svg\" alt=\"Open In Colab\"/></a>"
      ]
    },
    {
      "cell_type": "markdown",
      "metadata": {
        "id": "k527eLzPElfz"
      },
      "source": [
        "Documentação oficial: https://docs.python.org/3/library/\n",
        "\n",
        "Tutorial Python: https://docs.python.org/3.7/tutorial/index.html\n",
        "\n",
        "Estrutura de dados: https://docs.python.org/3.7/tutorial/datastructures.html\n"
      ]
    },
    {
      "cell_type": "code",
      "metadata": {
        "id": "NvgfslZ0Elf9",
        "outputId": "0c894f35-dee4-4868-81bf-3569c376760f"
      },
      "source": [
        "# isto eh um comentario de uma linha\n",
        "'''\n",
        "Isto eh um comentario de \n",
        "multiplas linhas\n",
        "'''\n",
        "print('Intro python!!')"
      ],
      "execution_count": null,
      "outputs": [
        {
          "output_type": "stream",
          "text": [
            "Intro python!!\n"
          ],
          "name": "stdout"
        }
      ]
    },
    {
      "cell_type": "markdown",
      "metadata": {
        "id": "JzbVlAGsElgA"
      },
      "source": [
        "# Tipos de Dados em Python\n",
        "\n",
        "* Números\n",
        "* Booleanos\n",
        "* Strings\n",
        "* Listas\n",
        "* Tuplas\n",
        "* Sets\n",
        "* Dicionários"
      ]
    },
    {
      "cell_type": "markdown",
      "metadata": {
        "id": "M4wIjScVElgB"
      },
      "source": [
        "## Números\n",
        "\n",
        "<table>\n",
        "<tr>\n",
        "    <th>Exemplo</th> \n",
        "    <th>Tipo</th>\n",
        "</tr>\n",
        "\n",
        "<tr>\n",
        "    <td>1,2, -5, 1000</td>\n",
        "    <td>Inteiros</td> \n",
        "</tr>\n",
        "\n",
        "<tr>\n",
        "    <td>1.2, -0.5, 2e2, 3E2</td> \n",
        "    <td>Numero Ponto-flutuante</td> \n",
        "</tr>\n",
        " </table>"
      ]
    },
    {
      "cell_type": "markdown",
      "metadata": {
        "id": "z1ZzyTYRElgB"
      },
      "source": [
        "### Aritmética Básica"
      ]
    },
    {
      "cell_type": "code",
      "metadata": {
        "id": "4-fmLYNOElgC"
      },
      "source": [
        "# declaracao de variaveis (linguagem nao tipada)\n",
        "x = 9\n",
        "y = 0.5"
      ],
      "execution_count": null,
      "outputs": []
    },
    {
      "cell_type": "code",
      "metadata": {
        "scrolled": true,
        "id": "piB0b2JmElgC",
        "outputId": "d234c273-0b08-4821-a42d-0d378716a79b"
      },
      "source": [
        "type(x)"
      ],
      "execution_count": null,
      "outputs": [
        {
          "output_type": "execute_result",
          "data": {
            "text/plain": [
              "int"
            ]
          },
          "metadata": {
            "tags": []
          },
          "execution_count": 5
        }
      ]
    },
    {
      "cell_type": "code",
      "metadata": {
        "id": "fL4kpCMjElgC",
        "outputId": "4121ceed-5a05-462e-c3e5-c59d0797c1be"
      },
      "source": [
        "type(y)"
      ],
      "execution_count": null,
      "outputs": [
        {
          "output_type": "execute_result",
          "data": {
            "text/plain": [
              "float"
            ]
          },
          "metadata": {
            "tags": []
          },
          "execution_count": 193
        }
      ]
    },
    {
      "cell_type": "code",
      "metadata": {
        "id": "4wUAugutElgD",
        "outputId": "1b1e8bb4-c5d3-4049-e73e-2121c0cd4cd3"
      },
      "source": [
        "z = x / y # operadores aritmeticos basicos: + - / *\n",
        "print(z)"
      ],
      "execution_count": null,
      "outputs": [
        {
          "output_type": "stream",
          "text": [
            "18.0\n"
          ],
          "name": "stdout"
        }
      ]
    },
    {
      "cell_type": "code",
      "metadata": {
        "colab": {
          "base_uri": "https://localhost:8080/"
        },
        "id": "H6GYtKOeElgD",
        "outputId": "c192b56d-547f-4512-a2a0-c5d6dabcc753"
      },
      "source": [
        "z = x ** y #exponenciação\n",
        "print(z)"
      ],
      "execution_count": null,
      "outputs": [
        {
          "output_type": "stream",
          "text": [
            "3.0\n"
          ],
          "name": "stdout"
        }
      ]
    },
    {
      "cell_type": "code",
      "metadata": {
        "id": "KgE0AUxFElgE",
        "outputId": "6e959d5e-e6b1-4b5d-ad2f-b074117abf03"
      },
      "source": [
        "z = x % 2 #resto da divisao\n",
        "print(z)"
      ],
      "execution_count": null,
      "outputs": [
        {
          "output_type": "stream",
          "text": [
            "1\n"
          ],
          "name": "stdout"
        }
      ]
    },
    {
      "cell_type": "code",
      "metadata": {
        "id": "zrQsPv-WElgF",
        "outputId": "1bb2e573-7d83-497e-9e8d-0c4d3d6e41ee"
      },
      "source": [
        "z = x // 2 #parte inteira da divisao\n",
        "print(z)"
      ],
      "execution_count": null,
      "outputs": [
        {
          "output_type": "stream",
          "text": [
            "4\n"
          ],
          "name": "stdout"
        }
      ]
    },
    {
      "cell_type": "code",
      "metadata": {
        "id": "aLTJsAWfElgF",
        "outputId": "81546ae0-dccf-434a-c6e2-4152e82fe0f5"
      },
      "source": [
        "round(9.55789) #arredonda"
      ],
      "execution_count": null,
      "outputs": [
        {
          "output_type": "execute_result",
          "data": {
            "text/plain": [
              "10"
            ]
          },
          "metadata": {
            "tags": []
          },
          "execution_count": 6
        }
      ]
    },
    {
      "cell_type": "markdown",
      "metadata": {
        "id": "9t5bzIWCElgG"
      },
      "source": [
        "**Os nomes das variáveis devem seguir algumas regras:**\n",
        "\n",
        "     1. Os nomes não podem começar com um número.\n",
        "     2. Não pode haver espaços no nome. Use _ em vez disso.\n",
        "     3. Não é possível usar nenhum desses símbolos: '\", <> /? | \\ ()! @ # $% ^ & * ~ - +\n",
        "     4. É considerada uma boa prática que os nomes sejam minúsculos."
      ]
    },
    {
      "cell_type": "code",
      "metadata": {
        "id": "-346v6GOElgG",
        "outputId": "74979987-adcd-4488-91b4-7ab46d1f0871"
      },
      "source": [
        "1x = 10"
      ],
      "execution_count": null,
      "outputs": [
        {
          "output_type": "error",
          "ename": "SyntaxError",
          "evalue": "invalid syntax (<ipython-input-7-d6bc7cef26a6>, line 1)",
          "traceback": [
            "\u001b[0;36m  File \u001b[0;32m\"<ipython-input-7-d6bc7cef26a6>\"\u001b[0;36m, line \u001b[0;32m1\u001b[0m\n\u001b[0;31m    1x = 10\u001b[0m\n\u001b[0m     ^\u001b[0m\n\u001b[0;31mSyntaxError\u001b[0m\u001b[0;31m:\u001b[0m invalid syntax\n"
          ]
        }
      ]
    },
    {
      "cell_type": "markdown",
      "metadata": {
        "id": "AhI_WkgKElgI"
      },
      "source": [
        "## Strings"
      ]
    },
    {
      "cell_type": "markdown",
      "metadata": {
        "id": "6DSxoaSfElgI"
      },
      "source": [
        "As Strings em Python são **sequências** de caracteres. Isso significa que poderemos usar a indexação para pegar letras particulares (como a primeira letra ou a última letra)."
      ]
    },
    {
      "cell_type": "code",
      "metadata": {
        "colab": {
          "base_uri": "https://localhost:8080/"
        },
        "id": "udaZxJMaElgI",
        "outputId": "eb562245-1653-438d-996b-d084b55c238b"
      },
      "source": [
        "nome = 'Laura Emmanuella' # pode usar aspas simples ou aspas duplas\n",
        "curso = \"TADS\"\n",
        "'''\n",
        "O modo pythônico manda usar aspas simples\n",
        "Quando usar aspas duplas?\n",
        "Quando existe uma aspa simples no meio do texto, por exemplo\n",
        "'''\n",
        "exemplo = \"doesn't\"\n",
        "print(exemplo)"
      ],
      "execution_count": null,
      "outputs": [
        {
          "output_type": "stream",
          "text": [
            "doesn't\n"
          ],
          "name": "stdout"
        }
      ]
    },
    {
      "cell_type": "code",
      "metadata": {
        "id": "WQ92jNpgElgJ",
        "outputId": "3676bf30-ed1f-4f8c-e5d1-ca4614bbfb6f"
      },
      "source": [
        "type(nome)"
      ],
      "execution_count": null,
      "outputs": [
        {
          "output_type": "execute_result",
          "data": {
            "text/plain": [
              "str"
            ]
          },
          "metadata": {
            "tags": []
          },
          "execution_count": 33
        }
      ]
    },
    {
      "cell_type": "code",
      "metadata": {
        "id": "rFjPIPLWElgJ",
        "outputId": "7457ff0a-f516-4914-cda9-f8847cb6df7e"
      },
      "source": [
        "type(curso)"
      ],
      "execution_count": null,
      "outputs": [
        {
          "output_type": "execute_result",
          "data": {
            "text/plain": [
              "str"
            ]
          },
          "metadata": {
            "tags": []
          },
          "execution_count": 34
        }
      ]
    },
    {
      "cell_type": "code",
      "metadata": {
        "id": "bZWjjbFKElgJ",
        "outputId": "ce5b4c3e-e1e3-41a7-e22f-82fe95d15d3c"
      },
      "source": [
        "len(nome)"
      ],
      "execution_count": null,
      "outputs": [
        {
          "output_type": "execute_result",
          "data": {
            "text/plain": [
              "16"
            ]
          },
          "metadata": {
            "tags": []
          },
          "execution_count": 36
        }
      ]
    },
    {
      "cell_type": "code",
      "metadata": {
        "id": "6JEZ6YvpElgK",
        "outputId": "bb929c27-f48e-4069-cfe2-f9f27834448b"
      },
      "source": [
        "len(curso)"
      ],
      "execution_count": null,
      "outputs": [
        {
          "output_type": "execute_result",
          "data": {
            "text/plain": [
              "4"
            ]
          },
          "metadata": {
            "tags": []
          },
          "execution_count": 37
        }
      ]
    },
    {
      "cell_type": "code",
      "metadata": {
        "id": "1-K6t_mrElgK",
        "outputId": "39cc3882-c597-4ada-bff6-4bac2c4038e9"
      },
      "source": [
        "del exemplo\n",
        "print(exemplo) # OK"
      ],
      "execution_count": null,
      "outputs": [
        {
          "output_type": "error",
          "ename": "NameError",
          "evalue": "name 'exemplo' is not defined",
          "traceback": [
            "\u001b[0;31m---------------------------------------------------------------------------\u001b[0m",
            "\u001b[0;31mNameError\u001b[0m                                 Traceback (most recent call last)",
            "\u001b[0;32m<ipython-input-250-b69fd52d050a>\u001b[0m in \u001b[0;36m<module>\u001b[0;34m()\u001b[0m\n\u001b[0;32m----> 1\u001b[0;31m \u001b[0;32mdel\u001b[0m \u001b[0mexemplo\u001b[0m\u001b[0;34m\u001b[0m\u001b[0m\n\u001b[0m\u001b[1;32m      2\u001b[0m \u001b[0mprint\u001b[0m\u001b[0;34m(\u001b[0m\u001b[0mexemplo\u001b[0m\u001b[0;34m)\u001b[0m \u001b[0;31m# OK\u001b[0m\u001b[0;34m\u001b[0m\u001b[0m\n",
            "\u001b[0;31mNameError\u001b[0m: name 'exemplo' is not defined"
          ]
        }
      ]
    },
    {
      "cell_type": "code",
      "metadata": {
        "id": "aXTMss-LElgK",
        "colab": {
          "base_uri": "https://localhost:8080/"
        },
        "outputId": "76398ec2-d42e-4730-9e01-0f2ed300db3e"
      },
      "source": [
        "'a' in nome # pode usar o operador in para fazer testes em sequencias do python"
      ],
      "execution_count": null,
      "outputs": [
        {
          "output_type": "execute_result",
          "data": {
            "text/plain": [
              "True"
            ]
          },
          "metadata": {
            "tags": []
          },
          "execution_count": 3
        }
      ]
    },
    {
      "cell_type": "markdown",
      "metadata": {
        "id": "QQMzgxcEElgK"
      },
      "source": [
        "### Indexação\n",
        "Sabemos que as strings são uma sequência, o que significa que Python pode usar índices para chamar partes da sequência. Usamos colchetes [] após um objeto para chamar seu índice. Devemos também lembrar que a indexação começa em 0."
      ]
    },
    {
      "cell_type": "code",
      "metadata": {
        "colab": {
          "base_uri": "https://localhost:8080/"
        },
        "id": "QAdJrga2ElgL",
        "outputId": "fac3f149-4fcc-4f69-dd80-8b9c51d0b43d"
      },
      "source": [
        "print(curso[3])"
      ],
      "execution_count": null,
      "outputs": [
        {
          "output_type": "stream",
          "text": [
            "S\n"
          ],
          "name": "stdout"
        }
      ]
    },
    {
      "cell_type": "code",
      "metadata": {
        "colab": {
          "base_uri": "https://localhost:8080/"
        },
        "id": "lN1vbOeQElgL",
        "outputId": "b12ff230-34ae-4cf2-ef1f-0ecbd5804a33"
      },
      "source": [
        "print(curso[-1]) # retorna a ultima letra"
      ],
      "execution_count": null,
      "outputs": [
        {
          "output_type": "stream",
          "text": [
            "S\n"
          ],
          "name": "stdout"
        }
      ]
    },
    {
      "cell_type": "markdown",
      "metadata": {
        "id": "IbBcMMccElgL"
      },
      "source": [
        "### Cortes\n",
        "Podemos usar : para executar cortes que retorna tudo até um ponto designado"
      ]
    },
    {
      "cell_type": "code",
      "metadata": {
        "id": "xvoUyQyNElgM",
        "outputId": "52cee3a4-f05e-4621-f506-53a056d3b6cc"
      },
      "source": [
        "print(nome[6:])"
      ],
      "execution_count": null,
      "outputs": [
        {
          "output_type": "stream",
          "text": [
            "Emmanuella\n"
          ],
          "name": "stdout"
        }
      ]
    },
    {
      "cell_type": "code",
      "metadata": {
        "id": "gscGtIauElgM",
        "outputId": "9ba84027-a49b-4782-bfc5-bb66b2af919e"
      },
      "source": [
        "print(nome[8:12])"
      ],
      "execution_count": null,
      "outputs": [
        {
          "output_type": "stream",
          "text": [
            "manu\n"
          ],
          "name": "stdout"
        }
      ]
    },
    {
      "cell_type": "code",
      "metadata": {
        "id": "abfursIQElgM",
        "outputId": "62cfccf6-b627-41c4-f411-9d4d410b345c"
      },
      "source": [
        "print(nome[:6])"
      ],
      "execution_count": null,
      "outputs": [
        {
          "output_type": "stream",
          "text": [
            "Laura \n"
          ],
          "name": "stdout"
        }
      ]
    },
    {
      "cell_type": "code",
      "metadata": {
        "id": "Ixb69O5NElgN",
        "outputId": "2e41a810-3f89-41f3-c803-e0cecefe47ab"
      },
      "source": [
        "print(nome[:])"
      ],
      "execution_count": null,
      "outputs": [
        {
          "output_type": "stream",
          "text": [
            "Laura Emmanuella\n"
          ],
          "name": "stdout"
        }
      ]
    },
    {
      "cell_type": "code",
      "metadata": {
        "id": "6aZxf4_EElgO",
        "outputId": "1d74a3f2-0ee2-4eb4-aaf6-34947bef3a4f"
      },
      "source": [
        "print(nome[-1]) # ultimo caractere"
      ],
      "execution_count": null,
      "outputs": [
        {
          "output_type": "stream",
          "text": [
            "a\n"
          ],
          "name": "stdout"
        }
      ]
    },
    {
      "cell_type": "code",
      "metadata": {
        "id": "bx92PyyfElgO",
        "outputId": "ba52b9c5-9aa6-4385-f54e-c0d0c9b511d7"
      },
      "source": [
        "print(nome[:-1])"
      ],
      "execution_count": null,
      "outputs": [
        {
          "output_type": "stream",
          "text": [
            "Laura Emmanuell\n"
          ],
          "name": "stdout"
        }
      ]
    },
    {
      "cell_type": "code",
      "metadata": {
        "id": "ThPhtxV-ElgO",
        "outputId": "2202afe1-2a9a-4bd1-8695-6e30feedcd6b"
      },
      "source": [
        "print(nome[::2])"
      ],
      "execution_count": null,
      "outputs": [
        {
          "output_type": "stream",
          "text": [
            "LuaEmnel\n"
          ],
          "name": "stdout"
        }
      ]
    },
    {
      "cell_type": "code",
      "metadata": {
        "id": "ebQhAC1zElgP",
        "outputId": "6f83f04f-9a59-4602-bb25-a53d774a82ff"
      },
      "source": [
        "print(nome[::-1])"
      ],
      "execution_count": null,
      "outputs": [
        {
          "output_type": "stream",
          "text": [
            "alleunammE aruaL\n"
          ],
          "name": "stdout"
        }
      ]
    },
    {
      "cell_type": "markdown",
      "metadata": {
        "id": "nFg2RXPQElgP"
      },
      "source": [
        "### Propriedades das Strings\n",
        "É importante notar que as strings têm uma propriedade importante conhecida como **imutabilidade**. Isso significa que, uma vez que uma string é criada, os elementos nela não podem ser alterados ou substituídos por indexação."
      ]
    },
    {
      "cell_type": "code",
      "metadata": {
        "id": "cpFqpJJQElgQ",
        "outputId": "de1a8207-d386-4fac-8560-521ad0e9229f"
      },
      "source": [
        "nome[0] = 'M'"
      ],
      "execution_count": null,
      "outputs": [
        {
          "output_type": "error",
          "ename": "TypeError",
          "evalue": "'str' object does not support item assignment",
          "traceback": [
            "\u001b[0;31m---------------------------------------------------------------------------\u001b[0m",
            "\u001b[0;31mTypeError\u001b[0m                                 Traceback (most recent call last)",
            "\u001b[0;32m<ipython-input-213-2c85d6919a03>\u001b[0m in \u001b[0;36m<module>\u001b[0;34m()\u001b[0m\n\u001b[0;32m----> 1\u001b[0;31m \u001b[0mnome\u001b[0m\u001b[0;34m[\u001b[0m\u001b[0;36m0\u001b[0m\u001b[0;34m]\u001b[0m \u001b[0;34m=\u001b[0m \u001b[0;34m'M'\u001b[0m\u001b[0;34m\u001b[0m\u001b[0m\n\u001b[0m",
            "\u001b[0;31mTypeError\u001b[0m: 'str' object does not support item assignment"
          ]
        }
      ]
    },
    {
      "cell_type": "markdown",
      "metadata": {
        "id": "Rfgj1YaLElgQ"
      },
      "source": [
        "Mas, podemos **concatenar** strings"
      ]
    },
    {
      "cell_type": "code",
      "metadata": {
        "id": "5zKOgH35ElgQ",
        "outputId": "7908e6f1-dca8-4d2c-df05-a7ca6fc3a230"
      },
      "source": [
        "nome = 'M' + nome[1:]\n",
        "print(nome)"
      ],
      "execution_count": null,
      "outputs": [
        {
          "output_type": "stream",
          "text": [
            "Maura Emmanuella\n"
          ],
          "name": "stdout"
        }
      ]
    },
    {
      "cell_type": "code",
      "metadata": {
        "id": "LdEKHkI-ElgQ"
      },
      "source": [
        "curso = curso + ' '\n",
        "curso = curso * 4"
      ],
      "execution_count": null,
      "outputs": []
    },
    {
      "cell_type": "code",
      "metadata": {
        "id": "NvDHIQkNElgR",
        "outputId": "e044ff3b-637d-4afa-aa2a-bccdf03c930c"
      },
      "source": [
        "print(curso)"
      ],
      "execution_count": null,
      "outputs": [
        {
          "output_type": "stream",
          "text": [
            "TADS  TADS  TADS  TADS  \n"
          ],
          "name": "stdout"
        }
      ]
    },
    {
      "cell_type": "markdown",
      "metadata": {
        "id": "2x5RaYQDElgR"
      },
      "source": [
        "### Métodos de Strings\n",
        "\n",
        "https://docs.python.org/3.7/library/stdtypes.html#string-methods"
      ]
    },
    {
      "cell_type": "code",
      "metadata": {
        "id": "W9f2YXIAElgR",
        "outputId": "2cf5578e-33a4-4132-87d4-5264e0f07821"
      },
      "source": [
        "print(nome.upper())"
      ],
      "execution_count": null,
      "outputs": [
        {
          "output_type": "stream",
          "text": [
            "MAURA EMMANUELLA\n"
          ],
          "name": "stdout"
        }
      ]
    },
    {
      "cell_type": "code",
      "metadata": {
        "id": "IuIXw-13ElgR",
        "outputId": "5b331d85-c87d-498c-ddd6-716662f4a683"
      },
      "source": [
        "print(nome)"
      ],
      "execution_count": null,
      "outputs": [
        {
          "output_type": "stream",
          "text": [
            "Maura Emmanuella\n"
          ],
          "name": "stdout"
        }
      ]
    },
    {
      "cell_type": "code",
      "metadata": {
        "id": "GqTpLS8sElgS",
        "outputId": "7b06b7a3-c27b-4bf4-c7ce-fb7f27caa938"
      },
      "source": [
        "print(nome.split())"
      ],
      "execution_count": null,
      "outputs": [
        {
          "output_type": "stream",
          "text": [
            "['Maura', 'Emmanuella']\n"
          ],
          "name": "stdout"
        }
      ]
    },
    {
      "cell_type": "code",
      "metadata": {
        "id": "fustnNbzElgS",
        "outputId": "8bb5dd2a-4a21-4960-f7f3-3bcf9483e6e6"
      },
      "source": [
        "print(nome.split('a'))"
      ],
      "execution_count": null,
      "outputs": [
        {
          "output_type": "stream",
          "text": [
            "['M', 'ur', ' Emm', 'nuell', '']\n"
          ],
          "name": "stdout"
        }
      ]
    },
    {
      "cell_type": "code",
      "metadata": {
        "id": "IRH632kYElgS",
        "outputId": "b9597cc2-555c-4f5e-b269-417a40ef5de0"
      },
      "source": [
        "print('meu nome é ', nome, '\\nmeu curso é ', curso)"
      ],
      "execution_count": null,
      "outputs": [
        {
          "output_type": "stream",
          "text": [
            "meu nome é  Maura Emmanuella \n",
            "meu curso é  TADS\n"
          ],
          "name": "stdout"
        }
      ]
    },
    {
      "cell_type": "markdown",
      "metadata": {
        "id": "tyFb6D7VElgG"
      },
      "source": [
        "## Booleanos"
      ]
    },
    {
      "cell_type": "code",
      "metadata": {
        "id": "-8H5N_RBElgH"
      },
      "source": [
        "x = True\n",
        "y = False"
      ],
      "execution_count": null,
      "outputs": []
    },
    {
      "cell_type": "code",
      "metadata": {
        "colab": {
          "base_uri": "https://localhost:8080/"
        },
        "id": "f_BahZQRElgH",
        "outputId": "c1e3c492-5128-4927-f6eb-a4d5dae5704b"
      },
      "source": [
        "type(x)"
      ],
      "execution_count": null,
      "outputs": [
        {
          "output_type": "execute_result",
          "data": {
            "text/plain": [
              "bool"
            ]
          },
          "metadata": {
            "tags": []
          },
          "execution_count": 5
        }
      ]
    },
    {
      "cell_type": "code",
      "metadata": {
        "colab": {
          "base_uri": "https://localhost:8080/"
        },
        "id": "F9xOW5EWElgH",
        "outputId": "cff8f60a-f085-47fc-ed22-9e2c60af31dc"
      },
      "source": [
        "print(not x)"
      ],
      "execution_count": null,
      "outputs": [
        {
          "output_type": "stream",
          "text": [
            "False\n"
          ],
          "name": "stdout"
        }
      ]
    },
    {
      "cell_type": "markdown",
      "metadata": {
        "id": "5vVYx4gOIul9"
      },
      "source": [
        "Qualquer valor que não seja False, None, 0, NaN ou uma string vazia ('') retorna True quando testado com uma instrução condicional, portanto, podemos simplesmente usar um nome de variável para testar se ela existe (ou seja, não é indefinida). Por exemplo:"
      ]
    },
    {
      "cell_type": "code",
      "metadata": {
        "id": "FeGJof1fQ7-i"
      },
      "source": [
        "teste = 0 #None, 0, '' "
      ],
      "execution_count": null,
      "outputs": []
    },
    {
      "cell_type": "code",
      "metadata": {
        "colab": {
          "base_uri": "https://localhost:8080/"
        },
        "id": "FrdC1YVxQ-hW",
        "outputId": "a1975549-6db3-41d6-951a-8f6bbdebd108"
      },
      "source": [
        "if teste:\n",
        "  print('verdadeiro')\n",
        "else:\n",
        "  print('falso')"
      ],
      "execution_count": null,
      "outputs": [
        {
          "output_type": "stream",
          "text": [
            "falso\n"
          ],
          "name": "stdout"
        }
      ]
    },
    {
      "cell_type": "code",
      "metadata": {
        "id": "VlFmAY_gHr3P"
      },
      "source": [
        "teste = ''"
      ],
      "execution_count": null,
      "outputs": []
    },
    {
      "cell_type": "code",
      "metadata": {
        "colab": {
          "base_uri": "https://localhost:8080/"
        },
        "id": "y_1idyZgHuis",
        "outputId": "41c262e8-a049-423e-c911-02b6adbe7ce1"
      },
      "source": [
        "if not teste.strip():\n",
        "  print('vazio')"
      ],
      "execution_count": null,
      "outputs": [
        {
          "output_type": "stream",
          "text": [
            "vazio\n"
          ],
          "name": "stdout"
        }
      ]
    },
    {
      "cell_type": "markdown",
      "metadata": {
        "id": "huEL49OiElgT"
      },
      "source": [
        "## Listas\n",
        "\n",
        "As listas são **sequências** de valores quaisquer colocados entre colchetes e separados por vírgula. \n",
        "As listas podem ser pensadas na versão mais geral de uma sequência em Python. Ao contrário das strings, eles são mutáveis, o que significa que os elementos dentro de uma lista podem ser alterados por indexação."
      ]
    },
    {
      "cell_type": "code",
      "metadata": {
        "id": "glrA7KKUElgT"
      },
      "source": [
        "minhalista = ['Tecnologia da Informação', 2019, 9.5, 'x', nome]"
      ],
      "execution_count": null,
      "outputs": []
    },
    {
      "cell_type": "code",
      "metadata": {
        "id": "uFrJPecPElgT",
        "outputId": "6a25c324-09f1-49b4-f797-3841834ae9ac"
      },
      "source": [
        "type(minhalista)"
      ],
      "execution_count": null,
      "outputs": [
        {
          "output_type": "execute_result",
          "data": {
            "text/plain": [
              "list"
            ]
          },
          "metadata": {
            "tags": []
          },
          "execution_count": 221
        }
      ]
    },
    {
      "cell_type": "code",
      "metadata": {
        "id": "2rbo5z9-ElgT",
        "outputId": "c4e8f514-d381-4878-f74b-2d90c07eac9a"
      },
      "source": [
        "len(minhalista)"
      ],
      "execution_count": null,
      "outputs": [
        {
          "output_type": "execute_result",
          "data": {
            "text/plain": [
              "5"
            ]
          },
          "metadata": {
            "tags": []
          },
          "execution_count": 222
        }
      ]
    },
    {
      "cell_type": "code",
      "metadata": {
        "id": "kH5bHdcIElgU",
        "outputId": "65305f50-f6e9-4683-8987-32a871be4251"
      },
      "source": [
        "print(minhalista[0])"
      ],
      "execution_count": null,
      "outputs": [
        {
          "output_type": "stream",
          "text": [
            "Tecnologia da Informação\n"
          ],
          "name": "stdout"
        }
      ]
    },
    {
      "cell_type": "code",
      "metadata": {
        "id": "VMTVJuKgElgU",
        "outputId": "b8239edc-c1c4-447c-b97c-559119d9eb83"
      },
      "source": [
        "print(minhalista[-1])"
      ],
      "execution_count": null,
      "outputs": [
        {
          "output_type": "stream",
          "text": [
            "Maura Emmanuella\n"
          ],
          "name": "stdout"
        }
      ]
    },
    {
      "cell_type": "code",
      "metadata": {
        "id": "IMocKvXNElgV"
      },
      "source": [
        "minhalista[3] = 'a'"
      ],
      "execution_count": null,
      "outputs": []
    },
    {
      "cell_type": "code",
      "metadata": {
        "id": "eS6DC2XpElgV",
        "outputId": "4f3520a8-f424-4b2c-a010-e614e57e0e37"
      },
      "source": [
        "print(minhalista)"
      ],
      "execution_count": null,
      "outputs": [
        {
          "output_type": "stream",
          "text": [
            "['Tecnologia da Informação', 2019, 9.5, 'a', 'Maura Emmanuella']\n"
          ],
          "name": "stdout"
        }
      ]
    },
    {
      "cell_type": "code",
      "metadata": {
        "id": "Lbywab3PElgV",
        "outputId": "8e1ed381-fc05-4e2d-9d93-e2b8656d3e7a"
      },
      "source": [
        "print(minhalista[::2])"
      ],
      "execution_count": null,
      "outputs": [
        {
          "output_type": "stream",
          "text": [
            "['Tecnologia da Informação', 9.5, 'Maura Emmanuella']\n"
          ],
          "name": "stdout"
        }
      ]
    },
    {
      "cell_type": "code",
      "metadata": {
        "id": "OhkhdYNpElgW",
        "outputId": "c42a6c23-745d-483e-c49f-4c706e5928b5"
      },
      "source": [
        "minhalista = minhalista + [10]\n",
        "print(minhalista)"
      ],
      "execution_count": null,
      "outputs": [
        {
          "output_type": "stream",
          "text": [
            "['Tecnologia da Informação', 2019, 9.5, 'a', 'Maura Emmanuella', 10]\n"
          ],
          "name": "stdout"
        }
      ]
    },
    {
      "cell_type": "code",
      "metadata": {
        "id": "KW_J2YWCElgW"
      },
      "source": [
        "minhalista = minhalista * 2"
      ],
      "execution_count": null,
      "outputs": []
    },
    {
      "cell_type": "code",
      "metadata": {
        "id": "-rOBR3dDElgW",
        "outputId": "3708feac-3e40-46ce-9493-8c158a863b32"
      },
      "source": [
        "print(minhalista)"
      ],
      "execution_count": null,
      "outputs": [
        {
          "output_type": "stream",
          "text": [
            "['Tecnologia da Informação', 2019, 9.5, 'a', 'Maura Emmanuella', 10, 'Tecnologia da Informação', 2019, 9.5, 'a', 'Maura Emmanuella', 10]\n"
          ],
          "name": "stdout"
        }
      ]
    },
    {
      "cell_type": "code",
      "metadata": {
        "id": "J6uCOIsJElgW",
        "outputId": "7c9c54f2-a5ec-4769-8084-1ed5ea0bbfea"
      },
      "source": [
        "listaExemplo = []\n",
        "type(listaExemplo)\n"
      ],
      "execution_count": null,
      "outputs": [
        {
          "output_type": "execute_result",
          "data": {
            "text/plain": [
              "list"
            ]
          },
          "metadata": {
            "tags": []
          },
          "execution_count": 12
        }
      ]
    },
    {
      "cell_type": "markdown",
      "metadata": {
        "id": "IAJB6PhWElgX"
      },
      "source": [
        "### Métodos de Listas\n",
        "\n",
        "https://docs.python.org/3.7/tutorial/datastructures.html#more-on-lists"
      ]
    },
    {
      "cell_type": "code",
      "metadata": {
        "id": "_VmDZHGQElgX",
        "outputId": "ab9f166d-9490-4833-9515-6f691a62ca15"
      },
      "source": [
        "minhalista.append(2020)\n",
        "print(minhalista)"
      ],
      "execution_count": null,
      "outputs": [
        {
          "output_type": "stream",
          "text": [
            "['Tecnologia da Informação', 2019, 9.5, 'a', 'Maura Emmanuella', 10, 'Tecnologia da Informação', 2019, 9.5, 'a', 'Maura Emmanuella', 10, 2020]\n"
          ],
          "name": "stdout"
        }
      ]
    },
    {
      "cell_type": "markdown",
      "metadata": {
        "id": "XEEatyCOElgX"
      },
      "source": [
        "Use **pop** para retirar um item da lista. Por padrão, pop tira o último índice, mas também pode especificar qual índice será removido."
      ]
    },
    {
      "cell_type": "code",
      "metadata": {
        "id": "O-0t3va7ElgX",
        "outputId": "2bdce798-121c-4a22-b3f1-84349b974666"
      },
      "source": [
        "lixo = minhalista.pop()\n",
        "print(lixo)"
      ],
      "execution_count": null,
      "outputs": [
        {
          "output_type": "stream",
          "text": [
            "2020\n"
          ],
          "name": "stdout"
        }
      ]
    },
    {
      "cell_type": "code",
      "metadata": {
        "id": "l5XkVeIOElgY",
        "outputId": "eac40b62-b54d-453c-d279-5c39bb9bcccc"
      },
      "source": [
        "lixo = minhalista.pop(5)\n",
        "print(lixo)"
      ],
      "execution_count": null,
      "outputs": [
        {
          "output_type": "stream",
          "text": [
            "10\n"
          ],
          "name": "stdout"
        }
      ]
    },
    {
      "cell_type": "code",
      "metadata": {
        "id": "4UjHjffTElgY",
        "outputId": "fae1c413-e4da-4df2-83f2-048003d8f47b"
      },
      "source": [
        "print(minhalista)"
      ],
      "execution_count": null,
      "outputs": [
        {
          "output_type": "stream",
          "text": [
            "['Tecnologia da Informação', 2019, 9.5, 'a', 'Maura Emmanuella', 'Tecnologia da Informação', 2019, 9.5, 'a', 'Maura Emmanuella', 10]\n"
          ],
          "name": "stdout"
        }
      ]
    },
    {
      "cell_type": "code",
      "metadata": {
        "id": "e5BlzBkaElgY"
      },
      "source": [
        "lixo = minhalista.remove(2019)"
      ],
      "execution_count": null,
      "outputs": []
    },
    {
      "cell_type": "code",
      "metadata": {
        "id": "zgBGe1tSElgZ",
        "outputId": "f9de2879-acdb-4baf-9003-c354ce6182f4"
      },
      "source": [
        "print(lixo)\n",
        "print(minhalista)"
      ],
      "execution_count": null,
      "outputs": [
        {
          "output_type": "stream",
          "text": [
            "None\n",
            "['Tecnologia da Informação', 9.5, 'a', 'Maura Emmanuella', 'Tecnologia da Informação', 2019, 9.5, 'a', 'Maura Emmanuella', 10]\n"
          ],
          "name": "stdout"
        }
      ]
    },
    {
      "cell_type": "code",
      "metadata": {
        "id": "Dym6ZcZbElgZ",
        "outputId": "4361a5bf-3d75-4ea6-ff99-4efbc3903c00"
      },
      "source": [
        "help(list.remove)"
      ],
      "execution_count": null,
      "outputs": [
        {
          "output_type": "stream",
          "text": [
            "Help on method_descriptor:\n",
            "\n",
            "remove(self, value, /)\n",
            "    Remove first occurrence of value.\n",
            "    \n",
            "    Raises ValueError if the value is not present.\n",
            "\n"
          ],
          "name": "stdout"
        }
      ]
    },
    {
      "cell_type": "code",
      "metadata": {
        "id": "HNpfWoXrElgZ",
        "outputId": "e2bd82a8-e7fe-455d-a8e7-6aa10c4c6b5f"
      },
      "source": [
        "help(list.pop)"
      ],
      "execution_count": null,
      "outputs": [
        {
          "output_type": "stream",
          "text": [
            "Help on method_descriptor:\n",
            "\n",
            "pop(self, index=-1, /)\n",
            "    Remove and return item at index (default last).\n",
            "    \n",
            "    Raises IndexError if list is empty or index is out of range.\n",
            "\n"
          ],
          "name": "stdout"
        }
      ]
    },
    {
      "cell_type": "code",
      "metadata": {
        "id": "TUSMzXaeElga"
      },
      "source": [
        "lista2 = minhalista #usa referência"
      ],
      "execution_count": null,
      "outputs": []
    },
    {
      "cell_type": "code",
      "metadata": {
        "id": "qQw1d87kElga",
        "outputId": "7d428490-b751-446c-e0d9-e215c06a9406"
      },
      "source": [
        "print(lista2)"
      ],
      "execution_count": null,
      "outputs": [
        {
          "output_type": "stream",
          "text": [
            "['Tecnologia da Informação', 9.5, 'a', 'Maura Emmanuella', 'Tecnologia da Informação', 2019, 9.5, 'a', 'Maura Emmanuella', 10]\n"
          ],
          "name": "stdout"
        }
      ]
    },
    {
      "cell_type": "code",
      "metadata": {
        "id": "x-XcC08aElga"
      },
      "source": [
        "minhalista.clear()"
      ],
      "execution_count": null,
      "outputs": []
    },
    {
      "cell_type": "code",
      "metadata": {
        "id": "LuFKrFflElgb",
        "outputId": "7c008d3c-3f33-4536-d96b-cff68ee0a7a0"
      },
      "source": [
        "print(minhalista)"
      ],
      "execution_count": null,
      "outputs": [
        {
          "output_type": "stream",
          "text": [
            "[]\n"
          ],
          "name": "stdout"
        }
      ]
    },
    {
      "cell_type": "code",
      "metadata": {
        "id": "hNDqwy77Elgb",
        "outputId": "966ec473-da3b-4105-f0b2-c5de5efb2262"
      },
      "source": [
        "print(lista2)"
      ],
      "execution_count": null,
      "outputs": [
        {
          "output_type": "stream",
          "text": [
            "[]\n"
          ],
          "name": "stdout"
        }
      ]
    },
    {
      "cell_type": "code",
      "metadata": {
        "id": "IdmJCE-pElgb"
      },
      "source": [
        "minhalista = ['Tecnologia da Informação', 2019, 9.5, 'x', nome]\n",
        "lista2 = minhalista.copy() # faz cópia realmente\n",
        "minhalista.clear()"
      ],
      "execution_count": null,
      "outputs": []
    },
    {
      "cell_type": "code",
      "metadata": {
        "id": "HWM_ov7RElgb",
        "outputId": "dc31b8a3-5833-4772-f893-c55d4f6ce147"
      },
      "source": [
        "print(minhalista)\n",
        "print(lista2)"
      ],
      "execution_count": null,
      "outputs": [
        {
          "output_type": "stream",
          "text": [
            "[]\n",
            "['Tecnologia da Informação', 2019, 9.5, 'x', 'Maura Emmanuella']\n"
          ],
          "name": "stdout"
        }
      ]
    },
    {
      "cell_type": "code",
      "metadata": {
        "id": "9bIx9l5pElgc",
        "outputId": "8c213343-62f8-4857-ec75-b65f871a01d8"
      },
      "source": [
        "print(lista2.count('x'))"
      ],
      "execution_count": null,
      "outputs": [
        {
          "output_type": "stream",
          "text": [
            "1\n"
          ],
          "name": "stdout"
        }
      ]
    },
    {
      "cell_type": "markdown",
      "metadata": {
        "id": "KwYb0oqoElgc"
      },
      "source": [
        "### Listas aninhadas\n",
        "Uma ótima característica das estruturas de dados do Python é que eles suportam **aninhamento**. Isso significa que podemos ter estruturas de dados dentro das estruturas de dados. Por exemplo: uma lista dentro de uma lista."
      ]
    },
    {
      "cell_type": "code",
      "metadata": {
        "id": "9zecj_XbElgc"
      },
      "source": [
        "# Começamos com 3 listas\n",
        "lst_1=[1,2,3]\n",
        "lst_2=[4,5,6]\n",
        "lst_3=[7,8,9]\n",
        "\n",
        "# Faça uma lista de listas para formar uma matriz\n",
        "matrix = [lst_1,lst_2,lst_3]"
      ],
      "execution_count": null,
      "outputs": []
    },
    {
      "cell_type": "code",
      "metadata": {
        "id": "8APd6zO9Elgc",
        "outputId": "e74a11f1-b33b-4211-fa5f-627e78dbc7cd"
      },
      "source": [
        "print(matrix)"
      ],
      "execution_count": null,
      "outputs": [
        {
          "output_type": "stream",
          "text": [
            "[[1, 2, 3], [4, 5, 6], [7, 8, 9]]\n"
          ],
          "name": "stdout"
        }
      ]
    },
    {
      "cell_type": "code",
      "metadata": {
        "id": "rLk_qAMLElgd",
        "outputId": "bf590e3a-0046-4e70-a534-47a8bdbbd861"
      },
      "source": [
        "print(matrix[0])"
      ],
      "execution_count": null,
      "outputs": [
        {
          "output_type": "stream",
          "text": [
            "[1, 2, 3]\n"
          ],
          "name": "stdout"
        }
      ]
    },
    {
      "cell_type": "code",
      "metadata": {
        "id": "GGLrf1rIElgd",
        "outputId": "3d821102-25f9-47bc-9775-94cd24a6d20a"
      },
      "source": [
        "print(matrix[0][0])"
      ],
      "execution_count": null,
      "outputs": [
        {
          "output_type": "stream",
          "text": [
            "1\n"
          ],
          "name": "stdout"
        }
      ]
    },
    {
      "cell_type": "markdown",
      "metadata": {
        "id": "_CoWJ7BpElgd"
      },
      "source": [
        "### Compreensão de listas\n",
        "\n",
        "https://docs.python.org/3.7/tutorial/datastructures.html#tut-listcomps\n",
        "\n",
        "Além das operações de sequência e métodos de lista, o Python inclui uma operação mais avançada chamada de compreensão de lista.\n",
        "\n",
        "As compreensões de lista nos permitem construir listas usando uma notação diferente. Você pode pensar nisso essencialmente como um loop construído dentro de colchetes."
      ]
    },
    {
      "cell_type": "code",
      "metadata": {
        "id": "GfIKcNXAElge",
        "outputId": "d1d8b2e6-37a2-4548-8a1d-0ed26bc9f4c4"
      },
      "source": [
        "# Crie uma lista de compreensão desconstruindo um loop for dentro de um []\n",
        "first_col = [row[0] for row in matrix]\n",
        "print(first_col)"
      ],
      "execution_count": null,
      "outputs": [
        {
          "output_type": "stream",
          "text": [
            "[1, 4, 7]\n"
          ],
          "name": "stdout"
        }
      ]
    },
    {
      "cell_type": "markdown",
      "metadata": {
        "id": "t4M6R_HRElge"
      },
      "source": [
        "### Range\n",
        "\n",
        "https://docs.python.org/3.7/library/stdtypes.html#range\n",
        "\n",
        "A função range é uma função geradora (será discutida depois), capaz de retornar valores dentro de um limite definido para um iterável\n",
        "\n",
        "range(10): gera valores de 0 a 9\n",
        "\n",
        "range(45,55): gera valores de 45 a 54\n",
        "\n",
        "range(0, 10, 2): gera valores de 0 a 9 de 2 em 2"
      ]
    },
    {
      "cell_type": "code",
      "metadata": {
        "id": "XyW2qGzFElgf",
        "outputId": "7651ee86-6737-4040-d325-748ccf91e100"
      },
      "source": [
        "# Eleva o quadrado itens no range e o transformam em lista\n",
        "lst = [x**2 for x in range(1,11)]\n",
        "print(lst)"
      ],
      "execution_count": null,
      "outputs": [
        {
          "output_type": "stream",
          "text": [
            "[1, 4, 9, 16, 25, 36, 49, 64, 81, 100]\n"
          ],
          "name": "stdout"
        }
      ]
    },
    {
      "cell_type": "code",
      "metadata": {
        "id": "3NIpLcrkElgf",
        "outputId": "75393230-5d88-4b9a-b733-929248baabd8"
      },
      "source": [
        "lst = [x for x in range(0, 10, 2)]\n",
        "print(lst)"
      ],
      "execution_count": null,
      "outputs": [
        {
          "output_type": "stream",
          "text": [
            "[0, 2, 4, 6, 8]\n"
          ],
          "name": "stdout"
        }
      ]
    },
    {
      "cell_type": "code",
      "metadata": {
        "id": "hc8k2Hr2Elgg",
        "outputId": "11d510b4-a50f-4270-9906-71227b4b0d14"
      },
      "source": [
        "lst = [x**2 for x in range(1,11) if x % 2 == 0]\n",
        "print(lst)"
      ],
      "execution_count": null,
      "outputs": [
        {
          "output_type": "stream",
          "text": [
            "[4, 16, 36, 64, 100]\n"
          ],
          "name": "stdout"
        }
      ]
    },
    {
      "cell_type": "markdown",
      "metadata": {
        "id": "PgPfFtNRElgg"
      },
      "source": [
        "## Tuplas\n",
        "\n",
        "Em Python, as tuplas são muito semelhantes às listas, no entanto, ao contrário das listas, elas são **imutáveis**, o que significa que elas não podem ser alteradas. \n",
        "\n",
        "Você usaria tuplas para apresentar coisas que não deveriam ser alteradas, como dias da semana ou datas em um calendário."
      ]
    },
    {
      "cell_type": "code",
      "metadata": {
        "id": "f5yQ1wwcElgg"
      },
      "source": [
        "# Pode-se criar uma tupla com múltiplos elementos\n",
        "t = (1,2,3)"
      ],
      "execution_count": null,
      "outputs": []
    },
    {
      "cell_type": "code",
      "metadata": {
        "id": "cSI86HXdElgh"
      },
      "source": [
        "# Você também pode variar os tipos de dados\n",
        "t = ('one',2)"
      ],
      "execution_count": null,
      "outputs": []
    },
    {
      "cell_type": "code",
      "metadata": {
        "id": "CpEpJzt1Elgh",
        "outputId": "7a915f26-be29-485e-96bf-0671354b0311"
      },
      "source": [
        "type(t)"
      ],
      "execution_count": null,
      "outputs": [
        {
          "output_type": "execute_result",
          "data": {
            "text/plain": [
              "tuple"
            ]
          },
          "metadata": {
            "tags": []
          },
          "execution_count": 171
        }
      ]
    },
    {
      "cell_type": "code",
      "metadata": {
        "id": "KjUXPGTQElgh",
        "outputId": "c425bbe8-0000-4b5b-fb8a-cc08fefe7093"
      },
      "source": [
        "# E a indexação funciona exatamente como nas listas\n",
        "print(t[0])"
      ],
      "execution_count": null,
      "outputs": [
        {
          "output_type": "stream",
          "text": [
            "one\n"
          ],
          "name": "stdout"
        }
      ]
    },
    {
      "cell_type": "code",
      "metadata": {
        "id": "hBRcfLVQElgi",
        "outputId": "2d6a8b94-beec-4c03-ebce-1a6e8c444339"
      },
      "source": [
        "print(t[-1])"
      ],
      "execution_count": null,
      "outputs": [
        {
          "output_type": "stream",
          "text": [
            "2\n"
          ],
          "name": "stdout"
        }
      ]
    },
    {
      "cell_type": "markdown",
      "metadata": {
        "id": "Rirx8CPIElgi"
      },
      "source": [
        "### Métodos de Tuplas"
      ]
    },
    {
      "cell_type": "code",
      "metadata": {
        "id": "qvEJ84FZElgi",
        "outputId": "a9065d1c-8f97-49fb-a54e-746d4e5fe44e"
      },
      "source": [
        "t.count('one')"
      ],
      "execution_count": null,
      "outputs": [
        {
          "output_type": "execute_result",
          "data": {
            "text/plain": [
              "1"
            ]
          },
          "metadata": {
            "tags": []
          },
          "execution_count": 174
        }
      ]
    },
    {
      "cell_type": "code",
      "metadata": {
        "id": "oA64wLFiElgi",
        "outputId": "6a849968-0964-4dd2-c646-d0bfe0b1df3e"
      },
      "source": [
        "t.index(2)"
      ],
      "execution_count": null,
      "outputs": [
        {
          "output_type": "execute_result",
          "data": {
            "text/plain": [
              "1"
            ]
          },
          "metadata": {
            "tags": []
          },
          "execution_count": 175
        }
      ]
    },
    {
      "cell_type": "markdown",
      "metadata": {
        "id": "4i_M5lScElgj"
      },
      "source": [
        "### Imutabilidade"
      ]
    },
    {
      "cell_type": "code",
      "metadata": {
        "id": "EBn0Ntm5Elgj",
        "outputId": "8b8a4b12-2660-40f1-bbc8-19da46ae7c6c"
      },
      "source": [
        "t[0]= 'change'"
      ],
      "execution_count": null,
      "outputs": [
        {
          "output_type": "error",
          "ename": "TypeError",
          "evalue": "'tuple' object does not support item assignment",
          "traceback": [
            "\u001b[0;31m---------------------------------------------------------------------------\u001b[0m",
            "\u001b[0;31mTypeError\u001b[0m                                 Traceback (most recent call last)",
            "\u001b[0;32m<ipython-input-176-1257c0aa9edd>\u001b[0m in \u001b[0;36m<module>\u001b[0;34m()\u001b[0m\n\u001b[0;32m----> 1\u001b[0;31m \u001b[0mt\u001b[0m\u001b[0;34m[\u001b[0m\u001b[0;36m0\u001b[0m\u001b[0;34m]\u001b[0m\u001b[0;34m=\u001b[0m \u001b[0;34m'change'\u001b[0m\u001b[0;34m\u001b[0m\u001b[0m\n\u001b[0m",
            "\u001b[0;31mTypeError\u001b[0m: 'tuple' object does not support item assignment"
          ]
        }
      ]
    },
    {
      "cell_type": "markdown",
      "metadata": {
        "id": "y2mFiWUXElgj"
      },
      "source": [
        "## Sets\n",
        "\n",
        "https://docs.python.org/3.7/library/stdtypes.html#set-types-set-frozenset\n",
        "\n",
        "Os conjuntos são uma **coleção não ordenada de elementos únicos**. Podemos construí-los usando a função set()."
      ]
    },
    {
      "cell_type": "code",
      "metadata": {
        "id": "Dt9p2nVOElgj",
        "outputId": "a7a01edf-2614-4ecf-935c-6dc0406a915f"
      },
      "source": [
        "conjunto = {98,54,2,2,3,'laura', True}\n",
        "type(conjunto)\n",
        "print(conjunto)"
      ],
      "execution_count": null,
      "outputs": [
        {
          "output_type": "stream",
          "text": [
            "{True, 98, 3, 2, 'laura', 54}\n"
          ],
          "name": "stdout"
        }
      ]
    },
    {
      "cell_type": "code",
      "metadata": {
        "id": "fggZkskNElgl"
      },
      "source": [
        "conjunto2 = set()"
      ],
      "execution_count": null,
      "outputs": []
    },
    {
      "cell_type": "code",
      "metadata": {
        "id": "P33wmPesElgl",
        "outputId": "71fdfbff-b3d5-4cae-ac3a-b42af854c842"
      },
      "source": [
        "conjunto2.add(978)\n",
        "print(conjunto2)"
      ],
      "execution_count": null,
      "outputs": [
        {
          "output_type": "stream",
          "text": [
            "{978}\n"
          ],
          "name": "stdout"
        }
      ]
    },
    {
      "cell_type": "code",
      "metadata": {
        "id": "JKtjFzWuElgl",
        "outputId": "5a75a589-d9e5-4fb9-908f-d4c5b726148f"
      },
      "source": [
        "nlista = [1,1,2,2,3,4,4,5,6,6]\n",
        "nconjunto = set(nlista)\n",
        "print(nconjunto)"
      ],
      "execution_count": null,
      "outputs": [
        {
          "output_type": "stream",
          "text": [
            "{1, 2, 3, 4, 5, 6}\n"
          ],
          "name": "stdout"
        }
      ]
    },
    {
      "cell_type": "markdown",
      "metadata": {
        "id": "Jr8_7n-yElgm"
      },
      "source": [
        "## Dicionários\n",
        "\n",
        "https://docs.python.org/3.7/library/stdtypes.html#typesmapping\n",
        "\n",
        "Nós vimos que Strings e listas são sequências em Python, mas agora vamos aprender sobre mapeamentos em Python. Pode pensar nestes Dicionários como tabelas de hash.\n",
        "\n",
        "Os mapeamentos são uma coleção de objetos que são armazenados por uma chave, ao contrário de uma sequência que armazena objetos por sua posição relativa. \n",
        "\n",
        "Esta é uma distinção importante, uma vez que **os mapeamentos não reterão a ordem, pois possuem objetos definidos por uma chave.**\n",
        "\n",
        "Um dicionário de Python consiste em uma chave e depois em um valor associado. Esse valor pode ser quase qualquer objeto Python."
      ]
    },
    {
      "cell_type": "code",
      "metadata": {
        "id": "b05CiormElgm"
      },
      "source": [
        "meuDicionario = {'nome': 'Laura Emmanuella', 'curso': 'TADS', 'função': 'professor'}"
      ],
      "execution_count": null,
      "outputs": []
    },
    {
      "cell_type": "code",
      "metadata": {
        "id": "ImTWxDT5Elgm",
        "outputId": "41707228-d760-4e5a-b83f-d548e7be7ee5"
      },
      "source": [
        "print(meuDicionario)"
      ],
      "execution_count": null,
      "outputs": [
        {
          "output_type": "stream",
          "text": [
            "{'nome': 'Laura Emmanuella', 'curso': 'TADS', 'função': 'professor'}\n"
          ],
          "name": "stdout"
        }
      ]
    },
    {
      "cell_type": "code",
      "metadata": {
        "id": "jeQWXvEqElgn"
      },
      "source": [
        "meuDicionario['nome'] = 'Fabiola Maria'"
      ],
      "execution_count": null,
      "outputs": []
    },
    {
      "cell_type": "code",
      "metadata": {
        "id": "rmf6MZgIElgn",
        "outputId": "402d2d87-b7a9-4d35-f378-75e561722f4a"
      },
      "source": [
        "print(meuDicionario)"
      ],
      "execution_count": null,
      "outputs": [
        {
          "output_type": "stream",
          "text": [
            "{'nome': 'Fabiola Maria', 'curso': 'TADS', 'função': 'professor'}\n"
          ],
          "name": "stdout"
        }
      ]
    },
    {
      "cell_type": "code",
      "metadata": {
        "id": "pbvNl42dElgn"
      },
      "source": [
        "meuDicionario['campus'] = 'Macaiba'"
      ],
      "execution_count": null,
      "outputs": []
    },
    {
      "cell_type": "code",
      "metadata": {
        "id": "Ja8BsLGzElgo",
        "outputId": "8aaf5c29-45e1-441b-9f5d-b026104039d8"
      },
      "source": [
        "print(meuDicionario)"
      ],
      "execution_count": null,
      "outputs": [
        {
          "output_type": "stream",
          "text": [
            "{'nome': 'Fabiola Maria', 'curso': 'TADS', 'função': 'professor', 'campus': 'Macaiba'}\n"
          ],
          "name": "stdout"
        }
      ]
    },
    {
      "cell_type": "markdown",
      "metadata": {
        "id": "Yj3KZih6Elgo"
      },
      "source": [
        "### Métodos de Dicionários"
      ]
    },
    {
      "cell_type": "code",
      "metadata": {
        "id": "Q8NSK1mWElgo",
        "outputId": "8c1e3f85-f41f-44bb-95b3-bba7f21350bc"
      },
      "source": [
        "print(meuDicionario.keys())"
      ],
      "execution_count": null,
      "outputs": [
        {
          "output_type": "stream",
          "text": [
            "dict_keys(['nome', 'curso', 'função', 'campus'])\n"
          ],
          "name": "stdout"
        }
      ]
    },
    {
      "cell_type": "code",
      "metadata": {
        "id": "-CWexSpfElgo",
        "outputId": "9d4e2d2c-e7ab-463d-e836-5079fe0a782e"
      },
      "source": [
        "print(meuDicionario.values())"
      ],
      "execution_count": null,
      "outputs": [
        {
          "output_type": "stream",
          "text": [
            "dict_values(['Fabiola Maria', 'TADS', 'professor', 'Macaiba'])\n"
          ],
          "name": "stdout"
        }
      ]
    },
    {
      "cell_type": "code",
      "metadata": {
        "id": "GxKpfzwtElgp",
        "outputId": "c614bcbf-d515-4c63-e57d-2a3f926312d6"
      },
      "source": [
        "print(meuDicionario.items())"
      ],
      "execution_count": null,
      "outputs": [
        {
          "output_type": "stream",
          "text": [
            "dict_items([('nome', 'Fabiola Maria'), ('curso', 'TADS'), ('função', 'professor'), ('campus', 'Macaiba')])\n"
          ],
          "name": "stdout"
        }
      ]
    },
    {
      "cell_type": "code",
      "metadata": {
        "id": "RkbRVFGaElgp",
        "outputId": "a6f14816-49e6-4152-97c2-3c8568ff1e8f"
      },
      "source": [
        "print(meuDicionario.popitem())"
      ],
      "execution_count": null,
      "outputs": [
        {
          "output_type": "stream",
          "text": [
            "('campus', 'Macaiba')\n"
          ],
          "name": "stdout"
        }
      ]
    },
    {
      "cell_type": "code",
      "metadata": {
        "id": "brfMshcMElgp",
        "outputId": "d6b0b349-79df-4b46-ebd6-7b0ed4763067"
      },
      "source": [
        "print(meuDicionario)"
      ],
      "execution_count": null,
      "outputs": [
        {
          "output_type": "stream",
          "text": [
            "{'nome': 'Fabiola Maria', 'curso': 'TADS', 'função': 'professor'}\n"
          ],
          "name": "stdout"
        }
      ]
    },
    {
      "cell_type": "code",
      "metadata": {
        "id": "hEGjHH5AElgp",
        "outputId": "1f8008ee-8d16-4e1c-cc9c-822106bec199"
      },
      "source": [
        "print(meuDicionario.pop('nome'))"
      ],
      "execution_count": null,
      "outputs": [
        {
          "output_type": "stream",
          "text": [
            "Fabiola Maria\n"
          ],
          "name": "stdout"
        }
      ]
    },
    {
      "cell_type": "code",
      "metadata": {
        "id": "t2IfnZeYElgq",
        "outputId": "66308293-bde9-477a-f95a-fde438ef388f"
      },
      "source": [
        "print(meuDicionario)"
      ],
      "execution_count": null,
      "outputs": [
        {
          "output_type": "stream",
          "text": [
            "{'curso': 'TADS', 'função': 'professor'}\n"
          ],
          "name": "stdout"
        }
      ]
    },
    {
      "cell_type": "markdown",
      "metadata": {
        "id": "eoRJkogLElgq"
      },
      "source": [
        "### Outros exemplos"
      ]
    },
    {
      "cell_type": "code",
      "metadata": {
        "id": "zdZrhmJ1Elgq",
        "outputId": "b7c20834-283f-4a6e-84df-79e06b77aae6"
      },
      "source": [
        "dic = {'animais': ['gato', 'cachorro'], 'numero':[1,2,3], 'senha': 123}\n",
        "print(dic)"
      ],
      "execution_count": null,
      "outputs": [
        {
          "output_type": "stream",
          "text": [
            "{'animais': ['gato', 'cachorro'], 'numero': [1, 2, 3], 'senha': 123}\n"
          ],
          "name": "stdout"
        }
      ]
    },
    {
      "cell_type": "code",
      "metadata": {
        "id": "rISXhdWfElgq",
        "outputId": "d36c0325-639c-4624-9870-20091b31e23e"
      },
      "source": [
        "dic['numerosinteiros'] = dic.pop('numero')\n",
        "print(dic)"
      ],
      "execution_count": null,
      "outputs": [
        {
          "output_type": "stream",
          "text": [
            "{'animais': ['gato', 'cachorro'], 'senha': 123, 'numerosinteiros': [1, 2, 3]}\n"
          ],
          "name": "stdout"
        }
      ]
    },
    {
      "cell_type": "code",
      "metadata": {
        "id": "3xsPx4SDElgr",
        "outputId": "946e07ab-270e-4f69-cc49-49b6ee072abc"
      },
      "source": [
        "print(dic['animais'][1])"
      ],
      "execution_count": null,
      "outputs": [
        {
          "output_type": "stream",
          "text": [
            "cachorro\n"
          ],
          "name": "stdout"
        }
      ]
    }
  ]
}