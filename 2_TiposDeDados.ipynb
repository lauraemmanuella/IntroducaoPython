{
  "nbformat": 4,
  "nbformat_minor": 0,
  "metadata": {
    "kernelspec": {
      "display_name": "Python 3",
      "language": "python",
      "name": "python3"
    },
    "language_info": {
      "codemirror_mode": {
        "name": "ipython",
        "version": 3
      },
      "file_extension": ".py",
      "mimetype": "text/x-python",
      "name": "python",
      "nbconvert_exporter": "python",
      "pygments_lexer": "ipython3",
      "version": "3.7.0"
    },
    "colab": {
      "name": "2-TiposDeDados.ipynb",
      "provenance": [],
      "collapsed_sections": [],
      "toc_visible": true,
      "include_colab_link": true
    }
  },
  "cells": [
    {
      "cell_type": "markdown",
      "metadata": {
        "id": "view-in-github",
        "colab_type": "text"
      },
      "source": [
        "<a href=\"https://colab.research.google.com/github/lauraemmanuella/IntroducaoPython/blob/main/2_TiposDeDados.ipynb\" target=\"_parent\"><img src=\"https://colab.research.google.com/assets/colab-badge.svg\" alt=\"Open In Colab\"/></a>"
      ]
    },
    {
      "cell_type": "markdown",
      "source": [
        "# Outros tipos de dados em Python\n",
        "\n",
        "\n",
        "\n",
        "---\n",
        "\n",
        "\n",
        "O que vamos ver aqui?\n",
        "\n",
        "1. Listas\n",
        "2. Conjuntos\n",
        "3. Tuplas\n",
        "4. Dicionários"
      ],
      "metadata": {
        "id": "1ltEWa800dQO"
      }
    },
    {
      "cell_type": "markdown",
      "metadata": {
        "id": "huEL49OiElgT"
      },
      "source": [
        "## Listas\n",
        "\n",
        "As listas são **sequências** de valores quaisquer colocados entre colchetes e separados por vírgula. \n",
        "As listas podem ser pensadas na versão mais geral de uma sequência em Python. Ao contrário das strings, eles são mutáveis, o que significa que os elementos dentro de uma lista podem ser alterados por indexação."
      ]
    },
    {
      "cell_type": "code",
      "source": [
        "nome = 'Laura Emmanuella'"
      ],
      "metadata": {
        "id": "fWEVze0U01P-"
      },
      "execution_count": null,
      "outputs": []
    },
    {
      "cell_type": "code",
      "metadata": {
        "id": "glrA7KKUElgT"
      },
      "source": [
        "minhalista = ['Engenharia', 2022, 9.5, 'x', nome]"
      ],
      "execution_count": null,
      "outputs": []
    },
    {
      "cell_type": "code",
      "metadata": {
        "id": "uFrJPecPElgT",
        "colab": {
          "base_uri": "https://localhost:8080/"
        },
        "outputId": "270bdab3-ebd3-40df-ceb3-30d1bc42b711"
      },
      "source": [
        "type(minhalista)"
      ],
      "execution_count": null,
      "outputs": [
        {
          "output_type": "execute_result",
          "data": {
            "text/plain": [
              "list"
            ]
          },
          "metadata": {},
          "execution_count": 72
        }
      ]
    },
    {
      "cell_type": "code",
      "metadata": {
        "id": "2rbo5z9-ElgT",
        "colab": {
          "base_uri": "https://localhost:8080/"
        },
        "outputId": "d031cdc8-7bab-47b6-97fa-f259644d7971"
      },
      "source": [
        "len(minhalista)"
      ],
      "execution_count": null,
      "outputs": [
        {
          "output_type": "execute_result",
          "data": {
            "text/plain": [
              "5"
            ]
          },
          "metadata": {},
          "execution_count": 4
        }
      ]
    },
    {
      "cell_type": "code",
      "metadata": {
        "id": "kH5bHdcIElgU",
        "colab": {
          "base_uri": "https://localhost:8080/"
        },
        "outputId": "27d5ce9c-7304-4677-8553-017890ab02f6"
      },
      "source": [
        "print(minhalista[0]) #primeiro elemento"
      ],
      "execution_count": null,
      "outputs": [
        {
          "output_type": "stream",
          "name": "stdout",
          "text": [
            "Engenharia\n"
          ]
        }
      ]
    },
    {
      "cell_type": "code",
      "metadata": {
        "id": "VMTVJuKgElgU",
        "colab": {
          "base_uri": "https://localhost:8080/"
        },
        "outputId": "8458ba74-ce8f-4a92-bfe1-0db13d8d545b"
      },
      "source": [
        "print(minhalista[-1]) #Ultimo elemento"
      ],
      "execution_count": null,
      "outputs": [
        {
          "output_type": "stream",
          "name": "stdout",
          "text": [
            "Laura Emmanuella\n"
          ]
        }
      ]
    },
    {
      "cell_type": "code",
      "metadata": {
        "id": "IMocKvXNElgV"
      },
      "source": [
        "minhalista[3] = 'a' #substitui (nova atribuição)"
      ],
      "execution_count": null,
      "outputs": []
    },
    {
      "cell_type": "code",
      "metadata": {
        "id": "eS6DC2XpElgV",
        "colab": {
          "base_uri": "https://localhost:8080/"
        },
        "outputId": "762a20ec-ae01-4aeb-b1fb-8bc4da75b710"
      },
      "source": [
        "print(minhalista)"
      ],
      "execution_count": null,
      "outputs": [
        {
          "output_type": "stream",
          "name": "stdout",
          "text": [
            "['Engenharia', 2022, 9.5, 'a', 'Laura Emmanuella']\n"
          ]
        }
      ]
    },
    {
      "cell_type": "code",
      "metadata": {
        "id": "Lbywab3PElgV",
        "colab": {
          "base_uri": "https://localhost:8080/"
        },
        "outputId": "cd8871f4-8efa-4526-9e53-87b559ecaf6f"
      },
      "source": [
        "print(minhalista[::2]) #inicio:fim:passos"
      ],
      "execution_count": null,
      "outputs": [
        {
          "output_type": "stream",
          "name": "stdout",
          "text": [
            "['Engenharia', 9.5, 'Laura Emmanuella']\n"
          ]
        }
      ]
    },
    {
      "cell_type": "code",
      "metadata": {
        "id": "OhkhdYNpElgW",
        "colab": {
          "base_uri": "https://localhost:8080/"
        },
        "outputId": "34fb9485-5634-4abc-d177-fa1b058e32cc"
      },
      "source": [
        "minhalista = minhalista + [10] #adiciona\n",
        "print(minhalista)"
      ],
      "execution_count": null,
      "outputs": [
        {
          "output_type": "stream",
          "name": "stdout",
          "text": [
            "['Engenharia', 2022, 9.5, 'a', 'Laura Emmanuella', 10]\n"
          ]
        }
      ]
    },
    {
      "cell_type": "code",
      "metadata": {
        "colab": {
          "base_uri": "https://localhost:8080/",
          "height": 166
        },
        "id": "MUMgNkrdRQki",
        "outputId": "5f647f97-cb09-425b-8870-9d4630ef4956"
      },
      "source": [
        "minhalista = minhalista + 11 #não concatena se não for outra lista"
      ],
      "execution_count": null,
      "outputs": [
        {
          "output_type": "error",
          "ename": "TypeError",
          "evalue": "ignored",
          "traceback": [
            "\u001b[0;31m---------------------------------------------------------------------------\u001b[0m",
            "\u001b[0;31mTypeError\u001b[0m                                 Traceback (most recent call last)",
            "\u001b[0;32m<ipython-input-12-8f84d6a09b35>\u001b[0m in \u001b[0;36m<module>\u001b[0;34m()\u001b[0m\n\u001b[0;32m----> 1\u001b[0;31m \u001b[0mminhalista\u001b[0m \u001b[0;34m=\u001b[0m \u001b[0mminhalista\u001b[0m \u001b[0;34m+\u001b[0m \u001b[0;36m11\u001b[0m \u001b[0;31m#não concatena se não for outra lista\u001b[0m\u001b[0;34m\u001b[0m\u001b[0;34m\u001b[0m\u001b[0m\n\u001b[0m",
            "\u001b[0;31mTypeError\u001b[0m: can only concatenate list (not \"int\") to list"
          ]
        }
      ]
    },
    {
      "cell_type": "code",
      "metadata": {
        "id": "KW_J2YWCElgW"
      },
      "source": [
        "minhalista = minhalista * 2 #duplica"
      ],
      "execution_count": null,
      "outputs": []
    },
    {
      "cell_type": "code",
      "metadata": {
        "id": "-rOBR3dDElgW",
        "colab": {
          "base_uri": "https://localhost:8080/"
        },
        "outputId": "3d55e470-0dd9-4ef8-dc8b-caff7860df7e"
      },
      "source": [
        "print(minhalista)"
      ],
      "execution_count": null,
      "outputs": [
        {
          "output_type": "stream",
          "name": "stdout",
          "text": [
            "['Engenharia', 2022, 9.5, 'a', 'Laura Emmanuella', 10, 'Engenharia', 2022, 9.5, 'a', 'Laura Emmanuella', 10]\n"
          ]
        }
      ]
    },
    {
      "cell_type": "code",
      "metadata": {
        "id": "J6uCOIsJElgW",
        "colab": {
          "base_uri": "https://localhost:8080/"
        },
        "outputId": "7d45ead4-ce33-4daf-d182-4d131c834207"
      },
      "source": [
        "listaExemplo = [] #cria lista vazia\n",
        "type(listaExemplo)"
      ],
      "execution_count": null,
      "outputs": [
        {
          "output_type": "execute_result",
          "data": {
            "text/plain": [
              "list"
            ]
          },
          "metadata": {},
          "execution_count": 15
        }
      ]
    },
    {
      "cell_type": "markdown",
      "metadata": {
        "id": "IAJB6PhWElgX"
      },
      "source": [
        "### Métodos de Listas\n",
        "\n",
        "https://docs.python.org/pt-br/3.10/tutorial/datastructures.html#more-on-lists"
      ]
    },
    {
      "cell_type": "code",
      "metadata": {
        "id": "_VmDZHGQElgX",
        "colab": {
          "base_uri": "https://localhost:8080/"
        },
        "outputId": "2fc20436-53f0-426c-fc3d-99fb924315c7"
      },
      "source": [
        "minhalista.append(2020) #adiciona ao final da lista\n",
        "print(minhalista)"
      ],
      "execution_count": null,
      "outputs": [
        {
          "output_type": "stream",
          "name": "stdout",
          "text": [
            "['Engenharia', 2022, 9.5, 'a', 'Laura Emmanuella', 10, 'Engenharia', 2022, 9.5, 'a', 'Laura Emmanuella', 10, 2020]\n"
          ]
        }
      ]
    },
    {
      "cell_type": "markdown",
      "metadata": {
        "id": "XEEatyCOElgX"
      },
      "source": [
        "Use **pop** para retirar um item da lista. Por padrão, pop tira do último índice, mas também pode especificar qual índice será removido."
      ]
    },
    {
      "cell_type": "code",
      "metadata": {
        "id": "O-0t3va7ElgX",
        "colab": {
          "base_uri": "https://localhost:8080/"
        },
        "outputId": "29a76163-a6f8-4da3-ee7e-02a128c26da5"
      },
      "source": [
        "lixo = minhalista.pop()\n",
        "print(lixo)"
      ],
      "execution_count": null,
      "outputs": [
        {
          "output_type": "stream",
          "name": "stdout",
          "text": [
            "2020\n"
          ]
        }
      ]
    },
    {
      "cell_type": "code",
      "metadata": {
        "id": "l5XkVeIOElgY",
        "colab": {
          "base_uri": "https://localhost:8080/"
        },
        "outputId": "6dd47e34-0a52-4c03-b00b-d36752f270b1"
      },
      "source": [
        "lixo = minhalista.pop(5) #remove do índice 5\n",
        "print(lixo)"
      ],
      "execution_count": null,
      "outputs": [
        {
          "output_type": "stream",
          "name": "stdout",
          "text": [
            "10\n"
          ]
        }
      ]
    },
    {
      "cell_type": "code",
      "metadata": {
        "id": "4UjHjffTElgY",
        "colab": {
          "base_uri": "https://localhost:8080/"
        },
        "outputId": "cf188b96-4486-4cbc-b6c8-1516751edd04"
      },
      "source": [
        "print(minhalista)"
      ],
      "execution_count": null,
      "outputs": [
        {
          "output_type": "stream",
          "name": "stdout",
          "text": [
            "['Engenharia', 2022, 9.5, 'a', 'Laura Emmanuella', 'Engenharia', 2022, 9.5, 'a', 'Laura Emmanuella', 10]\n"
          ]
        }
      ]
    },
    {
      "cell_type": "code",
      "metadata": {
        "id": "e5BlzBkaElgY"
      },
      "source": [
        "lixo = minhalista.remove(2022) #remove o item 2022 (primeira ocorrência)"
      ],
      "execution_count": null,
      "outputs": []
    },
    {
      "cell_type": "code",
      "metadata": {
        "id": "zgBGe1tSElgZ",
        "colab": {
          "base_uri": "https://localhost:8080/"
        },
        "outputId": "76e3f90b-fdaf-4f8a-c177-62c470829e97"
      },
      "source": [
        "print(lixo) #observe que o comando remove não retorna o valor removido\n",
        "print(minhalista)"
      ],
      "execution_count": null,
      "outputs": [
        {
          "output_type": "stream",
          "name": "stdout",
          "text": [
            "None\n",
            "['Engenharia', 9.5, 'a', 'Laura Emmanuella', 'Engenharia', 2022, 9.5, 'a', 'Laura Emmanuella', 10]\n"
          ]
        }
      ]
    },
    {
      "cell_type": "code",
      "metadata": {
        "id": "Dym6ZcZbElgZ",
        "colab": {
          "base_uri": "https://localhost:8080/"
        },
        "outputId": "a44bc5fc-e261-4f2c-c29d-cce4c21b5aa5"
      },
      "source": [
        "help(list.remove)"
      ],
      "execution_count": null,
      "outputs": [
        {
          "output_type": "stream",
          "name": "stdout",
          "text": [
            "Help on method_descriptor:\n",
            "\n",
            "remove(self, value, /)\n",
            "    Remove first occurrence of value.\n",
            "    \n",
            "    Raises ValueError if the value is not present.\n",
            "\n"
          ]
        }
      ]
    },
    {
      "cell_type": "code",
      "metadata": {
        "id": "HNpfWoXrElgZ",
        "colab": {
          "base_uri": "https://localhost:8080/"
        },
        "outputId": "ec62714f-895b-4f62-c34e-8d00acd6ef46"
      },
      "source": [
        "help(list.pop)"
      ],
      "execution_count": null,
      "outputs": [
        {
          "output_type": "stream",
          "name": "stdout",
          "text": [
            "Help on method_descriptor:\n",
            "\n",
            "pop(self, index=-1, /)\n",
            "    Remove and return item at index (default last).\n",
            "    \n",
            "    Raises IndexError if list is empty or index is out of range.\n",
            "\n"
          ]
        }
      ]
    },
    {
      "cell_type": "code",
      "metadata": {
        "id": "TUSMzXaeElga"
      },
      "source": [
        "lista2 = minhalista #usa referência"
      ],
      "execution_count": null,
      "outputs": []
    },
    {
      "cell_type": "code",
      "metadata": {
        "id": "qQw1d87kElga",
        "colab": {
          "base_uri": "https://localhost:8080/"
        },
        "outputId": "d379a809-e863-441b-971f-a4d05ed58858"
      },
      "source": [
        "print(lista2)"
      ],
      "execution_count": null,
      "outputs": [
        {
          "output_type": "stream",
          "name": "stdout",
          "text": [
            "['Engenharia', 9.5, 'a', 'Laura Emmanuella', 'Engenharia', 2022, 9.5, 'a', 'Laura Emmanuella', 10]\n"
          ]
        }
      ]
    },
    {
      "cell_type": "code",
      "metadata": {
        "id": "x-XcC08aElga"
      },
      "source": [
        "minhalista.clear()"
      ],
      "execution_count": null,
      "outputs": []
    },
    {
      "cell_type": "code",
      "metadata": {
        "id": "LuFKrFflElgb",
        "colab": {
          "base_uri": "https://localhost:8080/"
        },
        "outputId": "d493d91d-4a36-4270-f256-55b6109152ac"
      },
      "source": [
        "print(minhalista)"
      ],
      "execution_count": null,
      "outputs": [
        {
          "output_type": "stream",
          "name": "stdout",
          "text": [
            "[]\n"
          ]
        }
      ]
    },
    {
      "cell_type": "code",
      "metadata": {
        "id": "hNDqwy77Elgb",
        "colab": {
          "base_uri": "https://localhost:8080/"
        },
        "outputId": "b88de883-3d4c-42f4-c047-6b41a0b69e07"
      },
      "source": [
        "print(lista2)"
      ],
      "execution_count": null,
      "outputs": [
        {
          "output_type": "stream",
          "name": "stdout",
          "text": [
            "[]\n"
          ]
        }
      ]
    },
    {
      "cell_type": "code",
      "metadata": {
        "id": "IdmJCE-pElgb"
      },
      "source": [
        "minhalista = ['Engenharia', 2022, 9.5, 'x', nome]\n",
        "lista2 = minhalista.copy() # faz cópia realmente\n",
        "minhalista.clear()"
      ],
      "execution_count": null,
      "outputs": []
    },
    {
      "cell_type": "code",
      "metadata": {
        "id": "HWM_ov7RElgb",
        "colab": {
          "base_uri": "https://localhost:8080/"
        },
        "outputId": "18523606-4125-4c47-b7df-a676fd7597fd"
      },
      "source": [
        "print(minhalista)\n",
        "print(lista2)"
      ],
      "execution_count": null,
      "outputs": [
        {
          "output_type": "stream",
          "name": "stdout",
          "text": [
            "[]\n",
            "['Engenharia', 2022, 9.5, 'x', 'Laura Emmanuella']\n"
          ]
        }
      ]
    },
    {
      "cell_type": "code",
      "metadata": {
        "id": "9bIx9l5pElgc",
        "colab": {
          "base_uri": "https://localhost:8080/"
        },
        "outputId": "ccc985f6-89cf-45b3-8762-8fe4b352ca9c"
      },
      "source": [
        "print(lista2.count('x')) #conta ocorrências"
      ],
      "execution_count": null,
      "outputs": [
        {
          "output_type": "stream",
          "name": "stdout",
          "text": [
            "1\n"
          ]
        }
      ]
    },
    {
      "cell_type": "code",
      "metadata": {
        "id": "5fOOSpgOMZ1z"
      },
      "source": [
        "minhalista = [1,2,3]"
      ],
      "execution_count": null,
      "outputs": []
    },
    {
      "cell_type": "code",
      "metadata": {
        "id": "mZK8UK_UMeIa"
      },
      "source": [
        "lista2.append(minhalista)#uma lista ficará dentro da outra"
      ],
      "execution_count": null,
      "outputs": []
    },
    {
      "cell_type": "code",
      "metadata": {
        "colab": {
          "base_uri": "https://localhost:8080/"
        },
        "id": "USy2Bf2hMi6Y",
        "outputId": "e57af584-f45d-40cb-efb9-67a5ac11e7cc"
      },
      "source": [
        "print(lista2) "
      ],
      "execution_count": null,
      "outputs": [
        {
          "output_type": "stream",
          "name": "stdout",
          "text": [
            "['Engenharia', 2022, 9.5, 'x', 'Laura Emmanuella', [1, 2, 3]]\n"
          ]
        }
      ]
    },
    {
      "cell_type": "code",
      "metadata": {
        "colab": {
          "base_uri": "https://localhost:8080/"
        },
        "id": "9D2HR9AwMoni",
        "outputId": "1d7767ac-2288-4764-afeb-1469d0b0e4f2"
      },
      "source": [
        "lista2.pop()"
      ],
      "execution_count": null,
      "outputs": [
        {
          "output_type": "execute_result",
          "data": {
            "text/plain": [
              "[1, 2, 3]"
            ]
          },
          "metadata": {},
          "execution_count": 34
        }
      ]
    },
    {
      "cell_type": "code",
      "metadata": {
        "colab": {
          "base_uri": "https://localhost:8080/"
        },
        "id": "aIt99HQZMssM",
        "outputId": "3619e5a4-7a6c-4bb0-97e3-ab07509ba5a8"
      },
      "source": [
        "print(lista2)"
      ],
      "execution_count": null,
      "outputs": [
        {
          "output_type": "stream",
          "name": "stdout",
          "text": [
            "['Engenharia', 2022, 9.5, 'x', 'Laura Emmanuella']\n"
          ]
        }
      ]
    },
    {
      "cell_type": "code",
      "metadata": {
        "id": "8p28TmWCMvM3"
      },
      "source": [
        "lista2.extend(minhalista) #adiciona os itens de uma lista na outra"
      ],
      "execution_count": null,
      "outputs": []
    },
    {
      "cell_type": "code",
      "metadata": {
        "colab": {
          "base_uri": "https://localhost:8080/"
        },
        "id": "BwgEuU_pMyQQ",
        "outputId": "2579b02c-83db-42a1-b16c-088e6a2739cd"
      },
      "source": [
        "print(lista2)"
      ],
      "execution_count": null,
      "outputs": [
        {
          "output_type": "stream",
          "name": "stdout",
          "text": [
            "['Engenharia', 2022, 9.5, 'x', 'Laura Emmanuella', 1, 2, 3]\n"
          ]
        }
      ]
    },
    {
      "cell_type": "markdown",
      "metadata": {
        "id": "KwYb0oqoElgc"
      },
      "source": [
        "### Listas aninhadas\n",
        "Uma ótima característica das estruturas de dados do Python é que eles suportam **aninhamento**. Isso significa que podemos ter estruturas de dados dentro das estruturas de dados. Por exemplo: uma lista dentro de uma lista."
      ]
    },
    {
      "cell_type": "code",
      "metadata": {
        "id": "9zecj_XbElgc"
      },
      "source": [
        "# Começamos com 3 listas\n",
        "lst_1=[1,2,3]\n",
        "lst_2=[4,5,6]\n",
        "lst_3=[7,8,9]\n",
        "\n",
        "# Faça uma lista de listas para formar uma matriz\n",
        "matrix = [lst_1,lst_2,lst_3]"
      ],
      "execution_count": null,
      "outputs": []
    },
    {
      "cell_type": "code",
      "metadata": {
        "id": "8APd6zO9Elgc",
        "colab": {
          "base_uri": "https://localhost:8080/"
        },
        "outputId": "d0cdf402-59e2-452d-a2e6-cc0841f3102d"
      },
      "source": [
        "print(matrix)"
      ],
      "execution_count": null,
      "outputs": [
        {
          "output_type": "stream",
          "name": "stdout",
          "text": [
            "[[1, 2, 3], [4, 5, 6], [7, 8, 9]]\n"
          ]
        }
      ]
    },
    {
      "cell_type": "code",
      "metadata": {
        "id": "rLk_qAMLElgd",
        "outputId": "bf590e3a-0046-4e70-a534-47a8bdbbd861"
      },
      "source": [
        "print(matrix[0])"
      ],
      "execution_count": null,
      "outputs": [
        {
          "output_type": "stream",
          "text": [
            "[1, 2, 3]\n"
          ],
          "name": "stdout"
        }
      ]
    },
    {
      "cell_type": "code",
      "metadata": {
        "id": "GGLrf1rIElgd",
        "outputId": "3d821102-25f9-47bc-9775-94cd24a6d20a"
      },
      "source": [
        "print(matrix[0][0])"
      ],
      "execution_count": null,
      "outputs": [
        {
          "output_type": "stream",
          "text": [
            "1\n"
          ],
          "name": "stdout"
        }
      ]
    },
    {
      "cell_type": "markdown",
      "metadata": {
        "id": "_CoWJ7BpElgd"
      },
      "source": [
        "### Compreensão de listas\n",
        "\n",
        "https://docs.python.org/pt-br/3.10/tutorial/datastructures.html#tut-listcomps\n",
        "\n",
        "Além das operações de sequência e métodos de lista, o Python inclui uma operação mais avançada chamada de compreensão de lista.\n",
        "\n",
        "As compreensões de lista nos permitem construir listas usando uma notação diferente. Você pode pensar nisso essencialmente como um loop construído dentro de colchetes."
      ]
    },
    {
      "cell_type": "code",
      "metadata": {
        "id": "GfIKcNXAElge",
        "outputId": "d1d8b2e6-37a2-4548-8a1d-0ed26bc9f4c4"
      },
      "source": [
        "# Crie uma lista de compreensão desconstruindo um loop for dentro de um []\n",
        "first_col = [row[0] for row in matrix]\n",
        "print(first_col)"
      ],
      "execution_count": null,
      "outputs": [
        {
          "output_type": "stream",
          "text": [
            "[1, 4, 7]\n"
          ],
          "name": "stdout"
        }
      ]
    },
    {
      "cell_type": "markdown",
      "metadata": {
        "id": "t4M6R_HRElge"
      },
      "source": [
        "### Range\n",
        "\n",
        "https://docs.python.org/pt-br/3.10/library/stdtypes.html#range\n",
        "\n",
        "A função range é uma função geradora, capaz de retornar valores dentro de um limite definido para um iterável\n",
        "\n",
        "range(10): gera valores de 0 a 9\n",
        "\n",
        "range(45,55): gera valores de 45 a 54\n",
        "\n",
        "range(0, 10, 2): gera valores de 0 a 9 de 2 em 2"
      ]
    },
    {
      "cell_type": "code",
      "metadata": {
        "id": "XyW2qGzFElgf",
        "outputId": "7651ee86-6737-4040-d325-748ccf91e100"
      },
      "source": [
        "# Eleva o quadrado itens no range e o transformam em lista\n",
        "lst = [x**2 for x in range(1,11)]\n",
        "print(lst)"
      ],
      "execution_count": null,
      "outputs": [
        {
          "output_type": "stream",
          "text": [
            "[1, 4, 9, 16, 25, 36, 49, 64, 81, 100]\n"
          ],
          "name": "stdout"
        }
      ]
    },
    {
      "cell_type": "code",
      "metadata": {
        "id": "3NIpLcrkElgf",
        "outputId": "75393230-5d88-4b9a-b733-929248baabd8"
      },
      "source": [
        "lst = [x for x in range(0, 10, 2)]\n",
        "print(lst)"
      ],
      "execution_count": null,
      "outputs": [
        {
          "output_type": "stream",
          "text": [
            "[0, 2, 4, 6, 8]\n"
          ],
          "name": "stdout"
        }
      ]
    },
    {
      "cell_type": "code",
      "metadata": {
        "id": "hc8k2Hr2Elgg",
        "outputId": "11d510b4-a50f-4270-9906-71227b4b0d14"
      },
      "source": [
        "lst = [x**2 for x in range(1,11) if x % 2 == 0]\n",
        "print(lst)"
      ],
      "execution_count": null,
      "outputs": [
        {
          "output_type": "stream",
          "text": [
            "[4, 16, 36, 64, 100]\n"
          ],
          "name": "stdout"
        }
      ]
    },
    {
      "cell_type": "markdown",
      "metadata": {
        "id": "PgPfFtNRElgg"
      },
      "source": [
        "## Tuplas\n",
        "\n",
        "Em Python, as tuplas são muito semelhantes às listas, no entanto, ao contrário das listas, elas são **imutáveis**, o que significa que elas não podem ser alteradas. \n",
        "\n",
        "Você usaria tuplas para apresentar coisas que não deveriam ser alteradas, como dias da semana ou datas em um calendário."
      ]
    },
    {
      "cell_type": "code",
      "metadata": {
        "id": "f5yQ1wwcElgg"
      },
      "source": [
        "# Pode-se criar uma tupla com múltiplos elementos\n",
        "t = (1,2,3)"
      ],
      "execution_count": null,
      "outputs": []
    },
    {
      "cell_type": "code",
      "metadata": {
        "id": "cSI86HXdElgh"
      },
      "source": [
        "# Você também pode variar os tipos de dados\n",
        "t = ('one',2)"
      ],
      "execution_count": null,
      "outputs": []
    },
    {
      "cell_type": "code",
      "metadata": {
        "id": "CpEpJzt1Elgh",
        "outputId": "7a915f26-be29-485e-96bf-0671354b0311"
      },
      "source": [
        "type(t)"
      ],
      "execution_count": null,
      "outputs": [
        {
          "output_type": "execute_result",
          "data": {
            "text/plain": [
              "tuple"
            ]
          },
          "metadata": {
            "tags": []
          },
          "execution_count": 171
        }
      ]
    },
    {
      "cell_type": "code",
      "metadata": {
        "id": "KjUXPGTQElgh",
        "outputId": "c425bbe8-0000-4b5b-fb8a-cc08fefe7093"
      },
      "source": [
        "# E a indexação funciona exatamente como nas listas\n",
        "print(t[0])"
      ],
      "execution_count": null,
      "outputs": [
        {
          "output_type": "stream",
          "text": [
            "one\n"
          ],
          "name": "stdout"
        }
      ]
    },
    {
      "cell_type": "code",
      "metadata": {
        "id": "hBRcfLVQElgi",
        "outputId": "2d6a8b94-beec-4c03-ebce-1a6e8c444339"
      },
      "source": [
        "print(t[-1])"
      ],
      "execution_count": null,
      "outputs": [
        {
          "output_type": "stream",
          "text": [
            "2\n"
          ],
          "name": "stdout"
        }
      ]
    },
    {
      "cell_type": "markdown",
      "metadata": {
        "id": "Rirx8CPIElgi"
      },
      "source": [
        "### Métodos de Tuplas"
      ]
    },
    {
      "cell_type": "code",
      "metadata": {
        "id": "qvEJ84FZElgi",
        "outputId": "a9065d1c-8f97-49fb-a54e-746d4e5fe44e"
      },
      "source": [
        "t.count('one')"
      ],
      "execution_count": null,
      "outputs": [
        {
          "output_type": "execute_result",
          "data": {
            "text/plain": [
              "1"
            ]
          },
          "metadata": {
            "tags": []
          },
          "execution_count": 174
        }
      ]
    },
    {
      "cell_type": "code",
      "metadata": {
        "id": "oA64wLFiElgi",
        "outputId": "6a849968-0964-4dd2-c646-d0bfe0b1df3e"
      },
      "source": [
        "t.index(2)"
      ],
      "execution_count": null,
      "outputs": [
        {
          "output_type": "execute_result",
          "data": {
            "text/plain": [
              "1"
            ]
          },
          "metadata": {
            "tags": []
          },
          "execution_count": 175
        }
      ]
    },
    {
      "cell_type": "markdown",
      "metadata": {
        "id": "4i_M5lScElgj"
      },
      "source": [
        "### Imutabilidade"
      ]
    },
    {
      "cell_type": "code",
      "metadata": {
        "id": "EBn0Ntm5Elgj",
        "outputId": "8b8a4b12-2660-40f1-bbc8-19da46ae7c6c"
      },
      "source": [
        "t[0]= 'change'"
      ],
      "execution_count": null,
      "outputs": [
        {
          "output_type": "error",
          "ename": "TypeError",
          "evalue": "'tuple' object does not support item assignment",
          "traceback": [
            "\u001b[0;31m---------------------------------------------------------------------------\u001b[0m",
            "\u001b[0;31mTypeError\u001b[0m                                 Traceback (most recent call last)",
            "\u001b[0;32m<ipython-input-176-1257c0aa9edd>\u001b[0m in \u001b[0;36m<module>\u001b[0;34m()\u001b[0m\n\u001b[0;32m----> 1\u001b[0;31m \u001b[0mt\u001b[0m\u001b[0;34m[\u001b[0m\u001b[0;36m0\u001b[0m\u001b[0;34m]\u001b[0m\u001b[0;34m=\u001b[0m \u001b[0;34m'change'\u001b[0m\u001b[0;34m\u001b[0m\u001b[0m\n\u001b[0m",
            "\u001b[0;31mTypeError\u001b[0m: 'tuple' object does not support item assignment"
          ]
        }
      ]
    },
    {
      "cell_type": "markdown",
      "metadata": {
        "id": "y2mFiWUXElgj"
      },
      "source": [
        "## Sets\n",
        "\n",
        "https://docs.python.org/pt-br/3.10/library/stdtypes.html#set-types-set-frozenset\n",
        "\n",
        "Os conjuntos são uma **coleção não ordenada de elementos únicos**. Podemos construí-los usando a função `set()`.\n",
        "\n",
        "Os usos comuns incluem teste de associação, remoção de duplicatas de uma sequência e computação de operações matemáticas como interseção, união, diferença e diferença simétrica."
      ]
    },
    {
      "cell_type": "code",
      "metadata": {
        "id": "Dt9p2nVOElgj",
        "colab": {
          "base_uri": "https://localhost:8080/"
        },
        "outputId": "8eda804c-0cb9-4715-a30b-8519bc7c4684"
      },
      "source": [
        "conjunto = {98,54,2,2,3,'laura', True}\n",
        "type(conjunto)\n",
        "print(conjunto)"
      ],
      "execution_count": null,
      "outputs": [
        {
          "output_type": "stream",
          "name": "stdout",
          "text": [
            "{True, 98, 3, 2, 'laura', 54}\n"
          ]
        }
      ]
    },
    {
      "cell_type": "code",
      "metadata": {
        "id": "fggZkskNElgl"
      },
      "source": [
        "conjunto2 = set()"
      ],
      "execution_count": null,
      "outputs": []
    },
    {
      "cell_type": "code",
      "metadata": {
        "id": "P33wmPesElgl",
        "outputId": "71fdfbff-b3d5-4cae-ac3a-b42af854c842"
      },
      "source": [
        "conjunto2.add(978)\n",
        "print(conjunto2)"
      ],
      "execution_count": null,
      "outputs": [
        {
          "output_type": "stream",
          "text": [
            "{978}\n"
          ],
          "name": "stdout"
        }
      ]
    },
    {
      "cell_type": "code",
      "metadata": {
        "id": "JKtjFzWuElgl",
        "outputId": "5a75a589-d9e5-4fb9-908f-d4c5b726148f"
      },
      "source": [
        "nlista = [1,1,2,2,3,4,4,5,6,6]\n",
        "nconjunto = set(nlista)\n",
        "print(nconjunto)"
      ],
      "execution_count": null,
      "outputs": [
        {
          "output_type": "stream",
          "text": [
            "{1, 2, 3, 4, 5, 6}\n"
          ],
          "name": "stdout"
        }
      ]
    },
    {
      "cell_type": "markdown",
      "metadata": {
        "id": "Jr8_7n-yElgm"
      },
      "source": [
        "## Dicionários\n",
        "\n",
        "https://docs.python.org/pt-br/3.10/library/stdtypes.html#typesmapping\n",
        "\n",
        "Nós vimos que Strings e listas são sequências em Python, mas agora vamos aprender sobre mapeamentos em Python. \n",
        "\n",
        "Os mapeamentos são uma coleção de elementos que são armazenados por uma chave, ao contrário de uma sequência que armazena elementos por sua posição relativa (índice). \n",
        "\n",
        "Esta é uma distinção importante, uma vez que **os mapeamentos não reterão a ordem, pois possuem elementos definidos por uma chave.**\n",
        "\n",
        "Um dicionário de Python consiste em uma chave e depois em um valor associado. "
      ]
    },
    {
      "cell_type": "code",
      "metadata": {
        "id": "b05CiormElgm"
      },
      "source": [
        "meuDicionario = {'nome': 'Laura Emmanuella', 'curso': 'Engenharia', 'função': 'professor'}"
      ],
      "execution_count": null,
      "outputs": []
    },
    {
      "cell_type": "code",
      "metadata": {
        "id": "ImTWxDT5Elgm",
        "outputId": "075653d6-0c88-4ac2-cc25-fd6fcd6f0c1e",
        "colab": {
          "base_uri": "https://localhost:8080/"
        }
      },
      "source": [
        "print(meuDicionario)"
      ],
      "execution_count": null,
      "outputs": [
        {
          "output_type": "stream",
          "name": "stdout",
          "text": [
            "{'nome': 'Laura Emmanuella', 'curso': 'Engenharia', 'função': 'professor'}\n"
          ]
        }
      ]
    },
    {
      "cell_type": "code",
      "metadata": {
        "id": "jeQWXvEqElgn"
      },
      "source": [
        "meuDicionario['nome'] = 'Fabiola Maria'"
      ],
      "execution_count": null,
      "outputs": []
    },
    {
      "cell_type": "code",
      "metadata": {
        "id": "rmf6MZgIElgn",
        "outputId": "85c07e4f-6125-4f25-9d76-b50f4800b825",
        "colab": {
          "base_uri": "https://localhost:8080/"
        }
      },
      "source": [
        "print(meuDicionario)"
      ],
      "execution_count": null,
      "outputs": [
        {
          "output_type": "stream",
          "name": "stdout",
          "text": [
            "{'nome': 'Fabiola Maria', 'curso': 'Engenharia', 'função': 'professor'}\n"
          ]
        }
      ]
    },
    {
      "cell_type": "code",
      "metadata": {
        "id": "pbvNl42dElgn"
      },
      "source": [
        "meuDicionario['campus'] = 'Macaé'"
      ],
      "execution_count": null,
      "outputs": []
    },
    {
      "cell_type": "code",
      "metadata": {
        "id": "Ja8BsLGzElgo",
        "outputId": "ada7909b-5b52-4e84-f8d9-39be45864178",
        "colab": {
          "base_uri": "https://localhost:8080/"
        }
      },
      "source": [
        "print(meuDicionario)"
      ],
      "execution_count": null,
      "outputs": [
        {
          "output_type": "stream",
          "name": "stdout",
          "text": [
            "{'nome': 'Fabiola Maria', 'curso': 'Engenharia', 'função': 'professor', 'campus': 'Macaé'}\n"
          ]
        }
      ]
    },
    {
      "cell_type": "markdown",
      "metadata": {
        "id": "Yj3KZih6Elgo"
      },
      "source": [
        "### Métodos de Dicionários"
      ]
    },
    {
      "cell_type": "code",
      "metadata": {
        "id": "Q8NSK1mWElgo",
        "outputId": "1cf3736e-ca41-4910-f304-86d521d819a8",
        "colab": {
          "base_uri": "https://localhost:8080/"
        }
      },
      "source": [
        "print(meuDicionario.keys())"
      ],
      "execution_count": null,
      "outputs": [
        {
          "output_type": "stream",
          "name": "stdout",
          "text": [
            "dict_keys(['nome', 'curso', 'função', 'campus'])\n"
          ]
        }
      ]
    },
    {
      "cell_type": "code",
      "metadata": {
        "id": "-CWexSpfElgo",
        "outputId": "d3d4b752-a463-4cf5-ecf4-18d6ddcfa883",
        "colab": {
          "base_uri": "https://localhost:8080/"
        }
      },
      "source": [
        "print(meuDicionario.values())"
      ],
      "execution_count": null,
      "outputs": [
        {
          "output_type": "stream",
          "name": "stdout",
          "text": [
            "dict_values(['Fabiola Maria', 'Engenharia', 'professor', 'Macaé'])\n"
          ]
        }
      ]
    },
    {
      "cell_type": "code",
      "metadata": {
        "id": "GxKpfzwtElgp",
        "outputId": "115acaad-ec5d-40a1-9a2d-1cd37ec69d35",
        "colab": {
          "base_uri": "https://localhost:8080/"
        }
      },
      "source": [
        "print(meuDicionario.items())"
      ],
      "execution_count": null,
      "outputs": [
        {
          "output_type": "stream",
          "name": "stdout",
          "text": [
            "dict_items([('nome', 'Fabiola Maria'), ('curso', 'Engenharia'), ('função', 'professor'), ('campus', 'Macaé')])\n"
          ]
        }
      ]
    },
    {
      "cell_type": "code",
      "metadata": {
        "id": "RkbRVFGaElgp",
        "outputId": "9cf9d204-a0eb-458f-f04a-96f5ccf1801d",
        "colab": {
          "base_uri": "https://localhost:8080/"
        }
      },
      "source": [
        "print(meuDicionario.popitem())"
      ],
      "execution_count": null,
      "outputs": [
        {
          "output_type": "stream",
          "name": "stdout",
          "text": [
            "('campus', 'Macaé')\n"
          ]
        }
      ]
    },
    {
      "cell_type": "code",
      "metadata": {
        "id": "brfMshcMElgp",
        "outputId": "46d751d1-323a-4d4f-cd83-bfb97d9f7a29",
        "colab": {
          "base_uri": "https://localhost:8080/"
        }
      },
      "source": [
        "print(meuDicionario)"
      ],
      "execution_count": null,
      "outputs": [
        {
          "output_type": "stream",
          "name": "stdout",
          "text": [
            "{'nome': 'Fabiola Maria', 'curso': 'Engenharia', 'função': 'professor'}\n"
          ]
        }
      ]
    },
    {
      "cell_type": "code",
      "metadata": {
        "id": "hEGjHH5AElgp",
        "outputId": "ea83c4b5-00af-4756-8602-193bd7bb8fe0",
        "colab": {
          "base_uri": "https://localhost:8080/"
        }
      },
      "source": [
        "print(meuDicionario.pop('nome'))"
      ],
      "execution_count": null,
      "outputs": [
        {
          "output_type": "stream",
          "name": "stdout",
          "text": [
            "Fabiola Maria\n"
          ]
        }
      ]
    },
    {
      "cell_type": "code",
      "metadata": {
        "id": "t2IfnZeYElgq",
        "outputId": "8021faa1-dc76-4c21-ba1a-80df5e42f1f2",
        "colab": {
          "base_uri": "https://localhost:8080/"
        }
      },
      "source": [
        "print(meuDicionario)"
      ],
      "execution_count": null,
      "outputs": [
        {
          "output_type": "stream",
          "name": "stdout",
          "text": [
            "{'curso': 'Engenharia', 'função': 'professor'}\n"
          ]
        }
      ]
    },
    {
      "cell_type": "markdown",
      "metadata": {
        "id": "eoRJkogLElgq"
      },
      "source": [
        "### Outros exemplos"
      ]
    },
    {
      "cell_type": "code",
      "metadata": {
        "id": "zdZrhmJ1Elgq",
        "outputId": "b7c20834-283f-4a6e-84df-79e06b77aae6"
      },
      "source": [
        "dic = {'animais': ['gato', 'cachorro'], 'numero':[1,2,3], 'senha': 123}\n",
        "print(dic)"
      ],
      "execution_count": null,
      "outputs": [
        {
          "output_type": "stream",
          "text": [
            "{'animais': ['gato', 'cachorro'], 'numero': [1, 2, 3], 'senha': 123}\n"
          ],
          "name": "stdout"
        }
      ]
    },
    {
      "cell_type": "code",
      "metadata": {
        "id": "rISXhdWfElgq",
        "outputId": "d36c0325-639c-4624-9870-20091b31e23e"
      },
      "source": [
        "dic['numerosinteiros'] = dic.pop('numero')\n",
        "print(dic)"
      ],
      "execution_count": null,
      "outputs": [
        {
          "output_type": "stream",
          "text": [
            "{'animais': ['gato', 'cachorro'], 'senha': 123, 'numerosinteiros': [1, 2, 3]}\n"
          ],
          "name": "stdout"
        }
      ]
    },
    {
      "cell_type": "code",
      "metadata": {
        "id": "3xsPx4SDElgr",
        "outputId": "946e07ab-270e-4f69-cc49-49b6ee072abc"
      },
      "source": [
        "print(dic['animais'][1])"
      ],
      "execution_count": null,
      "outputs": [
        {
          "output_type": "stream",
          "text": [
            "cachorro\n"
          ],
          "name": "stdout"
        }
      ]
    }
  ]
}