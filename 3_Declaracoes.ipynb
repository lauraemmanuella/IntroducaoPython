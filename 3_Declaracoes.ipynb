{
  "nbformat": 4,
  "nbformat_minor": 0,
  "metadata": {
    "kernelspec": {
      "display_name": "Python 3",
      "language": "python",
      "name": "python3"
    },
    "language_info": {
      "codemirror_mode": {
        "name": "ipython",
        "version": 3
      },
      "file_extension": ".py",
      "mimetype": "text/x-python",
      "name": "python",
      "nbconvert_exporter": "python",
      "pygments_lexer": "ipython3",
      "version": "3.7.0"
    },
    "colab": {
      "name": "3-Declaracoes.ipynb",
      "provenance": [],
      "collapsed_sections": [],
      "toc_visible": true,
      "include_colab_link": true
    }
  },
  "cells": [
    {
      "cell_type": "markdown",
      "metadata": {
        "id": "view-in-github",
        "colab_type": "text"
      },
      "source": [
        "<a href=\"https://colab.research.google.com/github/lauraemmanuella/IntroducaoPython/blob/main/3_Declaracoes.ipynb\" target=\"_parent\"><img src=\"https://colab.research.google.com/assets/colab-badge.svg\" alt=\"Open In Colab\"/></a>"
      ]
    },
    {
      "cell_type": "markdown",
      "metadata": {
        "id": "cVUE2jDbhjNl"
      },
      "source": [
        "# Declarações em Python\n",
        "\n",
        "## Python vs outras linguagens\n",
        "\n",
        "Vamos criar uma declaração simples que diga: \"Se a é maior que b, atribua 2 a a e 4 a b\"\n",
        "\n",
        "Dê uma olhada nessas duas declarações if abaixo:\n",
        "\n",
        "**Versão 1 (Outras linguagens)**\n",
        "\n",
        "     se (a > b) {\n",
        "         a = 2;\n",
        "         b = 4;\n",
        "     }\n",
        " \n",
        "**Versão 2 (Python)**\n",
        "\n",
        "     se a > b:\n",
        "         a = 2\n",
        "         b = 4\n",
        "     \n",
        "     \n",
        "Vamos percorrer as principais diferenças:\n",
        "\n",
        "Python se livra de `( )` e `{ }` incorporando dois fatores principais: os *dois pontos* e os *espaços em branco*. A declaração é terminada com dois pontos e o espaço em branco é usado (recuo) para descrever o que ocorre no escopo da declaração.\n",
        "\n",
        "Outra grande diferença é a falta de ponto e vírgula em Python. "
      ]
    },
    {
      "cell_type": "markdown",
      "metadata": {
        "id": "YiuWPhY7hjNv"
      },
      "source": [
        "# if,elif e else       \n",
        "        \n",
        "Sintaxe\n",
        "\n",
        "```\n",
        "if case1:\n",
        "\n",
        "  executar ação1\n",
        "\n",
        "elif case2:\n",
        "\n",
        "  execute ação2\n",
        "\n",
        "else:\n",
        "\n",
        "  execute ação3\n",
        "```\n",
        "\n"
      ]
    },
    {
      "cell_type": "code",
      "metadata": {
        "id": "qEYK7pY4hjNw",
        "outputId": "10ffcb25-b5ce-4d5a-96ec-4cf54b9a60e6",
        "colab": {
          "base_uri": "https://localhost:8080/"
        }
      },
      "source": [
        "if True:\n",
        "  print('It was true!')"
      ],
      "execution_count": 1,
      "outputs": [
        {
          "output_type": "stream",
          "name": "stdout",
          "text": [
            "It was true!\n"
          ]
        }
      ]
    },
    {
      "cell_type": "code",
      "metadata": {
        "id": "o_X0bNFShjNy",
        "outputId": "c9919d25-26a9-4a2c-e19f-ba1dbacc0b89",
        "colab": {
          "base_uri": "https://localhost:8080/"
        }
      },
      "source": [
        "x = False\n",
        "\n",
        "if x:\n",
        "  print('x was True!')\n",
        "else:\n",
        "  print('I will be printed in any case where x is not true')"
      ],
      "execution_count": 2,
      "outputs": [
        {
          "output_type": "stream",
          "name": "stdout",
          "text": [
            "I will be printed in any case where x is not true\n"
          ]
        }
      ]
    },
    {
      "cell_type": "code",
      "metadata": {
        "id": "ljOOC8QOhjNz",
        "outputId": "018a77be-15df-4146-8474-5563961a09e8",
        "colab": {
          "base_uri": "https://localhost:8080/"
        }
      },
      "source": [
        "loc = 'Bank'\n",
        "\n",
        "if loc == 'Auto Shop':\n",
        "  print('Welcome to the Auto Shop!')\n",
        "elif loc == 'Bank':\n",
        "  print('Welcome to the bank!')\n",
        "else:\n",
        "  print(\"Where are you?\")"
      ],
      "execution_count": 3,
      "outputs": [
        {
          "output_type": "stream",
          "name": "stdout",
          "text": [
            "Welcome to the bank!\n"
          ]
        }
      ]
    },
    {
      "cell_type": "markdown",
      "metadata": {
        "id": "7OjCN1cjhjN0"
      },
      "source": [
        "# For\n",
        "\n",
        "https://docs.python.org/pt-br/3/tutorial/controlflow.html#for-statements\n",
        "\n",
        "Um loop **for** atua como um iterador em Python, ele passa por itens que estão em uma **sequência** ou qualquer outro item iterável. Os objetos que aprendemos até agora que podemos iterar incluem strings, listas, tuplas e até iteráveis embutidos em dicionários, como chaves ou valores.\n",
        "\n",
        "\n",
        "Sintaxe\n",
        "\n",
        "```\n",
        "for item in objeto:\n",
        "\n",
        "  fazer algo\n",
        "```\n",
        "\n"
      ]
    },
    {
      "cell_type": "code",
      "metadata": {
        "id": "e0w062u-hjN0",
        "outputId": "21fae1e3-f9e0-4632-9437-1538cc1d1206"
      },
      "source": [
        "seq = [1,2,3,4,5]\n",
        "for item in seq:\n",
        "  print(item)"
      ],
      "execution_count": null,
      "outputs": [
        {
          "output_type": "stream",
          "text": [
            "1\n",
            "2\n",
            "3\n",
            "4\n",
            "5\n"
          ],
          "name": "stdout"
        }
      ]
    },
    {
      "cell_type": "code",
      "metadata": {
        "id": "lQ5rmNRBhjN1",
        "outputId": "0aac4c70-6005-42d3-f851-182d40b46ef9"
      },
      "source": [
        "for letter in 'This is a string.':\n",
        "  print(letter)"
      ],
      "execution_count": null,
      "outputs": [
        {
          "output_type": "stream",
          "text": [
            "T\n",
            "h\n",
            "i\n",
            "s\n",
            " \n",
            "i\n",
            "s\n",
            " \n",
            "a\n",
            " \n",
            "s\n",
            "t\n",
            "r\n",
            "i\n",
            "n\n",
            "g\n",
            ".\n"
          ],
          "name": "stdout"
        }
      ]
    },
    {
      "cell_type": "code",
      "metadata": {
        "id": "ipzRUKelhjN1",
        "outputId": "f43ddb7d-37b9-4379-9c83-0e757c79ad7d"
      },
      "source": [
        "l = [(2,4),(6,8),(10,12)] #lista de tuplas\n",
        "for tup in l:\n",
        "  print(tup)"
      ],
      "execution_count": null,
      "outputs": [
        {
          "output_type": "stream",
          "text": [
            "(2, 4)\n",
            "(6, 8)\n",
            "(10, 12)\n"
          ],
          "name": "stdout"
        }
      ]
    },
    {
      "cell_type": "code",
      "metadata": {
        "id": "thAgzWjdhjN2",
        "outputId": "fef7db34-dad8-4555-ba09-8607a0230f79"
      },
      "source": [
        "for (t1,t2) in l:\n",
        "  print(t1)"
      ],
      "execution_count": null,
      "outputs": [
        {
          "output_type": "stream",
          "text": [
            "2\n",
            "6\n",
            "10\n"
          ],
          "name": "stdout"
        }
      ]
    },
    {
      "cell_type": "code",
      "metadata": {
        "id": "RrV9SuywhjN2",
        "colab": {
          "base_uri": "https://localhost:8080/"
        },
        "outputId": "b0e8bd9b-9ae4-4151-e6eb-652408bba6d0"
      },
      "source": [
        "d = {'k1':1,'k2':2,'k3':3}\n",
        "for item in d:\n",
        "  print(item)"
      ],
      "execution_count": null,
      "outputs": [
        {
          "output_type": "stream",
          "name": "stdout",
          "text": [
            "k1\n",
            "k2\n",
            "k3\n"
          ]
        }
      ]
    },
    {
      "cell_type": "code",
      "metadata": {
        "colab": {
          "base_uri": "https://localhost:8080/"
        },
        "id": "pQDLvmlXJmzq",
        "outputId": "21f3f86e-23ab-4aaf-86a0-2dde8653855f"
      },
      "source": [
        "for item in d.keys(): #mesmo resultado\n",
        "  print(item)"
      ],
      "execution_count": null,
      "outputs": [
        {
          "output_type": "stream",
          "name": "stdout",
          "text": [
            "k1\n",
            "k2\n",
            "k3\n"
          ]
        }
      ]
    },
    {
      "cell_type": "code",
      "metadata": {
        "colab": {
          "base_uri": "https://localhost:8080/"
        },
        "id": "YqC9krtAJukT",
        "outputId": "7c7ca1f5-334c-45df-dee2-e268d9fb613b"
      },
      "source": [
        "for item in d.values(): \n",
        "  print(item)"
      ],
      "execution_count": null,
      "outputs": [
        {
          "output_type": "stream",
          "name": "stdout",
          "text": [
            "1\n",
            "2\n",
            "3\n"
          ]
        }
      ]
    },
    {
      "cell_type": "markdown",
      "metadata": {
        "id": "cZF4gwf2hjN3"
      },
      "source": [
        "Observe como isso produz apenas chaves. Então, como podemos obter os valores? Ou as chaves e os valores?"
      ]
    },
    {
      "cell_type": "code",
      "metadata": {
        "id": "gVt6pGI1hjN3",
        "colab": {
          "base_uri": "https://localhost:8080/"
        },
        "outputId": "0b8b5ea6-e3be-4e0b-c87d-5334f5ce20c4"
      },
      "source": [
        "for k,v in d.items():\n",
        "  print(k)\n",
        "  print(v)  "
      ],
      "execution_count": null,
      "outputs": [
        {
          "output_type": "stream",
          "name": "stdout",
          "text": [
            "k1\n",
            "1\n",
            "k2\n",
            "2\n",
            "k3\n",
            "3\n"
          ]
        }
      ]
    },
    {
      "cell_type": "code",
      "metadata": {
        "id": "6y5AGD6WhjN3",
        "colab": {
          "base_uri": "https://localhost:8080/"
        },
        "outputId": "1f5a9854-7822-48c8-dabc-58e3274903ad"
      },
      "source": [
        "# Como seria esse exemplo em C ou java?\n",
        "a = ['Mary', 'had', 'a', 'little', 'lamb']\n",
        "for i in range(len(a)):\n",
        "  print(i, a[i])"
      ],
      "execution_count": null,
      "outputs": [
        {
          "output_type": "stream",
          "name": "stdout",
          "text": [
            "0 Mary\n",
            "1 had\n",
            "2 a\n",
            "3 little\n",
            "4 lamb\n"
          ]
        }
      ]
    },
    {
      "cell_type": "code",
      "metadata": {
        "colab": {
          "base_uri": "https://localhost:8080/"
        },
        "id": "TU_630clJ5Fy",
        "outputId": "e8805c48-bc02-4aec-ae90-0fc235d50aae"
      },
      "source": [
        "for i, j in enumerate(a): #mesmo resultado\n",
        "  print(i, j)\n",
        "\n",
        "#A função enumerate tb é uma função geradora, assim como o range"
      ],
      "execution_count": null,
      "outputs": [
        {
          "output_type": "stream",
          "name": "stdout",
          "text": [
            "0 Mary\n",
            "1 had\n",
            "2 a\n",
            "3 little\n",
            "4 lamb\n"
          ]
        }
      ]
    },
    {
      "cell_type": "markdown",
      "metadata": {
        "id": "y71aY925hjN4"
      },
      "source": [
        "## Cláusulas break, continue e else loops"
      ]
    },
    {
      "cell_type": "code",
      "metadata": {
        "id": "D9pXNQ_0hjN4",
        "colab": {
          "base_uri": "https://localhost:8080/"
        },
        "outputId": "85783fbe-e8ee-4599-8acc-2835c7b22f0f"
      },
      "source": [
        "#Encontrar os números primos entre 2 e 9\n",
        "for n in range(2, 10): #para cada numero n entre 2 e 9\n",
        "  for x in range(2, n): #testa se o numero n é divisivel pelos numeros de 2 até ele mesmo\n",
        "    if n % x == 0:\n",
        "      print(n, 'equals', x, '*', n//x) #se for divisivel, ele não é primo\n",
        "      break #encerra o laço\n",
        "  else: #caso ele não tenha entrado do if (saído do laço com o break), ele entrará nesse else \n",
        "    print(n, 'is a prime number') #o numero é primo, pois não foi divisível por nenhum numero entre 1 e ele mesmo"
      ],
      "execution_count": 6,
      "outputs": [
        {
          "output_type": "stream",
          "name": "stdout",
          "text": [
            "2 is a prime number\n",
            "3 is a prime number\n",
            "4 equals 2 * 2\n",
            "5 is a prime number\n",
            "6 equals 2 * 3\n",
            "7 is a prime number\n",
            "8 equals 2 * 4\n",
            "9 equals 3 * 3\n"
          ]
        }
      ]
    },
    {
      "cell_type": "code",
      "metadata": {
        "id": "uRwSFaPVhjN4",
        "colab": {
          "base_uri": "https://localhost:8080/"
        },
        "outputId": "26a508fd-863c-4253-c5ab-e4442cea6de3"
      },
      "source": [
        "#Encontrar os numeros pares entre 2 e 9\n",
        "for num in range(2, 10): #para cada numero num entre 2 e 9\n",
        "  if num % 2 == 0: #testa se o numero num é divisivel por 2\n",
        "    print(\"Found a even number\", num)\n",
        "    continue #se for, busca o próximo numero\n",
        "  print(\"Found a number\", num) #se não for, mostra o numero aqui (impar)"
      ],
      "execution_count": 7,
      "outputs": [
        {
          "output_type": "stream",
          "name": "stdout",
          "text": [
            "Found a even number 2\n",
            "Found a number 3\n",
            "Found a even number 4\n",
            "Found a number 5\n",
            "Found a even number 6\n",
            "Found a number 7\n",
            "Found a even number 8\n",
            "Found a number 9\n"
          ]
        }
      ]
    },
    {
      "cell_type": "markdown",
      "metadata": {
        "id": "kH371OQhhjN5"
      },
      "source": [
        "# While\n",
        "\n",
        "Sintaxe\n",
        "\n",
        "\n",
        "```\n",
        "while teste:\n",
        "\n",
        "  declaração de código\n",
        "```\n",
        "\n"
      ]
    },
    {
      "cell_type": "code",
      "metadata": {
        "id": "LDwTNBLRhjN5",
        "outputId": "d15ff20a-edd0-4e51-d75e-b9a2eed38556"
      },
      "source": [
        "x = 0\n",
        "\n",
        "while x < 10:\n",
        "  print('x is currently: ', x)\n",
        "  print(' x is still less than 10, adding 1 to x')\n",
        "  x += 1"
      ],
      "execution_count": null,
      "outputs": [
        {
          "output_type": "stream",
          "text": [
            "x is currently:  0\n",
            " x is still less than 10, adding 1 to x\n",
            "x is currently:  1\n",
            " x is still less than 10, adding 1 to x\n",
            "x is currently:  2\n",
            " x is still less than 10, adding 1 to x\n",
            "x is currently:  3\n",
            " x is still less than 10, adding 1 to x\n",
            "x is currently:  4\n",
            " x is still less than 10, adding 1 to x\n",
            "x is currently:  5\n",
            " x is still less than 10, adding 1 to x\n",
            "x is currently:  6\n",
            " x is still less than 10, adding 1 to x\n",
            "x is currently:  7\n",
            " x is still less than 10, adding 1 to x\n",
            "x is currently:  8\n",
            " x is still less than 10, adding 1 to x\n",
            "x is currently:  9\n",
            " x is still less than 10, adding 1 to x\n"
          ],
          "name": "stdout"
        }
      ]
    },
    {
      "cell_type": "code",
      "metadata": {
        "id": "IWMDEk54hjN5",
        "outputId": "e41e12bf-004d-48ce-d231-cb0734d68edf",
        "colab": {
          "base_uri": "https://localhost:8080/"
        }
      },
      "source": [
        "x = 5\n",
        "while True:\n",
        "  print(x)\n",
        "  x+=1\n",
        "  if x > 10:\n",
        "    break;"
      ],
      "execution_count": 8,
      "outputs": [
        {
          "output_type": "stream",
          "name": "stdout",
          "text": [
            "5\n",
            "6\n",
            "7\n",
            "8\n",
            "9\n",
            "10\n"
          ]
        }
      ]
    }
  ]
}