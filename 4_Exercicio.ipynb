{
  "nbformat": 4,
  "nbformat_minor": 0,
  "metadata": {
    "kernelspec": {
      "display_name": "Python 3",
      "language": "python",
      "name": "python3"
    },
    "language_info": {
      "codemirror_mode": {
        "name": "ipython",
        "version": 3
      },
      "file_extension": ".py",
      "mimetype": "text/x-python",
      "name": "python",
      "nbconvert_exporter": "python",
      "pygments_lexer": "ipython3",
      "version": "3.7.0"
    },
    "colab": {
      "name": "4-Exercicio.ipynb",
      "provenance": [],
      "collapsed_sections": [],
      "include_colab_link": true
    }
  },
  "cells": [
    {
      "cell_type": "markdown",
      "metadata": {
        "id": "view-in-github",
        "colab_type": "text"
      },
      "source": [
        "<a href=\"https://colab.research.google.com/github/lauraemmanuella/IntroducaoPython/blob/main/4_Exercicio.ipynb\" target=\"_parent\"><img src=\"https://colab.research.google.com/assets/colab-badge.svg\" alt=\"Open In Colab\"/></a>"
      ]
    },
    {
      "cell_type": "markdown",
      "metadata": {
        "id": "aXm-YgGjiERy"
      },
      "source": [
        "1- Preencha uma lista com as representações em Fahrenheit da seguintes temperaturas usando compreensão de listas"
      ]
    },
    {
      "cell_type": "code",
      "metadata": {
        "id": "2vLC1ARgiER8"
      },
      "source": [
        "celsius = [0,10,20.1,34.5]"
      ],
      "execution_count": null,
      "outputs": []
    },
    {
      "cell_type": "code",
      "metadata": {
        "id": "Xa5WUrh2iER-",
        "outputId": "48343982-4a5a-4e45-facb-ce5ee2d34929"
      },
      "source": [
        "#codigo aqui\n"
      ],
      "execution_count": null,
      "outputs": [
        {
          "output_type": "stream",
          "text": [
            "[32.0, 50.0, 68.18, 94.1]\n"
          ],
          "name": "stdout"
        }
      ]
    },
    {
      "cell_type": "markdown",
      "metadata": {
        "id": "1RumzXmOiESD"
      },
      "source": [
        "2-Como indexar uma lista aninhada? Por exemplo, se eu quiser puxar 2 da lista abaixo?"
      ]
    },
    {
      "cell_type": "code",
      "metadata": {
        "id": "PUihKIgiiESE"
      },
      "source": [
        "lista = [1,1, [1,2]]"
      ],
      "execution_count": null,
      "outputs": []
    },
    {
      "cell_type": "code",
      "metadata": {
        "id": "9wmnQgT7iESF",
        "outputId": "660214ea-1429-4ac4-d723-e410cce59265"
      },
      "source": [
        "#codigo aqui\n"
      ],
      "execution_count": null,
      "outputs": [
        {
          "output_type": "stream",
          "text": [
            "2\n"
          ],
          "name": "stdout"
        }
      ]
    },
    {
      "cell_type": "markdown",
      "metadata": {
        "id": "8BUN6J1GiESF"
      },
      "source": [
        "3-Use for, split() e if para criar uma declaração que imprima as palavras que começam com 's': **"
      ]
    },
    {
      "cell_type": "code",
      "metadata": {
        "id": "YXoMy3iXiESG"
      },
      "source": [
        "st = 'Print only the words that start with s in this sentence'"
      ],
      "execution_count": null,
      "outputs": []
    },
    {
      "cell_type": "code",
      "metadata": {
        "id": "6epvZCiBiESG",
        "colab": {
          "base_uri": "https://localhost:8080/"
        },
        "outputId": "ccf7faf5-de0b-4f6f-f79d-89ce8cad4df4"
      },
      "source": [
        "#codigo aqui\n"
      ],
      "execution_count": null,
      "outputs": [
        {
          "output_type": "stream",
          "text": [
            "start\n",
            "s\n",
            "sentence\n"
          ],
          "name": "stdout"
        }
      ]
    },
    {
      "cell_type": "markdown",
      "metadata": {
        "id": "csTT9wvYiESH"
      },
      "source": [
        "4-Use range() para imprimir todos os números pares de 0 a 10."
      ]
    },
    {
      "cell_type": "code",
      "metadata": {
        "id": "PTGW4A8giESH",
        "outputId": "5345337c-bc8b-4862-922a-c6b5b7dd0721"
      },
      "source": [
        "#codigo aqui\n"
      ],
      "execution_count": null,
      "outputs": [
        {
          "output_type": "stream",
          "text": [
            "0\n",
            "2\n",
            "4\n",
            "6\n",
            "8\n",
            "10\n"
          ],
          "name": "stdout"
        }
      ]
    },
    {
      "cell_type": "markdown",
      "metadata": {
        "id": "od4557HriESI"
      },
      "source": [
        "5-Use a compreensão de lista para criar uma lista de todos os números entre 1 e 50 que são divisíveis por 3. "
      ]
    },
    {
      "cell_type": "code",
      "metadata": {
        "id": "LDzUyiUuiESI",
        "outputId": "aea578fe-b23d-4d49-8c76-ff06e11a81a6"
      },
      "source": [
        "#codigo aqui\n"
      ],
      "execution_count": null,
      "outputs": [
        {
          "output_type": "stream",
          "text": [
            "[3, 6, 9, 12, 15, 18, 21, 24, 27, 30, 33, 36, 39, 42, 45, 48]\n"
          ],
          "name": "stdout"
        }
      ]
    },
    {
      "cell_type": "markdown",
      "metadata": {
        "id": "30q8Z3utiESJ"
      },
      "source": [
        "6-Percorra a string abaixo e se o comprimento de uma palavra for par imprima \"é par!"
      ]
    },
    {
      "cell_type": "code",
      "metadata": {
        "id": "lCR6mEhDiESK"
      },
      "source": [
        "st = 'Print every word in this sentence that has an even number of letters'"
      ],
      "execution_count": null,
      "outputs": []
    },
    {
      "cell_type": "code",
      "metadata": {
        "id": "DX6iMjVOiESK",
        "outputId": "71617a4e-90d7-4129-b881-e35137e4ff8c"
      },
      "source": [
        "#codigo aqui\n"
      ],
      "execution_count": null,
      "outputs": [
        {
          "output_type": "stream",
          "text": [
            "word é par\n",
            "in é par\n",
            "this é par\n",
            "sentence é par\n",
            "that é par\n",
            "an é par\n",
            "even é par\n",
            "number é par\n",
            "of é par\n"
          ],
          "name": "stdout"
        }
      ]
    },
    {
      "cell_type": "markdown",
      "metadata": {
        "id": "vqw2FGm1iESL"
      },
      "source": [
        "7- Escreva um programa que imprima os números inteiros de 1 a 100. Para múltiplos de três imprima \"Fizz\" ao ivés do número, e para os múltiplos de cinco imprima \"Buzz\". Para números que são múltiplos de três e cinco imprima \"FizzBuzz\"."
      ]
    },
    {
      "cell_type": "code",
      "metadata": {
        "id": "lXCB8VVeiESL",
        "outputId": "e841fa76-6603-4e86-a91a-a78a38ffa81e"
      },
      "source": [
        "#codigo aqui\n"
      ],
      "execution_count": null,
      "outputs": [
        {
          "output_type": "stream",
          "text": [
            "3 Fizz\n",
            "5 Buzz\n",
            "6 Fizz\n",
            "9 Fizz\n",
            "10 Buzz\n",
            "12 Fizz\n",
            "15 FizzBuzz\n",
            "18 Fizz\n",
            "20 Buzz\n",
            "21 Fizz\n",
            "24 Fizz\n",
            "25 Buzz\n",
            "27 Fizz\n",
            "30 FizzBuzz\n",
            "33 Fizz\n",
            "35 Buzz\n",
            "36 Fizz\n",
            "39 Fizz\n",
            "40 Buzz\n",
            "42 Fizz\n",
            "45 FizzBuzz\n",
            "48 Fizz\n",
            "50 Buzz\n",
            "51 Fizz\n",
            "54 Fizz\n",
            "55 Buzz\n",
            "57 Fizz\n",
            "60 FizzBuzz\n",
            "63 Fizz\n",
            "65 Buzz\n",
            "66 Fizz\n",
            "69 Fizz\n",
            "70 Buzz\n",
            "72 Fizz\n",
            "75 FizzBuzz\n",
            "78 Fizz\n",
            "80 Buzz\n",
            "81 Fizz\n",
            "84 Fizz\n",
            "85 Buzz\n",
            "87 Fizz\n",
            "90 FizzBuzz\n",
            "93 Fizz\n",
            "95 Buzz\n",
            "96 Fizz\n",
            "99 Fizz\n",
            "100 Buzz\n"
          ],
          "name": "stdout"
        }
      ]
    },
    {
      "cell_type": "markdown",
      "metadata": {
        "id": "Z2VzWRxMiESL"
      },
      "source": [
        "8 - Use Compreensão em listas para criar uma lista das primeiras letras de cada palavra na string abaixo:"
      ]
    },
    {
      "cell_type": "code",
      "metadata": {
        "id": "8eun9e5aiESM"
      },
      "source": [
        "st = 'Create a list of the first letters of every word in this string'"
      ],
      "execution_count": null,
      "outputs": []
    },
    {
      "cell_type": "code",
      "metadata": {
        "id": "D-TIurv2iESM",
        "outputId": "261a7808-474c-4a24-a252-2695ab4dc5f0"
      },
      "source": [
        "#codigo aqui\n"
      ],
      "execution_count": null,
      "outputs": [
        {
          "output_type": "stream",
          "text": [
            "['C', 'a', 'l', 'o', 't', 'f', 'l', 'o', 'e', 'w', 'i', 't', 's']\n"
          ],
          "name": "stdout"
        }
      ]
    }
  ]
}