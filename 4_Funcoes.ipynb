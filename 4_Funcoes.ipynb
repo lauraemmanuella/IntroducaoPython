{
  "nbformat": 4,
  "nbformat_minor": 0,
  "metadata": {
    "kernelspec": {
      "display_name": "Python 3",
      "language": "python",
      "name": "python3"
    },
    "language_info": {
      "codemirror_mode": {
        "name": "ipython",
        "version": 3
      },
      "file_extension": ".py",
      "mimetype": "text/x-python",
      "name": "python",
      "nbconvert_exporter": "python",
      "pygments_lexer": "ipython3",
      "version": "3.7.0"
    },
    "colab": {
      "name": "4-Funcoes.ipynb",
      "provenance": [],
      "collapsed_sections": [],
      "include_colab_link": true
    }
  },
  "cells": [
    {
      "cell_type": "markdown",
      "metadata": {
        "id": "view-in-github",
        "colab_type": "text"
      },
      "source": [
        "<a href=\"https://colab.research.google.com/github/lauraemmanuella/IntroducaoPython/blob/main/4_Funcoes.ipynb\" target=\"_parent\"><img src=\"https://colab.research.google.com/assets/colab-badge.svg\" alt=\"Open In Colab\"/></a>"
      ]
    },
    {
      "cell_type": "markdown",
      "metadata": {
        "id": "rgeco2Y2OV3k"
      },
      "source": [
        "# Função\n",
        "\n",
        "## Sintaxe"
      ]
    },
    {
      "cell_type": "code",
      "metadata": {
        "id": "gjfbkW4ZOV3k"
      },
      "source": [
        "def name_of_function(arg1,arg2):#quantos parametros quiser colocar\n",
        "    '''\n",
        "    A documentação da função ficará aqui\n",
        "    '''\n",
        "    # Faça coisas aqui\n",
        "    return # retorne o resultado desejado aqui"
      ],
      "execution_count": null,
      "outputs": []
    },
    {
      "cell_type": "markdown",
      "metadata": {
        "id": "3k4DKAaxOV3l"
      },
      "source": [
        "Tenha cuidado com os nomes para não chamar uma função sua do mesmo nome que uma função interna em Python (como len).Veja lista com os nomes das funções embutidas da linguagem: https://docs.python.org/3.7/library/functions.html"
      ]
    },
    {
      "cell_type": "code",
      "metadata": {
        "id": "kxlBc8xtOV3l"
      },
      "source": [
        "def intro():\n",
        "    '''\n",
        "    Essa funcao exibe uma mensagem inicial\n",
        "    '''\n",
        "    print('Aprendendo sobre funções em python')"
      ],
      "execution_count": null,
      "outputs": []
    },
    {
      "cell_type": "code",
      "metadata": {
        "scrolled": true,
        "colab": {
          "base_uri": "https://localhost:8080/"
        },
        "id": "SOJ2ar3hOV3l",
        "outputId": "098f0a7c-4dc7-4469-9907-ee5b8ba70e15"
      },
      "source": [
        "intro()"
      ],
      "execution_count": null,
      "outputs": [
        {
          "output_type": "stream",
          "text": [
            "Aprendendo sobre funções em python\n"
          ],
          "name": "stdout"
        }
      ]
    },
    {
      "cell_type": "code",
      "metadata": {
        "colab": {
          "base_uri": "https://localhost:8080/"
        },
        "id": "aPCwB279OV3m",
        "outputId": "b023c088-8414-4cf4-8f96-b974eb915ee0"
      },
      "source": [
        "help(intro)"
      ],
      "execution_count": null,
      "outputs": [
        {
          "output_type": "stream",
          "text": [
            "Help on function intro in module __main__:\n",
            "\n",
            "intro()\n",
            "    Essa funcao exibe uma mensagem inicial\n",
            "\n"
          ],
          "name": "stdout"
        }
      ]
    },
    {
      "cell_type": "code",
      "metadata": {
        "id": "xN0psDcbOV3n"
      },
      "source": [
        "def welcome(name):\n",
        "    '''\n",
        "    Essa funcao apresenta as boas vindas\n",
        "    '''\n",
        "    print('Seja bem-vindo ', name)"
      ],
      "execution_count": null,
      "outputs": []
    },
    {
      "cell_type": "code",
      "metadata": {
        "colab": {
          "base_uri": "https://localhost:8080/",
          "height": 164
        },
        "id": "1jAX9FhcOV3n",
        "outputId": "05539325-8946-4456-bb0b-5566605e2c24"
      },
      "source": [
        "welcome()"
      ],
      "execution_count": null,
      "outputs": [
        {
          "output_type": "error",
          "ename": "TypeError",
          "evalue": "ignored",
          "traceback": [
            "\u001b[0;31m---------------------------------------------------------------------------\u001b[0m",
            "\u001b[0;31mTypeError\u001b[0m                                 Traceback (most recent call last)",
            "\u001b[0;32m<ipython-input-6-a401d7101853>\u001b[0m in \u001b[0;36m<module>\u001b[0;34m()\u001b[0m\n\u001b[0;32m----> 1\u001b[0;31m \u001b[0mwelcome\u001b[0m\u001b[0;34m(\u001b[0m\u001b[0;34m)\u001b[0m\u001b[0;34m\u001b[0m\u001b[0;34m\u001b[0m\u001b[0m\n\u001b[0m",
            "\u001b[0;31mTypeError\u001b[0m: welcome() missing 1 required positional argument: 'name'"
          ]
        }
      ]
    },
    {
      "cell_type": "code",
      "metadata": {
        "colab": {
          "base_uri": "https://localhost:8080/"
        },
        "id": "66tOeHcyOV3n",
        "outputId": "a5382bb3-3299-410a-d1f5-c156a0f9b8c5"
      },
      "source": [
        "welcome('Laura')"
      ],
      "execution_count": null,
      "outputs": [
        {
          "output_type": "stream",
          "text": [
            "Seja bem-vindo  Laura\n"
          ],
          "name": "stdout"
        }
      ]
    },
    {
      "cell_type": "markdown",
      "metadata": {
        "id": "q62RMVYWOV3n"
      },
      "source": [
        "## Parâmetros implícitos"
      ]
    },
    {
      "cell_type": "code",
      "metadata": {
        "id": "NgGrieXOOV3n"
      },
      "source": [
        "def login(user = 'admin', senha = 'admin'):\n",
        "    print('Usuario: ', user, '\\nSenha: ', senha)"
      ],
      "execution_count": null,
      "outputs": []
    },
    {
      "cell_type": "code",
      "metadata": {
        "colab": {
          "base_uri": "https://localhost:8080/"
        },
        "id": "5_RUkrpzOV3n",
        "outputId": "035f2c96-13f5-4fbd-a1af-95f23bd44a95"
      },
      "source": [
        "login()"
      ],
      "execution_count": null,
      "outputs": [
        {
          "output_type": "stream",
          "text": [
            "Usuario:  admin \n",
            "Senha:  admin\n"
          ],
          "name": "stdout"
        }
      ]
    },
    {
      "cell_type": "code",
      "metadata": {
        "colab": {
          "base_uri": "https://localhost:8080/"
        },
        "id": "zbk3yF5AOV3o",
        "outputId": "25ef7305-a45a-458b-e2cb-c8829692f7de"
      },
      "source": [
        "login('Laura')"
      ],
      "execution_count": null,
      "outputs": [
        {
          "output_type": "stream",
          "text": [
            "Usuario:  Laura \n",
            "Senha:  admin\n"
          ],
          "name": "stdout"
        }
      ]
    },
    {
      "cell_type": "code",
      "metadata": {
        "colab": {
          "base_uri": "https://localhost:8080/"
        },
        "id": "mKPG200HOV3o",
        "outputId": "3138ffb8-dcf3-4c49-9f79-c86e7cbf5ca3"
      },
      "source": [
        "login(senha = '123456')"
      ],
      "execution_count": null,
      "outputs": [
        {
          "output_type": "stream",
          "text": [
            "Usuario:  admin \n",
            "Senha:  123456\n"
          ],
          "name": "stdout"
        }
      ]
    },
    {
      "cell_type": "code",
      "metadata": {
        "id": "HXhZq63nOV3o"
      },
      "source": [
        "def add_num(num1,num2):\n",
        "    return num1+num2"
      ],
      "execution_count": null,
      "outputs": []
    },
    {
      "cell_type": "code",
      "metadata": {
        "colab": {
          "base_uri": "https://localhost:8080/"
        },
        "id": "Ty6N_SfUOV3o",
        "outputId": "932e3c86-b561-45e4-b7af-7ee62591b93c"
      },
      "source": [
        "add_num(456,9876)"
      ],
      "execution_count": null,
      "outputs": [
        {
          "output_type": "execute_result",
          "data": {
            "text/plain": [
              "10332"
            ]
          },
          "metadata": {
            "tags": []
          },
          "execution_count": 4
        }
      ]
    },
    {
      "cell_type": "markdown",
      "metadata": {
        "id": "OD_pieBtOV3p"
      },
      "source": [
        "## Quantidade qualquer de parâmetros"
      ]
    },
    {
      "cell_type": "code",
      "metadata": {
        "colab": {
          "base_uri": "https://localhost:8080/"
        },
        "id": "n8Gcjp2UOV3p",
        "outputId": "b81a371f-ddd6-4a51-d868-8f8b3c060dc1"
      },
      "source": [
        "def addN(*args): #como seria isso em Java?\n",
        "    print(args)\n",
        "    #print(type(args))\n",
        "addN(9,6,3,2)\n",
        "addN(0,1)\n",
        "addN(1,2,3,4,5,6,7,8,9)"
      ],
      "execution_count": null,
      "outputs": [
        {
          "output_type": "stream",
          "name": "stdout",
          "text": [
            "(9, 6, 3, 2)\n",
            "(0, 1)\n",
            "(1, 2, 3, 4, 5, 6, 7, 8, 9)\n"
          ]
        }
      ]
    },
    {
      "cell_type": "markdown",
      "metadata": {
        "id": "0-n9J5mfOV3p"
      },
      "source": [
        "## Funções aninhadas\n",
        "\n",
        "Em Python podemos definir uma função dentro de outra, mas ela tem escopo local, ou seja, não pode ser acessada de fora da função que a define"
      ]
    },
    {
      "cell_type": "code",
      "metadata": {
        "id": "XuqPJ5MeOV3p"
      },
      "source": [
        "from random import randint\n",
        "\n",
        "def func1():\n",
        "    print('Escopo func1')\n",
        "    def divisor(x):\n",
        "        if x%3==0 and x%5==0:\n",
        "            return True\n",
        "        return False\n",
        "    a = randint(0, 100)\n",
        "    if divisor(a):\n",
        "        print(a, ' eh divisivel por 3 e 5')\n",
        "    else:\n",
        "        print(a, ' nao eh divisivel por 3 e 5')\n",
        "        "
      ],
      "execution_count": null,
      "outputs": []
    },
    {
      "cell_type": "code",
      "metadata": {
        "id": "uJnpAW0lOV3p",
        "outputId": "df6b788e-b259-4f40-a508-f205ff5ba39f"
      },
      "source": [
        "func1()"
      ],
      "execution_count": null,
      "outputs": [
        {
          "output_type": "stream",
          "text": [
            "Escopo func1\n",
            "30  eh divisivel por 3 e 5\n"
          ],
          "name": "stdout"
        }
      ]
    },
    {
      "cell_type": "code",
      "metadata": {
        "id": "wvap4QvROV3r",
        "outputId": "e7d31e44-9eeb-4a00-c93f-b6e8a6623a81"
      },
      "source": [
        "divisor(67)"
      ],
      "execution_count": null,
      "outputs": [
        {
          "output_type": "error",
          "ename": "NameError",
          "evalue": "name 'divisor' is not defined",
          "traceback": [
            "\u001b[0;31m---------------------------------------------------------------------------\u001b[0m",
            "\u001b[0;31mNameError\u001b[0m                                 Traceback (most recent call last)",
            "\u001b[0;32m<ipython-input-33-b127f36a7a5f>\u001b[0m in \u001b[0;36m<module>\u001b[0;34m()\u001b[0m\n\u001b[0;32m----> 1\u001b[0;31m \u001b[0mdivisor\u001b[0m\u001b[0;34m(\u001b[0m\u001b[0;36m67\u001b[0m\u001b[0;34m)\u001b[0m\u001b[0;34m\u001b[0m\u001b[0m\n\u001b[0m",
            "\u001b[0;31mNameError\u001b[0m: name 'divisor' is not defined"
          ]
        }
      ]
    },
    {
      "cell_type": "markdown",
      "metadata": {
        "id": "CaPMQ9NZOV3r"
      },
      "source": [
        "## Variáveis locais\n",
        "Quando você declara variáveis dentro de uma definição de função, elas não estão relacionadas de nenhuma maneira a outras variáveis com os mesmos nomes usados fora da função - ou seja, os nomes de variáveis são locais para a função. Isso é chamado de escopo da variável. Todas as variáveis têm o escopo do bloco em que são declarados a partir do ponto de definição do nome.\n",
        "\n",
        "Exemplo:"
      ]
    },
    {
      "cell_type": "code",
      "metadata": {
        "id": "mQHWcu4GOV3r",
        "outputId": "994ae6f6-c325-45a1-d0c1-9d43d13c3ead"
      },
      "source": [
        "x = 50\n",
        "\n",
        "def func(x):\n",
        "    print('x is', x)\n",
        "    x = 2\n",
        "    print('Changed local x to', x)\n",
        "\n",
        "func(x)\n",
        "print('x is still', x)"
      ],
      "execution_count": null,
      "outputs": [
        {
          "output_type": "stream",
          "text": [
            "x is 50\n",
            "Changed local x to 2\n",
            "x is still 50\n"
          ],
          "name": "stdout"
        }
      ]
    },
    {
      "cell_type": "markdown",
      "metadata": {
        "id": "B3NUTT6rOV3r"
      },
      "source": [
        "## A declaração global\n",
        "Se você deseja atribuir um valor a um nome definido no nível superior do programa, então você deve dizer ao Python que o nome não é local, mas é global . Fazemos isso usando a declaração global. É impossível atribuir um valor a uma variável definida fora de uma função sem a declaração global.\n",
        "\n",
        "Você pode usar os valores de tais variáveis ​​definidas fora da função (assumindo que não há nenhuma variável com o mesmo nome dentro da função). No entanto, isso não é encorajado e deve ser evitado, uma vez que não fica claro para o leitor do programa como a definição daquela variável. O uso da declaração global torna claro que a variável é definida em um bloco mais externo.\n",
        "\n",
        "Exemplo:"
      ]
    },
    {
      "cell_type": "code",
      "metadata": {
        "id": "N3oPUAy-OV3s",
        "outputId": "836b15d1-7cf2-488e-f5a5-934647da7b5c"
      },
      "source": [
        "x = 50\n",
        "\n",
        "def func():\n",
        "    global x\n",
        "    print('This function is now using the global x!')\n",
        "    print('Because of global x is: ', x)\n",
        "    x = 2\n",
        "    print('Ran func(), changed global x to', x)\n",
        "\n",
        "print('Before calling func(), x is: ', x)\n",
        "func()\n",
        "print('Value of x (outside of func()) is: ', x)"
      ],
      "execution_count": null,
      "outputs": [
        {
          "output_type": "stream",
          "text": [
            "Before calling func(), x is:  50\n",
            "This function is now using the global x!\n",
            "Because of global x is:  50\n",
            "Ran func(), changed global x to 2\n",
            "Value of x (outside of func()) is:  2\n"
          ],
          "name": "stdout"
        }
      ]
    },
    {
      "cell_type": "markdown",
      "metadata": {
        "collapsed": true,
        "id": "GW2UvS7LOV3s"
      },
      "source": [
        "A declaração global é usada para declarar que x é uma variável global - portanto, quando atribuímos um valor a x dentro da função, essa alteração é refletida quando usamos o valor de x no bloco principal.\n",
        "\n",
        "Você pode especificar mais de uma variável global usando a mesma declaração global, e. global x, y, z."
      ]
    },
    {
      "cell_type": "markdown",
      "metadata": {
        "id": "EbJaNF0-OV3s"
      },
      "source": [
        "# Expressões Lambda\n",
        "\n",
        "As expressões lambda nos permitem criar funções \"anônimas\". Isso basicamente significa que podemos criar funções ad hoc sem necessidade de definir corretamente uma função usando def.\n",
        "\n",
        "**O corpo de lambda é uma expressão única, não um bloco de declarações.**\n",
        "\n",
        "Como é limitado a uma expressão, um lambda é menos geral que uma def. \n",
        "\n",
        "O lambda foi projetado para codificar funções simples e def manipula as tarefas maiores.\n",
        "\n",
        "Vamos montar lentamente uma expressão lambda, desconstruindo uma função:"
      ]
    },
    {
      "cell_type": "code",
      "metadata": {
        "id": "q6njngmZOV3s"
      },
      "source": [
        "def square(num):\n",
        "    result = num**2\n",
        "    return result"
      ],
      "execution_count": null,
      "outputs": []
    },
    {
      "cell_type": "code",
      "metadata": {
        "id": "N5RS_KN6OV3s",
        "outputId": "b907d8a1-1575-4460-a9d1-c399fc7500a1"
      },
      "source": [
        "square(2)"
      ],
      "execution_count": null,
      "outputs": [
        {
          "output_type": "execute_result",
          "data": {
            "text/plain": [
              "4"
            ]
          },
          "metadata": {
            "tags": []
          },
          "execution_count": 35
        }
      ]
    },
    {
      "cell_type": "markdown",
      "metadata": {
        "id": "lR7IaFZKOV3s"
      },
      "source": [
        "Enxugando mais a função:"
      ]
    },
    {
      "cell_type": "code",
      "metadata": {
        "id": "kpFrsJ4OOV3s"
      },
      "source": [
        "def square(num):\n",
        "    return num**2"
      ],
      "execution_count": null,
      "outputs": []
    },
    {
      "cell_type": "code",
      "metadata": {
        "id": "KiYUzjcNOV3s",
        "outputId": "49061274-82b8-4f0f-8953-3ce5517fa563"
      },
      "source": [
        "square(2)"
      ],
      "execution_count": null,
      "outputs": [
        {
          "output_type": "execute_result",
          "data": {
            "text/plain": [
              "4"
            ]
          },
          "metadata": {
            "tags": []
          },
          "execution_count": 37
        }
      ]
    },
    {
      "cell_type": "markdown",
      "metadata": {
        "id": "-IhaBmkaOV3t"
      },
      "source": [
        "Escrevendo em uma linha (embora não seja recomendado):"
      ]
    },
    {
      "cell_type": "code",
      "metadata": {
        "id": "P_rNeyBaOV3t"
      },
      "source": [
        "def square(num): return num**2"
      ],
      "execution_count": null,
      "outputs": []
    },
    {
      "cell_type": "code",
      "metadata": {
        "id": "p1YSPdkwOV3t",
        "outputId": "1fdd9167-da08-46cf-e8f4-3d8aecaf02a9"
      },
      "source": [
        "square(2)"
      ],
      "execution_count": null,
      "outputs": [
        {
          "output_type": "execute_result",
          "data": {
            "text/plain": [
              "4"
            ]
          },
          "metadata": {
            "tags": []
          },
          "execution_count": 41
        }
      ]
    },
    {
      "cell_type": "markdown",
      "metadata": {
        "id": "Xif-88bkOV3t"
      },
      "source": [
        "Essa é a forma de uma função que uma expressão lambda pretende replicar. Uma expressão lambda pode então ser escrita como:"
      ]
    },
    {
      "cell_type": "code",
      "metadata": {
        "id": "4ENjAIOdOV3t",
        "outputId": "02282ce2-024a-4354-af16-9400159fd3bc"
      },
      "source": [
        "lambda num: num**2"
      ],
      "execution_count": null,
      "outputs": [
        {
          "output_type": "execute_result",
          "data": {
            "text/plain": [
              "<function __main__.<lambda>(num)>"
            ]
          },
          "metadata": {
            "tags": []
          },
          "execution_count": 42
        }
      ]
    },
    {
      "cell_type": "markdown",
      "metadata": {
        "id": "Vjd7hAK0OV3t"
      },
      "source": [
        "Observe como recuperamos uma função. Podemos atribuir essa função a um rótulo:"
      ]
    },
    {
      "cell_type": "code",
      "metadata": {
        "id": "3rJNfx35OV3t"
      },
      "source": [
        "square = lambda num: num**2"
      ],
      "execution_count": null,
      "outputs": []
    },
    {
      "cell_type": "code",
      "metadata": {
        "id": "A8YqiCHTOV3t",
        "outputId": "0e5ac95e-39a4-49f3-d7f4-71904a0a8c51"
      },
      "source": [
        "square(2)"
      ],
      "execution_count": null,
      "outputs": [
        {
          "output_type": "execute_result",
          "data": {
            "text/plain": [
              "4"
            ]
          },
          "metadata": {
            "tags": []
          },
          "execution_count": 45
        }
      ]
    },
    {
      "cell_type": "markdown",
      "metadata": {
        "id": "rajKpQEeOV3t"
      },
      "source": [
        "## Exemplos"
      ]
    },
    {
      "cell_type": "code",
      "metadata": {
        "id": "O4XdknbJOV3t"
      },
      "source": [
        "even = lambda x: x%2==0"
      ],
      "execution_count": null,
      "outputs": []
    },
    {
      "cell_type": "code",
      "metadata": {
        "id": "eoH76ziwOV3t",
        "outputId": "ef7408f8-b096-40d6-812e-7abe15d35669"
      },
      "source": [
        "even(4)"
      ],
      "execution_count": null,
      "outputs": [
        {
          "output_type": "execute_result",
          "data": {
            "text/plain": [
              "True"
            ]
          },
          "metadata": {
            "tags": []
          },
          "execution_count": 48
        }
      ]
    },
    {
      "cell_type": "code",
      "metadata": {
        "id": "iWWPPWmfOV3u",
        "outputId": "e68bebc6-f986-469e-c790-71888f9040c1"
      },
      "source": [
        "even(5)"
      ],
      "execution_count": null,
      "outputs": [
        {
          "output_type": "execute_result",
          "data": {
            "text/plain": [
              "False"
            ]
          },
          "metadata": {
            "tags": []
          },
          "execution_count": 49
        }
      ]
    },
    {
      "cell_type": "code",
      "metadata": {
        "id": "hJx2fPtiOV3u"
      },
      "source": [
        "first = lambda s: s[0]"
      ],
      "execution_count": null,
      "outputs": []
    },
    {
      "cell_type": "code",
      "metadata": {
        "id": "uT_KtWbpOV3u",
        "outputId": "b7bcbd8f-4237-44cb-c08f-491f033ed7b6"
      },
      "source": [
        "first('Laura')"
      ],
      "execution_count": null,
      "outputs": [
        {
          "output_type": "execute_result",
          "data": {
            "text/plain": [
              "'L'"
            ]
          },
          "metadata": {
            "tags": []
          },
          "execution_count": 51
        }
      ]
    },
    {
      "cell_type": "code",
      "metadata": {
        "id": "aWUoPCApOV3u"
      },
      "source": [
        "rev = lambda s: s[::-1]"
      ],
      "execution_count": null,
      "outputs": []
    },
    {
      "cell_type": "code",
      "metadata": {
        "id": "Bf6RxMiWOV3u",
        "outputId": "36a363fa-4ff0-45a6-e5e6-c00c6483f014"
      },
      "source": [
        "rev('Laura')"
      ],
      "execution_count": null,
      "outputs": [
        {
          "output_type": "execute_result",
          "data": {
            "text/plain": [
              "'aruaL'"
            ]
          },
          "metadata": {
            "tags": []
          },
          "execution_count": 53
        }
      ]
    },
    {
      "cell_type": "code",
      "metadata": {
        "id": "8-GQtPl6OV3u"
      },
      "source": [
        "adder = lambda x,y : x+y"
      ],
      "execution_count": null,
      "outputs": []
    },
    {
      "cell_type": "code",
      "metadata": {
        "id": "yHwxkDPROV3w",
        "outputId": "5677c9e2-f668-46eb-cdd1-806c1a106f11"
      },
      "source": [
        "adder(2,3)"
      ],
      "execution_count": null,
      "outputs": [
        {
          "output_type": "execute_result",
          "data": {
            "text/plain": [
              "5"
            ]
          },
          "metadata": {
            "tags": []
          },
          "execution_count": 55
        }
      ]
    },
    {
      "cell_type": "markdown",
      "metadata": {
        "id": "olTQy2AKOV3w"
      },
      "source": [
        "## Funções embutidas"
      ]
    },
    {
      "cell_type": "markdown",
      "metadata": {
        "id": "G4zrS7k1OV3w"
      },
      "source": [
        "### Map\n",
        "\n",
        "map () é uma função que recebe em dois argumentos: uma função e uma sequência iterável, na forma: \n",
        "\n",
        "> map(função, sequência)\n",
        "\n",
        "O primeiro argumento é o nome de uma função e a segunda uma sequência (por exemplo, uma lista). \n",
        "\n",
        "**map() aplica a função a todos os elementos da sequência.**\n",
        "\n",
        "Ele retorna um objeto com os elementos alterados pela função (devemos transformar o objeto em uma lista, caso queiramos ver o resultado)\n"
      ]
    },
    {
      "cell_type": "code",
      "metadata": {
        "id": "M-Zt1_dzOV3w"
      },
      "source": [
        "def fahrenheit(T):\n",
        "    return ((float(9)/5)*T + 32)\n",
        "\n",
        "def celsius(T):\n",
        "    return (float(5)/9)*(T-32)\n",
        "    \n",
        "temp = [0, 22.5, 40,100]"
      ],
      "execution_count": 1,
      "outputs": []
    },
    {
      "cell_type": "code",
      "metadata": {
        "id": "vgzBY7NrOV3w",
        "colab": {
          "base_uri": "https://localhost:8080/"
        },
        "outputId": "f6e4b6db-4b9e-4d02-85dd-60e19a5d3eff"
      },
      "source": [
        "#passa como argumentos para o map: função (fahrenheit) e iterável (temp) e transforma o resultado (map) em lista\n",
        "F_temps = list(map(fahrenheit, temp))\n",
        "\n",
        "# Mostra\n",
        "print(F_temps)"
      ],
      "execution_count": 4,
      "outputs": [
        {
          "output_type": "stream",
          "name": "stdout",
          "text": [
            "[32.0, 72.5, 104.0, 212.0]\n"
          ]
        }
      ]
    },
    {
      "cell_type": "markdown",
      "metadata": {
        "id": "pi0ZBCD_OV3w"
      },
      "source": [
        "Nota: colocar a função sem parênteses pode parecer estranho, mas tenha em mente que as funções também são objetos."
      ]
    },
    {
      "cell_type": "code",
      "metadata": {
        "id": "PUR3x0ADOV3w",
        "colab": {
          "base_uri": "https://localhost:8080/"
        },
        "outputId": "c0d9fd44-52bf-42ab-a757-52fb027e3163"
      },
      "source": [
        "# Converte de volta\n",
        "C_temps = list(map(celsius, F_temps)) #transforma de volta em celsius\n",
        "\n",
        "print(C_temps)"
      ],
      "execution_count": 5,
      "outputs": [
        {
          "output_type": "stream",
          "name": "stdout",
          "text": [
            "[0.0, 22.5, 40.0, 100.0]\n"
          ]
        }
      ]
    },
    {
      "cell_type": "markdown",
      "metadata": {
        "id": "AkUyB-jNOV3w"
      },
      "source": [
        "No exemplo acima, não usamos uma expressão lambda. Ao usar lambda, não teríamos que definir e nomear as funções fahrenheit() e celsius()."
      ]
    },
    {
      "cell_type": "code",
      "metadata": {
        "id": "rWOv4BsuOV3w",
        "colab": {
          "base_uri": "https://localhost:8080/"
        },
        "outputId": "eb588a14-3f3a-452c-f727-6d59209ea771"
      },
      "source": [
        "list(map(lambda x: (5/9)*(x - 32), F_temps))"
      ],
      "execution_count": 7,
      "outputs": [
        {
          "output_type": "execute_result",
          "data": {
            "text/plain": [
              "[0.0, 22.5, 40.0, 100.0]"
            ]
          },
          "metadata": {},
          "execution_count": 7
        }
      ]
    },
    {
      "cell_type": "markdown",
      "metadata": {
        "id": "HYZa-ARIOV3w"
      },
      "source": [
        "O map() é mais comumente usado com expressões lambda.\n",
        "\n",
        "map() pode ser aplicado a mais de um iterável. Os iteráveis devem ter o mesmo comprimento.\n"
      ]
    },
    {
      "cell_type": "code",
      "metadata": {
        "id": "yOQFml8mOV3w",
        "colab": {
          "base_uri": "https://localhost:8080/"
        },
        "outputId": "18b44645-b4d9-4c0b-87ab-a8093f3f868e"
      },
      "source": [
        "a = [1,2,3,4]\n",
        "b = [5,6,7,8]\n",
        "c = [9,10,11,12]\n",
        "\n",
        "list(map(lambda x,y:x+y, a, b))"
      ],
      "execution_count": 8,
      "outputs": [
        {
          "output_type": "execute_result",
          "data": {
            "text/plain": [
              "[6, 8, 10, 12]"
            ]
          },
          "metadata": {},
          "execution_count": 8
        }
      ]
    },
    {
      "cell_type": "code",
      "metadata": {
        "id": "-FYab1VmOV3w",
        "colab": {
          "base_uri": "https://localhost:8080/"
        },
        "outputId": "2c66fb0e-6d08-43cb-86c5-1c2357e57297"
      },
      "source": [
        "list(map(lambda x,y,z:x+y+z, a,b,c))"
      ],
      "execution_count": 9,
      "outputs": [
        {
          "output_type": "execute_result",
          "data": {
            "text/plain": [
              "[15, 18, 21, 24]"
            ]
          },
          "metadata": {},
          "execution_count": 9
        }
      ]
    },
    {
      "cell_type": "markdown",
      "metadata": {
        "id": "KrmYtuQwOV3x"
      },
      "source": [
        "### Filter\n",
        "\n",
        "A função filter(função, iteravel) oferece uma maneira conveniente de filtrar todos os elementos de um iterável para o qual a função retorne True.\n",
        "\n",
        "**A função passada como argumento precisa retornar um valor booleano (True ou False).** Esta função será aplicada a cada elemento do iterável. Somente se a função retornar True, o elemento será incluído no resultado.\n",
        "\n",
        "Ele também retorna um objeto com os elementos alterados pela função (devemos transformar o objeto em uma lista, caso queiramos ver o resultado)"
      ]
    },
    {
      "cell_type": "code",
      "metadata": {
        "id": "K0dxUh_dOV3x"
      },
      "source": [
        "# Vamos criar uma função\n",
        "def even_check(num):\n",
        "    if num%2 ==0:\n",
        "        return True"
      ],
      "execution_count": null,
      "outputs": []
    },
    {
      "cell_type": "markdown",
      "metadata": {
        "id": "pqJlNFUfOV3x"
      },
      "source": [
        "Agora vamos filtrar uma lista de números. "
      ]
    },
    {
      "cell_type": "code",
      "metadata": {
        "id": "Rc-bfMNjOV3x",
        "colab": {
          "base_uri": "https://localhost:8080/"
        },
        "outputId": "73c366e5-d004-448b-96de-c35e4b976ecc"
      },
      "source": [
        "lista1 = [1, 4, 9, 16, 25]\n",
        "\n",
        "list(filter(even_check,lista1))"
      ],
      "execution_count": null,
      "outputs": [
        {
          "output_type": "execute_result",
          "data": {
            "text/plain": [
              "[4, 16]"
            ]
          },
          "metadata": {
            "tags": []
          },
          "execution_count": 5
        }
      ]
    },
    {
      "cell_type": "markdown",
      "metadata": {
        "id": "3M7KQwetOV3x"
      },
      "source": [
        "filter() também é mais comumente usado com funções lambda, porque usamos o filtro para um trabalho rápido, onde não queremos escrever uma função inteira. Vamos repetir o exemplo acima usando uma expressão lambda:"
      ]
    },
    {
      "cell_type": "code",
      "metadata": {
        "id": "hkIpoC7nOV3x",
        "colab": {
          "base_uri": "https://localhost:8080/"
        },
        "outputId": "af9cf9be-44e2-489c-cfa8-97f686cd2a75"
      },
      "source": [
        "list(filter(lambda x: x%2==0,lista1))"
      ],
      "execution_count": null,
      "outputs": [
        {
          "output_type": "execute_result",
          "data": {
            "text/plain": [
              "[4, 16]"
            ]
          },
          "metadata": {
            "tags": []
          },
          "execution_count": 6
        }
      ]
    },
    {
      "cell_type": "markdown",
      "metadata": {
        "id": "ZBgFz_hpOV3x"
      },
      "source": [
        "## Função Geradora\n",
        "\n",
        "Os geradores nos permitem gerar informação a medida que avançamos, em vez de guardar tudo na memória.\n",
        "\n",
        "As funções do gerador nos permitem escrever uma função que pode enviar de volta um valor e, em seguida, continuar de onde ele parou. Esse tipo de função é um gerador em Python, permitindo gerar uma sequência de valores ao longo do tempo. \n",
        "\n",
        "**A principal diferença na sintaxe será o uso de uma declaração yield.**"
      ]
    },
    {
      "cell_type": "code",
      "metadata": {
        "id": "PpcC3W_cOV3x"
      },
      "source": [
        "def fakerange(i):\n",
        "    x = 0\n",
        "    while x < i:\n",
        "        yield x #yield ao inves de return\n",
        "        x+=1"
      ],
      "execution_count": null,
      "outputs": []
    },
    {
      "cell_type": "code",
      "metadata": {
        "id": "ysBo5fauOV3x",
        "outputId": "96c01639-3845-46ad-fc0a-a6429a5f29b0"
      },
      "source": [
        "for i in fakerange(10):\n",
        "    print(i);"
      ],
      "execution_count": null,
      "outputs": [
        {
          "output_type": "stream",
          "text": [
            "0\n",
            "1\n",
            "2\n",
            "3\n",
            "4\n",
            "5\n",
            "6\n",
            "7\n",
            "8\n",
            "9\n"
          ],
          "name": "stdout"
        }
      ]
    }
  ]
}