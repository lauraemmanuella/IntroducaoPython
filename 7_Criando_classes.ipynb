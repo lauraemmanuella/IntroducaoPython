{
  "nbformat": 4,
  "nbformat_minor": 0,
  "metadata": {
    "colab": {
      "name": "7-Criando classes.ipynb",
      "provenance": [],
      "collapsed_sections": [],
      "toc_visible": true,
      "authorship_tag": "ABX9TyOxiaPWg1XZBpws2j+Om8eW",
      "include_colab_link": true
    },
    "kernelspec": {
      "name": "python3",
      "display_name": "Python 3"
    }
  },
  "cells": [
    {
      "cell_type": "markdown",
      "metadata": {
        "id": "view-in-github",
        "colab_type": "text"
      },
      "source": [
        "<a href=\"https://colab.research.google.com/github/lauraemmanuella/IntroducaoPython/blob/main/7_Criando_classes.ipynb\" target=\"_parent\"><img src=\"https://colab.research.google.com/assets/colab-badge.svg\" alt=\"Open In Colab\"/></a>"
      ]
    },
    {
      "cell_type": "markdown",
      "metadata": {
        "id": "usuY_sQuxazw"
      },
      "source": [
        "# Classes\n",
        "\n",
        "Para definir uma classe em Python usamos o comando **class**\n",
        "\n",
        "Uma classe é uma estrutura que serve para definir novos tipos de dados e é formada por atributos (dados) e métodos (funcionalidades)\n",
        "\n",
        "Observe que os métodos terão como primeiro parâmetro o identificador **self**. O identificador **self** também vai aparecer antes dos atributos da classe \n",
        "\n",
        "> Esse identificador serve para diferenciar um método de uma função, bem como um atributo de uma variável, pois ele faz referência para o objeto da classe que está usando o atributo ou método\n",
        "\n"
      ]
    },
    {
      "cell_type": "markdown",
      "metadata": {
        "id": "GQnAR2Bh-cwT"
      },
      "source": [
        "## Exemplo: Jogo de dados\n",
        "\n",
        "O sistema consiste de 2 dados e até 11 jogadores. Cada jogador escolhe um valor para apostar entre 2 e 12. \n",
        "\n",
        "Após os jogadores informarem suas apostas os dados são lançados. O sistema apresenta o resultado: Se a soma do valor das faces dos dados for igual ao valor de uma das apostas, o sistema informa qual o jogador vencedor, caso nenhum jogador acerte o valor, é informado que o computador venceu."
      ]
    },
    {
      "cell_type": "markdown",
      "metadata": {
        "id": "zRUPMvJw9OcU"
      },
      "source": [
        "### Classe Jogador"
      ]
    },
    {
      "cell_type": "code",
      "metadata": {
        "id": "P_jb8uVXyyL8"
      },
      "source": [
        "class Jogador: #comando para definir uma nova classe\n",
        "  '''Classe Jogador possui nome e valor da aposta (entre 2 e 12)'''\n",
        "\n",
        "  i = 1 #variavel de classe (ela tem seu valor compartilhado por todos os objetos dessa classe, por isso não tem o identificador self)\n",
        "\n",
        "  #Método inicializador dos objetos da classe Jogador (chamado quando criamos um objeto)\n",
        "  def __init__(self, a, n = None):\n",
        "    self.aposta = a; \n",
        "    if n is None:\n",
        "      self.nome = 'JOGADOR ' + str(Jogador.i) \n",
        "      Jogador.i += 1 #aumenta em 1 unidade\n",
        "    else:\n",
        "      self.nome = n \n",
        "\n",
        "  #métodos que servirão para informar nome e aposta do jogador\n",
        "  def definirnome(self):\n",
        "    self.nome = input('Informe o nome do Jogador: ')\n",
        "\n",
        "  def definiraposta(self):\n",
        "    self.aposta = input('Informe a aposta do Jogador entre 2 e 12: ')\n",
        "\n",
        "  #métodos que servirão para retornar nome e aposta do jogador\n",
        "  def getnome(self):\n",
        "    return self.nome\n",
        "\n",
        "  def getaposta(self):\n",
        "    return self.aposta\n",
        "  \n",
        "  #Método especial usado quando mandamos imprimir o objeto - print\n",
        "  def __str__(self):\n",
        "    return 'Jogador: ' + self.nome + ' Aposta: ' + str(self.aposta)\n",
        "\n",
        "  #Método especial usado quando queremos comparar dois objetos dessa classe\n",
        "  def __eq__(self, outroJogador):\n",
        "    if self.nome == outroJogador.nome:\n",
        "      return True\n",
        "    return False\n"
      ],
      "execution_count": null,
      "outputs": []
    },
    {
      "cell_type": "code",
      "metadata": {
        "id": "Z05rgnpx1RWF"
      },
      "source": [
        "#Criação de objetos da classe Jogador\n",
        "jogador1 = Jogador(12, 'Laura')\n",
        "jogador2 = Jogador(7)\n",
        "jogador3 = Jogador(2)\n",
        "jogador4 = Jogador(8)"
      ],
      "execution_count": null,
      "outputs": []
    },
    {
      "cell_type": "code",
      "metadata": {
        "id": "2r43rMc_vVjz",
        "colab": {
          "base_uri": "https://localhost:8080/"
        },
        "outputId": "636f40e9-a295-44b0-ac9c-363cbc1a86d6"
      },
      "source": [
        "print(jogador1)\n",
        "print(jogador2)\n",
        "print(jogador3)\n",
        "print(jogador4)"
      ],
      "execution_count": null,
      "outputs": [
        {
          "output_type": "stream",
          "text": [
            "Jogador: Laura Aposta: 12\n",
            "Jogador: JOGADOR 1 Aposta: 7\n",
            "Jogador: JOGADOR 2 Aposta: 2\n",
            "Jogador: JOGADOR 3 Aposta: 8\n"
          ],
          "name": "stdout"
        }
      ]
    },
    {
      "cell_type": "code",
      "metadata": {
        "id": "Y-Y8qgAk_K03"
      },
      "source": [
        "jogador5 = Jogador(10, 'Laura')"
      ],
      "execution_count": null,
      "outputs": []
    },
    {
      "cell_type": "code",
      "metadata": {
        "colab": {
          "base_uri": "https://localhost:8080/"
        },
        "id": "Pyr6MjSt_Owk",
        "outputId": "c9a7b769-cd32-4890-c29f-c44214b24d1d"
      },
      "source": [
        "print(jogador1 is jogador5) #compara as referências"
      ],
      "execution_count": null,
      "outputs": [
        {
          "output_type": "stream",
          "text": [
            "False\n"
          ],
          "name": "stdout"
        }
      ]
    },
    {
      "cell_type": "code",
      "metadata": {
        "colab": {
          "base_uri": "https://localhost:8080/"
        },
        "id": "vIRl_ujR_Rtk",
        "outputId": "682ec947-253e-4a1f-8d3a-7e55fb97f2e3"
      },
      "source": [
        "print(jogador1 == jogador5) #chama método __eq__"
      ],
      "execution_count": null,
      "outputs": [
        {
          "output_type": "stream",
          "text": [
            "True\n"
          ],
          "name": "stdout"
        }
      ]
    },
    {
      "cell_type": "markdown",
      "metadata": {
        "id": "bAIfVQBExWgt"
      },
      "source": [
        "### Classe Dado"
      ]
    },
    {
      "cell_type": "code",
      "metadata": {
        "id": "BppwPx4pCQO3"
      },
      "source": [
        "import random #usaremos esse modulo para chamar o metodo randint\n",
        "\n",
        "class Dado:\n",
        "  '''Classe representa um dado com 6 faces representando os números inteiros \n",
        "  de 1 a 6 \n",
        "  Esse dado é capaz de ser girado, resultando em um valor para sua face'''\n",
        "\n",
        "  def __init__(self):\n",
        "    '''cria um novo dado que ainda não foi lançado'''\n",
        "    self.face = None \n",
        "\n",
        "  def girar(self):\n",
        "    '''gira o dado para gerar um numero entre 1 e 6 que será o valor da face \n",
        "    que ficou para cima'''\n",
        "    self.face = random.randint(1,6)\n",
        "  \n",
        "  def getFace(self):\n",
        "    return self.face\n",
        "  \n",
        "  def __str__(self):\n",
        "    return 'Face deste dado: ' + str(self.face)\n",
        "  "
      ],
      "execution_count": null,
      "outputs": []
    },
    {
      "cell_type": "code",
      "metadata": {
        "id": "Do65NvOzGlGX",
        "colab": {
          "base_uri": "https://localhost:8080/",
          "height": 102
        },
        "outputId": "67e66caa-f3ac-4cd5-925d-0509bd61ccbf"
      },
      "source": [
        "help(random.randint)"
      ],
      "execution_count": null,
      "outputs": [
        {
          "output_type": "stream",
          "text": [
            "Help on method randint in module random:\n",
            "\n",
            "randint(a, b) method of random.Random instance\n",
            "    Return random integer in range [a, b], including both end points.\n",
            "\n"
          ],
          "name": "stdout"
        }
      ]
    },
    {
      "cell_type": "code",
      "metadata": {
        "id": "VJnic8IeDvU7"
      },
      "source": [
        "dado1 = Dado()\n",
        "dado2 = Dado()\n"
      ],
      "execution_count": null,
      "outputs": []
    },
    {
      "cell_type": "code",
      "metadata": {
        "id": "9Bo-mme6WUrL",
        "colab": {
          "base_uri": "https://localhost:8080/"
        },
        "outputId": "1488a33c-056f-4132-d4a0-043330b186d2"
      },
      "source": [
        "dado1.girar()\n",
        "print(dado1)"
      ],
      "execution_count": null,
      "outputs": [
        {
          "output_type": "stream",
          "text": [
            "Face deste dado: 6\n"
          ],
          "name": "stdout"
        }
      ]
    },
    {
      "cell_type": "code",
      "metadata": {
        "id": "H2GrwNSEWo0f",
        "colab": {
          "base_uri": "https://localhost:8080/"
        },
        "outputId": "7d933e54-8beb-48c5-ead4-caf0c4079ad7"
      },
      "source": [
        "dado2.girar()\n",
        "print(dado2)"
      ],
      "execution_count": null,
      "outputs": [
        {
          "output_type": "stream",
          "text": [
            "Face deste dado: 2\n"
          ],
          "name": "stdout"
        }
      ]
    },
    {
      "cell_type": "markdown",
      "metadata": {
        "id": "X_NAvzuxPO3y"
      },
      "source": [
        "### Classe Jogo"
      ]
    },
    {
      "cell_type": "code",
      "metadata": {
        "id": "xFQ27sFVHAmX"
      },
      "source": [
        "class Jogo:\n",
        "\n",
        "  def __init__(self, j):\n",
        "    self.dado1 = Dado() #composição\n",
        "    self.dado2 = Dado() #composição\n",
        "    self.jogadores = j #agregação\n",
        "    print('\\n\\nJogadores preparados\\n')\n",
        "    for i in jogadores:\n",
        "      print(i)\n",
        "  \n",
        "  def lancardados(self):\n",
        "    print('\\n\\nGirando dados')\n",
        "    self.dado1.girar()\n",
        "    print(self.dado1)\n",
        "    self.dado2.girar()\n",
        "    print(self.dado2)\n",
        "\n",
        "  def definirvencedor(self):\n",
        "    resultado = self.dado1.getFace() + self.dado2.getFace()\n",
        "    print('\\n\\nResultado: ' + str(resultado))\n",
        "    for i in self.jogadores:\n",
        "      if int(i.getAposta()) == resultado:\n",
        "        print(i.getNome() + ' Venceu!')\n",
        "        break;\n",
        "    else:\n",
        "      print('Computador venceu!')\n",
        "      \n"
      ],
      "execution_count": null,
      "outputs": []
    },
    {
      "cell_type": "markdown",
      "metadata": {
        "id": "n2QyQli7LgnU"
      },
      "source": [
        "### Executar o jogo"
      ]
    },
    {
      "cell_type": "code",
      "metadata": {
        "id": "WPSGdk7zGtGR",
        "colab": {
          "base_uri": "https://localhost:8080/"
        },
        "outputId": "b922e452-d489-4cc8-dd2c-9559bea5a1c3"
      },
      "source": [
        "print('\\nJOGO DE DADOS\\n')\n",
        "qtdJogadores = int(input('Quantos jogadores vão participar? '))\n",
        "jogadores = []\n",
        "for i in range(qtdJogadores):\n",
        "  n = input('\\nInforme o nome do Jogador' + str(i+1) + ': ')\n",
        "  a = input('Informe a aposta do Jogador' + str(i+1) + ' entre 2 e 12: ')\n",
        "  jogadores.append(Jogador(a, n))\n",
        "\n",
        "meuJogo = Jogo(jogadores)"
      ],
      "execution_count": null,
      "outputs": [
        {
          "output_type": "stream",
          "text": [
            "\n",
            "JOGO DE DADOS\n",
            "\n",
            "Quantos jogadores vão participar? 2\n",
            "\n",
            "Informe o nome do Jogador1: Julia\n",
            "Informe a aposta do Jogador1 entre 2 e 12: 6\n",
            "\n",
            "Informe o nome do Jogador2: jonnathan\n",
            "Informe a aposta do Jogador2 entre 2 e 12: 7\n",
            "\n",
            "\n",
            "Jogadores preparados\n",
            "\n",
            "Jogador: Julia Aposta: 6\n",
            "Jogador: jonnathan Aposta: 7\n"
          ],
          "name": "stdout"
        }
      ]
    },
    {
      "cell_type": "code",
      "metadata": {
        "id": "Qdhrp-kHKgD5",
        "colab": {
          "base_uri": "https://localhost:8080/"
        },
        "outputId": "8b82bf73-fc1e-463c-d55d-d81050e46b06"
      },
      "source": [
        "meuJogo.lancarDados()\n",
        "meuJogo.definirVencedor()"
      ],
      "execution_count": null,
      "outputs": [
        {
          "output_type": "stream",
          "text": [
            "\n",
            "\n",
            "Girando dados\n",
            "Face deste dado: 3\n",
            "Face deste dado: 3\n",
            "\n",
            "\n",
            "Resultado: 6\n",
            "Julia Venceu!\n"
          ],
          "name": "stdout"
        }
      ]
    },
    {
      "cell_type": "markdown",
      "metadata": {
        "id": "nr_WBvmeBAFe"
      },
      "source": [
        "# Encapsulamento\n",
        "\n",
        "Em Python, podemos ocultar atributos e métodos de uso externo à classe colocando duplo sublinhado antes do nome do atributo ou do método\n",
        "\n",
        "Além disso, Python possui uma ferramenta muito útil para evitar o problema do acesso direto aos atributos: property e setter\n",
        "\n",
        "Podemos definir 2 métodos cujo nome é igual ao do atributo que queremos permitir o acesso, colocando as marcações \n",
        "\n",
        "> **@property**: para o que será o método de retorno (get)\n",
        "\n",
        "> **@nomeDoAtributo.setter**: para o que será o método de atualização (set)\n",
        "\n",
        "\n"
      ]
    },
    {
      "cell_type": "markdown",
      "metadata": {
        "id": "CflDudyr_ivh"
      },
      "source": [
        "## Exemplo: Classe Autor"
      ]
    },
    {
      "cell_type": "code",
      "metadata": {
        "id": "fRwSGABCBAcq"
      },
      "source": [
        "class Autor:\n",
        "\n",
        "  __id = 1 #variavel de classe privada\n",
        "\n",
        "  def __init__(self, n):\n",
        "    self.autorId = Autor.__id #chama o @autorId.setter\n",
        "    \n",
        "    Autor.__id += 1 #incrementando o __id \n",
        "    \n",
        "    self.nome = n #chama o @nome.setter\n",
        "\n",
        "  #semelhante ao MÉTODO GET\n",
        "  @property\n",
        "  def nome(self):\n",
        "    # Este código é executado quando alguém for\n",
        "    # ler o valor de self.nome\n",
        "    return 'Autor_Id TESTE: ' + self.__nome\n",
        "\n",
        "  #semelhante ao MÉTODO SET\n",
        "  @nome.setter\n",
        "  def nome(self, n):\n",
        "    # este código é executado sempre que alguém fizer \n",
        "    # self.nome = value\n",
        "   self.__nome = n.upper() + '_' + str( self.__autorId)\n",
        "\n",
        "  #semelhante ao MÉTODO GET\n",
        "  @property\n",
        "  def autorId(self):\n",
        "    # Este código é executado quando alguém for\n",
        "    # ler o valor de self.nome\n",
        "    return 'id do autor: ' + str(self.__autorId)\n",
        "\n",
        "  #semelhante ao MÉTODO SET\n",
        "  @autorId.setter\n",
        "  def autorId(self, a):\n",
        "    # este código é executado sempre que alguém fizer \n",
        "    # self.nome = value\n",
        "   self.__autorId = a"
      ],
      "execution_count": null,
      "outputs": []
    },
    {
      "cell_type": "code",
      "metadata": {
        "id": "ZJdwIvqrXc3e"
      },
      "source": [
        "a1 = Autor('M. de Assis')"
      ],
      "execution_count": null,
      "outputs": []
    },
    {
      "cell_type": "code",
      "metadata": {
        "id": "eTWYnGMvXltP"
      },
      "source": [
        "#Modificação do nome sem chamada explícita ao método\n",
        "a1.nome = 'Machado de Assis'"
      ],
      "execution_count": null,
      "outputs": []
    },
    {
      "cell_type": "code",
      "metadata": {
        "id": "O_22xoHCXvBG",
        "colab": {
          "base_uri": "https://localhost:8080/"
        },
        "outputId": "f136e099-c94b-4744-85cd-6307269e8b78"
      },
      "source": [
        "#Acessando o nome sem chamada explícita ao método\n",
        "print(a1.nome)"
      ],
      "execution_count": null,
      "outputs": [
        {
          "output_type": "stream",
          "text": [
            "Autor_Id TESTE: MACHADO DE ASSIS_1\n"
          ],
          "name": "stdout"
        }
      ]
    },
    {
      "cell_type": "code",
      "metadata": {
        "id": "yw9IDuB3NMQW"
      },
      "source": [
        "a1.autorId = 100"
      ],
      "execution_count": null,
      "outputs": []
    },
    {
      "cell_type": "code",
      "metadata": {
        "colab": {
          "base_uri": "https://localhost:8080/"
        },
        "id": "brn5R0opNRZ5",
        "outputId": "2cca02eb-ade7-439a-9f1d-f896b795024f"
      },
      "source": [
        "print(a1.autorId)"
      ],
      "execution_count": null,
      "outputs": [
        {
          "output_type": "stream",
          "text": [
            "id do autor: 100\n"
          ],
          "name": "stdout"
        }
      ]
    },
    {
      "cell_type": "code",
      "metadata": {
        "id": "46DWtnKSeSim",
        "colab": {
          "base_uri": "https://localhost:8080/",
          "height": 164
        },
        "outputId": "724d2847-aede-453f-ee5b-b8dedf84a037"
      },
      "source": [
        "print(Autor.__id) #encapsulada"
      ],
      "execution_count": null,
      "outputs": [
        {
          "output_type": "error",
          "ename": "AttributeError",
          "evalue": "ignored",
          "traceback": [
            "\u001b[0;31m---------------------------------------------------------------------------\u001b[0m",
            "\u001b[0;31mAttributeError\u001b[0m                            Traceback (most recent call last)",
            "\u001b[0;32m<ipython-input-9-36ac12017584>\u001b[0m in \u001b[0;36m<module>\u001b[0;34m()\u001b[0m\n\u001b[0;32m----> 1\u001b[0;31m \u001b[0mprint\u001b[0m\u001b[0;34m(\u001b[0m\u001b[0mAutor\u001b[0m\u001b[0;34m.\u001b[0m\u001b[0m__id\u001b[0m\u001b[0;34m)\u001b[0m\u001b[0;34m\u001b[0m\u001b[0;34m\u001b[0m\u001b[0m\n\u001b[0m",
            "\u001b[0;31mAttributeError\u001b[0m: type object 'Autor' has no attribute '__id'"
          ]
        }
      ]
    },
    {
      "cell_type": "markdown",
      "metadata": {
        "id": "XkQAkvy9COnY"
      },
      "source": [
        "# Herança\n",
        "\n",
        "Podemos indicar uma classe base a fim de reaproveitar seu código, para isso colocamos o nome da classe base entre parênteses após o nome da nossa classe"
      ]
    },
    {
      "cell_type": "markdown",
      "metadata": {
        "id": "cTdQGXxJC8fY"
      },
      "source": [
        "## Exemplo: Classe Conta e Corrente"
      ]
    },
    {
      "cell_type": "code",
      "metadata": {
        "id": "QGMJ_uTQl6xR"
      },
      "source": [
        "class Conta:\n",
        "\n",
        "  __i = 1\n",
        "\n",
        "  def __init__(self, valor = 0):\n",
        "    self.saldo = valor\n",
        "    self.numero = Conta.__i\n",
        "    Conta.__i += 1\n",
        "    print('\\nConta número ' + str(self.numero) + \n",
        "          ' criada com sucesso\\n Seu saldo é: ' + str(self.saldo))\n",
        "\n",
        "  def getSaldo(self):\n",
        "    return self.saldo\n",
        "  \n",
        "  def deposito(self, valor):\n",
        "    self.saldo += valor\n",
        "    print('\\nDeposito realizado com sucesso')\n",
        "\n",
        "  def saque(self, valor):\n",
        "    if self.saldo - valor >=0:\n",
        "      self.saldo -= valor\n",
        "      print('\\nSaque realizado com sucesso')\n",
        "    else:\n",
        "      print('\\nSaldo insuficiente')\n",
        "    \n",
        "  def __str__(self):\n",
        "    return '\\nConta número ' +str(self.numero) + ' Saldo = '+str(self.saldo)"
      ],
      "execution_count": null,
      "outputs": []
    },
    {
      "cell_type": "code",
      "metadata": {
        "id": "yD99SmdDrG_a",
        "colab": {
          "base_uri": "https://localhost:8080/"
        },
        "outputId": "db9f2cb9-7268-44a6-e0cf-f9168ceaa93f"
      },
      "source": [
        "c1 = Conta()\n",
        "print(c1)"
      ],
      "execution_count": null,
      "outputs": [
        {
          "output_type": "stream",
          "text": [
            "\n",
            "Conta número 1 criada com sucesso\n",
            " Seu saldo é: 0\n",
            "\n",
            "Conta número 1 Saldo = 0\n"
          ],
          "name": "stdout"
        }
      ]
    },
    {
      "cell_type": "code",
      "metadata": {
        "id": "F5LoxtBCrhKb",
        "colab": {
          "base_uri": "https://localhost:8080/"
        },
        "outputId": "c50b3715-99e5-42ed-d19f-ec5b90fa1e92"
      },
      "source": [
        "c1.deposito(1500)"
      ],
      "execution_count": null,
      "outputs": [
        {
          "output_type": "stream",
          "text": [
            "\n",
            "Deposito realizado com sucesso\n"
          ],
          "name": "stdout"
        }
      ]
    },
    {
      "cell_type": "code",
      "metadata": {
        "id": "Jzz8AM-hrk9Y",
        "colab": {
          "base_uri": "https://localhost:8080/"
        },
        "outputId": "c9f244f5-7e95-4b26-b593-895123d199da"
      },
      "source": [
        "c1.saque(450)"
      ],
      "execution_count": null,
      "outputs": [
        {
          "output_type": "stream",
          "text": [
            "\n",
            "Saque realizado com sucesso\n"
          ],
          "name": "stdout"
        }
      ]
    },
    {
      "cell_type": "code",
      "metadata": {
        "id": "wNRWMs-Wrm9J",
        "colab": {
          "base_uri": "https://localhost:8080/"
        },
        "outputId": "f86500a1-a950-4dfb-e8d3-3ed3904cdbec"
      },
      "source": [
        "print(c1.getSaldo())"
      ],
      "execution_count": null,
      "outputs": [
        {
          "output_type": "stream",
          "text": [
            "1050\n"
          ],
          "name": "stdout"
        }
      ]
    },
    {
      "cell_type": "code",
      "metadata": {
        "id": "mFgP3xINrray"
      },
      "source": [
        "class Corrente(Conta):\n",
        "\n",
        "  def __init__(self, t, valor = 0):\n",
        "    Conta.__init__(self, valor) \n",
        "    self.tarifa = t\n",
        "\n",
        "  def debitaTarifa(self):\n",
        "    self.saldo -= self.tarifa\n",
        "    \n",
        "  def __str__(self):\n",
        "    return super().__str__() + ' Tipo: Corrente' #usamos super para fazer referência a classe base (super classe)\n"
      ],
      "execution_count": null,
      "outputs": []
    },
    {
      "cell_type": "code",
      "metadata": {
        "id": "hO49VLhPsr1t",
        "colab": {
          "base_uri": "https://localhost:8080/"
        },
        "outputId": "20fcea98-038d-4ce6-f849-c403671555c0"
      },
      "source": [
        "cc1 = Corrente(t = 49.90)\n"
      ],
      "execution_count": null,
      "outputs": [
        {
          "output_type": "stream",
          "text": [
            "\n",
            "Conta número 1 criada com sucesso\n",
            " Seu saldo é: 0\n"
          ],
          "name": "stdout"
        }
      ]
    },
    {
      "cell_type": "code",
      "metadata": {
        "colab": {
          "base_uri": "https://localhost:8080/"
        },
        "id": "teIZwKyrGtpJ",
        "outputId": "03944cd1-06ec-45f2-9245-f51a23808146"
      },
      "source": [
        "print(cc1)"
      ],
      "execution_count": null,
      "outputs": [
        {
          "output_type": "stream",
          "text": [
            "\n",
            "Conta número 1 Saldo = 0 Tipo: Corrente\n"
          ],
          "name": "stdout"
        }
      ]
    },
    {
      "cell_type": "code",
      "metadata": {
        "id": "fxh4BWPm21Uk",
        "colab": {
          "base_uri": "https://localhost:8080/"
        },
        "outputId": "4e19efc9-6288-4f83-f45c-0a4feda990ed"
      },
      "source": [
        "cc1.deposito(1000)"
      ],
      "execution_count": null,
      "outputs": [
        {
          "output_type": "stream",
          "text": [
            "\n",
            "Deposito realizado com sucesso\n"
          ],
          "name": "stdout"
        }
      ]
    },
    {
      "cell_type": "code",
      "metadata": {
        "id": "2fP0p_tBtAwG"
      },
      "source": [
        "cc1.debitaTarifa()"
      ],
      "execution_count": null,
      "outputs": []
    },
    {
      "cell_type": "code",
      "metadata": {
        "id": "7BdfNAjOtjj9",
        "colab": {
          "base_uri": "https://localhost:8080/"
        },
        "outputId": "450de1fb-fadf-421c-859b-d3da2871dc7b"
      },
      "source": [
        "cc1.getSaldo()"
      ],
      "execution_count": null,
      "outputs": [
        {
          "output_type": "execute_result",
          "data": {
            "text/plain": [
              "950.1"
            ]
          },
          "metadata": {
            "tags": []
          },
          "execution_count": 15
        }
      ]
    },
    {
      "cell_type": "code",
      "metadata": {
        "id": "OM3YFjTttnHo",
        "colab": {
          "base_uri": "https://localhost:8080/"
        },
        "outputId": "3ead00a3-5b49-417f-a3d6-6682a23604f6"
      },
      "source": [
        "print(cc1)"
      ],
      "execution_count": null,
      "outputs": [
        {
          "output_type": "stream",
          "text": [
            "\n",
            "Conta número 1 Saldo = 950.1 Tipo: Corrente\n"
          ],
          "name": "stdout"
        }
      ]
    },
    {
      "cell_type": "markdown",
      "metadata": {
        "id": "ye5hdtdPDaL9"
      },
      "source": [
        "# Exceções\n",
        "\n",
        "Exceção é uma falha na execução de uma instrução e pode ser evitada por codificação adequada ou pode ser contornada por tratamento de exceções (que evita que o programa pare sua execução)\n"
      ]
    },
    {
      "cell_type": "markdown",
      "metadata": {
        "id": "C4m69fHkEHn9"
      },
      "source": [
        "## Exemplo: função divisao"
      ]
    },
    {
      "cell_type": "code",
      "metadata": {
        "id": "baXKuKSuDhxl"
      },
      "source": [
        "def divisao():\n",
        "  try: #tenta executar código\n",
        "    num1 = float(input('Informe o primeiro número: '))\n",
        "    num2 = float(input('Informe o segundo número: '))\n",
        "    \n",
        "    res = num1 / num2\n",
        "\n",
        "    print(f'{num1} / {num2} = {res}')\n",
        "\n",
        "  except ZeroDivisionError: #entra aqui se essa exceção ocorrer\n",
        "    print('Ocorreu um erro, pois não pode dividir por 0')\n",
        "  except ValueError: #entra aqui se essa exceção ocorrer\n",
        "    print('Ocorreu um erro, pois o valor digitado não é um número')\n",
        "  else: #entra aqui se nenhuma exceção ocorrer\n",
        "    print('Tudo Ok')\n",
        "  finally: #entra aqui mesmo que tenha entrado em um except ou no else\n",
        "    print('Concluindo processo')\n",
        "\n",
        "divisao()"
      ],
      "execution_count": null,
      "outputs": []
    }
  ]
}