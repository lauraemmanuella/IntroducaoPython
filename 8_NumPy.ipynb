{
  "nbformat": 4,
  "nbformat_minor": 0,
  "metadata": {
    "kernelspec": {
      "display_name": "Python 3",
      "language": "python",
      "name": "python3"
    },
    "language_info": {
      "codemirror_mode": {
        "name": "ipython",
        "version": 3
      },
      "file_extension": ".py",
      "mimetype": "text/x-python",
      "name": "python",
      "nbconvert_exporter": "python",
      "pygments_lexer": "ipython3",
      "version": "3.7.0"
    },
    "colab": {
      "name": "8-NumPy.ipynb",
      "provenance": [],
      "collapsed_sections": [],
      "toc_visible": true,
      "include_colab_link": true
    }
  },
  "cells": [
    {
      "cell_type": "markdown",
      "metadata": {
        "id": "view-in-github",
        "colab_type": "text"
      },
      "source": [
        "<a href=\"https://colab.research.google.com/github/lauraemmanuella/IntroducaoPython/blob/main/8_NumPy.ipynb\" target=\"_parent\"><img src=\"https://colab.research.google.com/assets/colab-badge.svg\" alt=\"Open In Colab\"/></a>"
      ]
    },
    {
      "cell_type": "markdown",
      "metadata": {
        "id": "sIU8iJS9M1ig"
      },
      "source": [
        "# Numpy \n",
        "\n",
        "https://numpy.org/doc/stable/user/absolute_beginners.html\n",
        "\n",
        "Numpy é uma biblioteca de álgebra linear para Python, a razão pela qual é tão importante para a ciência de dados em Python é que quase todas as bibliotecas dependem do Numpy como um dos seus **principais blocos de construção**.\n",
        "\n",
        "O NumPy oferece várias maneiras rápidas e eficientes de **criar matrizes e manipular dados numéricos dentro delas**.\n",
        "\n",
        "Os arrays NumPy são mais rápidos e compactos do que as listas Python. Isso permite que o código seja otimizado ainda mais. Veja mais em: https://stackoverflow.com/questions/993984/what-are-the-advantages-of-numpy-over-regular-python-lists\n",
        "\n",
        "* Permite a criação de arrays homogêneos\n",
        "* Pode ser criado a partir de uma lista ou tupla do python ou pode ser criado usando seus próprios métodos "
      ]
    },
    {
      "cell_type": "code",
      "metadata": {
        "id": "4X-4o2XFM1io"
      },
      "source": [
        "#Importar biblioteca usando alias\n",
        "import numpy as np"
      ],
      "execution_count": null,
      "outputs": []
    },
    {
      "cell_type": "markdown",
      "metadata": {
        "id": "hJh9pvMsM1ip"
      },
      "source": [
        "## Numpy Arrays\n",
        "\n",
        "Numpy arrays essencialmente vêm de duas formas: vetores (1D) e matrizes (2D). Para arrays 3D ou dimensões superiores, o termo **tensor** é comumente usado.\n",
        "\n",
        "### Criando Numpy Arrays\n",
        "\n",
        "Podemos criar uma matriz convertendo diretamente uma lista ou lista de listas:"
      ]
    },
    {
      "cell_type": "code",
      "metadata": {
        "id": "mc-VGZo8M1iq"
      },
      "source": [
        "minha_lista = [1,2,3]"
      ],
      "execution_count": null,
      "outputs": []
    },
    {
      "cell_type": "code",
      "metadata": {
        "id": "YewmLrffM1ir"
      },
      "source": [
        "vetor = np.array(minha_lista)"
      ],
      "execution_count": null,
      "outputs": []
    },
    {
      "cell_type": "code",
      "metadata": {
        "id": "-CaXk6-kM1ir",
        "colab": {
          "base_uri": "https://localhost:8080/"
        },
        "outputId": "75d19a00-92cc-4d50-a555-e49c3cb2f9f9"
      },
      "source": [
        "type(vetor)"
      ],
      "execution_count": null,
      "outputs": [
        {
          "output_type": "execute_result",
          "data": {
            "text/plain": [
              "numpy.ndarray"
            ]
          },
          "metadata": {},
          "execution_count": 12
        }
      ]
    },
    {
      "cell_type": "code",
      "metadata": {
        "id": "M3PSvKIXM1is",
        "colab": {
          "base_uri": "https://localhost:8080/"
        },
        "outputId": "b23dceef-9a58-4d28-e278-8673df2dc485"
      },
      "source": [
        "print(vetor)"
      ],
      "execution_count": null,
      "outputs": [
        {
          "output_type": "stream",
          "name": "stdout",
          "text": [
            "[1 2 3]\n"
          ]
        }
      ]
    },
    {
      "cell_type": "code",
      "metadata": {
        "id": "AAhEg63TM1is"
      },
      "source": [
        "minha_matriz = [[1,2,3],[4,5,6],[7,8,9]]"
      ],
      "execution_count": null,
      "outputs": []
    },
    {
      "cell_type": "code",
      "metadata": {
        "id": "U76iO7N0M1it"
      },
      "source": [
        "matriz = np.array(minha_matriz)"
      ],
      "execution_count": null,
      "outputs": []
    },
    {
      "cell_type": "code",
      "metadata": {
        "id": "073CU6tRM1it",
        "colab": {
          "base_uri": "https://localhost:8080/"
        },
        "outputId": "ff4b2eee-23bc-4ca5-9f8b-f5b2df648343"
      },
      "source": [
        "print(matriz)"
      ],
      "execution_count": null,
      "outputs": [
        {
          "output_type": "stream",
          "name": "stdout",
          "text": [
            "[[1 2 3]\n",
            " [4 5 6]\n",
            " [7 8 9]]\n"
          ]
        }
      ]
    },
    {
      "cell_type": "code",
      "metadata": {
        "colab": {
          "base_uri": "https://localhost:8080/"
        },
        "id": "9XHsCA0_S7sT",
        "outputId": "5f37948b-97da-4c2e-de00-4458242c5671"
      },
      "source": [
        "type(matriz)"
      ],
      "execution_count": null,
      "outputs": [
        {
          "output_type": "execute_result",
          "data": {
            "text/plain": [
              "numpy.ndarray"
            ]
          },
          "metadata": {},
          "execution_count": 17
        }
      ]
    },
    {
      "cell_type": "markdown",
      "metadata": {
        "id": "jjpipsJpM1it"
      },
      "source": [
        "### Tipos dos elementos\n",
        "\n",
        "Os elementos do array numpy são do mesmo tipo (estrutura homogênea)"
      ]
    },
    {
      "cell_type": "code",
      "metadata": {
        "scrolled": true,
        "colab": {
          "base_uri": "https://localhost:8080/"
        },
        "id": "ZTQdpnR9M1iu",
        "outputId": "2d74703b-9fd3-48e5-c7fa-ef46fa108f1a"
      },
      "source": [
        "mlista = [12.5, 'laura', 35, True]\n",
        "print(mlista)"
      ],
      "execution_count": null,
      "outputs": [
        {
          "output_type": "stream",
          "text": [
            "[12.5, 'laura', 35, True]\n"
          ],
          "name": "stdout"
        }
      ]
    },
    {
      "cell_type": "code",
      "metadata": {
        "colab": {
          "base_uri": "https://localhost:8080/"
        },
        "id": "IAgEnYkdM1iu",
        "outputId": "27ff0ff8-1a6d-49bf-be93-b11598e59ded"
      },
      "source": [
        "type(mlista[3])"
      ],
      "execution_count": null,
      "outputs": [
        {
          "output_type": "execute_result",
          "data": {
            "text/plain": [
              "bool"
            ]
          },
          "metadata": {
            "tags": []
          },
          "execution_count": 4
        }
      ]
    },
    {
      "cell_type": "code",
      "metadata": {
        "id": "zDkHUwejM1iv"
      },
      "source": [
        "marray = np.array(mlista)"
      ],
      "execution_count": null,
      "outputs": []
    },
    {
      "cell_type": "code",
      "metadata": {
        "colab": {
          "base_uri": "https://localhost:8080/"
        },
        "id": "iGm2pfl6M1iv",
        "outputId": "9aa47b79-b61e-4fe3-c1c4-6ec302a3c5f8"
      },
      "source": [
        "print(marray)"
      ],
      "execution_count": null,
      "outputs": [
        {
          "output_type": "stream",
          "text": [
            "['12.5' 'laura' '35' 'True']\n"
          ],
          "name": "stdout"
        }
      ]
    },
    {
      "cell_type": "code",
      "metadata": {
        "colab": {
          "base_uri": "https://localhost:8080/"
        },
        "id": "1qcHaFIKM1iv",
        "outputId": "28806a5c-3bce-4fe3-ae4a-fb6207a7ffab"
      },
      "source": [
        "type(marray[1])"
      ],
      "execution_count": null,
      "outputs": [
        {
          "output_type": "execute_result",
          "data": {
            "text/plain": [
              "numpy.str_"
            ]
          },
          "metadata": {
            "tags": []
          },
          "execution_count": 24
        }
      ]
    },
    {
      "cell_type": "code",
      "metadata": {
        "colab": {
          "base_uri": "https://localhost:8080/"
        },
        "id": "G-77dnudM1iw",
        "outputId": "4f5ccc18-2f6b-4720-9f48-b42a2c9e7b85"
      },
      "source": [
        "type(marray)"
      ],
      "execution_count": null,
      "outputs": [
        {
          "output_type": "execute_result",
          "data": {
            "text/plain": [
              "numpy.ndarray"
            ]
          },
          "metadata": {
            "tags": []
          },
          "execution_count": 25
        }
      ]
    },
    {
      "cell_type": "markdown",
      "metadata": {
        "id": "Ru50JR79M1iw"
      },
      "source": [
        "## Métodos incorporados (Built-in Methods)\n",
        "\n",
        "Há muitas maneiras embutidas de gerar numpy arrays"
      ]
    },
    {
      "cell_type": "markdown",
      "metadata": {
        "id": "jdQb4PZnM1iw"
      },
      "source": [
        "### arange\n",
        "\n",
        "Retorna valores uniformemente espaçados dentro de um determinado intervalo."
      ]
    },
    {
      "cell_type": "code",
      "metadata": {
        "id": "0e1UScEpM1iw",
        "outputId": "fc30e558-715f-45e0-e9cd-44ac3e5d61f0"
      },
      "source": [
        "np.arange(0,10)"
      ],
      "execution_count": null,
      "outputs": [
        {
          "output_type": "execute_result",
          "data": {
            "text/plain": [
              "array([0, 1, 2, 3, 4, 5, 6, 7, 8, 9])"
            ]
          },
          "metadata": {
            "tags": []
          },
          "execution_count": 9
        }
      ]
    },
    {
      "cell_type": "code",
      "metadata": {
        "id": "PWqhXBzjM1ix",
        "outputId": "75cff5aa-efc6-41fe-9a93-4e0b340f8a4a"
      },
      "source": [
        "np.arange(0,11,2)"
      ],
      "execution_count": null,
      "outputs": [
        {
          "output_type": "execute_result",
          "data": {
            "text/plain": [
              "array([ 0,  2,  4,  6,  8, 10])"
            ]
          },
          "metadata": {
            "tags": []
          },
          "execution_count": 10
        }
      ]
    },
    {
      "cell_type": "markdown",
      "metadata": {
        "id": "D4FRXNS8M1ix"
      },
      "source": [
        "### zeros e ones\n",
        "\n",
        "Gerar matrizes de zeros ou de uns"
      ]
    },
    {
      "cell_type": "code",
      "metadata": {
        "id": "aXR-FvWOM1ix",
        "outputId": "c02adca1-00dd-44f1-c931-afdf86cea8ba"
      },
      "source": [
        "np.zeros(3)"
      ],
      "execution_count": null,
      "outputs": [
        {
          "output_type": "execute_result",
          "data": {
            "text/plain": [
              "array([ 0.,  0.,  0.])"
            ]
          },
          "metadata": {
            "tags": []
          },
          "execution_count": 11
        }
      ]
    },
    {
      "cell_type": "code",
      "metadata": {
        "id": "w-PjNn86M1i2",
        "outputId": "ab9a2206-a153-43a7-bfb5-3fdebb4561dd"
      },
      "source": [
        "np.zeros((5,5))"
      ],
      "execution_count": null,
      "outputs": [
        {
          "output_type": "execute_result",
          "data": {
            "text/plain": [
              "array([[ 0.,  0.,  0.,  0.,  0.],\n",
              "       [ 0.,  0.,  0.,  0.,  0.],\n",
              "       [ 0.,  0.,  0.,  0.,  0.],\n",
              "       [ 0.,  0.,  0.,  0.,  0.],\n",
              "       [ 0.,  0.,  0.,  0.,  0.]])"
            ]
          },
          "metadata": {
            "tags": []
          },
          "execution_count": 12
        }
      ]
    },
    {
      "cell_type": "code",
      "metadata": {
        "id": "R-gpuB4RM1i3",
        "outputId": "b03f6b39-2346-48fd-ed35-d2756cd24076"
      },
      "source": [
        "np.ones(3)"
      ],
      "execution_count": null,
      "outputs": [
        {
          "output_type": "execute_result",
          "data": {
            "text/plain": [
              "array([ 1.,  1.,  1.])"
            ]
          },
          "metadata": {
            "tags": []
          },
          "execution_count": 13
        }
      ]
    },
    {
      "cell_type": "code",
      "metadata": {
        "id": "LJhj9JzsM1i3",
        "outputId": "1349757f-729e-4790-fa1c-b194ca3127b2"
      },
      "source": [
        "np.ones((3,3))"
      ],
      "execution_count": null,
      "outputs": [
        {
          "output_type": "execute_result",
          "data": {
            "text/plain": [
              "array([[ 1.,  1.,  1.],\n",
              "       [ 1.,  1.,  1.],\n",
              "       [ 1.,  1.,  1.]])"
            ]
          },
          "metadata": {
            "tags": []
          },
          "execution_count": 14
        }
      ]
    },
    {
      "cell_type": "markdown",
      "metadata": {
        "id": "gTbPFXW5M1i4"
      },
      "source": [
        "### linspace\n",
        "Retorna números uniformemente espaçados ao longo de um intervalo especificado."
      ]
    },
    {
      "cell_type": "code",
      "metadata": {
        "colab": {
          "base_uri": "https://localhost:8080/"
        },
        "id": "ec0uv2qAM1i4",
        "outputId": "3800988d-39f2-4835-dd92-313492646458"
      },
      "source": [
        "np.linspace(0,10,3)"
      ],
      "execution_count": null,
      "outputs": [
        {
          "output_type": "execute_result",
          "data": {
            "text/plain": [
              "array([ 0.,  5., 10.])"
            ]
          },
          "metadata": {
            "tags": []
          },
          "execution_count": 28
        }
      ]
    },
    {
      "cell_type": "code",
      "metadata": {
        "id": "h5okV5daM1i5",
        "outputId": "cc97fa65-4155-4ed3-d011-5c8b2b7b4233"
      },
      "source": [
        "np.linspace(0,10,50)"
      ],
      "execution_count": null,
      "outputs": [
        {
          "output_type": "execute_result",
          "data": {
            "text/plain": [
              "array([  0.        ,   0.20408163,   0.40816327,   0.6122449 ,\n",
              "         0.81632653,   1.02040816,   1.2244898 ,   1.42857143,\n",
              "         1.63265306,   1.83673469,   2.04081633,   2.24489796,\n",
              "         2.44897959,   2.65306122,   2.85714286,   3.06122449,\n",
              "         3.26530612,   3.46938776,   3.67346939,   3.87755102,\n",
              "         4.08163265,   4.28571429,   4.48979592,   4.69387755,\n",
              "         4.89795918,   5.10204082,   5.30612245,   5.51020408,\n",
              "         5.71428571,   5.91836735,   6.12244898,   6.32653061,\n",
              "         6.53061224,   6.73469388,   6.93877551,   7.14285714,\n",
              "         7.34693878,   7.55102041,   7.75510204,   7.95918367,\n",
              "         8.16326531,   8.36734694,   8.57142857,   8.7755102 ,\n",
              "         8.97959184,   9.18367347,   9.3877551 ,   9.59183673,\n",
              "         9.79591837,  10.        ])"
            ]
          },
          "metadata": {
            "tags": []
          },
          "execution_count": 16
        }
      ]
    },
    {
      "cell_type": "markdown",
      "metadata": {
        "id": "uIUBgtP-M1i5"
      },
      "source": [
        "## eye\n",
        "\n",
        "Cria uma matriz identidade"
      ]
    },
    {
      "cell_type": "code",
      "metadata": {
        "id": "4MfN03gpM1i5",
        "outputId": "8654deb3-959c-481a-8c34-0756a78a80eb"
      },
      "source": [
        "np.eye(4)"
      ],
      "execution_count": null,
      "outputs": [
        {
          "output_type": "execute_result",
          "data": {
            "text/plain": [
              "array([[ 1.,  0.,  0.,  0.],\n",
              "       [ 0.,  1.,  0.,  0.],\n",
              "       [ 0.,  0.,  1.,  0.],\n",
              "       [ 0.,  0.,  0.,  1.]])"
            ]
          },
          "metadata": {
            "tags": []
          },
          "execution_count": 17
        }
      ]
    },
    {
      "cell_type": "markdown",
      "metadata": {
        "id": "R13pAuMUM1i6"
      },
      "source": [
        "### Random \n",
        "\n",
        "Numpy também tem muitas maneiras de criar arrays de números aleatórios:\n",
        "\n",
        "### rand\n",
        "Cria uma matriz da forma dada e preencha com amostras aleatórias de uma distribuição uniforme sobre ``[0, 1)``."
      ]
    },
    {
      "cell_type": "code",
      "metadata": {
        "colab": {
          "base_uri": "https://localhost:8080/"
        },
        "id": "G76bJExcZ9xx",
        "outputId": "1fb5f6cc-1f90-4671-d673-4f3a459b8c66"
      },
      "source": [
        "np.random.rand()"
      ],
      "execution_count": null,
      "outputs": [
        {
          "output_type": "execute_result",
          "data": {
            "text/plain": [
              "0.32228143267490916"
            ]
          },
          "metadata": {
            "tags": []
          },
          "execution_count": 29
        }
      ]
    },
    {
      "cell_type": "code",
      "metadata": {
        "id": "hQj-seCSM1i6",
        "outputId": "5f4bc840-2e0d-4587-d685-77c38d6db7cd"
      },
      "source": [
        "np.random.rand(2)"
      ],
      "execution_count": null,
      "outputs": [
        {
          "output_type": "execute_result",
          "data": {
            "text/plain": [
              "array([0.92244399, 0.57038821])"
            ]
          },
          "metadata": {
            "tags": []
          },
          "execution_count": 127
        }
      ]
    },
    {
      "cell_type": "code",
      "metadata": {
        "id": "-vvC6ZdYM1i7",
        "outputId": "7aaecc16-cd53-4b84-8998-1433a0cab9b2"
      },
      "source": [
        "np.random.rand(2)*10"
      ],
      "execution_count": null,
      "outputs": [
        {
          "output_type": "execute_result",
          "data": {
            "text/plain": [
              "array([5.66522554, 8.30381741])"
            ]
          },
          "metadata": {
            "tags": []
          },
          "execution_count": 128
        }
      ]
    },
    {
      "cell_type": "code",
      "metadata": {
        "colab": {
          "base_uri": "https://localhost:8080/"
        },
        "id": "k-ipn_OsM1i7",
        "outputId": "a1790d55-d4d0-4bf3-8d51-cddc76ae9d35"
      },
      "source": [
        "np.random.rand(5,5)*100"
      ],
      "execution_count": null,
      "outputs": [
        {
          "output_type": "execute_result",
          "data": {
            "text/plain": [
              "array([[76.38262903, 72.80343653, 65.32996195, 52.70226626, 93.49923195],\n",
              "       [28.97721363, 13.27490874, 18.3827809 ,  0.92965991, 22.81080497],\n",
              "       [71.10362694, 49.5181699 , 63.74847165, 41.23408302, 91.21646871],\n",
              "       [98.87794431, 15.9524222 ,  4.04710948, 53.57445986, 48.17664556],\n",
              "       [63.51374909,  9.94202148,  4.72474696, 26.26108597, 78.81812338]])"
            ]
          },
          "metadata": {
            "tags": []
          },
          "execution_count": 30
        }
      ]
    },
    {
      "cell_type": "markdown",
      "metadata": {
        "id": "u1SuRhKGM1i7"
      },
      "source": [
        "### randint\n",
        "Retorna inteiros aleatórios de \"low\" (inclusive) para \"high\" (not inclusive)."
      ]
    },
    {
      "cell_type": "code",
      "metadata": {
        "id": "-LsyIcclM1i7",
        "outputId": "b77e060b-c867-4fea-dfa3-b39cc49897df"
      },
      "source": [
        "np.random.randint(5) #entre 0 e 4"
      ],
      "execution_count": null,
      "outputs": [
        {
          "output_type": "execute_result",
          "data": {
            "text/plain": [
              "3"
            ]
          },
          "metadata": {
            "tags": []
          },
          "execution_count": 137
        }
      ]
    },
    {
      "cell_type": "code",
      "metadata": {
        "id": "gvK3EWt7M1i8",
        "outputId": "cdd2d14c-ce0d-49fe-dcc4-9004c14ad5cf"
      },
      "source": [
        "np.random.randint(1,5,10) #entre 1 e 4, 10 elementos"
      ],
      "execution_count": null,
      "outputs": [
        {
          "output_type": "execute_result",
          "data": {
            "text/plain": [
              "array([1, 1, 3, 2, 3, 3, 4, 4, 4, 2])"
            ]
          },
          "metadata": {
            "tags": []
          },
          "execution_count": 139
        }
      ]
    },
    {
      "cell_type": "code",
      "metadata": {
        "id": "Cssuo4TTM1i8",
        "outputId": "e137e3d3-9289-4640-f5a0-413cb1417166"
      },
      "source": [
        "np.random.randint(1,5, size=(2, 4)) #entre 1 e 4, matriz 2X4"
      ],
      "execution_count": null,
      "outputs": [
        {
          "output_type": "execute_result",
          "data": {
            "text/plain": [
              "array([[4, 4, 3, 2],\n",
              "       [4, 1, 1, 4]])"
            ]
          },
          "metadata": {
            "tags": []
          },
          "execution_count": 144
        }
      ]
    },
    {
      "cell_type": "markdown",
      "metadata": {
        "id": "fT123bb4M1i8"
      },
      "source": [
        "### Reshape\n",
        "Retorna uma matriz contendo os mesmos dados com uma nova forma."
      ]
    },
    {
      "cell_type": "code",
      "metadata": {
        "id": "PQLO1-xDM1i9"
      },
      "source": [
        "arr = np.arange(12)"
      ],
      "execution_count": null,
      "outputs": []
    },
    {
      "cell_type": "code",
      "metadata": {
        "id": "trc72lE4M1i9",
        "outputId": "5c89d5b0-c984-447f-b32c-a022156857bf"
      },
      "source": [
        "print(arr)"
      ],
      "execution_count": null,
      "outputs": [
        {
          "output_type": "stream",
          "text": [
            "[ 0  1  2  3  4  5  6  7  8  9 10 11]\n"
          ],
          "name": "stdout"
        }
      ]
    },
    {
      "cell_type": "code",
      "metadata": {
        "id": "68Vs7YpxM1i-"
      },
      "source": [
        "arr2 = arr.reshape(4,3) #dados organizados em 4 linhas e 3 colunas"
      ],
      "execution_count": null,
      "outputs": []
    },
    {
      "cell_type": "code",
      "metadata": {
        "id": "rFujPGmeM1i-",
        "outputId": "39027db0-f3ab-4bf2-90d4-4af46985e976"
      },
      "source": [
        "print(arr2)"
      ],
      "execution_count": null,
      "outputs": [
        {
          "output_type": "stream",
          "text": [
            "[[ 0  1  2]\n",
            " [ 3  4  5]\n",
            " [ 6  7  8]\n",
            " [ 9 10 11]]\n"
          ],
          "name": "stdout"
        }
      ]
    },
    {
      "cell_type": "markdown",
      "metadata": {
        "id": "v5Hsc-wpM1i-"
      },
      "source": [
        "### max,min,argmax,argmin\n",
        "\n",
        "Estes são métodos úteis para encontrar valores máximos ou mínimos, ou para encontrar seus locais de índice usando argmin ou argmax"
      ]
    },
    {
      "cell_type": "code",
      "metadata": {
        "id": "WgYNeB2ZM1i-"
      },
      "source": [
        "ranarr = np.random.randint(0,50,10)"
      ],
      "execution_count": null,
      "outputs": []
    },
    {
      "cell_type": "code",
      "metadata": {
        "id": "K1xDHP5oM1i_",
        "outputId": "f1d5ecfb-9e1a-4f00-daa0-80e5501b2cc6"
      },
      "source": [
        "print(ranarr)"
      ],
      "execution_count": null,
      "outputs": [
        {
          "output_type": "stream",
          "text": [
            "[45 30 19 45 17 24  2 41 27 27]\n"
          ],
          "name": "stdout"
        }
      ]
    },
    {
      "cell_type": "code",
      "metadata": {
        "id": "YDwAeV-cM1i_",
        "outputId": "b84fb977-2af0-4cb2-d16a-2d42d0e2cf7f"
      },
      "source": [
        "ranarr.max()"
      ],
      "execution_count": null,
      "outputs": [
        {
          "output_type": "execute_result",
          "data": {
            "text/plain": [
              "45"
            ]
          },
          "metadata": {
            "tags": []
          },
          "execution_count": 21
        }
      ]
    },
    {
      "cell_type": "code",
      "metadata": {
        "id": "Jc1sAZeBM1i_",
        "outputId": "ecb0b129-2809-4718-cb7d-a122e3ca6933"
      },
      "source": [
        "ranarr.argmax()"
      ],
      "execution_count": null,
      "outputs": [
        {
          "output_type": "execute_result",
          "data": {
            "text/plain": [
              "0"
            ]
          },
          "metadata": {
            "tags": []
          },
          "execution_count": 22
        }
      ]
    },
    {
      "cell_type": "code",
      "metadata": {
        "id": "Kxja4f6tM1jA",
        "outputId": "ae4680c6-65c1-4b32-c41e-fc55bbe3f55e"
      },
      "source": [
        "ranarr.min()"
      ],
      "execution_count": null,
      "outputs": [
        {
          "output_type": "execute_result",
          "data": {
            "text/plain": [
              "2"
            ]
          },
          "metadata": {
            "tags": []
          },
          "execution_count": 23
        }
      ]
    },
    {
      "cell_type": "code",
      "metadata": {
        "id": "cZ44tgSWM1jA",
        "outputId": "43108859-9e8d-4528-f11f-a60e913bf28c"
      },
      "source": [
        "ranarr.argmin()"
      ],
      "execution_count": null,
      "outputs": [
        {
          "output_type": "execute_result",
          "data": {
            "text/plain": [
              "6"
            ]
          },
          "metadata": {
            "tags": []
          },
          "execution_count": 24
        }
      ]
    },
    {
      "cell_type": "markdown",
      "metadata": {
        "id": "ByMbGuPLM1jA"
      },
      "source": [
        "## Shape\n",
        "\n",
        "Shape é um atributo que os arrays têm que retorna a dimensão do array"
      ]
    },
    {
      "cell_type": "code",
      "metadata": {
        "id": "__BqwxdWM1jA",
        "colab": {
          "base_uri": "https://localhost:8080/"
        },
        "outputId": "61a0df0a-b195-4317-cdae-40edc346d9da"
      },
      "source": [
        "arr2.shape #dimensão do array"
      ],
      "execution_count": null,
      "outputs": [
        {
          "output_type": "execute_result",
          "data": {
            "text/plain": [
              "(4, 3)"
            ]
          },
          "metadata": {
            "tags": []
          },
          "execution_count": 5
        }
      ]
    },
    {
      "cell_type": "code",
      "metadata": {
        "colab": {
          "base_uri": "https://localhost:8080/"
        },
        "id": "DL7C73ospack",
        "outputId": "6f5f021c-4b53-469b-b2ad-9b1d37b17abe"
      },
      "source": [
        "arr2.shape[0] #quantidade de linhas"
      ],
      "execution_count": null,
      "outputs": [
        {
          "output_type": "execute_result",
          "data": {
            "text/plain": [
              "4"
            ]
          },
          "metadata": {
            "tags": []
          },
          "execution_count": 6
        }
      ]
    },
    {
      "cell_type": "code",
      "metadata": {
        "colab": {
          "base_uri": "https://localhost:8080/"
        },
        "id": "4q0e3-_dY2F0",
        "outputId": "de1aff2d-3a47-4fc7-c13d-584fc7bf3641"
      },
      "source": [
        "arr2.shape[1] #quantidade de colunas"
      ],
      "execution_count": null,
      "outputs": [
        {
          "output_type": "execute_result",
          "data": {
            "text/plain": [
              "3"
            ]
          },
          "metadata": {},
          "execution_count": 23
        }
      ]
    },
    {
      "cell_type": "markdown",
      "metadata": {
        "id": "7klxBbmnM1jB"
      },
      "source": [
        "## Indexação\n",
        "A maneira mais simples de escolher um ou alguns elementos de uma matriz é muito semelhante às listas de python:"
      ]
    },
    {
      "cell_type": "code",
      "metadata": {
        "id": "c3Wjoq42M1jB",
        "outputId": "8737cd30-4a21-4d09-e645-09bc770e5f9e"
      },
      "source": [
        "# Obtendo um valor através de um índice\n",
        "arr[8]"
      ],
      "execution_count": null,
      "outputs": [
        {
          "output_type": "execute_result",
          "data": {
            "text/plain": [
              "8"
            ]
          },
          "metadata": {
            "tags": []
          },
          "execution_count": 4
        }
      ]
    },
    {
      "cell_type": "code",
      "metadata": {
        "id": "pcbF7PhkM1jB",
        "outputId": "efa4d274-7aa7-4808-c628-ee8b740dbff3"
      },
      "source": [
        "# Obtendo valores em um intervalo\n",
        "arr[1:5]"
      ],
      "execution_count": null,
      "outputs": [
        {
          "output_type": "execute_result",
          "data": {
            "text/plain": [
              "array([1, 2, 3, 4])"
            ]
          },
          "metadata": {
            "tags": []
          },
          "execution_count": 5
        }
      ]
    },
    {
      "cell_type": "code",
      "metadata": {
        "id": "nWOcAWAyM1jB",
        "outputId": "c4a0a838-4a50-48b2-bd77-a5e1ae926369"
      },
      "source": [
        "arr[0:5]"
      ],
      "execution_count": null,
      "outputs": [
        {
          "output_type": "execute_result",
          "data": {
            "text/plain": [
              "array([0, 1, 2, 3, 4])"
            ]
          },
          "metadata": {
            "tags": []
          },
          "execution_count": 6
        }
      ]
    },
    {
      "cell_type": "markdown",
      "metadata": {
        "id": "O042cZV7M1jC"
      },
      "source": [
        "### Indexação de matrizes\n",
        "\n",
        "No caso de matrizes, pode-se usar duplo colchetes ou um colchete separando as dimensões por vírgula"
      ]
    },
    {
      "cell_type": "code",
      "metadata": {
        "id": "uOxTDO21M1jC"
      },
      "source": [
        "mat = np.random.rand(4,3)"
      ],
      "execution_count": null,
      "outputs": []
    },
    {
      "cell_type": "code",
      "metadata": {
        "id": "4UBQmaZsM1jC",
        "colab": {
          "base_uri": "https://localhost:8080/"
        },
        "outputId": "cdd9d050-a50d-49a5-d7d7-c3e263e074fd"
      },
      "source": [
        "mat"
      ],
      "execution_count": null,
      "outputs": [
        {
          "output_type": "execute_result",
          "data": {
            "text/plain": [
              "array([[0.19687293, 0.65658506, 0.02326513],\n",
              "       [0.30122861, 0.47815334, 0.54234024],\n",
              "       [0.10872215, 0.81224061, 0.03720702],\n",
              "       [0.61428829, 0.43218426, 0.17600331]])"
            ]
          },
          "metadata": {
            "tags": []
          },
          "execution_count": 8
        }
      ]
    },
    {
      "cell_type": "code",
      "metadata": {
        "id": "zHpHvlMxM1jD",
        "colab": {
          "base_uri": "https://localhost:8080/"
        },
        "outputId": "7e9e7362-4c74-4d3e-8807-93a6d5722d78"
      },
      "source": [
        "mat[0,0]"
      ],
      "execution_count": null,
      "outputs": [
        {
          "output_type": "execute_result",
          "data": {
            "text/plain": [
              "0.19687293108587633"
            ]
          },
          "metadata": {
            "tags": []
          },
          "execution_count": 9
        }
      ]
    },
    {
      "cell_type": "code",
      "metadata": {
        "scrolled": true,
        "id": "Om-jRWQsM1jD",
        "colab": {
          "base_uri": "https://localhost:8080/"
        },
        "outputId": "fd8433c5-2df8-4a17-eb04-a6df3a5441fa"
      },
      "source": [
        "mat[0:3, 0:2] #define intervalo das linhas e intervalo das colunas"
      ],
      "execution_count": null,
      "outputs": [
        {
          "output_type": "execute_result",
          "data": {
            "text/plain": [
              "array([[0.19687293, 0.65658506],\n",
              "       [0.30122861, 0.47815334],\n",
              "       [0.10872215, 0.81224061]])"
            ]
          },
          "metadata": {
            "tags": []
          },
          "execution_count": 10
        }
      ]
    },
    {
      "cell_type": "code",
      "metadata": {
        "id": "S9RS2MroM1jD",
        "outputId": "6b00dce2-a33d-4f89-c556-3f50ea67f4c8"
      },
      "source": [
        "mat.shape"
      ],
      "execution_count": null,
      "outputs": [
        {
          "output_type": "execute_result",
          "data": {
            "text/plain": [
              "(4, 3)"
            ]
          },
          "metadata": {
            "tags": []
          },
          "execution_count": 70
        }
      ]
    },
    {
      "cell_type": "markdown",
      "metadata": {
        "id": "QZ6d9KKtM1jE"
      },
      "source": [
        "## Transmissão\n",
        "\n",
        "Pode-se aplicar um valor ou operação a todo o array ou parte dele"
      ]
    },
    {
      "cell_type": "code",
      "metadata": {
        "id": "zeYh4jbHM1jE",
        "outputId": "6c1c1584-dd5f-471b-dc4c-756d23ae575f"
      },
      "source": [
        "# Configurando um valor com intervalo de índice (Transmissão)\n",
        "arr[0:5]=100\n",
        "\n",
        "#Show\n",
        "print(arr)"
      ],
      "execution_count": null,
      "outputs": [
        {
          "output_type": "stream",
          "text": [
            "[100 100 100 100 100   5   6   7   8   9  10  11  12  13  14  15  16  17\n",
            "  18  19  20  21  22  23  24]\n"
          ],
          "name": "stdout"
        }
      ]
    },
    {
      "cell_type": "code",
      "metadata": {
        "id": "ffllJYoIM1jE",
        "outputId": "5505cdcc-eb12-45c2-fb1a-bc40a4e85984"
      },
      "source": [
        "# Notas importantes sobre fatias\n",
        "slice_de_arr = arr[0:6]\n",
        "\n",
        "# Mostra a fatia\n",
        "print(slice_de_arr)"
      ],
      "execution_count": null,
      "outputs": [
        {
          "output_type": "stream",
          "text": [
            "[100 100 100 100 100   5]\n"
          ],
          "name": "stdout"
        }
      ]
    },
    {
      "cell_type": "code",
      "metadata": {
        "id": "FMiHxXM-M1jE",
        "outputId": "cf1fbdd8-b6bc-4585-9be7-085c9a216ad3"
      },
      "source": [
        "# Modifica a fatia\n",
        "slice_de_arr[:]=99\n",
        "\n",
        "#Show Slice again\n",
        "slice_de_arr"
      ],
      "execution_count": null,
      "outputs": [
        {
          "output_type": "execute_result",
          "data": {
            "text/plain": [
              "array([99, 99, 99, 99, 99, 99])"
            ]
          },
          "metadata": {
            "tags": []
          },
          "execution_count": 48
        }
      ]
    },
    {
      "cell_type": "markdown",
      "metadata": {
        "id": "fT_d406rM1jF"
      },
      "source": [
        "Agora note que as mudanças também ocorrem no array original!"
      ]
    },
    {
      "cell_type": "code",
      "metadata": {
        "id": "u8Uo2wBXM1jF",
        "outputId": "69d68dca-b969-45e4-eae5-84f444cda705"
      },
      "source": [
        "print(arr)"
      ],
      "execution_count": null,
      "outputs": [
        {
          "output_type": "stream",
          "text": [
            "[99 99 99 99 99 99  6  7  8  9 10 11 12 13 14 15 16 17 18 19 20 21 22 23\n",
            " 24]\n"
          ],
          "name": "stdout"
        }
      ]
    },
    {
      "cell_type": "markdown",
      "metadata": {
        "id": "6hQs8e5LM1jF"
      },
      "source": [
        "Os dados não são copiados, é uma visão do array original! Isso evita problemas de memória!"
      ]
    },
    {
      "cell_type": "code",
      "metadata": {
        "scrolled": true,
        "id": "qzBOmsq5M1jF",
        "outputId": "c69e057a-5b0f-4a61-b20a-5d80162c42f5"
      },
      "source": [
        "# Para obter uma cópia, precisa ser explícito\n",
        "arr_copy = arr.copy()\n",
        "\n",
        "arr_copy"
      ],
      "execution_count": null,
      "outputs": [
        {
          "output_type": "execute_result",
          "data": {
            "text/plain": [
              "array([99, 99, 99, 99, 99, 99,  6,  7,  8,  9, 10, 11, 12, 13, 14, 15, 16,\n",
              "       17, 18, 19, 20, 21, 22, 23, 24])"
            ]
          },
          "metadata": {
            "tags": []
          },
          "execution_count": 50
        }
      ]
    },
    {
      "cell_type": "markdown",
      "metadata": {
        "id": "E3L8hlwtM1jG"
      },
      "source": [
        "## Seleção condicional\n",
        "\n",
        "Vamos examinar brevemente como usar colchetes para seleção com base em operadores de comparação."
      ]
    },
    {
      "cell_type": "code",
      "metadata": {
        "id": "xg6NIng-M1jG",
        "outputId": "cf324466-22b2-4b2b-9c90-99940885f523"
      },
      "source": [
        "arr = np.arange(1,11)\n",
        "arr"
      ],
      "execution_count": null,
      "outputs": [
        {
          "output_type": "execute_result",
          "data": {
            "text/plain": [
              "array([ 1,  2,  3,  4,  5,  6,  7,  8,  9, 10])"
            ]
          },
          "metadata": {
            "tags": []
          },
          "execution_count": 51
        }
      ]
    },
    {
      "cell_type": "code",
      "metadata": {
        "id": "kqN1z7nRM1jH",
        "outputId": "48ea2069-5fb4-47b3-f0b9-d1688edd4569"
      },
      "source": [
        "arr > 4"
      ],
      "execution_count": null,
      "outputs": [
        {
          "output_type": "execute_result",
          "data": {
            "text/plain": [
              "array([False, False, False, False,  True,  True,  True,  True,  True,\n",
              "        True])"
            ]
          },
          "metadata": {
            "tags": []
          },
          "execution_count": 4
        }
      ]
    },
    {
      "cell_type": "code",
      "metadata": {
        "id": "4ShDOYaTM1jH"
      },
      "source": [
        "arrMaiorQuatro = arr[arr > 4]"
      ],
      "execution_count": null,
      "outputs": []
    },
    {
      "cell_type": "code",
      "metadata": {
        "id": "nz6iSxoPM1jI",
        "outputId": "46e99e2a-e946-4a00-c56e-31f2c0b36121"
      },
      "source": [
        "print(arrMaiorQuatro)"
      ],
      "execution_count": null,
      "outputs": [
        {
          "output_type": "stream",
          "text": [
            "[ 5  6  7  8  9 10]\n"
          ],
          "name": "stdout"
        }
      ]
    }
  ]
}