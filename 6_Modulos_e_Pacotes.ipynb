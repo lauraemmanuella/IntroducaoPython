{
  "nbformat": 4,
  "nbformat_minor": 0,
  "metadata": {
    "kernelspec": {
      "display_name": "Python 3",
      "language": "python",
      "name": "python3"
    },
    "language_info": {
      "codemirror_mode": {
        "name": "ipython",
        "version": 3
      },
      "file_extension": ".py",
      "mimetype": "text/x-python",
      "name": "python",
      "nbconvert_exporter": "python",
      "pygments_lexer": "ipython3",
      "version": "3.7.0"
    },
    "colab": {
      "name": "6-Modulos e Pacotes.ipynb",
      "provenance": [],
      "include_colab_link": true
    }
  },
  "cells": [
    {
      "cell_type": "markdown",
      "metadata": {
        "id": "view-in-github",
        "colab_type": "text"
      },
      "source": [
        "<a href=\"https://colab.research.google.com/github/lauraemmanuella/IntroducaoPython/blob/main/6_Modulos_e_Pacotes.ipynb\" target=\"_parent\"><img src=\"https://colab.research.google.com/assets/colab-badge.svg\" alt=\"Open In Colab\"/></a>"
      ]
    },
    {
      "cell_type": "markdown",
      "metadata": {
        "id": "FURvwG6iggwz"
      },
      "source": [
        "# Módulos e Pacotes\n",
        "\n",
        "http://www.devfuria.com.br/python/modulos-pacotes/\n",
        "\n",
        "Os módulos no Python são simplesmente arquivos Python com a extensão .py, que implementam um conjunto de funções. \n",
        "\n",
        "Os módulos são importados para outros módulos usando o comando import.\n",
        "\n",
        "A primeira vez que um módulo é carregado em um script Python em execução, ele é inicializado executando o código no módulo uma vez. Se outro módulo no seu código importar o mesmo módulo novamente, ele não será carregado duas vezes, mas uma vez somente - então as variáveis locais dentro do módulo atuam como \"singleton\" - elas são inicializadas apenas uma vez.\n",
        "\n",
        "Se quisermos importar módulos de matemática, simplesmente importamos o módulo:"
      ]
    },
    {
      "cell_type": "code",
      "metadata": {
        "id": "B9uDBpg-ggw2"
      },
      "source": [
        "# Importa a biblioteca\n",
        "import math"
      ],
      "execution_count": null,
      "outputs": []
    },
    {
      "cell_type": "code",
      "metadata": {
        "id": "3n36FuA6ggw3",
        "outputId": "58ccf3c7-cd27-49a1-b022-cc2acd177cdf"
      },
      "source": [
        "math.pow(2,3)"
      ],
      "execution_count": null,
      "outputs": [
        {
          "output_type": "execute_result",
          "data": {
            "text/plain": [
              "8.0"
            ]
          },
          "metadata": {
            "tags": []
          },
          "execution_count": 4
        }
      ]
    },
    {
      "cell_type": "code",
      "metadata": {
        "id": "7lD99NPbggw6",
        "outputId": "7a709d80-f430-49fb-c9a6-2456a7667037"
      },
      "source": [
        "#importa uma unica funcao de um modulo\n",
        "from random import randint \n",
        "print(randint(0, 100))"
      ],
      "execution_count": null,
      "outputs": [
        {
          "output_type": "stream",
          "text": [
            "26\n"
          ],
          "name": "stdout"
        }
      ]
    },
    {
      "cell_type": "markdown",
      "metadata": {
        "id": "S3Opyg5Zggw6"
      },
      "source": [
        "## Escrevendo módulos\n",
        "Escrever módulos Python é muito simples. Para criar um módulo por conta própria, basta criar um novo arquivo .py com o nome do módulo e, em seguida, importá-lo usando o nome do arquivo Python (sem a extensão .py) usando o comando import.\n",
        "\n",
        "## Escrevendo pacotes\n",
        "Os pacotes são espaços de nomes que contêm vários pacotes e módulos próprios. Eles são simplesmente diretórios, mas com um extra.\n",
        "\n",
        "Cada pacote no Python é um diretório que DEVE conter um arquivo especial chamado __ init __ . py. Este arquivo pode estar vazio e indica que o diretório que ele contém é um pacote Python, portanto pode ser importado da mesma maneira que um módulo pode ser importado."
      ]
    }
  ]
}