{
  "nbformat": 4,
  "nbformat_minor": 0,
  "metadata": {
    "kernelspec": {
      "display_name": "Python 3",
      "language": "python",
      "name": "python3"
    },
    "language_info": {
      "codemirror_mode": {
        "name": "ipython",
        "version": 3
      },
      "file_extension": ".py",
      "mimetype": "text/x-python",
      "name": "python",
      "nbconvert_exporter": "python",
      "pygments_lexer": "ipython3",
      "version": "3.7.0"
    },
    "colab": {
      "name": "1-TiposDeDados.ipynb",
      "provenance": [],
      "collapsed_sections": [],
      "toc_visible": true,
      "include_colab_link": true
    }
  },
  "cells": [
    {
      "cell_type": "markdown",
      "metadata": {
        "id": "view-in-github",
        "colab_type": "text"
      },
      "source": [
        "<a href=\"https://colab.research.google.com/github/lauraemmanuella/IntroducaoPython/blob/main/1_TiposDeDados.ipynb\" target=\"_parent\"><img src=\"https://colab.research.google.com/assets/colab-badge.svg\" alt=\"Open In Colab\"/></a>"
      ]
    },
    {
      "cell_type": "markdown",
      "metadata": {
        "id": "k527eLzPElfz"
      },
      "source": [
        "# Python\n",
        "\n",
        "Linguagem de programação interpretada e orientada a objetos\n",
        "\n",
        "*    Documentação oficial: https://docs.python.org/3/library/\n",
        "\n",
        "*    Tutorial Python: https://docs.python.org/3.7/tutorial/index.html\n",
        "\n",
        "*    Estrutura de dados: https://docs.python.org/3.7/tutorial/datastructures.html\n",
        "\n",
        "\n",
        "**Cuidados ao digitar seus programas**\n",
        "\n",
        "1.   Letras maiúsculas e minúsculas são diferentes\n",
        "2.   Aspas e parênteses são importantes (sempre que abrir, feche)\n",
        "3.   Espaços são muito importantes (A identação do código serve para marcar o começo e fim das estruturas)"
      ]
    },
    {
      "cell_type": "code",
      "metadata": {
        "id": "NvgfslZ0Elf9",
        "colab": {
          "base_uri": "https://localhost:8080/"
        },
        "outputId": "a4c30d00-31dc-4ae7-8ffa-7c87fcf918d6"
      },
      "source": [
        "# isto eh um comentario de uma linha\n",
        "'''\n",
        "Isto eh um comentario de \n",
        "multiplas linhas\n",
        "'''\n",
        "print('Esse é o comando para saída de texto em tela')"
      ],
      "execution_count": 16,
      "outputs": [
        {
          "output_type": "stream",
          "name": "stdout",
          "text": [
            "Esse é o comando para saída de texto em tela\n"
          ]
        }
      ]
    },
    {
      "cell_type": "markdown",
      "metadata": {
        "id": "xiESx0xJ9wVq"
      },
      "source": [
        "Em geral, usamos aspas simples para marcar o conteúdo textual, mas pode usar aspas duplas também\n",
        "\n",
        "Se no conteúdo do texto precisar de aspas, use aspas simples internamente, e aspas duplas para a marcação "
      ]
    },
    {
      "cell_type": "code",
      "metadata": {
        "colab": {
          "base_uri": "https://localhost:8080/"
        },
        "id": "jGU--qec-Hp3",
        "outputId": "9e7db569-459f-4fe0-d4a1-df7f109917e9"
      },
      "source": [
        "print(\"conteúdo 'X' \")"
      ],
      "execution_count": 14,
      "outputs": [
        {
          "output_type": "stream",
          "name": "stdout",
          "text": [
            "conteúdo 'X' \n"
          ]
        }
      ]
    },
    {
      "cell_type": "markdown",
      "metadata": {
        "id": "9t5bzIWCElgG"
      },
      "source": [
        "## Variáveis\n",
        "\n",
        "Python é uma linguagem não tipada, isso quer dizer que não precisamos informar o tipo dos dados que uma variável irá guardar\n",
        "\n",
        "\n",
        "**Os nomes das variáveis devem seguir algumas regras:**\n",
        "\n",
        "1. Os nomes não podem começar com um número.\n",
        "2. Não pode haver espaços no nome. Use _ em vez disso.\n",
        "3. Não é possível usar nenhum desses símbolos: '\", <> /? | \\ ()! @ # $% ^ & * ~ - +\n",
        "4. É considerada uma boa prática que os nomes sejam minúsculos."
      ]
    },
    {
      "cell_type": "markdown",
      "metadata": {
        "id": "JzbVlAGsElgA"
      },
      "source": [
        "## Tipos de Dados em Python\n",
        "\n",
        "* Números\n",
        "* Booleanos\n",
        "* Strings\n",
        "* Listas\n",
        "* Tuplas\n",
        "* Sets\n",
        "* Dicionários"
      ]
    },
    {
      "cell_type": "markdown",
      "metadata": {
        "id": "M4wIjScVElgB"
      },
      "source": [
        "## Números\n",
        "\n",
        "<table>\n",
        "<tr>\n",
        "    <th>Exemplo</th> \n",
        "    <th>Tipo</th>\n",
        "</tr>\n",
        "\n",
        "<tr>\n",
        "    <td>1,2, -5, 1000</td>\n",
        "    <td>Inteiros</td> \n",
        "</tr>\n",
        "\n",
        "<tr>\n",
        "    <td>1.2, -0.5, 2e2, 3E2</td> \n",
        "    <td>Numero Ponto-flutuante</td> \n",
        "</tr>\n",
        " </table>"
      ]
    },
    {
      "cell_type": "markdown",
      "metadata": {
        "id": "z1ZzyTYRElgB"
      },
      "source": [
        "### Aritmética Básica"
      ]
    },
    {
      "cell_type": "code",
      "metadata": {
        "id": "4-fmLYNOElgC"
      },
      "source": [
        "x = 9\n",
        "y = 0.5"
      ],
      "execution_count": 17,
      "outputs": []
    },
    {
      "cell_type": "code",
      "metadata": {
        "scrolled": true,
        "id": "piB0b2JmElgC",
        "colab": {
          "base_uri": "https://localhost:8080/"
        },
        "outputId": "4d757ecf-4433-4a90-ebb2-f0600c91e3ea"
      },
      "source": [
        "type(x)"
      ],
      "execution_count": 18,
      "outputs": [
        {
          "output_type": "execute_result",
          "data": {
            "text/plain": [
              "int"
            ]
          },
          "metadata": {},
          "execution_count": 18
        }
      ]
    },
    {
      "cell_type": "code",
      "metadata": {
        "id": "fL4kpCMjElgC",
        "colab": {
          "base_uri": "https://localhost:8080/"
        },
        "outputId": "80cc5cdd-63e0-4a99-9ed0-adc0d86d83cb"
      },
      "source": [
        "type(y)"
      ],
      "execution_count": 19,
      "outputs": [
        {
          "output_type": "execute_result",
          "data": {
            "text/plain": [
              "float"
            ]
          },
          "metadata": {},
          "execution_count": 19
        }
      ]
    },
    {
      "cell_type": "code",
      "metadata": {
        "id": "4wUAugutElgD",
        "colab": {
          "base_uri": "https://localhost:8080/"
        },
        "outputId": "2031df39-4073-4bf0-f36e-5301f7eeb7ed"
      },
      "source": [
        "z = x / y # operadores aritmeticos basicos: + - / *\n",
        "print(z)"
      ],
      "execution_count": 20,
      "outputs": [
        {
          "output_type": "stream",
          "name": "stdout",
          "text": [
            "18.0\n"
          ]
        }
      ]
    },
    {
      "cell_type": "code",
      "metadata": {
        "colab": {
          "base_uri": "https://localhost:8080/"
        },
        "id": "H6GYtKOeElgD",
        "outputId": "14913d61-bfcc-4170-ed34-c156c079c2bd"
      },
      "source": [
        "z = x ** y #exponenciação\n",
        "print(z)"
      ],
      "execution_count": 21,
      "outputs": [
        {
          "output_type": "stream",
          "name": "stdout",
          "text": [
            "3.0\n"
          ]
        }
      ]
    },
    {
      "cell_type": "code",
      "metadata": {
        "id": "KgE0AUxFElgE",
        "colab": {
          "base_uri": "https://localhost:8080/"
        },
        "outputId": "6efc6774-569b-422b-f645-c29459b329ec"
      },
      "source": [
        "z = x % 2 #resto da divisao\n",
        "print(z)"
      ],
      "execution_count": 22,
      "outputs": [
        {
          "output_type": "stream",
          "name": "stdout",
          "text": [
            "1\n"
          ]
        }
      ]
    },
    {
      "cell_type": "code",
      "metadata": {
        "id": "zrQsPv-WElgF",
        "colab": {
          "base_uri": "https://localhost:8080/"
        },
        "outputId": "f9031542-8ab7-4e7e-9043-88683c1aefb0"
      },
      "source": [
        "z = x // 2 #parte inteira da divisao\n",
        "print(z)"
      ],
      "execution_count": 23,
      "outputs": [
        {
          "output_type": "stream",
          "name": "stdout",
          "text": [
            "4\n"
          ]
        }
      ]
    },
    {
      "cell_type": "code",
      "metadata": {
        "id": "aLTJsAWfElgF",
        "colab": {
          "base_uri": "https://localhost:8080/"
        },
        "outputId": "326e5d38-53b7-45ca-b238-18f26c74f3ee"
      },
      "source": [
        "round(9.55789) #arredonda"
      ],
      "execution_count": 24,
      "outputs": [
        {
          "output_type": "execute_result",
          "data": {
            "text/plain": [
              "10"
            ]
          },
          "metadata": {},
          "execution_count": 24
        }
      ]
    },
    {
      "cell_type": "code",
      "metadata": {
        "colab": {
          "base_uri": "https://localhost:8080/"
        },
        "id": "RorRIpzKO_Mz",
        "outputId": "175c4e9d-59b6-412a-eb07-06f69ec5212a"
      },
      "source": [
        "round(9.55789, 2) #informa a quantidade de casas decimais"
      ],
      "execution_count": 140,
      "outputs": [
        {
          "output_type": "execute_result",
          "data": {
            "text/plain": [
              "9.56"
            ]
          },
          "metadata": {},
          "execution_count": 140
        }
      ]
    },
    {
      "cell_type": "markdown",
      "metadata": {
        "id": "Ns_3dF8PKPnC"
      },
      "source": [
        "### Entrada de dados"
      ]
    },
    {
      "cell_type": "code",
      "metadata": {
        "colab": {
          "base_uri": "https://localhost:8080/"
        },
        "id": "nbfSmdU2JQuz",
        "outputId": "e205f144-316f-4062-f7d7-898b108281a8"
      },
      "source": [
        "peso = input('Informe o peso: ')"
      ],
      "execution_count": 102,
      "outputs": [
        {
          "name": "stdout",
          "output_type": "stream",
          "text": [
            "Informe o peso: 51\n"
          ]
        }
      ]
    },
    {
      "cell_type": "code",
      "metadata": {
        "colab": {
          "base_uri": "https://localhost:8080/"
        },
        "id": "O-Oco9HiJYsZ",
        "outputId": "b7209368-0fcb-40e8-e86f-39b788d1cc97"
      },
      "source": [
        "print(f'O peso informado foi: {peso}') #apresenta a variável dentro do texto de saída"
      ],
      "execution_count": 103,
      "outputs": [
        {
          "output_type": "stream",
          "name": "stdout",
          "text": [
            "O peso informado foi: 51\n"
          ]
        }
      ]
    },
    {
      "cell_type": "code",
      "metadata": {
        "colab": {
          "base_uri": "https://localhost:8080/"
        },
        "id": "UN3iop4xJedN",
        "outputId": "276a1e3b-c71e-45e7-b8fd-d5573afbd8a7"
      },
      "source": [
        "type(peso) #inputs recebem sempre como string"
      ],
      "execution_count": 104,
      "outputs": [
        {
          "output_type": "execute_result",
          "data": {
            "text/plain": [
              "str"
            ]
          },
          "metadata": {},
          "execution_count": 104
        }
      ]
    },
    {
      "cell_type": "code",
      "metadata": {
        "id": "SMRyLisUJ1wV"
      },
      "source": [
        "peso = float(peso)"
      ],
      "execution_count": 105,
      "outputs": []
    },
    {
      "cell_type": "code",
      "metadata": {
        "colab": {
          "base_uri": "https://localhost:8080/"
        },
        "id": "D-BbD5-FKAiW",
        "outputId": "da79bb0e-3cb5-499b-8979-dcee5d133389"
      },
      "source": [
        "type(peso)"
      ],
      "execution_count": 106,
      "outputs": [
        {
          "output_type": "execute_result",
          "data": {
            "text/plain": [
              "float"
            ]
          },
          "metadata": {},
          "execution_count": 106
        }
      ]
    },
    {
      "cell_type": "code",
      "metadata": {
        "colab": {
          "base_uri": "https://localhost:8080/"
        },
        "id": "y77bpiahKEfy",
        "outputId": "51e12442-73d4-4724-cf55-a6dec761635f"
      },
      "source": [
        "altura = float(input('informe a altura: '))"
      ],
      "execution_count": 107,
      "outputs": [
        {
          "name": "stdout",
          "output_type": "stream",
          "text": [
            "informe a altura: 1.60\n"
          ]
        }
      ]
    },
    {
      "cell_type": "code",
      "metadata": {
        "colab": {
          "base_uri": "https://localhost:8080/"
        },
        "id": "47m2nmkYKMUl",
        "outputId": "54b6de1e-de7d-4fd0-e8a5-c3da731d0f48"
      },
      "source": [
        "type(altura)"
      ],
      "execution_count": 108,
      "outputs": [
        {
          "output_type": "execute_result",
          "data": {
            "text/plain": [
              "float"
            ]
          },
          "metadata": {},
          "execution_count": 108
        }
      ]
    },
    {
      "cell_type": "code",
      "metadata": {
        "colab": {
          "base_uri": "https://localhost:8080/"
        },
        "id": "Z4BmBVwzKfZl",
        "outputId": "a1116cff-824a-4723-e2e4-5b3ec6eeaed7"
      },
      "source": [
        "print(f'seu imc é: {peso/(altura*altura):.2f}')"
      ],
      "execution_count": 113,
      "outputs": [
        {
          "output_type": "stream",
          "name": "stdout",
          "text": [
            "seu imc é: 19.92\n"
          ]
        }
      ]
    },
    {
      "cell_type": "markdown",
      "metadata": {
        "id": "AhI_WkgKElgI"
      },
      "source": [
        "## Strings"
      ]
    },
    {
      "cell_type": "markdown",
      "metadata": {
        "id": "6DSxoaSfElgI"
      },
      "source": [
        "As Strings em Python são **sequências** de caracteres. Isso significa que poderemos usar a indexação para pegar letras particulares (como a primeira letra ou a última letra)."
      ]
    },
    {
      "cell_type": "code",
      "metadata": {
        "id": "udaZxJMaElgI"
      },
      "source": [
        "nome = 'Laura Emmanuella'\n",
        "curso = 'TADS'\n",
        "exemplo = \"doesn't\" #aspas simples interna"
      ],
      "execution_count": 30,
      "outputs": []
    },
    {
      "cell_type": "code",
      "metadata": {
        "id": "WQ92jNpgElgJ",
        "colab": {
          "base_uri": "https://localhost:8080/"
        },
        "outputId": "61471aa5-7798-449d-ac89-74f6c6ea4968"
      },
      "source": [
        "type(nome)"
      ],
      "execution_count": 26,
      "outputs": [
        {
          "output_type": "execute_result",
          "data": {
            "text/plain": [
              "str"
            ]
          },
          "metadata": {},
          "execution_count": 26
        }
      ]
    },
    {
      "cell_type": "code",
      "metadata": {
        "id": "rFjPIPLWElgJ",
        "colab": {
          "base_uri": "https://localhost:8080/"
        },
        "outputId": "583ee8c4-aa10-4fc1-8126-a44371b837e2"
      },
      "source": [
        "type(curso)"
      ],
      "execution_count": 27,
      "outputs": [
        {
          "output_type": "execute_result",
          "data": {
            "text/plain": [
              "str"
            ]
          },
          "metadata": {},
          "execution_count": 27
        }
      ]
    },
    {
      "cell_type": "code",
      "metadata": {
        "id": "bZWjjbFKElgJ",
        "colab": {
          "base_uri": "https://localhost:8080/"
        },
        "outputId": "ede2ced0-a41c-4f9c-b760-51084f277e1f"
      },
      "source": [
        "len(nome)"
      ],
      "execution_count": 28,
      "outputs": [
        {
          "output_type": "execute_result",
          "data": {
            "text/plain": [
              "16"
            ]
          },
          "metadata": {},
          "execution_count": 28
        }
      ]
    },
    {
      "cell_type": "code",
      "metadata": {
        "id": "6JEZ6YvpElgK",
        "colab": {
          "base_uri": "https://localhost:8080/"
        },
        "outputId": "137525a4-add9-45b1-83bb-be051c194891"
      },
      "source": [
        "len(curso)"
      ],
      "execution_count": 29,
      "outputs": [
        {
          "output_type": "execute_result",
          "data": {
            "text/plain": [
              "4"
            ]
          },
          "metadata": {},
          "execution_count": 29
        }
      ]
    },
    {
      "cell_type": "code",
      "metadata": {
        "id": "1-K6t_mrElgK",
        "colab": {
          "base_uri": "https://localhost:8080/",
          "height": 181
        },
        "outputId": "225559f6-f473-4f19-875b-0ce88ce9b7d5"
      },
      "source": [
        "del exemplo #apagando variáveis \n",
        "print(exemplo) # OK!"
      ],
      "execution_count": 31,
      "outputs": [
        {
          "output_type": "error",
          "ename": "NameError",
          "evalue": "ignored",
          "traceback": [
            "\u001b[0;31m---------------------------------------------------------------------------\u001b[0m",
            "\u001b[0;31mNameError\u001b[0m                                 Traceback (most recent call last)",
            "\u001b[0;32m<ipython-input-31-b69fd52d050a>\u001b[0m in \u001b[0;36m<module>\u001b[0;34m()\u001b[0m\n\u001b[1;32m      1\u001b[0m \u001b[0;32mdel\u001b[0m \u001b[0mexemplo\u001b[0m\u001b[0;34m\u001b[0m\u001b[0;34m\u001b[0m\u001b[0m\n\u001b[0;32m----> 2\u001b[0;31m \u001b[0mprint\u001b[0m\u001b[0;34m(\u001b[0m\u001b[0mexemplo\u001b[0m\u001b[0;34m)\u001b[0m \u001b[0;31m# OK\u001b[0m\u001b[0;34m\u001b[0m\u001b[0;34m\u001b[0m\u001b[0m\n\u001b[0m",
            "\u001b[0;31mNameError\u001b[0m: name 'exemplo' is not defined"
          ]
        }
      ]
    },
    {
      "cell_type": "code",
      "metadata": {
        "id": "aXTMss-LElgK",
        "colab": {
          "base_uri": "https://localhost:8080/"
        },
        "outputId": "5d9a553f-6fd2-4bbc-dd20-c14c55eaabc6"
      },
      "source": [
        "'a' in nome # pode usar o operador in para fazer testes em sequencias do python"
      ],
      "execution_count": 32,
      "outputs": [
        {
          "output_type": "execute_result",
          "data": {
            "text/plain": [
              "True"
            ]
          },
          "metadata": {},
          "execution_count": 32
        }
      ]
    },
    {
      "cell_type": "markdown",
      "metadata": {
        "id": "QQMzgxcEElgK"
      },
      "source": [
        "### Indexação\n",
        "Sabemos que as strings são uma sequência, o que significa que Python pode usar índices para chamar partes da sequência. Usamos colchetes [] após um objeto para chamar seu índice. Devemos também lembrar que a indexação começa em 0."
      ]
    },
    {
      "cell_type": "code",
      "metadata": {
        "colab": {
          "base_uri": "https://localhost:8080/"
        },
        "id": "QAdJrga2ElgL",
        "outputId": "7bfc03b2-b936-4ff9-c3e9-0e1e89f5f058"
      },
      "source": [
        "print(curso[3])"
      ],
      "execution_count": 33,
      "outputs": [
        {
          "output_type": "stream",
          "name": "stdout",
          "text": [
            "S\n"
          ]
        }
      ]
    },
    {
      "cell_type": "code",
      "metadata": {
        "colab": {
          "base_uri": "https://localhost:8080/"
        },
        "id": "lN1vbOeQElgL",
        "outputId": "09be4d26-74d1-4abd-ad11-6de96109fc5b"
      },
      "source": [
        "print(curso[-1]) # retorna a ultima letra"
      ],
      "execution_count": 34,
      "outputs": [
        {
          "output_type": "stream",
          "name": "stdout",
          "text": [
            "S\n"
          ]
        }
      ]
    },
    {
      "cell_type": "markdown",
      "metadata": {
        "id": "IbBcMMccElgL"
      },
      "source": [
        "### Cortes\n",
        "Podemos usar : para executar cortes que retorna tudo até um ponto designado"
      ]
    },
    {
      "cell_type": "code",
      "metadata": {
        "id": "xvoUyQyNElgM",
        "colab": {
          "base_uri": "https://localhost:8080/"
        },
        "outputId": "2930c9e2-c443-4835-9ae6-dca1922d0d3e"
      },
      "source": [
        "print(nome[6:]) #iniciando no índice 6 até o final"
      ],
      "execution_count": 36,
      "outputs": [
        {
          "output_type": "stream",
          "name": "stdout",
          "text": [
            "Emmanuella\n"
          ]
        }
      ]
    },
    {
      "cell_type": "code",
      "metadata": {
        "id": "gscGtIauElgM",
        "colab": {
          "base_uri": "https://localhost:8080/"
        },
        "outputId": "56324541-f4f6-472d-b006-850a23a85b44"
      },
      "source": [
        "print(nome[8:12]) #iniciando no índice 8 até o índice 11 (não inclui o 12)"
      ],
      "execution_count": 38,
      "outputs": [
        {
          "output_type": "stream",
          "name": "stdout",
          "text": [
            "manu\n"
          ]
        }
      ]
    },
    {
      "cell_type": "code",
      "metadata": {
        "id": "abfursIQElgM",
        "colab": {
          "base_uri": "https://localhost:8080/"
        },
        "outputId": "adb0f941-aef6-47c1-86fa-6513cb0666d7"
      },
      "source": [
        "print(nome[:5]) #inicio até índice 4 (nao inclui o 5)"
      ],
      "execution_count": 39,
      "outputs": [
        {
          "output_type": "stream",
          "name": "stdout",
          "text": [
            "Laura\n"
          ]
        }
      ]
    },
    {
      "cell_type": "code",
      "metadata": {
        "id": "Ixb69O5NElgN",
        "outputId": "2e41a810-3f89-41f3-c803-e0cecefe47ab"
      },
      "source": [
        "print(nome[:]) #inicio ao fim"
      ],
      "execution_count": null,
      "outputs": [
        {
          "output_type": "stream",
          "text": [
            "Laura Emmanuella\n"
          ],
          "name": "stdout"
        }
      ]
    },
    {
      "cell_type": "code",
      "metadata": {
        "id": "6aZxf4_EElgO",
        "outputId": "1d74a3f2-0ee2-4eb4-aaf6-34947bef3a4f"
      },
      "source": [
        "print(nome[-1]) # ultimo caractere"
      ],
      "execution_count": null,
      "outputs": [
        {
          "output_type": "stream",
          "text": [
            "a\n"
          ],
          "name": "stdout"
        }
      ]
    },
    {
      "cell_type": "code",
      "metadata": {
        "id": "bx92PyyfElgO",
        "outputId": "ba52b9c5-9aa6-4385-f54e-c0d0c9b511d7"
      },
      "source": [
        "print(nome[:-1]) #inicio ao penultimo"
      ],
      "execution_count": null,
      "outputs": [
        {
          "output_type": "stream",
          "text": [
            "Laura Emmanuell\n"
          ],
          "name": "stdout"
        }
      ]
    },
    {
      "cell_type": "code",
      "metadata": {
        "id": "ThPhtxV-ElgO",
        "colab": {
          "base_uri": "https://localhost:8080/"
        },
        "outputId": "c9d9ffd0-7e3a-46aa-a1d0-a61474336d3b"
      },
      "source": [
        "print(nome[0:16:2]) #inicio:fim:passos"
      ],
      "execution_count": 42,
      "outputs": [
        {
          "output_type": "stream",
          "name": "stdout",
          "text": [
            "LuaEmnel\n"
          ]
        }
      ]
    },
    {
      "cell_type": "code",
      "metadata": {
        "colab": {
          "base_uri": "https://localhost:8080/"
        },
        "id": "ubCq0tdHD3T3",
        "outputId": "612c598d-3804-43a4-9e9b-491e81402a3d"
      },
      "source": [
        "print(nome[::2]) #mesma coisa (inicio:fim:passos)"
      ],
      "execution_count": 41,
      "outputs": [
        {
          "output_type": "stream",
          "name": "stdout",
          "text": [
            "LuaEmnel\n"
          ]
        }
      ]
    },
    {
      "cell_type": "code",
      "metadata": {
        "id": "ebQhAC1zElgP",
        "outputId": "6f83f04f-9a59-4602-bb25-a53d774a82ff"
      },
      "source": [
        "print(nome[::-1]) #inverte toda a string"
      ],
      "execution_count": null,
      "outputs": [
        {
          "output_type": "stream",
          "text": [
            "alleunammE aruaL\n"
          ],
          "name": "stdout"
        }
      ]
    },
    {
      "cell_type": "markdown",
      "metadata": {
        "id": "nFg2RXPQElgP"
      },
      "source": [
        "### Propriedades das Strings\n",
        "É importante notar que as strings têm uma propriedade importante conhecida como **imutabilidade**. Isso significa que, uma vez que uma string é criada, **os elementos nela não podem ser alterados ou substituídos por indexação.**"
      ]
    },
    {
      "cell_type": "code",
      "metadata": {
        "id": "cpFqpJJQElgQ",
        "colab": {
          "base_uri": "https://localhost:8080/",
          "height": 164
        },
        "outputId": "e0f56534-068e-4f91-f0a0-729912f286ec"
      },
      "source": [
        "nome[0] = 'M'"
      ],
      "execution_count": 43,
      "outputs": [
        {
          "output_type": "error",
          "ename": "TypeError",
          "evalue": "ignored",
          "traceback": [
            "\u001b[0;31m---------------------------------------------------------------------------\u001b[0m",
            "\u001b[0;31mTypeError\u001b[0m                                 Traceback (most recent call last)",
            "\u001b[0;32m<ipython-input-43-2c85d6919a03>\u001b[0m in \u001b[0;36m<module>\u001b[0;34m()\u001b[0m\n\u001b[0;32m----> 1\u001b[0;31m \u001b[0mnome\u001b[0m\u001b[0;34m[\u001b[0m\u001b[0;36m0\u001b[0m\u001b[0;34m]\u001b[0m \u001b[0;34m=\u001b[0m \u001b[0;34m'M'\u001b[0m\u001b[0;34m\u001b[0m\u001b[0;34m\u001b[0m\u001b[0m\n\u001b[0m",
            "\u001b[0;31mTypeError\u001b[0m: 'str' object does not support item assignment"
          ]
        }
      ]
    },
    {
      "cell_type": "markdown",
      "metadata": {
        "id": "Rfgj1YaLElgQ"
      },
      "source": [
        "Mas, podemos **CONCATENAR** strings"
      ]
    },
    {
      "cell_type": "code",
      "metadata": {
        "id": "5zKOgH35ElgQ",
        "colab": {
          "base_uri": "https://localhost:8080/"
        },
        "outputId": "fc9b13cd-f760-4bba-f8c0-aff73d960fae"
      },
      "source": [
        "nome = 'M' + nome[1:]\n",
        "print(nome)"
      ],
      "execution_count": 44,
      "outputs": [
        {
          "output_type": "stream",
          "name": "stdout",
          "text": [
            "Maura Emmanuella\n"
          ]
        }
      ]
    },
    {
      "cell_type": "code",
      "metadata": {
        "id": "LdEKHkI-ElgQ"
      },
      "source": [
        "curso = curso + ' '\n",
        "curso = curso * 4"
      ],
      "execution_count": 45,
      "outputs": []
    },
    {
      "cell_type": "code",
      "metadata": {
        "id": "NvDHIQkNElgR",
        "colab": {
          "base_uri": "https://localhost:8080/"
        },
        "outputId": "d228e65b-f1f3-4fb9-f3a6-092bba7e2b5a"
      },
      "source": [
        "print(curso)"
      ],
      "execution_count": 46,
      "outputs": [
        {
          "output_type": "stream",
          "name": "stdout",
          "text": [
            "TADS TADS TADS TADS \n"
          ]
        }
      ]
    },
    {
      "cell_type": "markdown",
      "metadata": {
        "id": "2x5RaYQDElgR"
      },
      "source": [
        "### Métodos de Strings\n",
        "\n",
        "https://docs.python.org/3.7/library/stdtypes.html#string-methods"
      ]
    },
    {
      "cell_type": "code",
      "metadata": {
        "id": "W9f2YXIAElgR",
        "outputId": "2cf5578e-33a4-4132-87d4-5264e0f07821"
      },
      "source": [
        "print(nome.upper())"
      ],
      "execution_count": null,
      "outputs": [
        {
          "output_type": "stream",
          "text": [
            "MAURA EMMANUELLA\n"
          ],
          "name": "stdout"
        }
      ]
    },
    {
      "cell_type": "code",
      "metadata": {
        "id": "IuIXw-13ElgR",
        "outputId": "5b331d85-c87d-498c-ddd6-716662f4a683"
      },
      "source": [
        "'''o método upper retornou o nome maiúsculo, \n",
        "mas como eu não salvei na var nome, ela nao foi alterada\n",
        "'''\n",
        "print(nome) "
      ],
      "execution_count": null,
      "outputs": [
        {
          "output_type": "stream",
          "text": [
            "Maura Emmanuella\n"
          ],
          "name": "stdout"
        }
      ]
    },
    {
      "cell_type": "code",
      "metadata": {
        "id": "GqTpLS8sElgS",
        "colab": {
          "base_uri": "https://localhost:8080/"
        },
        "outputId": "c0a24e4f-8c4a-48d8-c522-3c3e0f3a98d4"
      },
      "source": [
        "print(nome.split())"
      ],
      "execution_count": 47,
      "outputs": [
        {
          "output_type": "stream",
          "name": "stdout",
          "text": [
            "['Maura', 'Emmanuella']\n"
          ]
        }
      ]
    },
    {
      "cell_type": "code",
      "metadata": {
        "id": "fustnNbzElgS",
        "outputId": "8bb5dd2a-4a21-4960-f7f3-3bcf9483e6e6"
      },
      "source": [
        "print(nome.split('a'))"
      ],
      "execution_count": null,
      "outputs": [
        {
          "output_type": "stream",
          "text": [
            "['M', 'ur', ' Emm', 'nuell', '']\n"
          ],
          "name": "stdout"
        }
      ]
    },
    {
      "cell_type": "code",
      "metadata": {
        "colab": {
          "base_uri": "https://localhost:8080/",
          "height": 35
        },
        "id": "Z3cQt9BiFUTc",
        "outputId": "dce86fab-445d-4440-9be6-79e636c88fb7"
      },
      "source": [
        "'   espaço   '.strip() #remove os espaços em branco no começo e fim da string"
      ],
      "execution_count": 67,
      "outputs": [
        {
          "output_type": "execute_result",
          "data": {
            "application/vnd.google.colaboratory.intrinsic+json": {
              "type": "string"
            },
            "text/plain": [
              "'espaço'"
            ]
          },
          "metadata": {},
          "execution_count": 67
        }
      ]
    },
    {
      "cell_type": "code",
      "metadata": {
        "id": "IRH632kYElgS",
        "colab": {
          "base_uri": "https://localhost:8080/"
        },
        "outputId": "0f78fe5d-c807-4a05-f07e-5fba585e4528"
      },
      "source": [
        "print('meu nome é ', nome, '\\nmeu curso é ', curso) #\\n quebra linha"
      ],
      "execution_count": 52,
      "outputs": [
        {
          "output_type": "stream",
          "name": "stdout",
          "text": [
            "meu nome é  Maura Emmanuella \n",
            "meu curso é  TADS TADS TADS TADS \n"
          ]
        }
      ]
    },
    {
      "cell_type": "markdown",
      "metadata": {
        "id": "tyFb6D7VElgG"
      },
      "source": [
        "## Booleanos"
      ]
    },
    {
      "cell_type": "code",
      "metadata": {
        "id": "-8H5N_RBElgH"
      },
      "source": [
        "x = True\n",
        "y = False"
      ],
      "execution_count": null,
      "outputs": []
    },
    {
      "cell_type": "code",
      "metadata": {
        "colab": {
          "base_uri": "https://localhost:8080/"
        },
        "id": "f_BahZQRElgH",
        "outputId": "c1e3c492-5128-4927-f6eb-a4d5dae5704b"
      },
      "source": [
        "type(x)"
      ],
      "execution_count": null,
      "outputs": [
        {
          "output_type": "execute_result",
          "data": {
            "text/plain": [
              "bool"
            ]
          },
          "metadata": {
            "tags": []
          },
          "execution_count": 5
        }
      ]
    },
    {
      "cell_type": "code",
      "metadata": {
        "colab": {
          "base_uri": "https://localhost:8080/"
        },
        "id": "F9xOW5EWElgH",
        "outputId": "cff8f60a-f085-47fc-ed22-9e2c60af31dc"
      },
      "source": [
        "print(not x)"
      ],
      "execution_count": null,
      "outputs": [
        {
          "output_type": "stream",
          "text": [
            "False\n"
          ],
          "name": "stdout"
        }
      ]
    },
    {
      "cell_type": "markdown",
      "metadata": {
        "id": "5vVYx4gOIul9"
      },
      "source": [
        "**OBS**: Qualquer valor que NÃO seja False, None, 0, NaN ou uma string vazia ('') retorna True quando testado com uma instrução condicional"
      ]
    },
    {
      "cell_type": "code",
      "metadata": {
        "id": "FeGJof1fQ7-i"
      },
      "source": [
        "teste = 1"
      ],
      "execution_count": 64,
      "outputs": []
    },
    {
      "cell_type": "code",
      "metadata": {
        "colab": {
          "base_uri": "https://localhost:8080/"
        },
        "id": "FrdC1YVxQ-hW",
        "outputId": "3a1a0a7b-9204-4c5e-a9d8-c8cfb6d3ffb4"
      },
      "source": [
        "if teste:\n",
        "  print('verdadeiro')\n",
        "else:\n",
        "  print('falso')"
      ],
      "execution_count": 65,
      "outputs": [
        {
          "output_type": "stream",
          "name": "stdout",
          "text": [
            "verdadeiro\n"
          ]
        }
      ]
    },
    {
      "cell_type": "code",
      "metadata": {
        "id": "VlFmAY_gHr3P"
      },
      "source": [
        "teste = '    '"
      ],
      "execution_count": 66,
      "outputs": []
    },
    {
      "cell_type": "code",
      "metadata": {
        "colab": {
          "base_uri": "https://localhost:8080/"
        },
        "id": "y_1idyZgHuis",
        "outputId": "343e7e73-4f70-4977-ccd7-eac7679acef6"
      },
      "source": [
        "if not teste.strip():\n",
        "  print('vazio')\n",
        "else:\n",
        "  print('não vazio')"
      ],
      "execution_count": 70,
      "outputs": [
        {
          "output_type": "stream",
          "name": "stdout",
          "text": [
            "vazio\n"
          ]
        }
      ]
    },
    {
      "cell_type": "markdown",
      "metadata": {
        "id": "huEL49OiElgT"
      },
      "source": [
        "## Listas\n",
        "\n",
        "As listas são **sequências** de valores quaisquer colocados entre colchetes e separados por vírgula. \n",
        "As listas podem ser pensadas na versão mais geral de uma sequência em Python. Ao contrário das strings, eles são mutáveis, o que significa que os elementos dentro de uma lista podem ser alterados por indexação."
      ]
    },
    {
      "cell_type": "code",
      "metadata": {
        "id": "glrA7KKUElgT"
      },
      "source": [
        "minhalista = ['Tecnologia da Informação', 2019, 9.5, 'x', nome]"
      ],
      "execution_count": 143,
      "outputs": []
    },
    {
      "cell_type": "code",
      "metadata": {
        "id": "uFrJPecPElgT",
        "colab": {
          "base_uri": "https://localhost:8080/"
        },
        "outputId": "270bdab3-ebd3-40df-ceb3-30d1bc42b711"
      },
      "source": [
        "type(minhalista)"
      ],
      "execution_count": 72,
      "outputs": [
        {
          "output_type": "execute_result",
          "data": {
            "text/plain": [
              "list"
            ]
          },
          "metadata": {},
          "execution_count": 72
        }
      ]
    },
    {
      "cell_type": "code",
      "metadata": {
        "id": "2rbo5z9-ElgT",
        "colab": {
          "base_uri": "https://localhost:8080/"
        },
        "outputId": "db337205-40fa-4d81-8caf-6d9b89190c8b"
      },
      "source": [
        "len(minhalista)"
      ],
      "execution_count": 73,
      "outputs": [
        {
          "output_type": "execute_result",
          "data": {
            "text/plain": [
              "5"
            ]
          },
          "metadata": {},
          "execution_count": 73
        }
      ]
    },
    {
      "cell_type": "code",
      "metadata": {
        "id": "kH5bHdcIElgU",
        "colab": {
          "base_uri": "https://localhost:8080/"
        },
        "outputId": "d7255a1f-3ab8-425b-83fc-19687b454110"
      },
      "source": [
        "print(minhalista[0]) #primeiro elemento"
      ],
      "execution_count": 74,
      "outputs": [
        {
          "output_type": "stream",
          "name": "stdout",
          "text": [
            "Tecnologia da Informação\n"
          ]
        }
      ]
    },
    {
      "cell_type": "code",
      "metadata": {
        "id": "VMTVJuKgElgU",
        "colab": {
          "base_uri": "https://localhost:8080/"
        },
        "outputId": "55ca54ae-622a-4a07-991e-61aa62924242"
      },
      "source": [
        "print(minhalista[-1]) #Ultimo elemento"
      ],
      "execution_count": 75,
      "outputs": [
        {
          "output_type": "stream",
          "name": "stdout",
          "text": [
            "Maura Emmanuella\n"
          ]
        }
      ]
    },
    {
      "cell_type": "code",
      "metadata": {
        "id": "IMocKvXNElgV"
      },
      "source": [
        "minhalista[3] = 'a' #substitui"
      ],
      "execution_count": 144,
      "outputs": []
    },
    {
      "cell_type": "code",
      "metadata": {
        "id": "eS6DC2XpElgV",
        "colab": {
          "base_uri": "https://localhost:8080/"
        },
        "outputId": "5f95b225-7463-4cba-a5b3-d53f21c7844d"
      },
      "source": [
        "print(minhalista)"
      ],
      "execution_count": 77,
      "outputs": [
        {
          "output_type": "stream",
          "name": "stdout",
          "text": [
            "['Tecnologia da Informação', 2019, 9.5, 'a', 'Maura Emmanuella']\n"
          ]
        }
      ]
    },
    {
      "cell_type": "code",
      "metadata": {
        "id": "Lbywab3PElgV",
        "colab": {
          "base_uri": "https://localhost:8080/"
        },
        "outputId": "0f0ded2b-ed84-4736-f676-9a35c1ef38f1"
      },
      "source": [
        "print(minhalista[::2]) #inicio:fim:passos"
      ],
      "execution_count": 78,
      "outputs": [
        {
          "output_type": "stream",
          "name": "stdout",
          "text": [
            "['Tecnologia da Informação', 9.5, 'Maura Emmanuella']\n"
          ]
        }
      ]
    },
    {
      "cell_type": "code",
      "metadata": {
        "id": "OhkhdYNpElgW",
        "colab": {
          "base_uri": "https://localhost:8080/"
        },
        "outputId": "bcec6653-1efa-4f29-bddd-b71aa82b9957"
      },
      "source": [
        "minhalista = minhalista + [10] #adiciona\n",
        "print(minhalista)"
      ],
      "execution_count": 145,
      "outputs": [
        {
          "output_type": "stream",
          "name": "stdout",
          "text": [
            "['Tecnologia da Informação', 2019, 9.5, 'a', 'Maura Emmanuella', 10]\n"
          ]
        }
      ]
    },
    {
      "cell_type": "code",
      "metadata": {
        "colab": {
          "base_uri": "https://localhost:8080/",
          "height": 164
        },
        "id": "MUMgNkrdRQki",
        "outputId": "c1bd2f35-9b38-43cf-bb79-17262a4fba33"
      },
      "source": [
        "minhalista = minhalista + 11 #não concatena se não for outra lista"
      ],
      "execution_count": 146,
      "outputs": [
        {
          "output_type": "error",
          "ename": "TypeError",
          "evalue": "ignored",
          "traceback": [
            "\u001b[0;31m---------------------------------------------------------------------------\u001b[0m",
            "\u001b[0;31mTypeError\u001b[0m                                 Traceback (most recent call last)",
            "\u001b[0;32m<ipython-input-146-00c0ad72eefc>\u001b[0m in \u001b[0;36m<module>\u001b[0;34m()\u001b[0m\n\u001b[0;32m----> 1\u001b[0;31m \u001b[0mminhalista\u001b[0m \u001b[0;34m=\u001b[0m \u001b[0mminhalista\u001b[0m \u001b[0;34m+\u001b[0m \u001b[0;36m11\u001b[0m\u001b[0;34m\u001b[0m\u001b[0;34m\u001b[0m\u001b[0m\n\u001b[0m",
            "\u001b[0;31mTypeError\u001b[0m: can only concatenate list (not \"int\") to list"
          ]
        }
      ]
    },
    {
      "cell_type": "code",
      "metadata": {
        "id": "KW_J2YWCElgW"
      },
      "source": [
        "minhalista = minhalista * 2 #duplica"
      ],
      "execution_count": 147,
      "outputs": []
    },
    {
      "cell_type": "code",
      "metadata": {
        "id": "-rOBR3dDElgW",
        "colab": {
          "base_uri": "https://localhost:8080/"
        },
        "outputId": "1e3fce8a-3f42-4efa-e32b-966823232dfe"
      },
      "source": [
        "print(minhalista)"
      ],
      "execution_count": 148,
      "outputs": [
        {
          "output_type": "stream",
          "name": "stdout",
          "text": [
            "['Tecnologia da Informação', 2019, 9.5, 'a', 'Maura Emmanuella', 10, 'Tecnologia da Informação', 2019, 9.5, 'a', 'Maura Emmanuella', 10]\n"
          ]
        }
      ]
    },
    {
      "cell_type": "code",
      "metadata": {
        "id": "J6uCOIsJElgW",
        "colab": {
          "base_uri": "https://localhost:8080/"
        },
        "outputId": "9cd9fb5b-da61-4a03-a08f-67625faaa783"
      },
      "source": [
        "listaExemplo = [] #cria lista vazia\n",
        "type(listaExemplo)"
      ],
      "execution_count": 149,
      "outputs": [
        {
          "output_type": "execute_result",
          "data": {
            "text/plain": [
              "list"
            ]
          },
          "metadata": {},
          "execution_count": 149
        }
      ]
    },
    {
      "cell_type": "markdown",
      "metadata": {
        "id": "IAJB6PhWElgX"
      },
      "source": [
        "### Métodos de Listas\n",
        "\n",
        "https://docs.python.org/3.7/tutorial/datastructures.html#more-on-lists"
      ]
    },
    {
      "cell_type": "code",
      "metadata": {
        "id": "_VmDZHGQElgX",
        "colab": {
          "base_uri": "https://localhost:8080/"
        },
        "outputId": "386d573c-0681-41ff-9c6c-e56e9432371a"
      },
      "source": [
        "minhalista.append(2020) #adiciona ao final da lista\n",
        "print(minhalista)"
      ],
      "execution_count": 119,
      "outputs": [
        {
          "output_type": "stream",
          "name": "stdout",
          "text": [
            "['Tecnologia da Informação', 2019, 9.5, 'a', 'Maura Emmanuella', 10, 'Tecnologia da Informação', 2019, 9.5, 'a', 'Maura Emmanuella', 10, 2020]\n"
          ]
        }
      ]
    },
    {
      "cell_type": "markdown",
      "metadata": {
        "id": "XEEatyCOElgX"
      },
      "source": [
        "Use **pop** para retirar um item da lista. Por padrão, pop tira do último índice, mas também pode especificar qual índice será removido."
      ]
    },
    {
      "cell_type": "code",
      "metadata": {
        "id": "O-0t3va7ElgX",
        "colab": {
          "base_uri": "https://localhost:8080/"
        },
        "outputId": "e3cdb35b-e074-46d7-ab07-97d2d90dff91"
      },
      "source": [
        "lixo = minhalista.pop()\n",
        "print(lixo)"
      ],
      "execution_count": 120,
      "outputs": [
        {
          "output_type": "stream",
          "name": "stdout",
          "text": [
            "2020\n"
          ]
        }
      ]
    },
    {
      "cell_type": "code",
      "metadata": {
        "id": "l5XkVeIOElgY",
        "colab": {
          "base_uri": "https://localhost:8080/"
        },
        "outputId": "72f0ebad-e489-4a59-ecd9-85fd368484ab"
      },
      "source": [
        "lixo = minhalista.pop(5) #remove do índice 5\n",
        "print(lixo)"
      ],
      "execution_count": 121,
      "outputs": [
        {
          "output_type": "stream",
          "name": "stdout",
          "text": [
            "10\n"
          ]
        }
      ]
    },
    {
      "cell_type": "code",
      "metadata": {
        "id": "4UjHjffTElgY",
        "colab": {
          "base_uri": "https://localhost:8080/"
        },
        "outputId": "b496638c-ac6d-47ea-c167-bd0ac68f0897"
      },
      "source": [
        "print(minhalista)"
      ],
      "execution_count": 122,
      "outputs": [
        {
          "output_type": "stream",
          "name": "stdout",
          "text": [
            "['Tecnologia da Informação', 2019, 9.5, 'a', 'Maura Emmanuella', 'Tecnologia da Informação', 2019, 9.5, 'a', 'Maura Emmanuella', 10]\n"
          ]
        }
      ]
    },
    {
      "cell_type": "code",
      "metadata": {
        "id": "e5BlzBkaElgY"
      },
      "source": [
        "lixo = minhalista.remove(2019) #remove o item 2019 (primeira ocorrência)"
      ],
      "execution_count": 123,
      "outputs": []
    },
    {
      "cell_type": "code",
      "metadata": {
        "id": "zgBGe1tSElgZ",
        "colab": {
          "base_uri": "https://localhost:8080/"
        },
        "outputId": "5133853f-d571-42d4-c094-6949ed05a547"
      },
      "source": [
        "print(lixo)\n",
        "print(minhalista)"
      ],
      "execution_count": 124,
      "outputs": [
        {
          "output_type": "stream",
          "name": "stdout",
          "text": [
            "None\n",
            "['Tecnologia da Informação', 9.5, 'a', 'Maura Emmanuella', 'Tecnologia da Informação', 2019, 9.5, 'a', 'Maura Emmanuella', 10]\n"
          ]
        }
      ]
    },
    {
      "cell_type": "code",
      "metadata": {
        "id": "Dym6ZcZbElgZ",
        "colab": {
          "base_uri": "https://localhost:8080/"
        },
        "outputId": "01b4b9df-ea62-443a-fd01-5b8a9d212742"
      },
      "source": [
        "help(list.remove)"
      ],
      "execution_count": 86,
      "outputs": [
        {
          "output_type": "stream",
          "name": "stdout",
          "text": [
            "Help on method_descriptor:\n",
            "\n",
            "remove(self, value, /)\n",
            "    Remove first occurrence of value.\n",
            "    \n",
            "    Raises ValueError if the value is not present.\n",
            "\n"
          ]
        }
      ]
    },
    {
      "cell_type": "code",
      "metadata": {
        "id": "HNpfWoXrElgZ",
        "colab": {
          "base_uri": "https://localhost:8080/"
        },
        "outputId": "ec62714f-895b-4f62-c34e-8d00acd6ef46"
      },
      "source": [
        "help(list.pop)"
      ],
      "execution_count": 87,
      "outputs": [
        {
          "output_type": "stream",
          "name": "stdout",
          "text": [
            "Help on method_descriptor:\n",
            "\n",
            "pop(self, index=-1, /)\n",
            "    Remove and return item at index (default last).\n",
            "    \n",
            "    Raises IndexError if list is empty or index is out of range.\n",
            "\n"
          ]
        }
      ]
    },
    {
      "cell_type": "code",
      "metadata": {
        "id": "TUSMzXaeElga"
      },
      "source": [
        "lista2 = minhalista #usa referência"
      ],
      "execution_count": 125,
      "outputs": []
    },
    {
      "cell_type": "code",
      "metadata": {
        "id": "qQw1d87kElga",
        "colab": {
          "base_uri": "https://localhost:8080/"
        },
        "outputId": "5c2ede11-4d50-44ed-f983-93b2fc976ed8"
      },
      "source": [
        "print(lista2)"
      ],
      "execution_count": 126,
      "outputs": [
        {
          "output_type": "stream",
          "name": "stdout",
          "text": [
            "['Tecnologia da Informação', 9.5, 'a', 'Maura Emmanuella', 'Tecnologia da Informação', 2019, 9.5, 'a', 'Maura Emmanuella', 10]\n"
          ]
        }
      ]
    },
    {
      "cell_type": "code",
      "metadata": {
        "id": "x-XcC08aElga"
      },
      "source": [
        "minhalista.clear()"
      ],
      "execution_count": 127,
      "outputs": []
    },
    {
      "cell_type": "code",
      "metadata": {
        "id": "LuFKrFflElgb",
        "colab": {
          "base_uri": "https://localhost:8080/"
        },
        "outputId": "7fb69ec7-404a-44af-82a2-251a27054b56"
      },
      "source": [
        "print(minhalista)"
      ],
      "execution_count": 128,
      "outputs": [
        {
          "output_type": "stream",
          "name": "stdout",
          "text": [
            "[]\n"
          ]
        }
      ]
    },
    {
      "cell_type": "code",
      "metadata": {
        "id": "hNDqwy77Elgb",
        "colab": {
          "base_uri": "https://localhost:8080/"
        },
        "outputId": "703c8447-2c68-4fd6-e72f-738413604161"
      },
      "source": [
        "print(lista2)"
      ],
      "execution_count": 129,
      "outputs": [
        {
          "output_type": "stream",
          "name": "stdout",
          "text": [
            "[]\n"
          ]
        }
      ]
    },
    {
      "cell_type": "code",
      "metadata": {
        "id": "IdmJCE-pElgb"
      },
      "source": [
        "minhalista = ['Tecnologia da Informação', 2019, 9.5, 'x', nome]\n",
        "lista2 = minhalista.copy() # faz cópia realmente\n",
        "minhalista.clear()"
      ],
      "execution_count": 130,
      "outputs": []
    },
    {
      "cell_type": "code",
      "metadata": {
        "id": "HWM_ov7RElgb",
        "colab": {
          "base_uri": "https://localhost:8080/"
        },
        "outputId": "8168d64d-23c1-449a-a25e-0b71c6c37ed8"
      },
      "source": [
        "print(minhalista)\n",
        "print(lista2)"
      ],
      "execution_count": 131,
      "outputs": [
        {
          "output_type": "stream",
          "name": "stdout",
          "text": [
            "[]\n",
            "['Tecnologia da Informação', 2019, 9.5, 'x', 'Maura Emmanuella']\n"
          ]
        }
      ]
    },
    {
      "cell_type": "code",
      "metadata": {
        "id": "9bIx9l5pElgc",
        "colab": {
          "base_uri": "https://localhost:8080/"
        },
        "outputId": "2cccf9d4-837a-4b4c-f814-0149f88b60c2"
      },
      "source": [
        "print(lista2.count('x')) #conta ocorrências"
      ],
      "execution_count": 132,
      "outputs": [
        {
          "output_type": "stream",
          "name": "stdout",
          "text": [
            "1\n"
          ]
        }
      ]
    },
    {
      "cell_type": "code",
      "metadata": {
        "id": "5fOOSpgOMZ1z"
      },
      "source": [
        "minhalista = [1,2,3]"
      ],
      "execution_count": 133,
      "outputs": []
    },
    {
      "cell_type": "code",
      "metadata": {
        "id": "mZK8UK_UMeIa"
      },
      "source": [
        "lista2.append(minhalista)#uma lista ficará dentro da outra"
      ],
      "execution_count": 134,
      "outputs": []
    },
    {
      "cell_type": "code",
      "metadata": {
        "colab": {
          "base_uri": "https://localhost:8080/"
        },
        "id": "USy2Bf2hMi6Y",
        "outputId": "770fe421-ba37-49d0-88e5-6affcf10c678"
      },
      "source": [
        "print(lista2) "
      ],
      "execution_count": 135,
      "outputs": [
        {
          "output_type": "stream",
          "name": "stdout",
          "text": [
            "['Tecnologia da Informação', 2019, 9.5, 'x', 'Maura Emmanuella', [1, 2, 3]]\n"
          ]
        }
      ]
    },
    {
      "cell_type": "code",
      "metadata": {
        "colab": {
          "base_uri": "https://localhost:8080/"
        },
        "id": "9D2HR9AwMoni",
        "outputId": "10cd5c37-ba32-4819-e199-27f757a87dda"
      },
      "source": [
        "lista2.pop()"
      ],
      "execution_count": 136,
      "outputs": [
        {
          "output_type": "execute_result",
          "data": {
            "text/plain": [
              "[1, 2, 3]"
            ]
          },
          "metadata": {},
          "execution_count": 136
        }
      ]
    },
    {
      "cell_type": "code",
      "metadata": {
        "colab": {
          "base_uri": "https://localhost:8080/"
        },
        "id": "aIt99HQZMssM",
        "outputId": "034a7680-1d51-401a-dd1f-6dac8a02523d"
      },
      "source": [
        "print(lista2)"
      ],
      "execution_count": 137,
      "outputs": [
        {
          "output_type": "stream",
          "name": "stdout",
          "text": [
            "['Tecnologia da Informação', 2019, 9.5, 'x', 'Maura Emmanuella']\n"
          ]
        }
      ]
    },
    {
      "cell_type": "code",
      "metadata": {
        "id": "8p28TmWCMvM3"
      },
      "source": [
        "lista2.extend(minhalista) #adiciona os itens de uma lista na outra"
      ],
      "execution_count": 138,
      "outputs": []
    },
    {
      "cell_type": "code",
      "metadata": {
        "colab": {
          "base_uri": "https://localhost:8080/"
        },
        "id": "BwgEuU_pMyQQ",
        "outputId": "76f277a6-9a55-47c4-e4cc-76f339d9744e"
      },
      "source": [
        "print(lista2)"
      ],
      "execution_count": 139,
      "outputs": [
        {
          "output_type": "stream",
          "name": "stdout",
          "text": [
            "['Tecnologia da Informação', 2019, 9.5, 'x', 'Maura Emmanuella', 1, 2, 3]\n"
          ]
        }
      ]
    },
    {
      "cell_type": "markdown",
      "metadata": {
        "id": "KwYb0oqoElgc"
      },
      "source": [
        "### Listas aninhadas\n",
        "Uma ótima característica das estruturas de dados do Python é que eles suportam **aninhamento**. Isso significa que podemos ter estruturas de dados dentro das estruturas de dados. Por exemplo: uma lista dentro de uma lista."
      ]
    },
    {
      "cell_type": "code",
      "metadata": {
        "id": "9zecj_XbElgc"
      },
      "source": [
        "# Começamos com 3 listas\n",
        "lst_1=[1,2,3]\n",
        "lst_2=[4,5,6]\n",
        "lst_3=[7,8,9]\n",
        "\n",
        "# Faça uma lista de listas para formar uma matriz\n",
        "matrix = [lst_1,lst_2,lst_3]"
      ],
      "execution_count": 151,
      "outputs": []
    },
    {
      "cell_type": "code",
      "metadata": {
        "id": "8APd6zO9Elgc",
        "colab": {
          "base_uri": "https://localhost:8080/"
        },
        "outputId": "d0cdf402-59e2-452d-a2e6-cc0841f3102d"
      },
      "source": [
        "print(matrix)"
      ],
      "execution_count": 152,
      "outputs": [
        {
          "output_type": "stream",
          "name": "stdout",
          "text": [
            "[[1, 2, 3], [4, 5, 6], [7, 8, 9]]\n"
          ]
        }
      ]
    },
    {
      "cell_type": "code",
      "metadata": {
        "id": "rLk_qAMLElgd",
        "outputId": "bf590e3a-0046-4e70-a534-47a8bdbbd861"
      },
      "source": [
        "print(matrix[0])"
      ],
      "execution_count": null,
      "outputs": [
        {
          "output_type": "stream",
          "text": [
            "[1, 2, 3]\n"
          ],
          "name": "stdout"
        }
      ]
    },
    {
      "cell_type": "code",
      "metadata": {
        "id": "GGLrf1rIElgd",
        "outputId": "3d821102-25f9-47bc-9775-94cd24a6d20a"
      },
      "source": [
        "print(matrix[0][0])"
      ],
      "execution_count": null,
      "outputs": [
        {
          "output_type": "stream",
          "text": [
            "1\n"
          ],
          "name": "stdout"
        }
      ]
    },
    {
      "cell_type": "markdown",
      "metadata": {
        "id": "_CoWJ7BpElgd"
      },
      "source": [
        "### Compreensão de listas\n",
        "\n",
        "https://docs.python.org/3.7/tutorial/datastructures.html#tut-listcomps\n",
        "\n",
        "Além das operações de sequência e métodos de lista, o Python inclui uma operação mais avançada chamada de compreensão de lista.\n",
        "\n",
        "As compreensões de lista nos permitem construir listas usando uma notação diferente. Você pode pensar nisso essencialmente como um loop construído dentro de colchetes."
      ]
    },
    {
      "cell_type": "code",
      "metadata": {
        "id": "GfIKcNXAElge",
        "outputId": "d1d8b2e6-37a2-4548-8a1d-0ed26bc9f4c4"
      },
      "source": [
        "# Crie uma lista de compreensão desconstruindo um loop for dentro de um []\n",
        "first_col = [row[0] for row in matrix]\n",
        "print(first_col)"
      ],
      "execution_count": null,
      "outputs": [
        {
          "output_type": "stream",
          "text": [
            "[1, 4, 7]\n"
          ],
          "name": "stdout"
        }
      ]
    },
    {
      "cell_type": "markdown",
      "metadata": {
        "id": "t4M6R_HRElge"
      },
      "source": [
        "### Range\n",
        "\n",
        "https://docs.python.org/3.7/library/stdtypes.html#range\n",
        "\n",
        "A função range é uma função geradora, capaz de retornar valores dentro de um limite definido para um iterável\n",
        "\n",
        "range(10): gera valores de 0 a 9\n",
        "\n",
        "range(45,55): gera valores de 45 a 54\n",
        "\n",
        "range(0, 10, 2): gera valores de 0 a 9 de 2 em 2"
      ]
    },
    {
      "cell_type": "code",
      "metadata": {
        "id": "XyW2qGzFElgf",
        "outputId": "7651ee86-6737-4040-d325-748ccf91e100"
      },
      "source": [
        "# Eleva o quadrado itens no range e o transformam em lista\n",
        "lst = [x**2 for x in range(1,11)]\n",
        "print(lst)"
      ],
      "execution_count": null,
      "outputs": [
        {
          "output_type": "stream",
          "text": [
            "[1, 4, 9, 16, 25, 36, 49, 64, 81, 100]\n"
          ],
          "name": "stdout"
        }
      ]
    },
    {
      "cell_type": "code",
      "metadata": {
        "id": "3NIpLcrkElgf",
        "outputId": "75393230-5d88-4b9a-b733-929248baabd8"
      },
      "source": [
        "lst = [x for x in range(0, 10, 2)]\n",
        "print(lst)"
      ],
      "execution_count": null,
      "outputs": [
        {
          "output_type": "stream",
          "text": [
            "[0, 2, 4, 6, 8]\n"
          ],
          "name": "stdout"
        }
      ]
    },
    {
      "cell_type": "code",
      "metadata": {
        "id": "hc8k2Hr2Elgg",
        "outputId": "11d510b4-a50f-4270-9906-71227b4b0d14"
      },
      "source": [
        "lst = [x**2 for x in range(1,11) if x % 2 == 0]\n",
        "print(lst)"
      ],
      "execution_count": null,
      "outputs": [
        {
          "output_type": "stream",
          "text": [
            "[4, 16, 36, 64, 100]\n"
          ],
          "name": "stdout"
        }
      ]
    },
    {
      "cell_type": "markdown",
      "metadata": {
        "id": "PgPfFtNRElgg"
      },
      "source": [
        "## Tuplas\n",
        "\n",
        "Em Python, as tuplas são muito semelhantes às listas, no entanto, ao contrário das listas, elas são **imutáveis**, o que significa que elas não podem ser alteradas. \n",
        "\n",
        "Você usaria tuplas para apresentar coisas que não deveriam ser alteradas, como dias da semana ou datas em um calendário."
      ]
    },
    {
      "cell_type": "code",
      "metadata": {
        "id": "f5yQ1wwcElgg"
      },
      "source": [
        "# Pode-se criar uma tupla com múltiplos elementos\n",
        "t = (1,2,3)"
      ],
      "execution_count": null,
      "outputs": []
    },
    {
      "cell_type": "code",
      "metadata": {
        "id": "cSI86HXdElgh"
      },
      "source": [
        "# Você também pode variar os tipos de dados\n",
        "t = ('one',2)"
      ],
      "execution_count": null,
      "outputs": []
    },
    {
      "cell_type": "code",
      "metadata": {
        "id": "CpEpJzt1Elgh",
        "outputId": "7a915f26-be29-485e-96bf-0671354b0311"
      },
      "source": [
        "type(t)"
      ],
      "execution_count": null,
      "outputs": [
        {
          "output_type": "execute_result",
          "data": {
            "text/plain": [
              "tuple"
            ]
          },
          "metadata": {
            "tags": []
          },
          "execution_count": 171
        }
      ]
    },
    {
      "cell_type": "code",
      "metadata": {
        "id": "KjUXPGTQElgh",
        "outputId": "c425bbe8-0000-4b5b-fb8a-cc08fefe7093"
      },
      "source": [
        "# E a indexação funciona exatamente como nas listas\n",
        "print(t[0])"
      ],
      "execution_count": null,
      "outputs": [
        {
          "output_type": "stream",
          "text": [
            "one\n"
          ],
          "name": "stdout"
        }
      ]
    },
    {
      "cell_type": "code",
      "metadata": {
        "id": "hBRcfLVQElgi",
        "outputId": "2d6a8b94-beec-4c03-ebce-1a6e8c444339"
      },
      "source": [
        "print(t[-1])"
      ],
      "execution_count": null,
      "outputs": [
        {
          "output_type": "stream",
          "text": [
            "2\n"
          ],
          "name": "stdout"
        }
      ]
    },
    {
      "cell_type": "markdown",
      "metadata": {
        "id": "Rirx8CPIElgi"
      },
      "source": [
        "### Métodos de Tuplas"
      ]
    },
    {
      "cell_type": "code",
      "metadata": {
        "id": "qvEJ84FZElgi",
        "outputId": "a9065d1c-8f97-49fb-a54e-746d4e5fe44e"
      },
      "source": [
        "t.count('one')"
      ],
      "execution_count": null,
      "outputs": [
        {
          "output_type": "execute_result",
          "data": {
            "text/plain": [
              "1"
            ]
          },
          "metadata": {
            "tags": []
          },
          "execution_count": 174
        }
      ]
    },
    {
      "cell_type": "code",
      "metadata": {
        "id": "oA64wLFiElgi",
        "outputId": "6a849968-0964-4dd2-c646-d0bfe0b1df3e"
      },
      "source": [
        "t.index(2)"
      ],
      "execution_count": null,
      "outputs": [
        {
          "output_type": "execute_result",
          "data": {
            "text/plain": [
              "1"
            ]
          },
          "metadata": {
            "tags": []
          },
          "execution_count": 175
        }
      ]
    },
    {
      "cell_type": "markdown",
      "metadata": {
        "id": "4i_M5lScElgj"
      },
      "source": [
        "### Imutabilidade"
      ]
    },
    {
      "cell_type": "code",
      "metadata": {
        "id": "EBn0Ntm5Elgj",
        "outputId": "8b8a4b12-2660-40f1-bbc8-19da46ae7c6c"
      },
      "source": [
        "t[0]= 'change'"
      ],
      "execution_count": null,
      "outputs": [
        {
          "output_type": "error",
          "ename": "TypeError",
          "evalue": "'tuple' object does not support item assignment",
          "traceback": [
            "\u001b[0;31m---------------------------------------------------------------------------\u001b[0m",
            "\u001b[0;31mTypeError\u001b[0m                                 Traceback (most recent call last)",
            "\u001b[0;32m<ipython-input-176-1257c0aa9edd>\u001b[0m in \u001b[0;36m<module>\u001b[0;34m()\u001b[0m\n\u001b[0;32m----> 1\u001b[0;31m \u001b[0mt\u001b[0m\u001b[0;34m[\u001b[0m\u001b[0;36m0\u001b[0m\u001b[0;34m]\u001b[0m\u001b[0;34m=\u001b[0m \u001b[0;34m'change'\u001b[0m\u001b[0;34m\u001b[0m\u001b[0m\n\u001b[0m",
            "\u001b[0;31mTypeError\u001b[0m: 'tuple' object does not support item assignment"
          ]
        }
      ]
    },
    {
      "cell_type": "markdown",
      "metadata": {
        "id": "y2mFiWUXElgj"
      },
      "source": [
        "## Sets\n",
        "\n",
        "https://docs.python.org/3.7/library/stdtypes.html#set-types-set-frozenset\n",
        "\n",
        "Os conjuntos são uma **coleção não ordenada de elementos únicos**. Podemos construí-los usando a função set().\n",
        "\n",
        "Os usos comuns incluem teste de associação, remoção de duplicatas de uma sequência e computação de operações matemáticas como interseção, união, diferença e diferença simétrica."
      ]
    },
    {
      "cell_type": "code",
      "metadata": {
        "id": "Dt9p2nVOElgj",
        "colab": {
          "base_uri": "https://localhost:8080/"
        },
        "outputId": "8eda804c-0cb9-4715-a30b-8519bc7c4684"
      },
      "source": [
        "conjunto = {98,54,2,2,3,'laura', True}\n",
        "type(conjunto)\n",
        "print(conjunto)"
      ],
      "execution_count": 153,
      "outputs": [
        {
          "output_type": "stream",
          "name": "stdout",
          "text": [
            "{True, 98, 3, 2, 'laura', 54}\n"
          ]
        }
      ]
    },
    {
      "cell_type": "code",
      "metadata": {
        "id": "fggZkskNElgl"
      },
      "source": [
        "conjunto2 = set()"
      ],
      "execution_count": null,
      "outputs": []
    },
    {
      "cell_type": "code",
      "metadata": {
        "id": "P33wmPesElgl",
        "outputId": "71fdfbff-b3d5-4cae-ac3a-b42af854c842"
      },
      "source": [
        "conjunto2.add(978)\n",
        "print(conjunto2)"
      ],
      "execution_count": null,
      "outputs": [
        {
          "output_type": "stream",
          "text": [
            "{978}\n"
          ],
          "name": "stdout"
        }
      ]
    },
    {
      "cell_type": "code",
      "metadata": {
        "id": "JKtjFzWuElgl",
        "outputId": "5a75a589-d9e5-4fb9-908f-d4c5b726148f"
      },
      "source": [
        "nlista = [1,1,2,2,3,4,4,5,6,6]\n",
        "nconjunto = set(nlista)\n",
        "print(nconjunto)"
      ],
      "execution_count": null,
      "outputs": [
        {
          "output_type": "stream",
          "text": [
            "{1, 2, 3, 4, 5, 6}\n"
          ],
          "name": "stdout"
        }
      ]
    },
    {
      "cell_type": "markdown",
      "metadata": {
        "id": "Jr8_7n-yElgm"
      },
      "source": [
        "## Dicionários\n",
        "\n",
        "https://docs.python.org/3.7/library/stdtypes.html#typesmapping\n",
        "\n",
        "Nós vimos que Strings e listas são sequências em Python, mas agora vamos aprender sobre mapeamentos em Python. Pode pensar nestes Dicionários como tabelas de hash.\n",
        "\n",
        "Os mapeamentos são uma coleção de objetos que são armazenados por uma chave, ao contrário de uma sequência que armazena objetos por sua posição relativa. \n",
        "\n",
        "Esta é uma distinção importante, uma vez que **os mapeamentos não reterão a ordem, pois possuem objetos definidos por uma chave.**\n",
        "\n",
        "Um dicionário de Python consiste em uma chave e depois em um valor associado. Esse valor pode ser quase qualquer objeto Python."
      ]
    },
    {
      "cell_type": "code",
      "metadata": {
        "id": "b05CiormElgm"
      },
      "source": [
        "meuDicionario = {'nome': 'Laura Emmanuella', 'curso': 'TADS', 'função': 'professor'}"
      ],
      "execution_count": null,
      "outputs": []
    },
    {
      "cell_type": "code",
      "metadata": {
        "id": "ImTWxDT5Elgm",
        "outputId": "41707228-d760-4e5a-b83f-d548e7be7ee5"
      },
      "source": [
        "print(meuDicionario)"
      ],
      "execution_count": null,
      "outputs": [
        {
          "output_type": "stream",
          "text": [
            "{'nome': 'Laura Emmanuella', 'curso': 'TADS', 'função': 'professor'}\n"
          ],
          "name": "stdout"
        }
      ]
    },
    {
      "cell_type": "code",
      "metadata": {
        "id": "jeQWXvEqElgn"
      },
      "source": [
        "meuDicionario['nome'] = 'Fabiola Maria'"
      ],
      "execution_count": null,
      "outputs": []
    },
    {
      "cell_type": "code",
      "metadata": {
        "id": "rmf6MZgIElgn",
        "outputId": "402d2d87-b7a9-4d35-f378-75e561722f4a"
      },
      "source": [
        "print(meuDicionario)"
      ],
      "execution_count": null,
      "outputs": [
        {
          "output_type": "stream",
          "text": [
            "{'nome': 'Fabiola Maria', 'curso': 'TADS', 'função': 'professor'}\n"
          ],
          "name": "stdout"
        }
      ]
    },
    {
      "cell_type": "code",
      "metadata": {
        "id": "pbvNl42dElgn"
      },
      "source": [
        "meuDicionario['campus'] = 'Macaiba'"
      ],
      "execution_count": null,
      "outputs": []
    },
    {
      "cell_type": "code",
      "metadata": {
        "id": "Ja8BsLGzElgo",
        "outputId": "8aaf5c29-45e1-441b-9f5d-b026104039d8"
      },
      "source": [
        "print(meuDicionario)"
      ],
      "execution_count": null,
      "outputs": [
        {
          "output_type": "stream",
          "text": [
            "{'nome': 'Fabiola Maria', 'curso': 'TADS', 'função': 'professor', 'campus': 'Macaiba'}\n"
          ],
          "name": "stdout"
        }
      ]
    },
    {
      "cell_type": "markdown",
      "metadata": {
        "id": "Yj3KZih6Elgo"
      },
      "source": [
        "### Métodos de Dicionários"
      ]
    },
    {
      "cell_type": "code",
      "metadata": {
        "id": "Q8NSK1mWElgo",
        "outputId": "8c1e3f85-f41f-44bb-95b3-bba7f21350bc"
      },
      "source": [
        "print(meuDicionario.keys())"
      ],
      "execution_count": null,
      "outputs": [
        {
          "output_type": "stream",
          "text": [
            "dict_keys(['nome', 'curso', 'função', 'campus'])\n"
          ],
          "name": "stdout"
        }
      ]
    },
    {
      "cell_type": "code",
      "metadata": {
        "id": "-CWexSpfElgo",
        "outputId": "9d4e2d2c-e7ab-463d-e836-5079fe0a782e"
      },
      "source": [
        "print(meuDicionario.values())"
      ],
      "execution_count": null,
      "outputs": [
        {
          "output_type": "stream",
          "text": [
            "dict_values(['Fabiola Maria', 'TADS', 'professor', 'Macaiba'])\n"
          ],
          "name": "stdout"
        }
      ]
    },
    {
      "cell_type": "code",
      "metadata": {
        "id": "GxKpfzwtElgp",
        "outputId": "c614bcbf-d515-4c63-e57d-2a3f926312d6"
      },
      "source": [
        "print(meuDicionario.items())"
      ],
      "execution_count": null,
      "outputs": [
        {
          "output_type": "stream",
          "text": [
            "dict_items([('nome', 'Fabiola Maria'), ('curso', 'TADS'), ('função', 'professor'), ('campus', 'Macaiba')])\n"
          ],
          "name": "stdout"
        }
      ]
    },
    {
      "cell_type": "code",
      "metadata": {
        "id": "RkbRVFGaElgp",
        "outputId": "a6f14816-49e6-4152-97c2-3c8568ff1e8f"
      },
      "source": [
        "print(meuDicionario.popitem())"
      ],
      "execution_count": null,
      "outputs": [
        {
          "output_type": "stream",
          "text": [
            "('campus', 'Macaiba')\n"
          ],
          "name": "stdout"
        }
      ]
    },
    {
      "cell_type": "code",
      "metadata": {
        "id": "brfMshcMElgp",
        "outputId": "d6b0b349-79df-4b46-ebd6-7b0ed4763067"
      },
      "source": [
        "print(meuDicionario)"
      ],
      "execution_count": null,
      "outputs": [
        {
          "output_type": "stream",
          "text": [
            "{'nome': 'Fabiola Maria', 'curso': 'TADS', 'função': 'professor'}\n"
          ],
          "name": "stdout"
        }
      ]
    },
    {
      "cell_type": "code",
      "metadata": {
        "id": "hEGjHH5AElgp",
        "outputId": "1f8008ee-8d16-4e1c-cc9c-822106bec199"
      },
      "source": [
        "print(meuDicionario.pop('nome'))"
      ],
      "execution_count": null,
      "outputs": [
        {
          "output_type": "stream",
          "text": [
            "Fabiola Maria\n"
          ],
          "name": "stdout"
        }
      ]
    },
    {
      "cell_type": "code",
      "metadata": {
        "id": "t2IfnZeYElgq",
        "outputId": "66308293-bde9-477a-f95a-fde438ef388f"
      },
      "source": [
        "print(meuDicionario)"
      ],
      "execution_count": null,
      "outputs": [
        {
          "output_type": "stream",
          "text": [
            "{'curso': 'TADS', 'função': 'professor'}\n"
          ],
          "name": "stdout"
        }
      ]
    },
    {
      "cell_type": "markdown",
      "metadata": {
        "id": "eoRJkogLElgq"
      },
      "source": [
        "### Outros exemplos"
      ]
    },
    {
      "cell_type": "code",
      "metadata": {
        "id": "zdZrhmJ1Elgq",
        "outputId": "b7c20834-283f-4a6e-84df-79e06b77aae6"
      },
      "source": [
        "dic = {'animais': ['gato', 'cachorro'], 'numero':[1,2,3], 'senha': 123}\n",
        "print(dic)"
      ],
      "execution_count": null,
      "outputs": [
        {
          "output_type": "stream",
          "text": [
            "{'animais': ['gato', 'cachorro'], 'numero': [1, 2, 3], 'senha': 123}\n"
          ],
          "name": "stdout"
        }
      ]
    },
    {
      "cell_type": "code",
      "metadata": {
        "id": "rISXhdWfElgq",
        "outputId": "d36c0325-639c-4624-9870-20091b31e23e"
      },
      "source": [
        "dic['numerosinteiros'] = dic.pop('numero')\n",
        "print(dic)"
      ],
      "execution_count": null,
      "outputs": [
        {
          "output_type": "stream",
          "text": [
            "{'animais': ['gato', 'cachorro'], 'senha': 123, 'numerosinteiros': [1, 2, 3]}\n"
          ],
          "name": "stdout"
        }
      ]
    },
    {
      "cell_type": "code",
      "metadata": {
        "id": "3xsPx4SDElgr",
        "outputId": "946e07ab-270e-4f69-cc49-49b6ee072abc"
      },
      "source": [
        "print(dic['animais'][1])"
      ],
      "execution_count": null,
      "outputs": [
        {
          "output_type": "stream",
          "text": [
            "cachorro\n"
          ],
          "name": "stdout"
        }
      ]
    }
  ]
}