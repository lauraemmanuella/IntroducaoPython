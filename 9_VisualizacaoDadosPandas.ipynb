{
  "nbformat": 4,
  "nbformat_minor": 0,
  "metadata": {
    "kernelspec": {
      "display_name": "Python 3",
      "language": "python",
      "name": "python3"
    },
    "language_info": {
      "codemirror_mode": {
        "name": "ipython",
        "version": 3
      },
      "file_extension": ".py",
      "mimetype": "text/x-python",
      "name": "python",
      "nbconvert_exporter": "python",
      "pygments_lexer": "ipython3",
      "version": "3.7.0"
    },
    "colab": {
      "name": "9-VisualizacaoDadosPandas.ipynb",
      "provenance": [],
      "collapsed_sections": [],
      "toc_visible": true,
      "include_colab_link": true
    }
  },
  "cells": [
    {
      "cell_type": "markdown",
      "metadata": {
        "id": "view-in-github",
        "colab_type": "text"
      },
      "source": [
        "<a href=\"https://colab.research.google.com/github/lauraemmanuella/IntroducaoPython/blob/main/9_VisualizacaoDadosPandas.ipynb\" target=\"_parent\"><img src=\"https://colab.research.google.com/assets/colab-badge.svg\" alt=\"Open In Colab\"/></a>"
      ]
    },
    {
      "cell_type": "markdown",
      "metadata": {
        "id": "1wZszxs5r8qh"
      },
      "source": [
        "# Visualização de Dados com Pandas\n",
        "\n",
        "Os métodos de visualização do pandas são construídos com base na biblioteca matplotlib para exploração rápida dos dados. Para se ter mais liberdade no conteúdo e possibilidades de visualização se recomenda usar diretamente o matplotlib ou ainda, para visualização estatística, o seaborn.\n",
        "\n",
        "Tanto Series como DataFrame possuem um método .plot() que também é um atributo e pode ser encadeado para gerar visualização de diversos tipos, como histograma, área, pizza e dispersão, com respectivamente .hist(), .area(), .pie() e .scatter(), além de vários outros: http://pandas.pydata.org/pandas-docs/stable/reference/frame.html#plotting\n",
        "\n"
      ]
    },
    {
      "cell_type": "code",
      "metadata": {
        "id": "5PhG2BTZr8qj"
      },
      "source": [
        "import numpy as np\n",
        "import pandas as pd\n",
        "import matplotlib.pyplot as plt\n",
        "%matplotlib inline"
      ],
      "execution_count": null,
      "outputs": []
    },
    {
      "cell_type": "markdown",
      "metadata": {
        "id": "o_YgXjmwr8qk"
      },
      "source": [
        "A linha **%matplotlib inline** é um comando interno do Jupyter que serve para ver gráficos no notebook e você não deve rodá-la caso esteja em outra IDE.\n",
        "\n",
        "Se você estiver usando outro editor use: **plt.show()** no final de todos os seus comandos de visualização para que a figura apareça em outra janela."
      ]
    },
    {
      "cell_type": "code",
      "metadata": {
        "id": "VCISrt66r8qk"
      },
      "source": [
        "df = pd.read_csv('BaseAlunos.csv')"
      ],
      "execution_count": null,
      "outputs": []
    },
    {
      "cell_type": "code",
      "metadata": {
        "scrolled": true,
        "id": "4tAdCGv7r8ql",
        "outputId": "3d52292d-c4d3-482a-930f-2bf0143163e9"
      },
      "source": [
        "df"
      ],
      "execution_count": null,
      "outputs": [
        {
          "output_type": "execute_result",
          "data": {
            "text/html": [
              "<div>\n",
              "<style scoped>\n",
              "    .dataframe tbody tr th:only-of-type {\n",
              "        vertical-align: middle;\n",
              "    }\n",
              "\n",
              "    .dataframe tbody tr th {\n",
              "        vertical-align: top;\n",
              "    }\n",
              "\n",
              "    .dataframe thead th {\n",
              "        text-align: right;\n",
              "    }\n",
              "</style>\n",
              "<table border=\"1\" class=\"dataframe\">\n",
              "  <thead>\n",
              "    <tr style=\"text-align: right;\">\n",
              "      <th></th>\n",
              "      <th>Matrícula</th>\n",
              "      <th>Nome</th>\n",
              "      <th>Unid. 1</th>\n",
              "      <th>Unid. 2</th>\n",
              "      <th>Unid. 3</th>\n",
              "      <th>Rec.</th>\n",
              "      <th>Resultado</th>\n",
              "      <th>Faltas</th>\n",
              "      <th>Sit.</th>\n",
              "    </tr>\n",
              "  </thead>\n",
              "  <tbody>\n",
              "    <tr>\n",
              "      <th>0</th>\n",
              "      <td>2020001</td>\n",
              "      <td>ANA SILVA</td>\n",
              "      <td>10.0</td>\n",
              "      <td>4.0</td>\n",
              "      <td>2.0</td>\n",
              "      <td>8.00</td>\n",
              "      <td>7.3</td>\n",
              "      <td>7.0</td>\n",
              "      <td>APR</td>\n",
              "    </tr>\n",
              "    <tr>\n",
              "      <th>1</th>\n",
              "      <td>2020002</td>\n",
              "      <td>BRUNO SOUZA</td>\n",
              "      <td>7.0</td>\n",
              "      <td>1.0</td>\n",
              "      <td>4.0</td>\n",
              "      <td>4.00</td>\n",
              "      <td>5.0</td>\n",
              "      <td>1.0</td>\n",
              "      <td>APR</td>\n",
              "    </tr>\n",
              "    <tr>\n",
              "      <th>2</th>\n",
              "      <td>2020003</td>\n",
              "      <td>CARLA OLIVEIRA</td>\n",
              "      <td>7.0</td>\n",
              "      <td>0.0</td>\n",
              "      <td>2.0</td>\n",
              "      <td>3.00</td>\n",
              "      <td>4.0</td>\n",
              "      <td>11.0</td>\n",
              "      <td>REP</td>\n",
              "    </tr>\n",
              "    <tr>\n",
              "      <th>3</th>\n",
              "      <td>2020004</td>\n",
              "      <td>DAVID ANDRADE</td>\n",
              "      <td>3.0</td>\n",
              "      <td>0.0</td>\n",
              "      <td>5.0</td>\n",
              "      <td>4.00</td>\n",
              "      <td>4.0</td>\n",
              "      <td>17.0</td>\n",
              "      <td>REP</td>\n",
              "    </tr>\n",
              "    <tr>\n",
              "      <th>4</th>\n",
              "      <td>2020005</td>\n",
              "      <td>EVELIN MATIAS</td>\n",
              "      <td>8.0</td>\n",
              "      <td>10.0</td>\n",
              "      <td>2.0</td>\n",
              "      <td>4.00</td>\n",
              "      <td>7.3</td>\n",
              "      <td>11.0</td>\n",
              "      <td>APR</td>\n",
              "    </tr>\n",
              "    <tr>\n",
              "      <th>5</th>\n",
              "      <td>2020006</td>\n",
              "      <td>FRANCISCO JOSÉ</td>\n",
              "      <td>3.0</td>\n",
              "      <td>8.0</td>\n",
              "      <td>6.0</td>\n",
              "      <td>-</td>\n",
              "      <td>5.7</td>\n",
              "      <td>17.0</td>\n",
              "      <td>APRN</td>\n",
              "    </tr>\n",
              "    <tr>\n",
              "      <th>6</th>\n",
              "      <td>2020007</td>\n",
              "      <td>GABRIEL SOARES</td>\n",
              "      <td>10.0</td>\n",
              "      <td>6.0</td>\n",
              "      <td>6.0</td>\n",
              "      <td>-</td>\n",
              "      <td>7.3</td>\n",
              "      <td>0.0</td>\n",
              "      <td>APR</td>\n",
              "    </tr>\n",
              "    <tr>\n",
              "      <th>7</th>\n",
              "      <td>2020008</td>\n",
              "      <td>HEITOR NEVES</td>\n",
              "      <td>3.0</td>\n",
              "      <td>10.0</td>\n",
              "      <td>9.0</td>\n",
              "      <td>-</td>\n",
              "      <td>7.3</td>\n",
              "      <td>15.0</td>\n",
              "      <td>APR</td>\n",
              "    </tr>\n",
              "    <tr>\n",
              "      <th>8</th>\n",
              "      <td>2020009</td>\n",
              "      <td>INGRID DA SILVA</td>\n",
              "      <td>0.0</td>\n",
              "      <td>5.0</td>\n",
              "      <td>2.0</td>\n",
              "      <td>0.00</td>\n",
              "      <td>2.3</td>\n",
              "      <td>20.0</td>\n",
              "      <td>REMF</td>\n",
              "    </tr>\n",
              "    <tr>\n",
              "      <th>9</th>\n",
              "      <td>2020010</td>\n",
              "      <td>JOSÉ MARIA SANTOS</td>\n",
              "      <td>9.0</td>\n",
              "      <td>2.0</td>\n",
              "      <td>0.0</td>\n",
              "      <td>2.00</td>\n",
              "      <td>4.3</td>\n",
              "      <td>17.0</td>\n",
              "      <td>REP</td>\n",
              "    </tr>\n",
              "  </tbody>\n",
              "</table>\n",
              "</div>"
            ],
            "text/plain": [
              "   Matrícula               Nome  Unid. 1  Unid. 2  Unid. 3  Rec.  Resultado  \\\n",
              "0    2020001          ANA SILVA     10.0      4.0      2.0  8.00        7.3   \n",
              "1    2020002        BRUNO SOUZA      7.0      1.0      4.0  4.00        5.0   \n",
              "2    2020003     CARLA OLIVEIRA      7.0      0.0      2.0  3.00        4.0   \n",
              "3    2020004      DAVID ANDRADE      3.0      0.0      5.0  4.00        4.0   \n",
              "4    2020005      EVELIN MATIAS      8.0     10.0      2.0  4.00        7.3   \n",
              "5    2020006     FRANCISCO JOSÉ      3.0      8.0      6.0     -        5.7   \n",
              "6    2020007     GABRIEL SOARES     10.0      6.0      6.0     -        7.3   \n",
              "7    2020008       HEITOR NEVES      3.0     10.0      9.0     -        7.3   \n",
              "8    2020009    INGRID DA SILVA      0.0      5.0      2.0  0.00        2.3   \n",
              "9    2020010  JOSÉ MARIA SANTOS      9.0      2.0      0.0  2.00        4.3   \n",
              "\n",
              "   Faltas  Sit.  \n",
              "0     7.0   APR  \n",
              "1     1.0   APR  \n",
              "2    11.0   REP  \n",
              "3    17.0   REP  \n",
              "4    11.0   APR  \n",
              "5    17.0  APRN  \n",
              "6     0.0   APR  \n",
              "7    15.0   APR  \n",
              "8    20.0  REMF  \n",
              "9    17.0   REP  "
            ]
          },
          "metadata": {
            "tags": []
          },
          "execution_count": 8
        }
      ]
    },
    {
      "cell_type": "code",
      "metadata": {
        "id": "CBnZcVEgr8qm",
        "outputId": "8e254ea6-281d-4e0d-da0f-d2b9e3fb8dbb"
      },
      "source": [
        "df"
      ],
      "execution_count": null,
      "outputs": [
        {
          "output_type": "execute_result",
          "data": {
            "text/html": [
              "<div>\n",
              "<style scoped>\n",
              "    .dataframe tbody tr th:only-of-type {\n",
              "        vertical-align: middle;\n",
              "    }\n",
              "\n",
              "    .dataframe tbody tr th {\n",
              "        vertical-align: top;\n",
              "    }\n",
              "\n",
              "    .dataframe thead th {\n",
              "        text-align: right;\n",
              "    }\n",
              "</style>\n",
              "<table border=\"1\" class=\"dataframe\">\n",
              "  <thead>\n",
              "    <tr style=\"text-align: right;\">\n",
              "      <th></th>\n",
              "      <th>Matrícula</th>\n",
              "      <th>Nome</th>\n",
              "      <th>Unid. 1</th>\n",
              "      <th>Unid. 2</th>\n",
              "      <th>Unid. 3</th>\n",
              "      <th>Rec.</th>\n",
              "      <th>Resultado</th>\n",
              "      <th>Faltas</th>\n",
              "      <th>Sit.</th>\n",
              "    </tr>\n",
              "  </thead>\n",
              "  <tbody>\n",
              "    <tr>\n",
              "      <th>0</th>\n",
              "      <td>2020001</td>\n",
              "      <td>ANA SILVA</td>\n",
              "      <td>10.0</td>\n",
              "      <td>4.0</td>\n",
              "      <td>2.0</td>\n",
              "      <td>8.00</td>\n",
              "      <td>7.3</td>\n",
              "      <td>7.0</td>\n",
              "      <td>APR</td>\n",
              "    </tr>\n",
              "    <tr>\n",
              "      <th>1</th>\n",
              "      <td>2020002</td>\n",
              "      <td>BRUNO SOUZA</td>\n",
              "      <td>7.0</td>\n",
              "      <td>1.0</td>\n",
              "      <td>4.0</td>\n",
              "      <td>4.00</td>\n",
              "      <td>5.0</td>\n",
              "      <td>1.0</td>\n",
              "      <td>APR</td>\n",
              "    </tr>\n",
              "    <tr>\n",
              "      <th>2</th>\n",
              "      <td>2020003</td>\n",
              "      <td>CARLA OLIVEIRA</td>\n",
              "      <td>7.0</td>\n",
              "      <td>0.0</td>\n",
              "      <td>2.0</td>\n",
              "      <td>3.00</td>\n",
              "      <td>4.0</td>\n",
              "      <td>11.0</td>\n",
              "      <td>REP</td>\n",
              "    </tr>\n",
              "    <tr>\n",
              "      <th>3</th>\n",
              "      <td>2020004</td>\n",
              "      <td>DAVID ANDRADE</td>\n",
              "      <td>3.0</td>\n",
              "      <td>0.0</td>\n",
              "      <td>5.0</td>\n",
              "      <td>4.00</td>\n",
              "      <td>4.0</td>\n",
              "      <td>17.0</td>\n",
              "      <td>REP</td>\n",
              "    </tr>\n",
              "    <tr>\n",
              "      <th>4</th>\n",
              "      <td>2020005</td>\n",
              "      <td>EVELIN MATIAS</td>\n",
              "      <td>8.0</td>\n",
              "      <td>10.0</td>\n",
              "      <td>2.0</td>\n",
              "      <td>4.00</td>\n",
              "      <td>7.3</td>\n",
              "      <td>11.0</td>\n",
              "      <td>APR</td>\n",
              "    </tr>\n",
              "    <tr>\n",
              "      <th>5</th>\n",
              "      <td>2020006</td>\n",
              "      <td>FRANCISCO JOSÉ</td>\n",
              "      <td>3.0</td>\n",
              "      <td>8.0</td>\n",
              "      <td>6.0</td>\n",
              "      <td>-</td>\n",
              "      <td>5.7</td>\n",
              "      <td>17.0</td>\n",
              "      <td>APRN</td>\n",
              "    </tr>\n",
              "    <tr>\n",
              "      <th>6</th>\n",
              "      <td>2020007</td>\n",
              "      <td>GABRIEL SOARES</td>\n",
              "      <td>10.0</td>\n",
              "      <td>6.0</td>\n",
              "      <td>6.0</td>\n",
              "      <td>-</td>\n",
              "      <td>7.3</td>\n",
              "      <td>0.0</td>\n",
              "      <td>APR</td>\n",
              "    </tr>\n",
              "    <tr>\n",
              "      <th>7</th>\n",
              "      <td>2020008</td>\n",
              "      <td>HEITOR NEVES</td>\n",
              "      <td>3.0</td>\n",
              "      <td>10.0</td>\n",
              "      <td>9.0</td>\n",
              "      <td>-</td>\n",
              "      <td>7.3</td>\n",
              "      <td>15.0</td>\n",
              "      <td>APR</td>\n",
              "    </tr>\n",
              "    <tr>\n",
              "      <th>8</th>\n",
              "      <td>2020009</td>\n",
              "      <td>INGRID DA SILVA</td>\n",
              "      <td>0.0</td>\n",
              "      <td>5.0</td>\n",
              "      <td>2.0</td>\n",
              "      <td>0.00</td>\n",
              "      <td>2.3</td>\n",
              "      <td>20.0</td>\n",
              "      <td>REMF</td>\n",
              "    </tr>\n",
              "    <tr>\n",
              "      <th>9</th>\n",
              "      <td>2020010</td>\n",
              "      <td>JOSÉ MARIA SANTOS</td>\n",
              "      <td>9.0</td>\n",
              "      <td>2.0</td>\n",
              "      <td>0.0</td>\n",
              "      <td>2.00</td>\n",
              "      <td>4.3</td>\n",
              "      <td>17.0</td>\n",
              "      <td>REP</td>\n",
              "    </tr>\n",
              "  </tbody>\n",
              "</table>\n",
              "</div>"
            ],
            "text/plain": [
              "   Matrícula               Nome  Unid. 1  Unid. 2  Unid. 3  Rec.  Resultado  \\\n",
              "0    2020001          ANA SILVA     10.0      4.0      2.0  8.00        7.3   \n",
              "1    2020002        BRUNO SOUZA      7.0      1.0      4.0  4.00        5.0   \n",
              "2    2020003     CARLA OLIVEIRA      7.0      0.0      2.0  3.00        4.0   \n",
              "3    2020004      DAVID ANDRADE      3.0      0.0      5.0  4.00        4.0   \n",
              "4    2020005      EVELIN MATIAS      8.0     10.0      2.0  4.00        7.3   \n",
              "5    2020006     FRANCISCO JOSÉ      3.0      8.0      6.0     -        5.7   \n",
              "6    2020007     GABRIEL SOARES     10.0      6.0      6.0     -        7.3   \n",
              "7    2020008       HEITOR NEVES      3.0     10.0      9.0     -        7.3   \n",
              "8    2020009    INGRID DA SILVA      0.0      5.0      2.0  0.00        2.3   \n",
              "9    2020010  JOSÉ MARIA SANTOS      9.0      2.0      0.0  2.00        4.3   \n",
              "\n",
              "   Faltas  Sit.  \n",
              "0     7.0   APR  \n",
              "1     1.0   APR  \n",
              "2    11.0   REP  \n",
              "3    17.0   REP  \n",
              "4    11.0   APR  \n",
              "5    17.0  APRN  \n",
              "6     0.0   APR  \n",
              "7    15.0   APR  \n",
              "8    20.0  REMF  \n",
              "9    17.0   REP  "
            ]
          },
          "metadata": {
            "tags": []
          },
          "execution_count": 21
        }
      ]
    },
    {
      "cell_type": "markdown",
      "metadata": {
        "id": "MZV91HvPr8qm"
      },
      "source": [
        "# Tipos de plotagem\n",
        "\n",
        "Existem vários tipos de plots incorporados aos pandas, a maioria deles plots estatísticos por natureza:\n",
        "\n",
        "* df.plot.area\n",
        "* df.plot.barh\n",
        "* df.plot.density\n",
        "* df.plot.hist\n",
        "* df.plot.line\n",
        "* df.plot.scatter\n",
        "* df.plot.bar\n",
        "* df.plot.box\n",
        "* df.plot.hexbin\n",
        "* df.plot.kde\n",
        "* df.plot.pie\n",
        "\n",
        "Você também pode simplesmente chamar df.plot (kind = 'hist') ou substituir esse argumento por qualquer um dos termos-chave mostrados na lista acima (por exemplo, 'box', 'barh', etc.)\n",
        "\n",
        "Podemos visualizar em gráfico os dados de uma coluna do dataframe, de uma seleção condicional do dataframe ou do dataframe completo\n",
        "___"
      ]
    },
    {
      "cell_type": "markdown",
      "metadata": {
        "id": "EBX3kUdmr8qo"
      },
      "source": [
        "### Histogramas"
      ]
    },
    {
      "cell_type": "code",
      "metadata": {
        "scrolled": true,
        "id": "JAeJgW93r8qp",
        "outputId": "aeee72ba-5611-47e6-8860-313926b1a27f"
      },
      "source": [
        "# gráfico com histograma da coluna Faltas\n",
        "df['Faltas'].plot.hist(title='Faltas dos alunos', edgecolor='black')"
      ],
      "execution_count": null,
      "outputs": [
        {
          "output_type": "execute_result",
          "data": {
            "text/plain": [
              "<matplotlib.axes._subplots.AxesSubplot at 0x113a996a0>"
            ]
          },
          "metadata": {
            "tags": []
          },
          "execution_count": 10
        },
        {
          "output_type": "display_data",
          "data": {
            "image/png": "[encoded data removed]",
            "text/plain": [
              "<Figure size 432x288 with 1 Axes>"
            ]
          },
          "metadata": {
            "tags": [],
            "needs_background": "light"
          }
        }
      ]
    },
    {
      "cell_type": "markdown",
      "metadata": {
        "id": "gDchsSX_r8qq"
      },
      "source": [
        "Um histograma é um gráfico de **frequência** que serve para mostrar como os dados estão distribuídos.\n",
        "\n",
        "Ele mede quantas vezes temos determinado valor (ou intervalo de valores) nessa distribuição de dados.\n",
        "\n",
        "#### Quando utilizar?\n",
        "\n",
        "O histograma permite observar onde estão concentrados a maioria dos dados em análise.\n",
        "\n",
        "#### Como construir?\n",
        "\n",
        "Um histograma é construído dividindo os dados em intervalos, preferencialmente de tamanhos iguais (bins)\n",
        "\n",
        "No histograma construído acima, podemos identificar que as faltas dos alunos variaram entre 0 e 20. Os dados são distribuídos em 10 intervalos, por padrão. Dessa forma, perceba que ele dividiu em intervalos de 2 (os intervalos são melhor visualizados usando o argumento edgecolor que mostra as linhas entre os bins)"
      ]
    },
    {
      "cell_type": "code",
      "metadata": {
        "id": "gIXm7rzir8qr",
        "outputId": "52a48b91-dc91-42cc-f967-5212461ba172"
      },
      "source": [
        "df['Faltas'].plot.hist(title='Faltas dos alunos', edgecolor='black', bins=20)"
      ],
      "execution_count": null,
      "outputs": [
        {
          "output_type": "execute_result",
          "data": {
            "text/plain": [
              "<matplotlib.axes._subplots.AxesSubplot at 0x113b64048>"
            ]
          },
          "metadata": {
            "tags": []
          },
          "execution_count": 12
        },
        {
          "output_type": "display_data",
          "data": {
            "image/png": "[encoded data removed]",
            "text/plain": [
              "<Figure size 432x288 with 1 Axes>"
            ]
          },
          "metadata": {
            "tags": [],
            "needs_background": "light"
          }
        }
      ]
    },
    {
      "cell_type": "markdown",
      "metadata": {
        "id": "_2nP68V8r8qs"
      },
      "source": [
        "Observe que aumentando o valor do argumento bins, ele aumenta o número de intervalos, consequentemente, o grupo fica mais específico"
      ]
    },
    {
      "cell_type": "markdown",
      "metadata": {
        "id": "hYFYJjZcr8qt"
      },
      "source": [
        "### Barras"
      ]
    },
    {
      "cell_type": "code",
      "metadata": {
        "scrolled": false,
        "id": "fbQ0fLL_r8qt",
        "outputId": "1eb510b5-ee7a-4d3e-e825-e4080737b791"
      },
      "source": [
        "df['Faltas'].plot.bar(title = 'Faltas dos alunos')"
      ],
      "execution_count": null,
      "outputs": [
        {
          "output_type": "execute_result",
          "data": {
            "text/plain": [
              "<matplotlib.axes._subplots.AxesSubplot at 0x1141be2b0>"
            ]
          },
          "metadata": {
            "tags": []
          },
          "execution_count": 22
        },
        {
          "output_type": "display_data",
          "data": {
            "image/png": "[encoded data removed]",
            "text/plain": [
              "<Figure size 432x288 with 1 Axes>"
            ]
          },
          "metadata": {
            "tags": [],
            "needs_background": "light"
          }
        }
      ]
    },
    {
      "cell_type": "markdown",
      "metadata": {
        "id": "JQeJKwebr8qw"
      },
      "source": [
        "### Folhas de estilo\n",
        "\n",
        "Matplotlib tem [folhas de estilo](http://matplotlib.org/gallery.html#style_sheets) que você pode usar para tornar seus plots mais agradáveis. Eles basicamente criam um conjunto de regras de estilo que seus plots seguirão.\n"
      ]
    },
    {
      "cell_type": "code",
      "metadata": {
        "id": "RCAq0Sgor8qw",
        "outputId": "214258fa-d285-4846-9393-dd320102615d"
      },
      "source": [
        "plt.style.use('dark_background')\n",
        "df['Faltas'].plot.hist()"
      ],
      "execution_count": null,
      "outputs": [
        {
          "output_type": "execute_result",
          "data": {
            "text/plain": [
              "<matplotlib.axes._subplots.AxesSubplot at 0x11c7f0d68>"
            ]
          },
          "metadata": {
            "tags": []
          },
          "execution_count": 35
        },
        {
          "output_type": "display_data",
          "data": {
            "image/png": "[encoded data removed]",
            "text/plain": [
              "<Figure size 432x288 with 1 Axes>"
            ]
          },
          "metadata": {
            "tags": []
          }
        }
      ]
    },
    {
      "cell_type": "code",
      "metadata": {
        "scrolled": true,
        "id": "fFQZ4IVyr8qx",
        "outputId": "03a47152-47d3-4d1d-c4fb-37677f4fc624"
      },
      "source": [
        "plt.style.use('ggplot')\n",
        "df['Faltas'].plot.bar()"
      ],
      "execution_count": null,
      "outputs": [
        {
          "output_type": "execute_result",
          "data": {
            "text/plain": [
              "<matplotlib.axes._subplots.AxesSubplot at 0x11c9b06a0>"
            ]
          },
          "metadata": {
            "tags": []
          },
          "execution_count": 36
        },
        {
          "output_type": "display_data",
          "data": {
            "image/png": "[encoded data removed]",
            "text/plain": [
              "<Figure size 432x288 with 1 Axes>"
            ]
          },
          "metadata": {
            "tags": []
          }
        }
      ]
    },
    {
      "cell_type": "code",
      "metadata": {
        "scrolled": false,
        "id": "BHdvKEVzr8qy",
        "outputId": "aa568094-cb98-4753-ce5e-3c309581395f"
      },
      "source": [
        "plt.style.use('classic')\n",
        "df.drop('Matrícula', axis=1).plot.bar() #aqui mostrando todos os dados do dataframe, sem a coluna matricula"
      ],
      "execution_count": null,
      "outputs": [
        {
          "output_type": "execute_result",
          "data": {
            "text/plain": [
              "<matplotlib.axes._subplots.AxesSubplot at 0x11cffb278>"
            ]
          },
          "metadata": {
            "tags": []
          },
          "execution_count": 48
        },
        {
          "output_type": "display_data",
          "data": {
            "image/png": "[encoded data removed]",
            "text/plain": [
              "<Figure size 640x480 with 1 Axes>"
            ]
          },
          "metadata": {
            "tags": []
          }
        }
      ]
    },
    {
      "cell_type": "code",
      "metadata": {
        "scrolled": true,
        "id": "aDXj-OE4r8qy",
        "outputId": "c85ca38e-2c9d-4926-f66e-dc7ea75d0209"
      },
      "source": [
        "df.drop('Matrícula', axis=1).plot.bar(stacked = True) #empilha os dados"
      ],
      "execution_count": null,
      "outputs": [
        {
          "output_type": "execute_result",
          "data": {
            "text/plain": [
              "<matplotlib.axes._subplots.AxesSubplot at 0x11d120dd8>"
            ]
          },
          "metadata": {
            "tags": []
          },
          "execution_count": 55
        },
        {
          "output_type": "display_data",
          "data": {
            "image/png": "[encoded data removed]",
            "text/plain": [
              "<Figure size 640x480 with 1 Axes>"
            ]
          },
          "metadata": {
            "tags": []
          }
        }
      ]
    },
    {
      "cell_type": "markdown",
      "metadata": {
        "id": "_izUiZPXr8qz"
      },
      "source": [
        "### Pizza\n",
        "\n",
        "Um gráfico pizza mostra o percentual dos dados em relação ao todo\n"
      ]
    },
    {
      "cell_type": "code",
      "metadata": {
        "scrolled": true,
        "id": "gSad6Yfvr8q0",
        "outputId": "04b88386-4b11-41a5-a387-7a80e0ed1044"
      },
      "source": [
        "df['Sit.'].value_counts().plot.pie(title=\"Situação dos alunos\", autopct='%.0f%%')"
      ],
      "execution_count": null,
      "outputs": [
        {
          "output_type": "execute_result",
          "data": {
            "text/plain": [
              "<matplotlib.axes._subplots.AxesSubplot at 0x1144870b8>"
            ]
          },
          "metadata": {
            "tags": []
          },
          "execution_count": 26
        },
        {
          "output_type": "display_data",
          "data": {
            "image/png": "[encoded data removed]",
            "text/plain": [
              "<Figure size 432x288 with 1 Axes>"
            ]
          },
          "metadata": {
            "tags": []
          }
        }
      ]
    },
    {
      "cell_type": "markdown",
      "metadata": {
        "id": "LOw7ycQ-r8q0"
      },
      "source": [
        "No exemplo acima, estamos mostrando os dados retornados por uma função"
      ]
    },
    {
      "cell_type": "markdown",
      "metadata": {
        "id": "xFHZbIOEr8q0"
      },
      "source": [
        "### Gráfico de dispersão"
      ]
    },
    {
      "cell_type": "code",
      "metadata": {
        "scrolled": false,
        "id": "zsyWA3OYr8q1",
        "outputId": "deb0c4fc-5680-4e46-a9b7-7316ea86bcc4"
      },
      "source": [
        "df.plot.scatter(x='Unid. 3',y='Resultado', title = 'Resultado X Unid. 3', grid = True)"
      ],
      "execution_count": null,
      "outputs": [
        {
          "output_type": "execute_result",
          "data": {
            "text/plain": [
              "<matplotlib.axes._subplots.AxesSubplot at 0x113757da0>"
            ]
          },
          "metadata": {
            "tags": []
          },
          "execution_count": 6
        },
        {
          "output_type": "display_data",
          "data": {
            "image/png": "[encoded data removed]",
            "text/plain": [
              "<Figure size 432x288 with 1 Axes>"
            ]
          },
          "metadata": {
            "tags": [],
            "needs_background": "light"
          }
        }
      ]
    },
    {
      "cell_type": "markdown",
      "metadata": {
        "id": "lPdRk761r8q1"
      },
      "source": [
        "Um gráfico de dispersão apresenta os valores de uma variável em relação à outra (ou outras)\n",
        "\n",
        "Observe que cada ponto no gráfico diz que quando a Unid. 3 foi determinado valor, o Resultado foi determinado valor\n",
        "\n",
        "**Esse gráfico serve para identificarmos a correlação entre as variáveis**"
      ]
    },
    {
      "cell_type": "code",
      "metadata": {
        "id": "BPqBFjZ1r8q1",
        "outputId": "79259ac4-aa4f-4413-a429-34b0a750a6ae"
      },
      "source": [
        "df['Unid. 3'].corr(df['Resultado'])"
      ],
      "execution_count": null,
      "outputs": [
        {
          "output_type": "execute_result",
          "data": {
            "text/plain": [
              "0.4189433599493395"
            ]
          },
          "metadata": {
            "tags": []
          },
          "execution_count": 52
        }
      ]
    },
    {
      "cell_type": "code",
      "metadata": {
        "id": "vCjZBLNmr8q2"
      },
      "source": [
        "massa = pd.DataFrame([[50, 1.60], [60, 1.70], [70, 1.80], [80, 1.90]], columns=['Peso', 'Altura'])"
      ],
      "execution_count": null,
      "outputs": []
    },
    {
      "cell_type": "code",
      "metadata": {
        "id": "JXb7y-Ner8q4",
        "outputId": "755cc7f8-c1eb-4d49-b556-3277e6d785a9"
      },
      "source": [
        "massa"
      ],
      "execution_count": null,
      "outputs": [
        {
          "output_type": "execute_result",
          "data": {
            "text/html": [
              "<div>\n",
              "<style scoped>\n",
              "    .dataframe tbody tr th:only-of-type {\n",
              "        vertical-align: middle;\n",
              "    }\n",
              "\n",
              "    .dataframe tbody tr th {\n",
              "        vertical-align: top;\n",
              "    }\n",
              "\n",
              "    .dataframe thead th {\n",
              "        text-align: right;\n",
              "    }\n",
              "</style>\n",
              "<table border=\"1\" class=\"dataframe\">\n",
              "  <thead>\n",
              "    <tr style=\"text-align: right;\">\n",
              "      <th></th>\n",
              "      <th>Peso</th>\n",
              "      <th>Altura</th>\n",
              "    </tr>\n",
              "  </thead>\n",
              "  <tbody>\n",
              "    <tr>\n",
              "      <th>0</th>\n",
              "      <td>50</td>\n",
              "      <td>1.6</td>\n",
              "    </tr>\n",
              "    <tr>\n",
              "      <th>1</th>\n",
              "      <td>60</td>\n",
              "      <td>1.7</td>\n",
              "    </tr>\n",
              "    <tr>\n",
              "      <th>2</th>\n",
              "      <td>70</td>\n",
              "      <td>1.8</td>\n",
              "    </tr>\n",
              "    <tr>\n",
              "      <th>3</th>\n",
              "      <td>80</td>\n",
              "      <td>1.9</td>\n",
              "    </tr>\n",
              "  </tbody>\n",
              "</table>\n",
              "</div>"
            ],
            "text/plain": [
              "   Peso  Altura\n",
              "0    50     1.6\n",
              "1    60     1.7\n",
              "2    70     1.8\n",
              "3    80     1.9"
            ]
          },
          "metadata": {
            "tags": []
          },
          "execution_count": 44
        }
      ]
    },
    {
      "cell_type": "code",
      "metadata": {
        "scrolled": false,
        "id": "faLaQ0T2r8q5",
        "outputId": "5b0d68bb-dd1f-4bc6-e483-c891731b6767"
      },
      "source": [
        "massa.plot.scatter(x='Peso',y='Altura', title = 'Peso x Altura', grid = True)"
      ],
      "execution_count": null,
      "outputs": [
        {
          "output_type": "execute_result",
          "data": {
            "text/plain": [
              "<matplotlib.axes._subplots.AxesSubplot at 0x114753940>"
            ]
          },
          "metadata": {
            "tags": []
          },
          "execution_count": 45
        },
        {
          "output_type": "display_data",
          "data": {
            "image/png": "[encoded data removed]",
            "text/plain": [
              "<Figure size 432x288 with 1 Axes>"
            ]
          },
          "metadata": {
            "tags": [],
            "needs_background": "light"
          }
        }
      ]
    },
    {
      "cell_type": "code",
      "metadata": {
        "id": "A3PNg1TBr8q5",
        "outputId": "f033846f-5cd9-4c77-b48d-e330e98b9126"
      },
      "source": [
        "massa['Peso'].corr(massa['Altura'])"
      ],
      "execution_count": null,
      "outputs": [
        {
          "output_type": "execute_result",
          "data": {
            "text/plain": [
              "1.0"
            ]
          },
          "metadata": {
            "tags": []
          },
          "execution_count": 46
        }
      ]
    },
    {
      "cell_type": "code",
      "metadata": {
        "id": "xOX93xWir8q8"
      },
      "source": [
        "inverso = pd.DataFrame([[1,-2], [2,-4], [3,-6], [4,-8]], columns=['c1', 'c2'])"
      ],
      "execution_count": null,
      "outputs": []
    },
    {
      "cell_type": "code",
      "metadata": {
        "id": "AFCZBaS7r8q8",
        "outputId": "29e29c3d-3f85-437a-cb35-8e6855cdc9d5"
      },
      "source": [
        "inverso"
      ],
      "execution_count": null,
      "outputs": [
        {
          "output_type": "execute_result",
          "data": {
            "text/html": [
              "<div>\n",
              "<style scoped>\n",
              "    .dataframe tbody tr th:only-of-type {\n",
              "        vertical-align: middle;\n",
              "    }\n",
              "\n",
              "    .dataframe tbody tr th {\n",
              "        vertical-align: top;\n",
              "    }\n",
              "\n",
              "    .dataframe thead th {\n",
              "        text-align: right;\n",
              "    }\n",
              "</style>\n",
              "<table border=\"1\" class=\"dataframe\">\n",
              "  <thead>\n",
              "    <tr style=\"text-align: right;\">\n",
              "      <th></th>\n",
              "      <th>c1</th>\n",
              "      <th>c2</th>\n",
              "    </tr>\n",
              "  </thead>\n",
              "  <tbody>\n",
              "    <tr>\n",
              "      <th>0</th>\n",
              "      <td>1</td>\n",
              "      <td>-2</td>\n",
              "    </tr>\n",
              "    <tr>\n",
              "      <th>1</th>\n",
              "      <td>2</td>\n",
              "      <td>-4</td>\n",
              "    </tr>\n",
              "    <tr>\n",
              "      <th>2</th>\n",
              "      <td>3</td>\n",
              "      <td>-6</td>\n",
              "    </tr>\n",
              "    <tr>\n",
              "      <th>3</th>\n",
              "      <td>4</td>\n",
              "      <td>-8</td>\n",
              "    </tr>\n",
              "  </tbody>\n",
              "</table>\n",
              "</div>"
            ],
            "text/plain": [
              "   c1  c2\n",
              "0   1  -2\n",
              "1   2  -4\n",
              "2   3  -6\n",
              "3   4  -8"
            ]
          },
          "metadata": {
            "tags": []
          },
          "execution_count": 48
        }
      ]
    },
    {
      "cell_type": "code",
      "metadata": {
        "scrolled": true,
        "id": "8QNe5mo0r8rE",
        "outputId": "bf1de131-0f74-4c37-9bc8-52ad29c024da"
      },
      "source": [
        "inverso.plot.scatter(x='c1',y='c2', grid = True)"
      ],
      "execution_count": null,
      "outputs": [
        {
          "output_type": "execute_result",
          "data": {
            "text/plain": [
              "<matplotlib.axes._subplots.AxesSubplot at 0x114dd9b00>"
            ]
          },
          "metadata": {
            "tags": []
          },
          "execution_count": 49
        },
        {
          "output_type": "display_data",
          "data": {
            "image/png": "[encoded data removed]",
            "text/plain": [
              "<Figure size 432x288 with 1 Axes>"
            ]
          },
          "metadata": {
            "tags": [],
            "needs_background": "light"
          }
        }
      ]
    },
    {
      "cell_type": "code",
      "metadata": {
        "id": "qHmk4N0Dr8rE",
        "outputId": "efef53be-18ef-40ea-fa44-5647408b10ce"
      },
      "source": [
        "inverso['c1'].corr(inverso['c2'])"
      ],
      "execution_count": null,
      "outputs": [
        {
          "output_type": "execute_result",
          "data": {
            "text/plain": [
              "-1.0"
            ]
          },
          "metadata": {
            "tags": []
          },
          "execution_count": 51
        }
      ]
    },
    {
      "cell_type": "markdown",
      "metadata": {
        "id": "AqDUqWuYr8rF"
      },
      "source": [
        "Outra forma de fazer o plot dos gráficos no pandas:"
      ]
    },
    {
      "cell_type": "code",
      "metadata": {
        "id": "IidSXm3lr8rF",
        "outputId": "e6cbf464-da48-484e-e491-56b1c692863a"
      },
      "source": [
        "df.plot(x = 'Unid. 3', y = 'Resultado', kind = 'scatter', title = 'Resultado dos Alunos', color = 'g', grid = True)"
      ],
      "execution_count": null,
      "outputs": [
        {
          "output_type": "execute_result",
          "data": {
            "text/plain": [
              "<matplotlib.axes._subplots.AxesSubplot at 0x11bd7acf8>"
            ]
          },
          "metadata": {
            "tags": []
          },
          "execution_count": 25
        },
        {
          "output_type": "display_data",
          "data": {
            "image/png": "[encoded data removed]",
            "text/plain": [
              "<Figure size 432x288 with 1 Axes>"
            ]
          },
          "metadata": {
            "tags": [],
            "needs_background": "light"
          }
        }
      ]
    },
    {
      "cell_type": "code",
      "metadata": {
        "scrolled": true,
        "id": "orVv31BRr8rF",
        "outputId": "c9aa40f4-59e2-4746-ce3e-a9622ad71f17"
      },
      "source": [
        "df.plot(x = 'Nome', y = 'Resultado', kind = 'bar', title = 'Resultado dos Alunos', color = 'r')"
      ],
      "execution_count": null,
      "outputs": [
        {
          "output_type": "execute_result",
          "data": {
            "text/plain": [
              "<matplotlib.axes._subplots.AxesSubplot at 0x11b874128>"
            ]
          },
          "metadata": {
            "tags": []
          },
          "execution_count": 11
        },
        {
          "output_type": "display_data",
          "data": {
            "image/png": "[encoded data removed]",
            "text/plain": [
              "<Figure size 432x288 with 1 Axes>"
            ]
          },
          "metadata": {
            "tags": [],
            "needs_background": "light"
          }
        }
      ]
    }
  ]
}